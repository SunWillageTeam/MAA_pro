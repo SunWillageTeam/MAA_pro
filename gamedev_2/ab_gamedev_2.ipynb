{
 "cells": [
  {
   "cell_type": "markdown",
   "metadata": {},
   "source": [
    "Дашборд: https://public.tableau.com/app/profile/anton.misyurevich"
   ]
  },
  {
   "cell_type": "markdown",
   "metadata": {},
   "source": [
    "# Декомпозиция задач в проекте "
   ]
  },
  {
   "cell_type": "markdown",
   "metadata": {},
   "source": [
    "## Подготовка\n",
    "1. Загрузить необходимые библиотеки\n",
    "2. Для последующей аналитиченской работы необходимо загрузить датасеты, указав путь к ним\n",
    "\n",
    "## Предобработка\n",
    "1. Выявление дубликатов с последующим их удалением, либо преобразованиям к необходимому формату \n",
    "2. Обработка пропусков \n",
    "3. Преобразование типов данных к необходимому формату\n",
    "4. Коррекция названий столбцов и приведение к нижнему регистру\n",
    "\n",
    "## Исследовательский анализ данных\n",
    "1. Анализ для определения - от каких источников привлечнеия клиентов приходит больше пользователей\n",
    "2. Анализ затратной части для привлечения клиентов по типам источников\n",
    "3. Анализ количества построенных зданий игроками в сравнении по типам источников \n",
    "4. Анализ  завершивших 1 уровень, как метрику вовлеченности в сравнении по типам источников\n",
    "\n",
    "## Статистический анализ данных\n",
    "\n",
    "1.  Гипотеза №1\n",
    "\n",
    " Н0  Время завершения уровня не различается в зависимости способа прохождения, как через реализацию проекта, так и через победу над первым игроком.\n",
    " \n",
    " H1  Время завершения уровня различается в зависимости способа прохождения, как через реализацию проекта, так и через победу над первым игроком.\n",
    " \n",
    "\n",
    "2.  Гипотеза №2\n",
    "\n",
    " H0 Количество созданных объектов не различается в зависимости от стратегии прохождения\n",
    " \n",
    " H1 Количество созданных объектов различается в зависимости от стратегии прохождения\n",
    " \n",
    "\n",
    "## Вывод. \n",
    "\n",
    "## Ответ на вопрос заказчика. Рекомендации"
   ]
  },
  {
   "cell_type": "markdown",
   "metadata": {},
   "source": [
    "**Описание задачи**\n",
    "\n",
    "Необходимо проанализировать поведения игроков в зависимости от источника перехода.\n",
    "\n",
    "Провести исследовательский анализ данных. \n",
    "\n",
    "Узнать как ведут себя игроки в зависимости от источника перехода в игру.\n",
    "\n",
    "Необходимо проверить несколько статистических гипотез. \n",
    "\n",
    "\n",
    "**Описание датасетов**\n",
    "\n",
    "Основной датасет содержит данные о событиях, совершенных в мобильной игре «Космические братья». В ней пользователи строят свою космическую программу и пробуют добиться успеха в деле колонизации галактики.\n",
    "\n",
    "Основная монетизация игры пока только планируется. Однако уже сейчас предполагается, что в приложении будет происходить показ рекламы на экране с выбором типа объекта для постройки.\n",
    "\n",
    "В датасете представлены данные по игре пользователей на первом уровне. Для завершения этого уровня игроку необходимо выполнить одного из двух условий:\n",
    "\n",
    "- Победа над первым врагом\n",
    "- Реализация проекта через разработку орбитальной сборки спутников\n",
    "\n",
    "В датасете содержатся данные первых пользователей приложения (когорты пользователей), которые начали пользоваться приложением в период с 4 по 10 мая включительно.\n",
    "\n",
    "Датасет game_actions.csv:\n",
    "\n",
    "- `event_datetime` — время события;\n",
    "- `event` — одно из трёх событий:\n",
    "    1. `building` — объект построен,\n",
    "    2. `finished_stage_1` — первый уровень завершён,\n",
    "    3. `project` — проект завершён;\n",
    "- `building_type` — один из трёх типов здания:\n",
    "    1. `assembly_shop` — сборочный цех,\n",
    "    2. `spaceport` — космопорт,\n",
    "    3. `research_center` — исследовательский центр;\n",
    "- `user_id` — идентификатор пользователя;\n",
    "- `project_type` — тип реализованного проекта;\n",
    "\n",
    "Помимо основного датасета есть два дополнительных с информацией о рекламных активностях.\n",
    "\n",
    "Датасет ad_costs.csv:\n",
    "- `day` - день, в который был совершен клик по объявлению\n",
    "- `source` - источник трафика\n",
    "- `cost` - стоимость кликов\n",
    "\n",
    "Датасет user_source.csv содержит колонки:\n",
    "- `user_id` - идентификатор пользователя\n",
    "- `source` - источников, с которого пришёл пользователь, установивший приложение\n",
    "\n",
    "\n"
   ]
  },
  {
   "cell_type": "code",
   "execution_count": 1,
   "metadata": {},
   "outputs": [],
   "source": [
    "import pandas as pd\n",
    "import seaborn as sns\n",
    "import numpy as np\n",
    "from matplotlib import pyplot as plt\n",
    "from scipy import stats as st\n",
    "import datetime as dt\n",
    "import math as mth\n",
    "import plotly.express as px\n",
    "import warnings\n",
    "warnings.filterwarnings('ignore')"
   ]
  },
  {
   "cell_type": "code",
   "execution_count": 2,
   "metadata": {},
   "outputs": [],
   "source": [
    "game_actions = pd.read_csv('/datasets/game_actions.csv', parse_dates=['event_datetime'], dayfirst=True)\n",
    "user_source = pd.read_csv('/datasets/user_source.csv')\n",
    "ad_costs = pd.read_csv('/datasets/ad_costs.csv', parse_dates=['day'], dayfirst=True)"
   ]
  },
  {
   "cell_type": "markdown",
   "metadata": {},
   "source": [
    "# Предобработка данных"
   ]
  },
  {
   "cell_type": "code",
   "execution_count": 3,
   "metadata": {},
   "outputs": [
    {
     "data": {
      "text/html": [
       "<div>\n",
       "<style scoped>\n",
       "    .dataframe tbody tr th:only-of-type {\n",
       "        vertical-align: middle;\n",
       "    }\n",
       "\n",
       "    .dataframe tbody tr th {\n",
       "        vertical-align: top;\n",
       "    }\n",
       "\n",
       "    .dataframe thead th {\n",
       "        text-align: right;\n",
       "    }\n",
       "</style>\n",
       "<table border=\"1\" class=\"dataframe\">\n",
       "  <thead>\n",
       "    <tr style=\"text-align: right;\">\n",
       "      <th></th>\n",
       "      <th>event_datetime</th>\n",
       "      <th>event</th>\n",
       "      <th>building_type</th>\n",
       "      <th>user_id</th>\n",
       "      <th>project_type</th>\n",
       "    </tr>\n",
       "  </thead>\n",
       "  <tbody>\n",
       "    <tr>\n",
       "      <th>0</th>\n",
       "      <td>2020-05-04 00:00:01</td>\n",
       "      <td>building</td>\n",
       "      <td>assembly_shop</td>\n",
       "      <td>55e92310-cb8e-4754-b622-597e124b03de</td>\n",
       "      <td>NaN</td>\n",
       "    </tr>\n",
       "    <tr>\n",
       "      <th>1</th>\n",
       "      <td>2020-05-04 00:00:03</td>\n",
       "      <td>building</td>\n",
       "      <td>assembly_shop</td>\n",
       "      <td>c07b1c10-f477-44dc-81dc-ec82254b1347</td>\n",
       "      <td>NaN</td>\n",
       "    </tr>\n",
       "    <tr>\n",
       "      <th>2</th>\n",
       "      <td>2020-05-04 00:00:16</td>\n",
       "      <td>building</td>\n",
       "      <td>assembly_shop</td>\n",
       "      <td>6edd42cc-e753-4ff6-a947-2107cd560710</td>\n",
       "      <td>NaN</td>\n",
       "    </tr>\n",
       "    <tr>\n",
       "      <th>3</th>\n",
       "      <td>2020-05-04 00:00:16</td>\n",
       "      <td>building</td>\n",
       "      <td>assembly_shop</td>\n",
       "      <td>92c69003-d60a-444a-827f-8cc51bf6bf4c</td>\n",
       "      <td>NaN</td>\n",
       "    </tr>\n",
       "    <tr>\n",
       "      <th>4</th>\n",
       "      <td>2020-05-04 00:00:35</td>\n",
       "      <td>building</td>\n",
       "      <td>assembly_shop</td>\n",
       "      <td>cdc6bb92-0ccb-4490-9866-ef142f09139d</td>\n",
       "      <td>NaN</td>\n",
       "    </tr>\n",
       "    <tr>\n",
       "      <th>5</th>\n",
       "      <td>2020-05-04 00:00:36</td>\n",
       "      <td>building</td>\n",
       "      <td>assembly_shop</td>\n",
       "      <td>06c592ca-902d-42bb-bac3-75ce84cca159</td>\n",
       "      <td>NaN</td>\n",
       "    </tr>\n",
       "    <tr>\n",
       "      <th>6</th>\n",
       "      <td>2020-05-04 00:00:36</td>\n",
       "      <td>building</td>\n",
       "      <td>assembly_shop</td>\n",
       "      <td>4fe0f101-694b-4e31-9740-d1d87f7208ea</td>\n",
       "      <td>NaN</td>\n",
       "    </tr>\n",
       "    <tr>\n",
       "      <th>7</th>\n",
       "      <td>2020-05-04 00:00:38</td>\n",
       "      <td>building</td>\n",
       "      <td>assembly_shop</td>\n",
       "      <td>beb8ca15-33a9-465d-b47b-89aa96f89c9a</td>\n",
       "      <td>NaN</td>\n",
       "    </tr>\n",
       "    <tr>\n",
       "      <th>8</th>\n",
       "      <td>2020-05-04 00:00:44</td>\n",
       "      <td>building</td>\n",
       "      <td>assembly_shop</td>\n",
       "      <td>65a92713-5969-48b1-8945-bfefa5063887</td>\n",
       "      <td>NaN</td>\n",
       "    </tr>\n",
       "    <tr>\n",
       "      <th>9</th>\n",
       "      <td>2020-05-04 00:01:33</td>\n",
       "      <td>building</td>\n",
       "      <td>assembly_shop</td>\n",
       "      <td>fa352362-d258-472c-b295-2796ccc39fa3</td>\n",
       "      <td>NaN</td>\n",
       "    </tr>\n",
       "  </tbody>\n",
       "</table>\n",
       "</div>"
      ],
      "text/plain": [
       "       event_datetime     event  building_type  \\\n",
       "0 2020-05-04 00:00:01  building  assembly_shop   \n",
       "1 2020-05-04 00:00:03  building  assembly_shop   \n",
       "2 2020-05-04 00:00:16  building  assembly_shop   \n",
       "3 2020-05-04 00:00:16  building  assembly_shop   \n",
       "4 2020-05-04 00:00:35  building  assembly_shop   \n",
       "5 2020-05-04 00:00:36  building  assembly_shop   \n",
       "6 2020-05-04 00:00:36  building  assembly_shop   \n",
       "7 2020-05-04 00:00:38  building  assembly_shop   \n",
       "8 2020-05-04 00:00:44  building  assembly_shop   \n",
       "9 2020-05-04 00:01:33  building  assembly_shop   \n",
       "\n",
       "                                user_id project_type  \n",
       "0  55e92310-cb8e-4754-b622-597e124b03de          NaN  \n",
       "1  c07b1c10-f477-44dc-81dc-ec82254b1347          NaN  \n",
       "2  6edd42cc-e753-4ff6-a947-2107cd560710          NaN  \n",
       "3  92c69003-d60a-444a-827f-8cc51bf6bf4c          NaN  \n",
       "4  cdc6bb92-0ccb-4490-9866-ef142f09139d          NaN  \n",
       "5  06c592ca-902d-42bb-bac3-75ce84cca159          NaN  \n",
       "6  4fe0f101-694b-4e31-9740-d1d87f7208ea          NaN  \n",
       "7  beb8ca15-33a9-465d-b47b-89aa96f89c9a          NaN  \n",
       "8  65a92713-5969-48b1-8945-bfefa5063887          NaN  \n",
       "9  fa352362-d258-472c-b295-2796ccc39fa3          NaN  "
      ]
     },
     "execution_count": 3,
     "metadata": {},
     "output_type": "execute_result"
    }
   ],
   "source": [
    "game_actions.head(10)"
   ]
  },
  {
   "cell_type": "code",
   "execution_count": 4,
   "metadata": {},
   "outputs": [
    {
     "data": {
      "text/html": [
       "<div>\n",
       "<style scoped>\n",
       "    .dataframe tbody tr th:only-of-type {\n",
       "        vertical-align: middle;\n",
       "    }\n",
       "\n",
       "    .dataframe tbody tr th {\n",
       "        vertical-align: top;\n",
       "    }\n",
       "\n",
       "    .dataframe thead th {\n",
       "        text-align: right;\n",
       "    }\n",
       "</style>\n",
       "<table border=\"1\" class=\"dataframe\">\n",
       "  <thead>\n",
       "    <tr style=\"text-align: right;\">\n",
       "      <th></th>\n",
       "      <th>user_id</th>\n",
       "      <th>source</th>\n",
       "    </tr>\n",
       "  </thead>\n",
       "  <tbody>\n",
       "    <tr>\n",
       "      <th>0</th>\n",
       "      <td>0001f83c-c6ac-4621-b7f0-8a28b283ac30</td>\n",
       "      <td>facebook_ads</td>\n",
       "    </tr>\n",
       "    <tr>\n",
       "      <th>1</th>\n",
       "      <td>00151b4f-ba38-44a8-a650-d7cf130a0105</td>\n",
       "      <td>yandex_direct</td>\n",
       "    </tr>\n",
       "    <tr>\n",
       "      <th>2</th>\n",
       "      <td>001aaea6-3d14-43f1-8ca8-7f48820f17aa</td>\n",
       "      <td>youtube_channel_reklama</td>\n",
       "    </tr>\n",
       "    <tr>\n",
       "      <th>3</th>\n",
       "      <td>001d39dc-366c-4021-9604-6a3b9ff01e25</td>\n",
       "      <td>instagram_new_adverts</td>\n",
       "    </tr>\n",
       "    <tr>\n",
       "      <th>4</th>\n",
       "      <td>002f508f-67b6-479f-814b-b05f00d4e995</td>\n",
       "      <td>facebook_ads</td>\n",
       "    </tr>\n",
       "    <tr>\n",
       "      <th>5</th>\n",
       "      <td>003b80c6-4164-4157-bb2a-03d0181d39c4</td>\n",
       "      <td>yandex_direct</td>\n",
       "    </tr>\n",
       "    <tr>\n",
       "      <th>6</th>\n",
       "      <td>003ee7e8-6356-4286-a715-62f22a18d2a1</td>\n",
       "      <td>instagram_new_adverts</td>\n",
       "    </tr>\n",
       "    <tr>\n",
       "      <th>7</th>\n",
       "      <td>004074f8-251a-4776-922c-8348dca1a2f6</td>\n",
       "      <td>facebook_ads</td>\n",
       "    </tr>\n",
       "    <tr>\n",
       "      <th>8</th>\n",
       "      <td>00440efd-aa50-4b4b-aae8-ffcd1782729d</td>\n",
       "      <td>facebook_ads</td>\n",
       "    </tr>\n",
       "    <tr>\n",
       "      <th>9</th>\n",
       "      <td>00464e5e-28ed-4be6-bf44-517ef7b3937b</td>\n",
       "      <td>yandex_direct</td>\n",
       "    </tr>\n",
       "  </tbody>\n",
       "</table>\n",
       "</div>"
      ],
      "text/plain": [
       "                                user_id                   source\n",
       "0  0001f83c-c6ac-4621-b7f0-8a28b283ac30             facebook_ads\n",
       "1  00151b4f-ba38-44a8-a650-d7cf130a0105            yandex_direct\n",
       "2  001aaea6-3d14-43f1-8ca8-7f48820f17aa  youtube_channel_reklama\n",
       "3  001d39dc-366c-4021-9604-6a3b9ff01e25    instagram_new_adverts\n",
       "4  002f508f-67b6-479f-814b-b05f00d4e995             facebook_ads\n",
       "5  003b80c6-4164-4157-bb2a-03d0181d39c4            yandex_direct\n",
       "6  003ee7e8-6356-4286-a715-62f22a18d2a1    instagram_new_adverts\n",
       "7  004074f8-251a-4776-922c-8348dca1a2f6             facebook_ads\n",
       "8  00440efd-aa50-4b4b-aae8-ffcd1782729d             facebook_ads\n",
       "9  00464e5e-28ed-4be6-bf44-517ef7b3937b            yandex_direct"
      ]
     },
     "execution_count": 4,
     "metadata": {},
     "output_type": "execute_result"
    }
   ],
   "source": [
    "user_source.head(10)"
   ]
  },
  {
   "cell_type": "code",
   "execution_count": 5,
   "metadata": {},
   "outputs": [
    {
     "data": {
      "text/html": [
       "<div>\n",
       "<style scoped>\n",
       "    .dataframe tbody tr th:only-of-type {\n",
       "        vertical-align: middle;\n",
       "    }\n",
       "\n",
       "    .dataframe tbody tr th {\n",
       "        vertical-align: top;\n",
       "    }\n",
       "\n",
       "    .dataframe thead th {\n",
       "        text-align: right;\n",
       "    }\n",
       "</style>\n",
       "<table border=\"1\" class=\"dataframe\">\n",
       "  <thead>\n",
       "    <tr style=\"text-align: right;\">\n",
       "      <th></th>\n",
       "      <th>source</th>\n",
       "      <th>day</th>\n",
       "      <th>cost</th>\n",
       "    </tr>\n",
       "  </thead>\n",
       "  <tbody>\n",
       "    <tr>\n",
       "      <th>0</th>\n",
       "      <td>facebook_ads</td>\n",
       "      <td>2020-05-03</td>\n",
       "      <td>935.882786</td>\n",
       "    </tr>\n",
       "    <tr>\n",
       "      <th>1</th>\n",
       "      <td>facebook_ads</td>\n",
       "      <td>2020-05-04</td>\n",
       "      <td>548.354480</td>\n",
       "    </tr>\n",
       "    <tr>\n",
       "      <th>2</th>\n",
       "      <td>facebook_ads</td>\n",
       "      <td>2020-05-05</td>\n",
       "      <td>260.185754</td>\n",
       "    </tr>\n",
       "    <tr>\n",
       "      <th>3</th>\n",
       "      <td>facebook_ads</td>\n",
       "      <td>2020-05-06</td>\n",
       "      <td>177.982200</td>\n",
       "    </tr>\n",
       "    <tr>\n",
       "      <th>4</th>\n",
       "      <td>facebook_ads</td>\n",
       "      <td>2020-05-07</td>\n",
       "      <td>111.766796</td>\n",
       "    </tr>\n",
       "    <tr>\n",
       "      <th>5</th>\n",
       "      <td>facebook_ads</td>\n",
       "      <td>2020-05-08</td>\n",
       "      <td>68.009276</td>\n",
       "    </tr>\n",
       "    <tr>\n",
       "      <th>6</th>\n",
       "      <td>facebook_ads</td>\n",
       "      <td>2020-05-09</td>\n",
       "      <td>38.723350</td>\n",
       "    </tr>\n",
       "    <tr>\n",
       "      <th>7</th>\n",
       "      <td>instagram_new_adverts</td>\n",
       "      <td>2020-05-03</td>\n",
       "      <td>943.204717</td>\n",
       "    </tr>\n",
       "    <tr>\n",
       "      <th>8</th>\n",
       "      <td>instagram_new_adverts</td>\n",
       "      <td>2020-05-04</td>\n",
       "      <td>502.925451</td>\n",
       "    </tr>\n",
       "    <tr>\n",
       "      <th>9</th>\n",
       "      <td>instagram_new_adverts</td>\n",
       "      <td>2020-05-05</td>\n",
       "      <td>313.970984</td>\n",
       "    </tr>\n",
       "  </tbody>\n",
       "</table>\n",
       "</div>"
      ],
      "text/plain": [
       "                  source        day        cost\n",
       "0           facebook_ads 2020-05-03  935.882786\n",
       "1           facebook_ads 2020-05-04  548.354480\n",
       "2           facebook_ads 2020-05-05  260.185754\n",
       "3           facebook_ads 2020-05-06  177.982200\n",
       "4           facebook_ads 2020-05-07  111.766796\n",
       "5           facebook_ads 2020-05-08   68.009276\n",
       "6           facebook_ads 2020-05-09   38.723350\n",
       "7  instagram_new_adverts 2020-05-03  943.204717\n",
       "8  instagram_new_adverts 2020-05-04  502.925451\n",
       "9  instagram_new_adverts 2020-05-05  313.970984"
      ]
     },
     "execution_count": 5,
     "metadata": {},
     "output_type": "execute_result"
    }
   ],
   "source": [
    "ad_costs.head(10)"
   ]
  },
  {
   "cell_type": "code",
   "execution_count": 6,
   "metadata": {},
   "outputs": [
    {
     "name": "stdout",
     "output_type": "stream",
     "text": [
      "<class 'pandas.core.frame.DataFrame'>\n",
      "RangeIndex: 135640 entries, 0 to 135639\n",
      "Data columns (total 5 columns):\n",
      " #   Column          Non-Null Count   Dtype         \n",
      "---  ------          --------------   -----         \n",
      " 0   event_datetime  135640 non-null  datetime64[ns]\n",
      " 1   event           135640 non-null  object        \n",
      " 2   building_type   127957 non-null  object        \n",
      " 3   user_id         135640 non-null  object        \n",
      " 4   project_type    1866 non-null    object        \n",
      "dtypes: datetime64[ns](1), object(4)\n",
      "memory usage: 5.2+ MB\n"
     ]
    }
   ],
   "source": [
    "game_actions.info()"
   ]
  },
  {
   "cell_type": "markdown",
   "metadata": {},
   "source": [
    "Не берем в расчет пропущенные значения в столбцах project_type, building_type и event. \n",
    "\n",
    "(пропуски из-за механики сбора данных являются корректными и доп. обработки не требуют) "
   ]
  },
  {
   "cell_type": "code",
   "execution_count": 7,
   "metadata": {},
   "outputs": [
    {
     "data": {
      "text/plain": [
       "1866"
      ]
     },
     "execution_count": 7,
     "metadata": {},
     "output_type": "execute_result"
    }
   ],
   "source": [
    "#game_actions.head(10)\n",
    "len(game_actions[game_actions['event'] == 'project'])"
   ]
  },
  {
   "cell_type": "code",
   "execution_count": 8,
   "metadata": {},
   "outputs": [
    {
     "name": "stdout",
     "output_type": "stream",
     "text": [
      "<class 'pandas.core.frame.DataFrame'>\n",
      "Int64Index: 1866 entries, 47121 to 135630\n",
      "Data columns (total 5 columns):\n",
      " #   Column          Non-Null Count  Dtype         \n",
      "---  ------          --------------  -----         \n",
      " 0   event_datetime  1866 non-null   datetime64[ns]\n",
      " 1   event           1866 non-null   object        \n",
      " 2   building_type   0 non-null      object        \n",
      " 3   user_id         1866 non-null   object        \n",
      " 4   project_type    1866 non-null   object        \n",
      "dtypes: datetime64[ns](1), object(4)\n",
      "memory usage: 87.5+ KB\n"
     ]
    }
   ],
   "source": [
    "game_actions_test_project = game_actions[game_actions['event'] == 'project']\n",
    "\n",
    "game_actions_test_project.info()"
   ]
  },
  {
   "cell_type": "markdown",
   "metadata": {},
   "source": [
    "Проектов  с типом здания нет."
   ]
  },
  {
   "cell_type": "code",
   "execution_count": 9,
   "metadata": {},
   "outputs": [
    {
     "data": {
      "text/plain": [
       "127957"
      ]
     },
     "execution_count": 9,
     "metadata": {},
     "output_type": "execute_result"
    }
   ],
   "source": [
    "len(game_actions[game_actions['event'] == 'building'])"
   ]
  },
  {
   "cell_type": "code",
   "execution_count": 10,
   "metadata": {},
   "outputs": [
    {
     "name": "stdout",
     "output_type": "stream",
     "text": [
      "<class 'pandas.core.frame.DataFrame'>\n",
      "Int64Index: 127957 entries, 0 to 135637\n",
      "Data columns (total 5 columns):\n",
      " #   Column          Non-Null Count   Dtype         \n",
      "---  ------          --------------   -----         \n",
      " 0   event_datetime  127957 non-null  datetime64[ns]\n",
      " 1   event           127957 non-null  object        \n",
      " 2   building_type   127957 non-null  object        \n",
      " 3   user_id         127957 non-null  object        \n",
      " 4   project_type    0 non-null       object        \n",
      "dtypes: datetime64[ns](1), object(4)\n",
      "memory usage: 5.9+ MB\n"
     ]
    }
   ],
   "source": [
    "game_actions_test_building = game_actions[game_actions['event'] == 'building']\n",
    "\n",
    "game_actions_test_building.info()\n",
    "#game_actions"
   ]
  },
  {
   "cell_type": "markdown",
   "metadata": {},
   "source": [
    "Нет здание без типа здания. "
   ]
  },
  {
   "cell_type": "code",
   "execution_count": 11,
   "metadata": {},
   "outputs": [
    {
     "name": "stdout",
     "output_type": "stream",
     "text": [
      "<class 'pandas.core.frame.DataFrame'>\n",
      "RangeIndex: 13576 entries, 0 to 13575\n",
      "Data columns (total 2 columns):\n",
      " #   Column   Non-Null Count  Dtype \n",
      "---  ------   --------------  ----- \n",
      " 0   user_id  13576 non-null  object\n",
      " 1   source   13576 non-null  object\n",
      "dtypes: object(2)\n",
      "memory usage: 212.2+ KB\n"
     ]
    }
   ],
   "source": [
    "user_source.info()\n"
   ]
  },
  {
   "cell_type": "markdown",
   "metadata": {},
   "source": [
    "Пропусков нет"
   ]
  },
  {
   "cell_type": "code",
   "execution_count": 12,
   "metadata": {},
   "outputs": [
    {
     "name": "stdout",
     "output_type": "stream",
     "text": [
      "<class 'pandas.core.frame.DataFrame'>\n",
      "RangeIndex: 28 entries, 0 to 27\n",
      "Data columns (total 3 columns):\n",
      " #   Column  Non-Null Count  Dtype         \n",
      "---  ------  --------------  -----         \n",
      " 0   source  28 non-null     object        \n",
      " 1   day     28 non-null     datetime64[ns]\n",
      " 2   cost    28 non-null     float64       \n",
      "dtypes: datetime64[ns](1), float64(1), object(1)\n",
      "memory usage: 800.0+ bytes\n"
     ]
    }
   ],
   "source": [
    "ad_costs.info()"
   ]
  },
  {
   "cell_type": "markdown",
   "metadata": {},
   "source": [
    "Пропусков нет"
   ]
  },
  {
   "cell_type": "code",
   "execution_count": 13,
   "metadata": {},
   "outputs": [
    {
     "data": {
      "text/plain": [
       "1"
      ]
     },
     "execution_count": 13,
     "metadata": {},
     "output_type": "execute_result"
    }
   ],
   "source": [
    "game_actions.duplicated().sum()\n"
   ]
  },
  {
   "cell_type": "code",
   "execution_count": 14,
   "metadata": {},
   "outputs": [
    {
     "data": {
      "text/plain": [
       "0"
      ]
     },
     "execution_count": 14,
     "metadata": {},
     "output_type": "execute_result"
    }
   ],
   "source": [
    "user_source.duplicated().sum()\n"
   ]
  },
  {
   "cell_type": "code",
   "execution_count": 15,
   "metadata": {},
   "outputs": [
    {
     "data": {
      "text/plain": [
       "0"
      ]
     },
     "execution_count": 15,
     "metadata": {},
     "output_type": "execute_result"
    }
   ],
   "source": [
    "ad_costs.duplicated().sum()\n"
   ]
  },
  {
   "cell_type": "code",
   "execution_count": 16,
   "metadata": {},
   "outputs": [],
   "source": [
    "game_actions = game_actions.drop_duplicates()"
   ]
  },
  {
   "cell_type": "markdown",
   "metadata": {},
   "source": [
    "Один дубликат. Удален"
   ]
  },
  {
   "cell_type": "code",
   "execution_count": 17,
   "metadata": {},
   "outputs": [],
   "source": [
    "game_actions['event_datetime'] = pd.to_datetime(game_actions['event_datetime'], format='%Y-%m-%d')"
   ]
  },
  {
   "cell_type": "markdown",
   "metadata": {},
   "source": [
    "Даты приведены к необходимому формату"
   ]
  },
  {
   "cell_type": "markdown",
   "metadata": {},
   "source": [
    "***Произведена предобработка данных***\n",
    "\n",
    "Обнаруженные пропуски обработаны.\n",
    "Дубликатов нет.\n",
    "Даты приведены к необходимому формату  "
   ]
  },
  {
   "cell_type": "markdown",
   "metadata": {},
   "source": [
    "# Исследовательский анализ данных"
   ]
  },
  {
   "cell_type": "markdown",
   "metadata": {},
   "source": [
    "**Анализ для определения - от каких источников привлечнеия клиентов приходит больше пользователей**"
   ]
  },
  {
   "cell_type": "code",
   "execution_count": 18,
   "metadata": {},
   "outputs": [],
   "source": [
    "actions_with_source = game_actions.merge(user_source, on='user_id', how='left')"
   ]
  },
  {
   "cell_type": "code",
   "execution_count": 19,
   "metadata": {},
   "outputs": [
    {
     "data": {
      "text/html": [
       "<div>\n",
       "<style scoped>\n",
       "    .dataframe tbody tr th:only-of-type {\n",
       "        vertical-align: middle;\n",
       "    }\n",
       "\n",
       "    .dataframe tbody tr th {\n",
       "        vertical-align: top;\n",
       "    }\n",
       "\n",
       "    .dataframe thead th {\n",
       "        text-align: right;\n",
       "    }\n",
       "</style>\n",
       "<table border=\"1\" class=\"dataframe\">\n",
       "  <thead>\n",
       "    <tr style=\"text-align: right;\">\n",
       "      <th></th>\n",
       "      <th>event_datetime</th>\n",
       "      <th>event</th>\n",
       "      <th>building_type</th>\n",
       "      <th>user_id</th>\n",
       "      <th>project_type</th>\n",
       "      <th>source</th>\n",
       "    </tr>\n",
       "  </thead>\n",
       "  <tbody>\n",
       "    <tr>\n",
       "      <th>0</th>\n",
       "      <td>2020-05-04 00:00:01</td>\n",
       "      <td>building</td>\n",
       "      <td>assembly_shop</td>\n",
       "      <td>55e92310-cb8e-4754-b622-597e124b03de</td>\n",
       "      <td>NaN</td>\n",
       "      <td>youtube_channel_reklama</td>\n",
       "    </tr>\n",
       "    <tr>\n",
       "      <th>1</th>\n",
       "      <td>2020-05-04 00:00:03</td>\n",
       "      <td>building</td>\n",
       "      <td>assembly_shop</td>\n",
       "      <td>c07b1c10-f477-44dc-81dc-ec82254b1347</td>\n",
       "      <td>NaN</td>\n",
       "      <td>facebook_ads</td>\n",
       "    </tr>\n",
       "    <tr>\n",
       "      <th>2</th>\n",
       "      <td>2020-05-04 00:00:16</td>\n",
       "      <td>building</td>\n",
       "      <td>assembly_shop</td>\n",
       "      <td>6edd42cc-e753-4ff6-a947-2107cd560710</td>\n",
       "      <td>NaN</td>\n",
       "      <td>instagram_new_adverts</td>\n",
       "    </tr>\n",
       "  </tbody>\n",
       "</table>\n",
       "</div>"
      ],
      "text/plain": [
       "       event_datetime     event  building_type  \\\n",
       "0 2020-05-04 00:00:01  building  assembly_shop   \n",
       "1 2020-05-04 00:00:03  building  assembly_shop   \n",
       "2 2020-05-04 00:00:16  building  assembly_shop   \n",
       "\n",
       "                                user_id project_type                   source  \n",
       "0  55e92310-cb8e-4754-b622-597e124b03de          NaN  youtube_channel_reklama  \n",
       "1  c07b1c10-f477-44dc-81dc-ec82254b1347          NaN             facebook_ads  \n",
       "2  6edd42cc-e753-4ff6-a947-2107cd560710          NaN    instagram_new_adverts  "
      ]
     },
     "execution_count": 19,
     "metadata": {},
     "output_type": "execute_result"
    }
   ],
   "source": [
    "actions_with_source.head(3)"
   ]
  },
  {
   "cell_type": "code",
   "execution_count": 20,
   "metadata": {},
   "outputs": [
    {
     "data": {
      "text/html": [
       "<div>\n",
       "<style scoped>\n",
       "    .dataframe tbody tr th:only-of-type {\n",
       "        vertical-align: middle;\n",
       "    }\n",
       "\n",
       "    .dataframe tbody tr th {\n",
       "        vertical-align: top;\n",
       "    }\n",
       "\n",
       "    .dataframe thead th {\n",
       "        text-align: right;\n",
       "    }\n",
       "</style>\n",
       "<table border=\"1\" class=\"dataframe\">\n",
       "  <thead>\n",
       "    <tr style=\"text-align: right;\">\n",
       "      <th></th>\n",
       "      <th>source</th>\n",
       "      <th>user_id</th>\n",
       "    </tr>\n",
       "  </thead>\n",
       "  <tbody>\n",
       "    <tr>\n",
       "      <th>0</th>\n",
       "      <td>yandex_direct</td>\n",
       "      <td>4817</td>\n",
       "    </tr>\n",
       "    <tr>\n",
       "      <th>1</th>\n",
       "      <td>instagram_new_adverts</td>\n",
       "      <td>3347</td>\n",
       "    </tr>\n",
       "    <tr>\n",
       "      <th>2</th>\n",
       "      <td>facebook_ads</td>\n",
       "      <td>2726</td>\n",
       "    </tr>\n",
       "    <tr>\n",
       "      <th>3</th>\n",
       "      <td>youtube_channel_reklama</td>\n",
       "      <td>2686</td>\n",
       "    </tr>\n",
       "  </tbody>\n",
       "</table>\n",
       "</div>"
      ],
      "text/plain": [
       "                    source  user_id\n",
       "0            yandex_direct     4817\n",
       "1    instagram_new_adverts     3347\n",
       "2             facebook_ads     2726\n",
       "3  youtube_channel_reklama     2686"
      ]
     },
     "execution_count": 20,
     "metadata": {},
     "output_type": "execute_result"
    }
   ],
   "source": [
    "sourse_top_count = actions_with_source.groupby('source').agg({'user_id':'nunique'})\n",
    "                                \n",
    "sourse_top_count = sourse_top_count.sort_values(by='user_id', ascending=False).reset_index()\n",
    "sourse_top_count"
   ]
  },
  {
   "cell_type": "code",
   "execution_count": 21,
   "metadata": {},
   "outputs": [
    {
     "data": {
      "image/png": "[encoded data removed]",
      "text/plain": [
       "<Figure size 1440x360 with 1 Axes>"
      ]
     },
     "metadata": {
      "needs_background": "light"
     },
     "output_type": "display_data"
    }
   ],
   "source": [
    "plt.figure(figsize=(20,5))\n",
    "sns.barplot(x=sourse_top_count['source'],y=sourse_top_count['user_id'])\n",
    "plt.title('Соотношение пришедших пользователей от разных источников')\n",
    "plt.show()"
   ]
  },
  {
   "cell_type": "markdown",
   "metadata": {},
   "source": [
    "Наибольшее количество пользователей от yandex_direct, наименьшее от youtube_channel_reklama"
   ]
  },
  {
   "cell_type": "markdown",
   "metadata": {},
   "source": [
    " **Анализ затратной части для привлечения клиентов по типам источников (общие затраты и CAC)**"
   ]
  },
  {
   "cell_type": "code",
   "execution_count": 22,
   "metadata": {},
   "outputs": [
    {
     "data": {
      "text/html": [
       "<div>\n",
       "<style scoped>\n",
       "    .dataframe tbody tr th:only-of-type {\n",
       "        vertical-align: middle;\n",
       "    }\n",
       "\n",
       "    .dataframe tbody tr th {\n",
       "        vertical-align: top;\n",
       "    }\n",
       "\n",
       "    .dataframe thead th {\n",
       "        text-align: right;\n",
       "    }\n",
       "</style>\n",
       "<table border=\"1\" class=\"dataframe\">\n",
       "  <thead>\n",
       "    <tr style=\"text-align: right;\">\n",
       "      <th></th>\n",
       "      <th>source</th>\n",
       "      <th>cost</th>\n",
       "    </tr>\n",
       "  </thead>\n",
       "  <tbody>\n",
       "    <tr>\n",
       "      <th>0</th>\n",
       "      <td>yandex_direct</td>\n",
       "      <td>2233.0</td>\n",
       "    </tr>\n",
       "    <tr>\n",
       "      <th>1</th>\n",
       "      <td>instagram_new_adverts</td>\n",
       "      <td>2161.0</td>\n",
       "    </tr>\n",
       "    <tr>\n",
       "      <th>2</th>\n",
       "      <td>facebook_ads</td>\n",
       "      <td>2141.0</td>\n",
       "    </tr>\n",
       "    <tr>\n",
       "      <th>3</th>\n",
       "      <td>youtube_channel_reklama</td>\n",
       "      <td>1068.0</td>\n",
       "    </tr>\n",
       "  </tbody>\n",
       "</table>\n",
       "</div>"
      ],
      "text/plain": [
       "                    source    cost\n",
       "0            yandex_direct  2233.0\n",
       "1    instagram_new_adverts  2161.0\n",
       "2             facebook_ads  2141.0\n",
       "3  youtube_channel_reklama  1068.0"
      ]
     },
     "execution_count": 22,
     "metadata": {},
     "output_type": "execute_result"
    }
   ],
   "source": [
    "\n",
    "total_ad_costs = ad_costs.groupby('source').agg({'cost':'sum'}).round()\\\n",
    "                                .sort_values(by='cost', ascending=False)\\\n",
    "                                .reset_index()\n",
    "                                \n",
    "total_ad_costs"
   ]
  },
  {
   "cell_type": "code",
   "execution_count": 23,
   "metadata": {},
   "outputs": [
    {
     "data": {
      "image/png": "[encoded data removed]",
      "text/plain": [
       "<Figure size 1440x360 with 1 Axes>"
      ]
     },
     "metadata": {
      "needs_background": "light"
     },
     "output_type": "display_data"
    }
   ],
   "source": [
    "plt.figure(figsize=(20,5))\n",
    "sns.barplot(x=total_ad_costs['source'],y=total_ad_costs['cost'])\n",
    "plt.title('Соотношение затрат на рекламу по источникам')\n",
    "plt.show()"
   ]
  },
  {
   "cell_type": "markdown",
   "metadata": {},
   "source": [
    "Практически одинаковые инвестиции в каналы  yandex_direct, instagram_new_adverts и  facebook_ads. в 2 раза меньше заплатили  youtube_channel_reklama.\n",
    "\n",
    "Данные полезны для рекомендаций пререраспределения средств, если это понадобится."
   ]
  },
  {
   "cell_type": "code",
   "execution_count": 24,
   "metadata": {},
   "outputs": [
    {
     "data": {
      "text/html": [
       "<div>\n",
       "<style scoped>\n",
       "    .dataframe tbody tr th:only-of-type {\n",
       "        vertical-align: middle;\n",
       "    }\n",
       "\n",
       "    .dataframe tbody tr th {\n",
       "        vertical-align: top;\n",
       "    }\n",
       "\n",
       "    .dataframe thead th {\n",
       "        text-align: right;\n",
       "    }\n",
       "</style>\n",
       "<table border=\"1\" class=\"dataframe\">\n",
       "  <thead>\n",
       "    <tr style=\"text-align: right;\">\n",
       "      <th></th>\n",
       "      <th>source</th>\n",
       "      <th>cost</th>\n",
       "      <th>сас</th>\n",
       "    </tr>\n",
       "  </thead>\n",
       "  <tbody>\n",
       "    <tr>\n",
       "      <th>2</th>\n",
       "      <td>facebook_ads</td>\n",
       "      <td>2141.0</td>\n",
       "      <td>0.79</td>\n",
       "    </tr>\n",
       "    <tr>\n",
       "      <th>1</th>\n",
       "      <td>instagram_new_adverts</td>\n",
       "      <td>2161.0</td>\n",
       "      <td>0.65</td>\n",
       "    </tr>\n",
       "    <tr>\n",
       "      <th>0</th>\n",
       "      <td>yandex_direct</td>\n",
       "      <td>2233.0</td>\n",
       "      <td>0.46</td>\n",
       "    </tr>\n",
       "    <tr>\n",
       "      <th>3</th>\n",
       "      <td>youtube_channel_reklama</td>\n",
       "      <td>1068.0</td>\n",
       "      <td>0.40</td>\n",
       "    </tr>\n",
       "  </tbody>\n",
       "</table>\n",
       "</div>"
      ],
      "text/plain": [
       "                    source    cost   сас\n",
       "2             facebook_ads  2141.0  0.79\n",
       "1    instagram_new_adverts  2161.0  0.65\n",
       "0            yandex_direct  2233.0  0.46\n",
       "3  youtube_channel_reklama  1068.0  0.40"
      ]
     },
     "execution_count": 24,
     "metadata": {},
     "output_type": "execute_result"
    }
   ],
   "source": [
    "total_ad_costs['сас'] = (total_ad_costs['cost'] / sourse_top_count['user_id']).round(2)\n",
    "total_ad_costs = total_ad_costs.sort_values(by='сас', ascending=False)\n",
    "total_ad_costs"
   ]
  },
  {
   "cell_type": "code",
   "execution_count": 25,
   "metadata": {},
   "outputs": [
    {
     "data": {
      "image/png": "[encoded data removed]",
      "text/plain": [
       "<Figure size 1440x360 with 1 Axes>"
      ]
     },
     "metadata": {
      "needs_background": "light"
     },
     "output_type": "display_data"
    }
   ],
   "source": [
    "plt.figure(figsize=(20,5))\n",
    "sns.barplot(x=total_ad_costs['source'],y=total_ad_costs['сас'])\n",
    "plt.title('Стоимость привлечения однго клиента')\n",
    "plt.show()"
   ]
  },
  {
   "cell_type": "markdown",
   "metadata": {},
   "source": [
    "Стоимость  привлечения одного клиента выше у yandex_direct, затем следуеут instagram_new_adverts и yandex_direct. \n",
    "\n",
    "Учтем при формировании финальных выводов и рекомендаций"
   ]
  },
  {
   "cell_type": "markdown",
   "metadata": {},
   "source": [
    "**Анализ количества построенных зданий игроками в сравнении по типам источников**"
   ]
  },
  {
   "cell_type": "code",
   "execution_count": 26,
   "metadata": {},
   "outputs": [],
   "source": [
    "\n",
    "builds_total = actions_with_source.groupby('source').agg({'building_type':'count'}).round()\\\n",
    "                                .sort_values(by='building_type', ascending=False)\\\n",
    "                                .reset_index()\n",
    "                                \n"
   ]
  },
  {
   "cell_type": "code",
   "execution_count": 27,
   "metadata": {},
   "outputs": [
    {
     "data": {
      "image/png": "[encoded data removed]",
      "text/plain": [
       "<Figure size 1440x360 with 1 Axes>"
      ]
     },
     "metadata": {
      "needs_background": "light"
     },
     "output_type": "display_data"
    }
   ],
   "source": [
    "plt.figure(figsize=(20,5))\n",
    "sns.barplot(x=builds_total['source'],y=builds_total['building_type'])\n",
    "plt.title('Распределение строительства зданий по каналам')\n",
    "plt.show()"
   ]
  },
  {
   "cell_type": "code",
   "execution_count": 28,
   "metadata": {},
   "outputs": [
    {
     "data": {
      "text/html": [
       "<div>\n",
       "<style scoped>\n",
       "    .dataframe tbody tr th:only-of-type {\n",
       "        vertical-align: middle;\n",
       "    }\n",
       "\n",
       "    .dataframe tbody tr th {\n",
       "        vertical-align: top;\n",
       "    }\n",
       "\n",
       "    .dataframe thead th {\n",
       "        text-align: right;\n",
       "    }\n",
       "</style>\n",
       "<table border=\"1\" class=\"dataframe\">\n",
       "  <thead>\n",
       "    <tr style=\"text-align: right;\">\n",
       "      <th></th>\n",
       "      <th>source</th>\n",
       "      <th>building_type</th>\n",
       "      <th>in_one_user</th>\n",
       "    </tr>\n",
       "  </thead>\n",
       "  <tbody>\n",
       "    <tr>\n",
       "      <th>0</th>\n",
       "      <td>yandex_direct</td>\n",
       "      <td>45032</td>\n",
       "      <td>9.35</td>\n",
       "    </tr>\n",
       "    <tr>\n",
       "      <th>1</th>\n",
       "      <td>instagram_new_adverts</td>\n",
       "      <td>31815</td>\n",
       "      <td>9.51</td>\n",
       "    </tr>\n",
       "    <tr>\n",
       "      <th>2</th>\n",
       "      <td>facebook_ads</td>\n",
       "      <td>26131</td>\n",
       "      <td>9.59</td>\n",
       "    </tr>\n",
       "    <tr>\n",
       "      <th>3</th>\n",
       "      <td>youtube_channel_reklama</td>\n",
       "      <td>24978</td>\n",
       "      <td>9.30</td>\n",
       "    </tr>\n",
       "  </tbody>\n",
       "</table>\n",
       "</div>"
      ],
      "text/plain": [
       "                    source  building_type  in_one_user\n",
       "0            yandex_direct          45032         9.35\n",
       "1    instagram_new_adverts          31815         9.51\n",
       "2             facebook_ads          26131         9.59\n",
       "3  youtube_channel_reklama          24978         9.30"
      ]
     },
     "execution_count": 28,
     "metadata": {},
     "output_type": "execute_result"
    }
   ],
   "source": [
    "builds_total['in_one_user'] = (builds_total['building_type']/sourse_top_count['user_id']).round(2)\n",
    "builds_total"
   ]
  },
  {
   "cell_type": "code",
   "execution_count": 29,
   "metadata": {},
   "outputs": [
    {
     "data": {
      "image/png": "[encoded data removed]",
      "text/plain": [
       "<Figure size 1440x360 with 1 Axes>"
      ]
     },
     "metadata": {
      "needs_background": "light"
     },
     "output_type": "display_data"
    }
   ],
   "source": [
    "plt.figure(figsize=(20,5))\n",
    "sns.barplot(x=builds_total['source'],y=builds_total['in_one_user'])\n",
    "plt.title('Распределение строительства зданий по каналам на игрока')\n",
    "plt.show()"
   ]
  },
  {
   "cell_type": "markdown",
   "metadata": {},
   "source": [
    "Строят игроки очень близкое по количеству значение зданий. "
   ]
  },
  {
   "cell_type": "markdown",
   "metadata": {},
   "source": [
    "**Анализ завершивших 1 уровень (вовлеченность в игру) в сравнении по типам источников**"
   ]
  },
  {
   "cell_type": "code",
   "execution_count": 30,
   "metadata": {},
   "outputs": [
    {
     "data": {
      "text/html": [
       "<div>\n",
       "<style scoped>\n",
       "    .dataframe tbody tr th:only-of-type {\n",
       "        vertical-align: middle;\n",
       "    }\n",
       "\n",
       "    .dataframe tbody tr th {\n",
       "        vertical-align: top;\n",
       "    }\n",
       "\n",
       "    .dataframe thead th {\n",
       "        text-align: right;\n",
       "    }\n",
       "</style>\n",
       "<table border=\"1\" class=\"dataframe\">\n",
       "  <thead>\n",
       "    <tr style=\"text-align: right;\">\n",
       "      <th></th>\n",
       "      <th>source</th>\n",
       "      <th>завершившие_1_уровень</th>\n",
       "    </tr>\n",
       "  </thead>\n",
       "  <tbody>\n",
       "    <tr>\n",
       "      <th>0</th>\n",
       "      <td>yandex_direct</td>\n",
       "      <td>2042</td>\n",
       "    </tr>\n",
       "    <tr>\n",
       "      <th>1</th>\n",
       "      <td>instagram_new_adverts</td>\n",
       "      <td>1466</td>\n",
       "    </tr>\n",
       "    <tr>\n",
       "      <th>2</th>\n",
       "      <td>youtube_channel_reklama</td>\n",
       "      <td>1159</td>\n",
       "    </tr>\n",
       "    <tr>\n",
       "      <th>3</th>\n",
       "      <td>facebook_ads</td>\n",
       "      <td>1150</td>\n",
       "    </tr>\n",
       "  </tbody>\n",
       "</table>\n",
       "</div>"
      ],
      "text/plain": [
       "                    source  завершившие_1_уровень\n",
       "0            yandex_direct                   2042\n",
       "1    instagram_new_adverts                   1466\n",
       "2  youtube_channel_reklama                   1159\n",
       "3             facebook_ads                   1150"
      ]
     },
     "execution_count": 30,
     "metadata": {},
     "output_type": "execute_result"
    }
   ],
   "source": [
    "actions_with_source_stage_1 = actions_with_source.loc[actions_with_source['event'] == 'finished_stage_1']\n",
    "\n",
    "stage_1 = actions_with_source_stage_1.groupby('source').agg({'event':'count'})\\\n",
    "                                .sort_values(by='event', ascending=False)\\\n",
    "                                .reset_index()\n",
    "                                \n",
    "stage_1 = stage_1.rename(columns={'event': 'завершившие_1_уровень'})\n",
    "stage_1"
   ]
  },
  {
   "cell_type": "code",
   "execution_count": 31,
   "metadata": {},
   "outputs": [
    {
     "data": {
      "image/png": "[encoded data removed]",
      "text/plain": [
       "<Figure size 1440x360 with 1 Axes>"
      ]
     },
     "metadata": {
      "needs_background": "light"
     },
     "output_type": "display_data"
    }
   ],
   "source": [
    "plt.figure(figsize=(20,5))\n",
    "sns.barplot(x=stage_1['source'],y=stage_1['завершившие_1_уровень'])\n",
    "plt.title('Распределение завершивших 1 уровень по каналам')\n",
    "plt.show()"
   ]
  },
  {
   "cell_type": "code",
   "execution_count": 32,
   "metadata": {},
   "outputs": [
    {
     "data": {
      "text/html": [
       "<div>\n",
       "<style scoped>\n",
       "    .dataframe tbody tr th:only-of-type {\n",
       "        vertical-align: middle;\n",
       "    }\n",
       "\n",
       "    .dataframe tbody tr th {\n",
       "        vertical-align: top;\n",
       "    }\n",
       "\n",
       "    .dataframe thead th {\n",
       "        text-align: right;\n",
       "    }\n",
       "</style>\n",
       "<table border=\"1\" class=\"dataframe\">\n",
       "  <thead>\n",
       "    <tr style=\"text-align: right;\">\n",
       "      <th></th>\n",
       "      <th>source</th>\n",
       "      <th>завершившие_1_уровень</th>\n",
       "      <th>завершившие_1_уровень_на_одного</th>\n",
       "    </tr>\n",
       "  </thead>\n",
       "  <tbody>\n",
       "    <tr>\n",
       "      <th>0</th>\n",
       "      <td>yandex_direct</td>\n",
       "      <td>2042</td>\n",
       "      <td>0.42</td>\n",
       "    </tr>\n",
       "    <tr>\n",
       "      <th>1</th>\n",
       "      <td>instagram_new_adverts</td>\n",
       "      <td>1466</td>\n",
       "      <td>0.44</td>\n",
       "    </tr>\n",
       "    <tr>\n",
       "      <th>2</th>\n",
       "      <td>youtube_channel_reklama</td>\n",
       "      <td>1159</td>\n",
       "      <td>0.43</td>\n",
       "    </tr>\n",
       "    <tr>\n",
       "      <th>3</th>\n",
       "      <td>facebook_ads</td>\n",
       "      <td>1150</td>\n",
       "      <td>0.43</td>\n",
       "    </tr>\n",
       "  </tbody>\n",
       "</table>\n",
       "</div>"
      ],
      "text/plain": [
       "                    source  завершившие_1_уровень  \\\n",
       "0            yandex_direct                   2042   \n",
       "1    instagram_new_adverts                   1466   \n",
       "2  youtube_channel_reklama                   1159   \n",
       "3             facebook_ads                   1150   \n",
       "\n",
       "   завершившие_1_уровень_на_одного  \n",
       "0                             0.42  \n",
       "1                             0.44  \n",
       "2                             0.43  \n",
       "3                             0.43  "
      ]
     },
     "execution_count": 32,
     "metadata": {},
     "output_type": "execute_result"
    }
   ],
   "source": [
    "stage_1['завершившие_1_уровень_на_одного'] = (stage_1['завершившие_1_уровень']/sourse_top_count['user_id']).round(2)\n",
    "stage_1"
   ]
  },
  {
   "cell_type": "code",
   "execution_count": 33,
   "metadata": {},
   "outputs": [
    {
     "data": {
      "image/png": "[encoded data removed]",
      "text/plain": [
       "<Figure size 1440x360 with 1 Axes>"
      ]
     },
     "metadata": {
      "needs_background": "light"
     },
     "output_type": "display_data"
    }
   ],
   "source": [
    "plt.figure(figsize=(20,5))\n",
    "sns.barplot(x=stage_1['source'],y=stage_1['завершившие_1_уровень_на_одного'])\n",
    "plt.title('Распределение завершивших 1 уровень по каналам на одного игрока')\n",
    "plt.show()"
   ]
  },
  {
   "cell_type": "markdown",
   "metadata": {},
   "source": [
    "Анализ показывает, что примерно одинаковая статистика у игроков по параметру \"завершение 1 уровня\""
   ]
  },
  {
   "cell_type": "markdown",
   "metadata": {},
   "source": [
    "# Статистический анализ данных"
   ]
  },
  {
   "cell_type": "markdown",
   "metadata": {},
   "source": [
    "**Гипотеза 1**"
   ]
  },
  {
   "cell_type": "markdown",
   "metadata": {},
   "source": [
    "\n",
    "Н0 Время завершения уровня не различается в зависимости способа прохождения, как через реализацию проекта, так и через победу над первым игроком.\n",
    "\n",
    "H1 Время завершения уровня различается в зависимости способа прохождения, как через реализацию проекта, так и через победу над первым игроком."
   ]
  },
  {
   "cell_type": "code",
   "execution_count": 34,
   "metadata": {},
   "outputs": [
    {
     "data": {
      "text/html": [
       "<div>\n",
       "<style scoped>\n",
       "    .dataframe tbody tr th:only-of-type {\n",
       "        vertical-align: middle;\n",
       "    }\n",
       "\n",
       "    .dataframe tbody tr th {\n",
       "        vertical-align: top;\n",
       "    }\n",
       "\n",
       "    .dataframe thead th {\n",
       "        text-align: right;\n",
       "    }\n",
       "</style>\n",
       "<table border=\"1\" class=\"dataframe\">\n",
       "  <thead>\n",
       "    <tr style=\"text-align: right;\">\n",
       "      <th></th>\n",
       "      <th>user_id</th>\n",
       "      <th>total_time</th>\n",
       "    </tr>\n",
       "  </thead>\n",
       "  <tbody>\n",
       "    <tr>\n",
       "      <th>0</th>\n",
       "      <td>55e92310-cb8e-4754-b622-597e124b03de</td>\n",
       "      <td>6</td>\n",
       "    </tr>\n",
       "    <tr>\n",
       "      <th>1</th>\n",
       "      <td>c07b1c10-f477-44dc-81dc-ec82254b1347</td>\n",
       "      <td>11</td>\n",
       "    </tr>\n",
       "    <tr>\n",
       "      <th>2</th>\n",
       "      <td>6edd42cc-e753-4ff6-a947-2107cd560710</td>\n",
       "      <td>12</td>\n",
       "    </tr>\n",
       "    <tr>\n",
       "      <th>3</th>\n",
       "      <td>92c69003-d60a-444a-827f-8cc51bf6bf4c</td>\n",
       "      <td>8</td>\n",
       "    </tr>\n",
       "    <tr>\n",
       "      <th>4</th>\n",
       "      <td>cdc6bb92-0ccb-4490-9866-ef142f09139d</td>\n",
       "      <td>7</td>\n",
       "    </tr>\n",
       "  </tbody>\n",
       "</table>\n",
       "</div>"
      ],
      "text/plain": [
       "                                user_id  total_time\n",
       "0  55e92310-cb8e-4754-b622-597e124b03de           6\n",
       "1  c07b1c10-f477-44dc-81dc-ec82254b1347          11\n",
       "2  6edd42cc-e753-4ff6-a947-2107cd560710          12\n",
       "3  92c69003-d60a-444a-827f-8cc51bf6bf4c           8\n",
       "4  cdc6bb92-0ccb-4490-9866-ef142f09139d           7"
      ]
     },
     "execution_count": 34,
     "metadata": {},
     "output_type": "execute_result"
    }
   ],
   "source": [
    "\n",
    "last_date = actions_with_source.groupby('user_id').agg({'event_datetime':'max'}).reset_index()\\\n",
    "                           .rename(columns={'event_datetime': 'last_date'})\n",
    "actions_with_source = actions_with_source.merge(last_date,on='user_id', how='left') \n",
    "\n",
    "actions_with_source['total_time'] = (actions_with_source['last_date'] - actions_with_source['event_datetime']).dt.days\n",
    "\n",
    "hyp1_total_time = actions_with_source.drop(columns = ['event_datetime', 'event', 'building_type','source','last_date','project_type'],axis = 1)\n",
    "hyp1_total_time.head()"
   ]
  },
  {
   "cell_type": "code",
   "execution_count": 35,
   "metadata": {},
   "outputs": [
    {
     "data": {
      "text/html": [
       "<div>\n",
       "<style scoped>\n",
       "    .dataframe tbody tr th:only-of-type {\n",
       "        vertical-align: middle;\n",
       "    }\n",
       "\n",
       "    .dataframe tbody tr th {\n",
       "        vertical-align: top;\n",
       "    }\n",
       "\n",
       "    .dataframe thead th {\n",
       "        text-align: right;\n",
       "    }\n",
       "</style>\n",
       "<table border=\"1\" class=\"dataframe\">\n",
       "  <thead>\n",
       "    <tr style=\"text-align: right;\">\n",
       "      <th></th>\n",
       "      <th>event_datetime</th>\n",
       "      <th>event</th>\n",
       "      <th>building_type</th>\n",
       "      <th>user_id</th>\n",
       "      <th>project_type</th>\n",
       "      <th>source</th>\n",
       "      <th>last_date</th>\n",
       "      <th>total_time</th>\n",
       "      <th>strategy</th>\n",
       "    </tr>\n",
       "  </thead>\n",
       "  <tbody>\n",
       "    <tr>\n",
       "      <th>6659</th>\n",
       "      <td>2020-05-04 19:47:29</td>\n",
       "      <td>finished_stage_1</td>\n",
       "      <td>NaN</td>\n",
       "      <td>ced7b368-818f-48f6-9461-2346de0892c5</td>\n",
       "      <td>NaN</td>\n",
       "      <td>instagram_new_adverts</td>\n",
       "      <td>2020-05-04 19:47:29</td>\n",
       "      <td>0</td>\n",
       "      <td>fight</td>\n",
       "    </tr>\n",
       "    <tr>\n",
       "      <th>13134</th>\n",
       "      <td>2020-05-05 13:22:09</td>\n",
       "      <td>finished_stage_1</td>\n",
       "      <td>NaN</td>\n",
       "      <td>7ef7fc89-2779-46ea-b328-9e5035b83af5</td>\n",
       "      <td>NaN</td>\n",
       "      <td>facebook_ads</td>\n",
       "      <td>2020-05-05 13:22:09</td>\n",
       "      <td>0</td>\n",
       "      <td>fight</td>\n",
       "    </tr>\n",
       "    <tr>\n",
       "      <th>15274</th>\n",
       "      <td>2020-05-05 18:54:37</td>\n",
       "      <td>finished_stage_1</td>\n",
       "      <td>NaN</td>\n",
       "      <td>70db22b3-c2f4-43bc-94ea-51c8d2904a29</td>\n",
       "      <td>NaN</td>\n",
       "      <td>youtube_channel_reklama</td>\n",
       "      <td>2020-05-05 18:54:37</td>\n",
       "      <td>0</td>\n",
       "      <td>fight</td>\n",
       "    </tr>\n",
       "    <tr>\n",
       "      <th>16284</th>\n",
       "      <td>2020-05-05 21:27:29</td>\n",
       "      <td>finished_stage_1</td>\n",
       "      <td>NaN</td>\n",
       "      <td>903fc9ef-ba97-4b12-9d5c-ac8d602fbd8b</td>\n",
       "      <td>NaN</td>\n",
       "      <td>youtube_channel_reklama</td>\n",
       "      <td>2020-05-05 21:27:29</td>\n",
       "      <td>0</td>\n",
       "      <td>fight</td>\n",
       "    </tr>\n",
       "    <tr>\n",
       "      <th>19650</th>\n",
       "      <td>2020-05-06 06:02:22</td>\n",
       "      <td>finished_stage_1</td>\n",
       "      <td>NaN</td>\n",
       "      <td>58e077ba-feb1-4556-a5a0-d96bd04efa39</td>\n",
       "      <td>NaN</td>\n",
       "      <td>facebook_ads</td>\n",
       "      <td>2020-05-06 06:02:22</td>\n",
       "      <td>0</td>\n",
       "      <td>fight</td>\n",
       "    </tr>\n",
       "  </tbody>\n",
       "</table>\n",
       "</div>"
      ],
      "text/plain": [
       "           event_datetime             event building_type  \\\n",
       "6659  2020-05-04 19:47:29  finished_stage_1           NaN   \n",
       "13134 2020-05-05 13:22:09  finished_stage_1           NaN   \n",
       "15274 2020-05-05 18:54:37  finished_stage_1           NaN   \n",
       "16284 2020-05-05 21:27:29  finished_stage_1           NaN   \n",
       "19650 2020-05-06 06:02:22  finished_stage_1           NaN   \n",
       "\n",
       "                                    user_id project_type  \\\n",
       "6659   ced7b368-818f-48f6-9461-2346de0892c5          NaN   \n",
       "13134  7ef7fc89-2779-46ea-b328-9e5035b83af5          NaN   \n",
       "15274  70db22b3-c2f4-43bc-94ea-51c8d2904a29          NaN   \n",
       "16284  903fc9ef-ba97-4b12-9d5c-ac8d602fbd8b          NaN   \n",
       "19650  58e077ba-feb1-4556-a5a0-d96bd04efa39          NaN   \n",
       "\n",
       "                        source           last_date  total_time strategy  \n",
       "6659     instagram_new_adverts 2020-05-04 19:47:29           0    fight  \n",
       "13134             facebook_ads 2020-05-05 13:22:09           0    fight  \n",
       "15274  youtube_channel_reklama 2020-05-05 18:54:37           0    fight  \n",
       "16284  youtube_channel_reklama 2020-05-05 21:27:29           0    fight  \n",
       "19650             facebook_ads 2020-05-06 06:02:22           0    fight  "
      ]
     },
     "execution_count": 35,
     "metadata": {},
     "output_type": "execute_result"
    }
   ],
   "source": [
    "tolist_project = actions_with_source[actions_with_source['event'] == 'project']['user_id'].unique().tolist()\n",
    "tolist_finished_stage_1 = actions_with_source[actions_with_source['event'] == 'finished_stage_1']['user_id'].unique().tolist()\n",
    "fight = actions_with_source.query('user_id not in @tolist_project and event == \"finished_stage_1\"')\n",
    "project = actions_with_source.query('user_id in @tolist_project and event == \"finished_stage_1\"')\n",
    "fight['strategy'] = 'fight'\n",
    "project['strategy']  = 'project'\n",
    "with_fight_and_project = pd.concat([fight,project])\n",
    "with_fight_and_project.head()\n"
   ]
  },
  {
   "cell_type": "code",
   "execution_count": 36,
   "metadata": {},
   "outputs": [
    {
     "data": {
      "text/html": [
       "<div>\n",
       "<style scoped>\n",
       "    .dataframe tbody tr th:only-of-type {\n",
       "        vertical-align: middle;\n",
       "    }\n",
       "\n",
       "    .dataframe tbody tr th {\n",
       "        vertical-align: top;\n",
       "    }\n",
       "\n",
       "    .dataframe thead th {\n",
       "        text-align: right;\n",
       "    }\n",
       "</style>\n",
       "<table border=\"1\" class=\"dataframe\">\n",
       "  <thead>\n",
       "    <tr style=\"text-align: right;\">\n",
       "      <th></th>\n",
       "      <th>event_datetime</th>\n",
       "      <th>event</th>\n",
       "      <th>building_type</th>\n",
       "      <th>user_id</th>\n",
       "      <th>project_type</th>\n",
       "      <th>source</th>\n",
       "      <th>last_date</th>\n",
       "      <th>strategy</th>\n",
       "      <th>total_time_y</th>\n",
       "    </tr>\n",
       "  </thead>\n",
       "  <tbody>\n",
       "    <tr>\n",
       "      <th>0</th>\n",
       "      <td>2020-05-04 19:47:29</td>\n",
       "      <td>finished_stage_1</td>\n",
       "      <td>NaN</td>\n",
       "      <td>ced7b368-818f-48f6-9461-2346de0892c5</td>\n",
       "      <td>NaN</td>\n",
       "      <td>instagram_new_adverts</td>\n",
       "      <td>2020-05-04 19:47:29</td>\n",
       "      <td>fight</td>\n",
       "      <td>0</td>\n",
       "    </tr>\n",
       "    <tr>\n",
       "      <th>1</th>\n",
       "      <td>2020-05-04 19:47:29</td>\n",
       "      <td>finished_stage_1</td>\n",
       "      <td>NaN</td>\n",
       "      <td>ced7b368-818f-48f6-9461-2346de0892c5</td>\n",
       "      <td>NaN</td>\n",
       "      <td>instagram_new_adverts</td>\n",
       "      <td>2020-05-04 19:47:29</td>\n",
       "      <td>fight</td>\n",
       "      <td>0</td>\n",
       "    </tr>\n",
       "    <tr>\n",
       "      <th>2</th>\n",
       "      <td>2020-05-04 19:47:29</td>\n",
       "      <td>finished_stage_1</td>\n",
       "      <td>NaN</td>\n",
       "      <td>ced7b368-818f-48f6-9461-2346de0892c5</td>\n",
       "      <td>NaN</td>\n",
       "      <td>instagram_new_adverts</td>\n",
       "      <td>2020-05-04 19:47:29</td>\n",
       "      <td>fight</td>\n",
       "      <td>0</td>\n",
       "    </tr>\n",
       "    <tr>\n",
       "      <th>3</th>\n",
       "      <td>2020-05-05 13:22:09</td>\n",
       "      <td>finished_stage_1</td>\n",
       "      <td>NaN</td>\n",
       "      <td>7ef7fc89-2779-46ea-b328-9e5035b83af5</td>\n",
       "      <td>NaN</td>\n",
       "      <td>facebook_ads</td>\n",
       "      <td>2020-05-05 13:22:09</td>\n",
       "      <td>fight</td>\n",
       "      <td>1</td>\n",
       "    </tr>\n",
       "    <tr>\n",
       "      <th>4</th>\n",
       "      <td>2020-05-05 13:22:09</td>\n",
       "      <td>finished_stage_1</td>\n",
       "      <td>NaN</td>\n",
       "      <td>7ef7fc89-2779-46ea-b328-9e5035b83af5</td>\n",
       "      <td>NaN</td>\n",
       "      <td>facebook_ads</td>\n",
       "      <td>2020-05-05 13:22:09</td>\n",
       "      <td>fight</td>\n",
       "      <td>0</td>\n",
       "    </tr>\n",
       "  </tbody>\n",
       "</table>\n",
       "</div>"
      ],
      "text/plain": [
       "       event_datetime             event building_type  \\\n",
       "0 2020-05-04 19:47:29  finished_stage_1           NaN   \n",
       "1 2020-05-04 19:47:29  finished_stage_1           NaN   \n",
       "2 2020-05-04 19:47:29  finished_stage_1           NaN   \n",
       "3 2020-05-05 13:22:09  finished_stage_1           NaN   \n",
       "4 2020-05-05 13:22:09  finished_stage_1           NaN   \n",
       "\n",
       "                                user_id project_type                 source  \\\n",
       "0  ced7b368-818f-48f6-9461-2346de0892c5          NaN  instagram_new_adverts   \n",
       "1  ced7b368-818f-48f6-9461-2346de0892c5          NaN  instagram_new_adverts   \n",
       "2  ced7b368-818f-48f6-9461-2346de0892c5          NaN  instagram_new_adverts   \n",
       "3  7ef7fc89-2779-46ea-b328-9e5035b83af5          NaN           facebook_ads   \n",
       "4  7ef7fc89-2779-46ea-b328-9e5035b83af5          NaN           facebook_ads   \n",
       "\n",
       "            last_date strategy  total_time_y  \n",
       "0 2020-05-04 19:47:29    fight             0  \n",
       "1 2020-05-04 19:47:29    fight             0  \n",
       "2 2020-05-04 19:47:29    fight             0  \n",
       "3 2020-05-05 13:22:09    fight             1  \n",
       "4 2020-05-05 13:22:09    fight             0  "
      ]
     },
     "execution_count": 36,
     "metadata": {},
     "output_type": "execute_result"
    }
   ],
   "source": [
    "actions_with_source_time = with_fight_and_project.merge(hyp1_total_time, on='user_id', how='left')\n",
    "actions_with_source_time = actions_with_source_time.drop(columns = ['total_time_x'])\n",
    "actions_with_source_time.head()"
   ]
  },
  {
   "cell_type": "code",
   "execution_count": 1,
   "metadata": {},
   "outputs": [
    {
     "ename": "NameError",
     "evalue": "name 'actions_with_source_time' is not defined",
     "output_type": "error",
     "traceback": [
      "\u001b[0;31m---------------------------------------------------------------------------\u001b[0m",
      "\u001b[0;31mNameError\u001b[0m                                 Traceback (most recent call last)",
      "\u001b[0;32m/tmp/ipykernel_31/51012993.py\u001b[0m in \u001b[0;36m<module>\u001b[0;34m\u001b[0m\n\u001b[0;32m----> 1\u001b[0;31m \u001b[0mproject_hyp1\u001b[0m \u001b[0;34m=\u001b[0m \u001b[0mactions_with_source_time\u001b[0m\u001b[0;34m.\u001b[0m\u001b[0mquery\u001b[0m\u001b[0;34m(\u001b[0m\u001b[0;34m'strategy == \"project\"'\u001b[0m\u001b[0;34m)\u001b[0m\u001b[0;34m\u001b[0m\u001b[0;34m\u001b[0m\u001b[0m\n\u001b[0m\u001b[1;32m      2\u001b[0m \u001b[0mproject_hyp1\u001b[0m \u001b[0;34m=\u001b[0m \u001b[0mactions_with_source_time\u001b[0m\u001b[0;34m.\u001b[0m\u001b[0mgroupby\u001b[0m\u001b[0;34m(\u001b[0m\u001b[0;34m[\u001b[0m\u001b[0;34m'user_id'\u001b[0m\u001b[0;34m,\u001b[0m \u001b[0;34m'total_time_y'\u001b[0m\u001b[0;34m]\u001b[0m\u001b[0;34m)\u001b[0m\u001b[0;34m[\u001b[0m\u001b[0;34m'event'\u001b[0m\u001b[0;34m]\u001b[0m\u001b[0;34m.\u001b[0m\u001b[0mcount\u001b[0m\u001b[0;34m(\u001b[0m\u001b[0;34m)\u001b[0m\u001b[0;34m.\u001b[0m\u001b[0mreset_index\u001b[0m\u001b[0;34m(\u001b[0m\u001b[0;34m)\u001b[0m\u001b[0;34m\u001b[0m\u001b[0;34m\u001b[0m\u001b[0m\n\u001b[1;32m      3\u001b[0m \u001b[0mproject_hyp1\u001b[0m \u001b[0;34m=\u001b[0m \u001b[0mproject_hyp1\u001b[0m\u001b[0;34m[\u001b[0m\u001b[0;34m'total_time_y'\u001b[0m\u001b[0;34m]\u001b[0m\u001b[0;34m\u001b[0m\u001b[0;34m\u001b[0m\u001b[0m\n",
      "\u001b[0;31mNameError\u001b[0m: name 'actions_with_source_time' is not defined"
     ]
    }
   ],
   "source": [
    "project_hyp1 = actions_with_source_time.query('strategy == \"project\"')\n",
    "project_hyp1 = actions_with_source_time.groupby(['user_id', 'total_time_y'])['event'].count().reset_index()\n",
    "project_hyp1 = project_hyp1['total_time_y']"
   ]
  },
  {
   "cell_type": "code",
   "execution_count": 38,
   "metadata": {},
   "outputs": [],
   "source": [
    "fight_hyp1 = actions_with_source_time.query('strategy == \"fight\"')\n",
    "fight_hyp1 = fight_hyp1.groupby(['user_id', 'total_time_y'])['event'].count().reset_index()\n",
    "fight_hyp1 = fight_hyp1['total_time_y']"
   ]
  },
  {
   "cell_type": "code",
   "execution_count": 39,
   "metadata": {},
   "outputs": [
    {
     "name": "stdout",
     "output_type": "stream",
     "text": [
      "p-значение: 3.0898323458485065e-19\n",
      "Отвергаем нулевую гипотезу\n"
     ]
    }
   ],
   "source": [
    "alpha = 0.05\n",
    "\n",
    "results = st.ttest_ind(project_hyp1, fight_hyp1)\n",
    "\n",
    "print('p-значение:', results.pvalue)\n",
    "\n",
    "if (results.pvalue < alpha):\n",
    "    print(\"Отвергаем нулевую гипотезу\")\n",
    "else:\n",
    "    print(\"Не получилось отвергнуть нулевую гипотезу\")"
   ]
  },
  {
   "cell_type": "markdown",
   "metadata": {},
   "source": [
    "Заданое значение статистической значимости p-value превышено. Время завершения уровня различается  в зависимости способа прохождения, \n",
    "как через реализацию проекта, так и через победу над первым игроком."
   ]
  },
  {
   "cell_type": "markdown",
   "metadata": {},
   "source": [
    "**Гипотеза 2**\n",
    "\n",
    "\n",
    " H0 Количество созданных объектов не различается в зависимости от стратегии прохождения\n",
    " \n",
    " H1 Количество созданных объектов различается в зависимости от стратегии прохождения"
   ]
  },
  {
   "cell_type": "code",
   "execution_count": 40,
   "metadata": {},
   "outputs": [],
   "source": [
    "tolist_hyp2_1 = actions_with_source[actions_with_source['event'] == 'project']['user_id'].unique().tolist()\n",
    "tolist_hyp2_2 = actions_with_source[actions_with_source['event'] == 'finished_stage_1']['user_id'].unique().tolist()\n",
    "fight_hyp2 = actions_with_source.query('user_id not in @tolist_hyp2_1 and user_id in @tolist_hyp2_2 and event == \"building\"')\n",
    "fight_hyp2 = fight_hyp2.groupby('user_id')['building_type'].count().reset_index()\n",
    "fight_hyp2 = fight_hyp2['building_type']"
   ]
  },
  {
   "cell_type": "code",
   "execution_count": 41,
   "metadata": {},
   "outputs": [],
   "source": [
    "project_hyp2 = actions_with_source.query('user_id in @tolist_hyp2_1 and user_id in @tolist_hyp2_2 and event == \"building\"') \n",
    "project_hyp2 = project_hyp2.groupby('user_id')['building_type'].count().reset_index()\n",
    "project_hyp2 = project_hyp2['building_type']\n"
   ]
  },
  {
   "cell_type": "code",
   "execution_count": 42,
   "metadata": {},
   "outputs": [
    {
     "name": "stdout",
     "output_type": "stream",
     "text": [
      "p-значение: 0.0\n",
      "Отвергаем нулевую гипотезу\n"
     ]
    }
   ],
   "source": [
    "alpha = 0.05\n",
    "results = st.ttest_ind(fight_hyp2, project_hyp2)\n",
    "print('p-значение:', results.pvalue)\n",
    "\n",
    "if (results.pvalue < alpha):\n",
    "    print(\"Отвергаем нулевую гипотезу\")\n",
    "else:\n",
    "    print(\"Не получилось отвергнуть нулевую гипотезу\")"
   ]
  },
  {
   "cell_type": "markdown",
   "metadata": {},
   "source": [
    "Различия присутствую -значимые. Количество построенных объектов к  выбору стратегии прохождения первого уровня. \n",
    "Результат с вероятностью 0% может быть случайно получен."
   ]
  },
  {
   "cell_type": "markdown",
   "metadata": {},
   "source": [
    "# Вывод"
   ]
  },
  {
   "cell_type": "markdown",
   "metadata": {},
   "source": [
    "Получены 3 датасэта. Данные представлены о результатах игры пользователя на первом уровне. \n",
    "Выполнение одного из условий (победа в сражении или реализация проекта) дает возможность завершить первый уровень.\n",
    "В результате предобработки были выявлены пропуски, удалять необходимости нет.\n",
    "В столбце event стоит запись - project, тогда  в колонке project_type будет стоять отметка satellite_orbital_assembly. \n",
    "В остальных стоит пропуск. Удален дубликат. \n",
    "\n",
    "Далее произведен анализ данных.\n",
    "Из 4-х источников **общего количества привлечения пользователей** располагаются в следующей последовательности: \n",
    "1. yandex_direct -  **4817** уникальных пользователей\n",
    "2. instagram_new_adverts - **3347** уникальных пользователей\t\n",
    "3. facebook_ads - **2726** уникальных пользователей\n",
    "4. youtube_channel_reklama -**2686** уникальных пользователей\n",
    "\n",
    "С отрывом в треть идет yandex_direct, остальные с небольшим отрывом между собой.\n",
    "\n",
    "Следующая метрика - **соотношение затрат по источникам**. \n",
    "\n",
    "Градация выглядит подобным образом, но с некоторыми отличиями в значениях.\n",
    "Практически одинаковыые траты в строну первых треъ компаний. \n",
    "Примерно в 2 раза меньше инвестиций в youtube_channel_reklama.\n",
    "\n",
    "1. yandex_direct -  **2233** уе\n",
    "2. instagram_new_adverts - **2161**\tуе\n",
    "3. facebook_ads - **2141** уе\n",
    "4. youtube_channel_reklama -**1068** уе\n",
    "\n",
    "Следующая метрика - **стоимость привлечения одного клиента (САС)**.\n",
    "\n",
    "Клиент от facebook_ads оказался самым дорогим - разница со стоимостью клиента от youtube_channel_reklama в 2 раза.\n",
    "Это мощный аргумент на понижение общего условного рейтинга при оформлении рекомендаций для распределения будущего бюджета на рекламу.\n",
    "\n",
    "\n",
    "1. facebook_ads -  **0.08** уе\n",
    "2. instagram_new_adverts - **0.06** уе\n",
    "3. yandex_direct  -  **0.05** уе\n",
    "4. youtube_channel_reklama -  **0.04** уе\n",
    "\n",
    "Следующая метрика  - **количества построенных зданий игроками в сравнении по типам источников**\n",
    "facebook_ads - претендент, как минимум, на коррекцию договорных отношений с ним. **(Связано с общим количеством пришедших клиентов)** \n",
    "\n",
    "1. yandex_direct\t- **45032**\n",
    "2. instagram_new_adverts  -\t**31815**\n",
    "3. facebook_ads\t - **26131** \n",
    "4. youtube_channel_reklama\t - **24978**\n",
    "\n",
    "Следующая метрика - **количество завершивших 1 уровень (вовлеченность в игру)**\n",
    "Ситуация схожая с предыдущими. **(Связано с общим количеством пришедших клиентов)** \n",
    "\n",
    "1.  yandex_direct\t-  **2042**\n",
    "2.\tinstagram_new_adverts  - **1466**\n",
    "3.\tyoutube_channel_reklama\t- **1159**\n",
    "4.\tfacebook_ad  -  **1150**\n",
    "\n",
    "\n",
    "**Исследования в разрезе на одного игрока показывают, что  все каналы имеют, примерно, схожую статистику, как по количеству построенных зданий игроками в сравнении по типам источников на 1 игрока, так и по количеству завершивших 1 уровень (вовлеченность в игру) на 1 игрока.** \n",
    "\n",
    "\n",
    "\n",
    "\n",
    "\n",
    "В результате независимого двухвыборочного теста была просчитана вероятность гипотезы о том, что время завершения уровня не различается в зависимости способа прохождения (через реализацию проекта или через победу над первым игроком). Гипотеза не подтвердилась. \n",
    "\n",
    "Не подтвердилась и гипотеза о том, что количество созданых объектов не различается от стратегии, которую выберет игрок.\n",
    "Различия есть.\n",
    "\n",
    "\n",
    "**Рекомендации**\n",
    "\n",
    "Анализ показал необходимость перераспределения средств.  \n",
    "\n",
    "С **facebook_ad**  на **youtube_channel_reklama**. **youtube_channel_reklama** имеет наименьший САС. Результат привлечения клиентов у него не высок по причине урезанных инвестиций в его сторону. **facebook_ad** имеет наибольший САС при тех же расходах, что и оба лидера. \n",
    "    По лидерам (**yandex_direct** и **youtube_channel_reklama**) коррекция возможна через какое-то время и после следующего анализа показателей через 2-4 недели.\n",
    "    \n",
    "    \n",
    "    \n",
    "**Приоритет по рейтингу каналов по эффективности вложений**  \n",
    "\n",
    "\n",
    "1.  yandex_direct\n",
    "2.  youtube_channel_reklama\n",
    "3.\tinstagram_new_adverts\n",
    "4.\tfacebook_ad \n"
   ]
  },
  {
   "cell_type": "code",
   "execution_count": null,
   "metadata": {},
   "outputs": [],
   "source": []
  }
 ],
 "metadata": {
  "ExecuteTimeLog": [
   {
    "duration": 99,
    "start_time": "2023-06-10T09:06:07.768Z"
   },
   {
    "duration": 1238,
    "start_time": "2023-06-10T11:00:10.620Z"
   },
   {
    "duration": 4,
    "start_time": "2023-06-10T11:49:13.567Z"
   },
   {
    "duration": 779,
    "start_time": "2023-06-10T11:49:14.150Z"
   },
   {
    "duration": 16,
    "start_time": "2023-06-10T11:49:35.500Z"
   },
   {
    "duration": 9,
    "start_time": "2023-06-10T11:49:57.730Z"
   },
   {
    "duration": 9,
    "start_time": "2023-06-10T11:50:36.107Z"
   },
   {
    "duration": 7,
    "start_time": "2023-06-10T11:50:38.839Z"
   },
   {
    "duration": 11,
    "start_time": "2023-06-10T11:50:39.820Z"
   },
   {
    "duration": 4,
    "start_time": "2023-06-10T12:00:50.810Z"
   },
   {
    "duration": 269,
    "start_time": "2023-06-10T12:00:52.530Z"
   },
   {
    "duration": 10,
    "start_time": "2023-06-10T12:00:54.019Z"
   },
   {
    "duration": 10,
    "start_time": "2023-06-10T12:00:54.886Z"
   },
   {
    "duration": 11,
    "start_time": "2023-06-10T12:00:55.541Z"
   },
   {
    "duration": 83,
    "start_time": "2023-06-11T09:17:27.309Z"
   },
   {
    "duration": 1223,
    "start_time": "2023-06-11T09:17:37.102Z"
   },
   {
    "duration": 72,
    "start_time": "2023-06-11T09:17:38.327Z"
   },
   {
    "duration": 0,
    "start_time": "2023-06-11T09:17:38.401Z"
   },
   {
    "duration": 0,
    "start_time": "2023-06-11T09:17:38.403Z"
   },
   {
    "duration": 0,
    "start_time": "2023-06-11T09:17:38.404Z"
   },
   {
    "duration": 248,
    "start_time": "2023-06-11T09:18:26.529Z"
   },
   {
    "duration": 12,
    "start_time": "2023-06-11T09:18:29.176Z"
   },
   {
    "duration": 7,
    "start_time": "2023-06-11T09:18:33.388Z"
   },
   {
    "duration": 8,
    "start_time": "2023-06-11T09:18:34.357Z"
   },
   {
    "duration": 57,
    "start_time": "2023-06-11T09:20:51.892Z"
   },
   {
    "duration": 13,
    "start_time": "2023-06-11T09:27:05.534Z"
   },
   {
    "duration": 16,
    "start_time": "2023-06-11T09:27:54.816Z"
   },
   {
    "duration": 65,
    "start_time": "2023-06-11T09:31:53.514Z"
   },
   {
    "duration": 76,
    "start_time": "2023-06-11T09:32:10.736Z"
   },
   {
    "duration": 65,
    "start_time": "2023-06-11T09:32:19.577Z"
   },
   {
    "duration": 10,
    "start_time": "2023-06-11T09:32:50.291Z"
   },
   {
    "duration": 5,
    "start_time": "2023-06-11T09:33:02.114Z"
   },
   {
    "duration": 80,
    "start_time": "2023-06-11T09:33:23.984Z"
   },
   {
    "duration": 71,
    "start_time": "2023-06-11T09:33:44.230Z"
   },
   {
    "duration": 265,
    "start_time": "2023-06-11T09:37:00.072Z"
   },
   {
    "duration": 9,
    "start_time": "2023-06-11T09:37:01.266Z"
   },
   {
    "duration": 9,
    "start_time": "2023-06-11T09:37:02.661Z"
   },
   {
    "duration": 8,
    "start_time": "2023-06-11T09:37:03.960Z"
   },
   {
    "duration": 46,
    "start_time": "2023-06-11T09:37:04.745Z"
   },
   {
    "duration": 10,
    "start_time": "2023-06-11T09:37:29.368Z"
   },
   {
    "duration": 351,
    "start_time": "2023-06-11T09:38:54.506Z"
   },
   {
    "duration": 304,
    "start_time": "2023-06-11T09:39:11.649Z"
   },
   {
    "duration": 9,
    "start_time": "2023-06-11T09:39:13.266Z"
   },
   {
    "duration": 7,
    "start_time": "2023-06-11T09:39:14.038Z"
   },
   {
    "duration": 8,
    "start_time": "2023-06-11T09:39:14.645Z"
   },
   {
    "duration": 25,
    "start_time": "2023-06-11T09:39:15.267Z"
   },
   {
    "duration": 10,
    "start_time": "2023-06-11T09:39:19.401Z"
   },
   {
    "duration": 10,
    "start_time": "2023-06-11T09:39:26.099Z"
   },
   {
    "duration": 8,
    "start_time": "2023-06-11T09:41:52.903Z"
   },
   {
    "duration": 9,
    "start_time": "2023-06-11T09:42:05.176Z"
   },
   {
    "duration": 20,
    "start_time": "2023-06-11T09:42:22.671Z"
   },
   {
    "duration": 14,
    "start_time": "2023-06-11T09:42:31.003Z"
   },
   {
    "duration": 10,
    "start_time": "2023-06-11T09:55:24.211Z"
   },
   {
    "duration": 14,
    "start_time": "2023-06-11T09:55:25.698Z"
   },
   {
    "duration": 10,
    "start_time": "2023-06-11T09:56:31.241Z"
   },
   {
    "duration": 23,
    "start_time": "2023-06-11T09:56:32.510Z"
   },
   {
    "duration": 13,
    "start_time": "2023-06-11T09:56:48.675Z"
   },
   {
    "duration": 62,
    "start_time": "2023-06-11T09:57:22.768Z"
   },
   {
    "duration": 10,
    "start_time": "2023-06-11T09:57:24.053Z"
   },
   {
    "duration": 13,
    "start_time": "2023-06-11T09:57:28.442Z"
   },
   {
    "duration": 1224,
    "start_time": "2023-06-11T09:57:39.608Z"
   },
   {
    "duration": 296,
    "start_time": "2023-06-11T09:57:40.833Z"
   },
   {
    "duration": 13,
    "start_time": "2023-06-11T09:57:41.130Z"
   },
   {
    "duration": 8,
    "start_time": "2023-06-11T09:57:41.145Z"
   },
   {
    "duration": 18,
    "start_time": "2023-06-11T09:57:41.155Z"
   },
   {
    "duration": 58,
    "start_time": "2023-06-11T09:57:41.175Z"
   },
   {
    "duration": 10,
    "start_time": "2023-06-11T09:57:41.234Z"
   },
   {
    "duration": 11,
    "start_time": "2023-06-11T09:57:41.246Z"
   },
   {
    "duration": 76,
    "start_time": "2023-06-11T09:57:41.258Z"
   },
   {
    "duration": 10,
    "start_time": "2023-06-11T09:57:41.335Z"
   },
   {
    "duration": 5,
    "start_time": "2023-06-11T09:57:41.346Z"
   },
   {
    "duration": 76,
    "start_time": "2023-06-11T09:57:41.353Z"
   },
   {
    "duration": 13,
    "start_time": "2023-06-11T09:57:41.431Z"
   },
   {
    "duration": 11,
    "start_time": "2023-06-11T09:57:41.446Z"
   },
   {
    "duration": 11,
    "start_time": "2023-06-11T09:58:01.764Z"
   },
   {
    "duration": 11,
    "start_time": "2023-06-11T09:58:03.163Z"
   },
   {
    "duration": 15,
    "start_time": "2023-06-11T10:03:40.651Z"
   },
   {
    "duration": 14,
    "start_time": "2023-06-11T10:03:41.674Z"
   },
   {
    "duration": 1248,
    "start_time": "2023-06-11T10:03:55.379Z"
   },
   {
    "duration": 300,
    "start_time": "2023-06-11T10:03:56.629Z"
   },
   {
    "duration": 13,
    "start_time": "2023-06-11T10:03:56.931Z"
   },
   {
    "duration": 14,
    "start_time": "2023-06-11T10:03:56.945Z"
   },
   {
    "duration": 10,
    "start_time": "2023-06-11T10:03:56.961Z"
   },
   {
    "duration": 63,
    "start_time": "2023-06-11T10:03:56.972Z"
   },
   {
    "duration": 10,
    "start_time": "2023-06-11T10:03:57.037Z"
   },
   {
    "duration": 13,
    "start_time": "2023-06-11T10:03:57.048Z"
   },
   {
    "duration": 70,
    "start_time": "2023-06-11T10:03:57.062Z"
   },
   {
    "duration": 13,
    "start_time": "2023-06-11T10:03:57.134Z"
   },
   {
    "duration": 5,
    "start_time": "2023-06-11T10:03:57.149Z"
   },
   {
    "duration": 94,
    "start_time": "2023-06-11T10:03:57.156Z"
   },
   {
    "duration": 13,
    "start_time": "2023-06-11T10:03:57.252Z"
   },
   {
    "duration": 20,
    "start_time": "2023-06-11T10:03:57.267Z"
   },
   {
    "duration": 10,
    "start_time": "2023-06-11T10:04:16.089Z"
   },
   {
    "duration": 13,
    "start_time": "2023-06-11T10:04:16.942Z"
   },
   {
    "duration": 1213,
    "start_time": "2023-06-11T10:04:24.840Z"
   },
   {
    "duration": 279,
    "start_time": "2023-06-11T10:04:26.055Z"
   },
   {
    "duration": 16,
    "start_time": "2023-06-11T10:04:26.335Z"
   },
   {
    "duration": 10,
    "start_time": "2023-06-11T10:04:26.353Z"
   },
   {
    "duration": 20,
    "start_time": "2023-06-11T10:04:26.365Z"
   },
   {
    "duration": 42,
    "start_time": "2023-06-11T10:04:26.386Z"
   },
   {
    "duration": 13,
    "start_time": "2023-06-11T10:04:26.430Z"
   },
   {
    "duration": 14,
    "start_time": "2023-06-11T10:04:26.445Z"
   },
   {
    "duration": 99,
    "start_time": "2023-06-11T10:04:26.460Z"
   },
   {
    "duration": 10,
    "start_time": "2023-06-11T10:04:26.560Z"
   },
   {
    "duration": 5,
    "start_time": "2023-06-11T10:04:26.571Z"
   },
   {
    "duration": 89,
    "start_time": "2023-06-11T10:04:26.578Z"
   },
   {
    "duration": 11,
    "start_time": "2023-06-11T10:04:26.668Z"
   },
   {
    "duration": 13,
    "start_time": "2023-06-11T10:04:26.681Z"
   },
   {
    "duration": 123,
    "start_time": "2023-06-11T10:10:55.121Z"
   },
   {
    "duration": 289,
    "start_time": "2023-06-11T10:11:04.395Z"
   },
   {
    "duration": 9,
    "start_time": "2023-06-11T10:11:05.578Z"
   },
   {
    "duration": 7,
    "start_time": "2023-06-11T10:11:06.284Z"
   },
   {
    "duration": 8,
    "start_time": "2023-06-11T10:11:06.748Z"
   },
   {
    "duration": 53,
    "start_time": "2023-06-11T10:11:07.180Z"
   },
   {
    "duration": 9,
    "start_time": "2023-06-11T10:11:08.286Z"
   },
   {
    "duration": 10,
    "start_time": "2023-06-11T10:11:09.537Z"
   },
   {
    "duration": 67,
    "start_time": "2023-06-11T10:11:10.371Z"
   },
   {
    "duration": 16,
    "start_time": "2023-06-11T10:11:10.726Z"
   },
   {
    "duration": 5,
    "start_time": "2023-06-11T10:11:11.107Z"
   },
   {
    "duration": 71,
    "start_time": "2023-06-11T10:11:11.362Z"
   },
   {
    "duration": 16,
    "start_time": "2023-06-11T10:11:12.335Z"
   },
   {
    "duration": 9,
    "start_time": "2023-06-11T10:20:14.238Z"
   },
   {
    "duration": 39,
    "start_time": "2023-06-11T10:20:24.246Z"
   },
   {
    "duration": 19,
    "start_time": "2023-06-11T10:20:31.541Z"
   },
   {
    "duration": 78,
    "start_time": "2023-06-11T10:23:26.535Z"
   },
   {
    "duration": 98,
    "start_time": "2023-06-11T10:23:56.656Z"
   },
   {
    "duration": 421,
    "start_time": "2023-06-11T10:24:36.886Z"
   },
   {
    "duration": 90,
    "start_time": "2023-06-11T10:24:45.779Z"
   },
   {
    "duration": 124,
    "start_time": "2023-06-11T10:25:14.379Z"
   },
   {
    "duration": 100,
    "start_time": "2023-06-11T10:25:24.709Z"
   },
   {
    "duration": 110,
    "start_time": "2023-06-11T10:25:33.883Z"
   },
   {
    "duration": 40,
    "start_time": "2023-06-11T10:26:11.052Z"
   },
   {
    "duration": 20,
    "start_time": "2023-06-11T10:26:15.466Z"
   },
   {
    "duration": 35,
    "start_time": "2023-06-11T10:29:01.866Z"
   },
   {
    "duration": 25,
    "start_time": "2023-06-11T10:29:49.672Z"
   },
   {
    "duration": 25,
    "start_time": "2023-06-11T10:31:43.040Z"
   },
   {
    "duration": 22,
    "start_time": "2023-06-11T10:32:21.765Z"
   },
   {
    "duration": 3950,
    "start_time": "2023-06-11T10:36:50.842Z"
   },
   {
    "duration": 5,
    "start_time": "2023-06-11T10:36:54.794Z"
   },
   {
    "duration": 3887,
    "start_time": "2023-06-11T10:37:37.961Z"
   },
   {
    "duration": 19,
    "start_time": "2023-06-11T10:37:41.850Z"
   },
   {
    "duration": 28,
    "start_time": "2023-06-11T10:38:49.035Z"
   },
   {
    "duration": 28,
    "start_time": "2023-06-11T10:39:54.437Z"
   },
   {
    "duration": 12,
    "start_time": "2023-06-11T10:41:35.045Z"
   },
   {
    "duration": 39,
    "start_time": "2023-06-11T10:42:46.102Z"
   },
   {
    "duration": 161,
    "start_time": "2023-06-11T10:43:01.714Z"
   },
   {
    "duration": 24,
    "start_time": "2023-06-11T10:43:07.763Z"
   },
   {
    "duration": 28,
    "start_time": "2023-06-11T10:43:16.242Z"
   },
   {
    "duration": 124,
    "start_time": "2023-06-11T10:52:13.140Z"
   },
   {
    "duration": 25,
    "start_time": "2023-06-11T10:52:19.242Z"
   },
   {
    "duration": 24,
    "start_time": "2023-06-11T10:52:39.853Z"
   },
   {
    "duration": 1173,
    "start_time": "2023-06-11T10:54:22.915Z"
   },
   {
    "duration": 283,
    "start_time": "2023-06-11T10:54:24.090Z"
   },
   {
    "duration": 12,
    "start_time": "2023-06-11T10:54:24.375Z"
   },
   {
    "duration": 6,
    "start_time": "2023-06-11T10:54:24.389Z"
   },
   {
    "duration": 16,
    "start_time": "2023-06-11T10:54:24.396Z"
   },
   {
    "duration": 62,
    "start_time": "2023-06-11T10:54:24.414Z"
   },
   {
    "duration": 9,
    "start_time": "2023-06-11T10:54:24.477Z"
   },
   {
    "duration": 14,
    "start_time": "2023-06-11T10:54:24.488Z"
   },
   {
    "duration": 71,
    "start_time": "2023-06-11T10:54:24.503Z"
   },
   {
    "duration": 9,
    "start_time": "2023-06-11T10:54:24.576Z"
   },
   {
    "duration": 5,
    "start_time": "2023-06-11T10:54:24.587Z"
   },
   {
    "duration": 98,
    "start_time": "2023-06-11T10:54:24.594Z"
   },
   {
    "duration": 10,
    "start_time": "2023-06-11T10:54:24.694Z"
   },
   {
    "duration": 51,
    "start_time": "2023-06-11T10:54:24.706Z"
   },
   {
    "duration": 12,
    "start_time": "2023-06-11T10:54:24.759Z"
   },
   {
    "duration": 24,
    "start_time": "2023-06-11T10:54:24.772Z"
   },
   {
    "duration": 143,
    "start_time": "2023-06-11T10:54:24.798Z"
   },
   {
    "duration": 27,
    "start_time": "2023-06-11T10:59:48.153Z"
   },
   {
    "duration": 44,
    "start_time": "2023-06-11T11:00:18.424Z"
   },
   {
    "duration": 27,
    "start_time": "2023-06-11T11:01:14.141Z"
   },
   {
    "duration": 24,
    "start_time": "2023-06-11T11:01:40.155Z"
   },
   {
    "duration": 107,
    "start_time": "2023-06-11T11:02:38.759Z"
   },
   {
    "duration": 160,
    "start_time": "2023-06-11T11:02:49.492Z"
   },
   {
    "duration": 184,
    "start_time": "2023-06-11T11:11:18.604Z"
   },
   {
    "duration": 8,
    "start_time": "2023-06-11T11:14:05.050Z"
   },
   {
    "duration": 40,
    "start_time": "2023-06-11T11:14:10.825Z"
   },
   {
    "duration": 168,
    "start_time": "2023-06-11T11:14:11.414Z"
   },
   {
    "duration": 15,
    "start_time": "2023-06-11T12:03:49.746Z"
   },
   {
    "duration": 229,
    "start_time": "2023-06-11T12:04:25.251Z"
   },
   {
    "duration": 15,
    "start_time": "2023-06-11T12:04:32.120Z"
   },
   {
    "duration": 20,
    "start_time": "2023-06-11T12:04:51.670Z"
   },
   {
    "duration": 1410,
    "start_time": "2023-06-11T12:05:02.071Z"
   },
   {
    "duration": 258,
    "start_time": "2023-06-11T12:05:03.483Z"
   },
   {
    "duration": 12,
    "start_time": "2023-06-11T12:05:03.743Z"
   },
   {
    "duration": 10,
    "start_time": "2023-06-11T12:05:03.757Z"
   },
   {
    "duration": 21,
    "start_time": "2023-06-11T12:05:03.769Z"
   },
   {
    "duration": 53,
    "start_time": "2023-06-11T12:05:03.791Z"
   },
   {
    "duration": 43,
    "start_time": "2023-06-11T12:05:03.846Z"
   },
   {
    "duration": 18,
    "start_time": "2023-06-11T12:05:03.891Z"
   },
   {
    "duration": 58,
    "start_time": "2023-06-11T12:05:03.911Z"
   },
   {
    "duration": 9,
    "start_time": "2023-06-11T12:05:03.970Z"
   },
   {
    "duration": 12,
    "start_time": "2023-06-11T12:05:03.980Z"
   },
   {
    "duration": 64,
    "start_time": "2023-06-11T12:05:03.993Z"
   },
   {
    "duration": 11,
    "start_time": "2023-06-11T12:05:04.058Z"
   },
   {
    "duration": 53,
    "start_time": "2023-06-11T12:05:04.072Z"
   },
   {
    "duration": 9,
    "start_time": "2023-06-11T12:05:04.126Z"
   },
   {
    "duration": 28,
    "start_time": "2023-06-11T12:05:04.136Z"
   },
   {
    "duration": 158,
    "start_time": "2023-06-11T12:05:04.166Z"
   },
   {
    "duration": 15,
    "start_time": "2023-06-11T12:05:04.326Z"
   },
   {
    "duration": 15,
    "start_time": "2023-06-11T12:05:24.610Z"
   },
   {
    "duration": 9,
    "start_time": "2023-06-11T12:06:21.581Z"
   },
   {
    "duration": 13,
    "start_time": "2023-06-11T12:07:06.683Z"
   },
   {
    "duration": 17,
    "start_time": "2023-06-11T12:07:23.060Z"
   },
   {
    "duration": 106,
    "start_time": "2023-06-11T12:07:54.666Z"
   },
   {
    "duration": 12,
    "start_time": "2023-06-11T12:08:00.610Z"
   },
   {
    "duration": 12,
    "start_time": "2023-06-11T12:08:05.911Z"
   },
   {
    "duration": 12,
    "start_time": "2023-06-11T12:08:36.114Z"
   },
   {
    "duration": 97,
    "start_time": "2023-06-11T12:08:43.355Z"
   },
   {
    "duration": 10,
    "start_time": "2023-06-11T12:08:46.368Z"
   },
   {
    "duration": 2101,
    "start_time": "2023-06-11T12:10:40.653Z"
   },
   {
    "duration": 137,
    "start_time": "2023-06-11T12:10:52.871Z"
   },
   {
    "duration": 23,
    "start_time": "2023-06-11T12:20:03.671Z"
   },
   {
    "duration": 145,
    "start_time": "2023-06-11T12:20:07.887Z"
   },
   {
    "duration": 11,
    "start_time": "2023-06-11T12:20:10.286Z"
   },
   {
    "duration": 164,
    "start_time": "2023-06-11T12:20:12.082Z"
   },
   {
    "duration": 1401,
    "start_time": "2023-06-11T12:23:53.668Z"
   },
   {
    "duration": 9,
    "start_time": "2023-06-11T12:24:18.364Z"
   },
   {
    "duration": 1920,
    "start_time": "2023-06-11T12:24:43.464Z"
   },
   {
    "duration": 1946,
    "start_time": "2023-06-11T12:25:53.956Z"
   },
   {
    "duration": 39,
    "start_time": "2023-06-11T12:27:04.521Z"
   },
   {
    "duration": 16,
    "start_time": "2023-06-11T12:27:15.991Z"
   },
   {
    "duration": 11,
    "start_time": "2023-06-11T12:30:09.664Z"
   },
   {
    "duration": 8,
    "start_time": "2023-06-11T12:30:39.614Z"
   },
   {
    "duration": 26,
    "start_time": "2023-06-11T12:32:14.160Z"
   },
   {
    "duration": 140,
    "start_time": "2023-06-11T12:32:15.865Z"
   },
   {
    "duration": 1142,
    "start_time": "2023-06-11T12:32:23.071Z"
   },
   {
    "duration": 261,
    "start_time": "2023-06-11T12:32:24.215Z"
   },
   {
    "duration": 13,
    "start_time": "2023-06-11T12:32:24.478Z"
   },
   {
    "duration": 31,
    "start_time": "2023-06-11T12:32:24.492Z"
   },
   {
    "duration": 19,
    "start_time": "2023-06-11T12:32:24.526Z"
   },
   {
    "duration": 49,
    "start_time": "2023-06-11T12:32:24.547Z"
   },
   {
    "duration": 9,
    "start_time": "2023-06-11T12:32:24.598Z"
   },
   {
    "duration": 25,
    "start_time": "2023-06-11T12:32:24.609Z"
   },
   {
    "duration": 53,
    "start_time": "2023-06-11T12:32:24.635Z"
   },
   {
    "duration": 8,
    "start_time": "2023-06-11T12:32:24.690Z"
   },
   {
    "duration": 18,
    "start_time": "2023-06-11T12:32:24.700Z"
   },
   {
    "duration": 65,
    "start_time": "2023-06-11T12:32:24.719Z"
   },
   {
    "duration": 12,
    "start_time": "2023-06-11T12:32:24.785Z"
   },
   {
    "duration": 52,
    "start_time": "2023-06-11T12:32:24.799Z"
   },
   {
    "duration": 51,
    "start_time": "2023-06-11T12:32:24.853Z"
   },
   {
    "duration": 33,
    "start_time": "2023-06-11T12:32:24.906Z"
   },
   {
    "duration": 151,
    "start_time": "2023-06-11T12:32:24.940Z"
   },
   {
    "duration": 11,
    "start_time": "2023-06-11T12:32:25.092Z"
   },
   {
    "duration": 159,
    "start_time": "2023-06-11T12:32:25.105Z"
   },
   {
    "duration": 53,
    "start_time": "2023-06-11T12:32:25.266Z"
   },
   {
    "duration": 9,
    "start_time": "2023-06-11T12:32:40.423Z"
   },
   {
    "duration": 9,
    "start_time": "2023-06-11T12:32:52.256Z"
   },
   {
    "duration": 8,
    "start_time": "2023-06-11T12:33:05.084Z"
   },
   {
    "duration": 155,
    "start_time": "2023-06-11T12:34:32.205Z"
   },
   {
    "duration": 105,
    "start_time": "2023-06-11T12:57:01.400Z"
   },
   {
    "duration": 16,
    "start_time": "2023-06-11T12:57:20.954Z"
   },
   {
    "duration": 32,
    "start_time": "2023-06-11T13:04:14.714Z"
   },
   {
    "duration": 1150,
    "start_time": "2023-06-11T13:05:00.582Z"
   },
   {
    "duration": 324,
    "start_time": "2023-06-11T13:05:01.735Z"
   },
   {
    "duration": 14,
    "start_time": "2023-06-11T13:05:02.060Z"
   },
   {
    "duration": 51,
    "start_time": "2023-06-11T13:05:02.076Z"
   },
   {
    "duration": 33,
    "start_time": "2023-06-11T13:05:02.129Z"
   },
   {
    "duration": 61,
    "start_time": "2023-06-11T13:05:02.164Z"
   },
   {
    "duration": 118,
    "start_time": "2023-06-11T13:05:02.228Z"
   },
   {
    "duration": 56,
    "start_time": "2023-06-11T13:05:02.348Z"
   },
   {
    "duration": 85,
    "start_time": "2023-06-11T13:05:02.406Z"
   },
   {
    "duration": 10,
    "start_time": "2023-06-11T13:05:02.492Z"
   },
   {
    "duration": 175,
    "start_time": "2023-06-11T13:05:02.503Z"
   },
   {
    "duration": 249,
    "start_time": "2023-06-11T13:05:02.680Z"
   },
   {
    "duration": 27,
    "start_time": "2023-06-11T13:05:02.930Z"
   },
   {
    "duration": 107,
    "start_time": "2023-06-11T13:05:02.961Z"
   },
   {
    "duration": 67,
    "start_time": "2023-06-11T13:05:03.069Z"
   },
   {
    "duration": 54,
    "start_time": "2023-06-11T13:05:03.138Z"
   },
   {
    "duration": 218,
    "start_time": "2023-06-11T13:05:03.193Z"
   },
   {
    "duration": 383,
    "start_time": "2023-06-11T13:05:03.412Z"
   },
   {
    "duration": 145,
    "start_time": "2023-06-11T13:05:03.796Z"
   },
   {
    "duration": 10,
    "start_time": "2023-06-11T13:05:03.943Z"
   },
   {
    "duration": 276,
    "start_time": "2023-06-11T13:05:03.955Z"
   },
   {
    "duration": 26,
    "start_time": "2023-06-11T13:05:04.233Z"
   },
   {
    "duration": 30,
    "start_time": "2023-06-11T13:05:15.827Z"
   },
   {
    "duration": 24,
    "start_time": "2023-06-11T13:06:26.533Z"
   },
   {
    "duration": 154,
    "start_time": "2023-06-11T13:12:27.979Z"
   },
   {
    "duration": 115,
    "start_time": "2023-06-11T13:43:00.624Z"
   },
   {
    "duration": 38,
    "start_time": "2023-06-11T13:47:31.061Z"
   },
   {
    "duration": 21,
    "start_time": "2023-06-11T13:51:39.480Z"
   },
   {
    "duration": 16,
    "start_time": "2023-06-11T13:52:47.265Z"
   },
   {
    "duration": 18,
    "start_time": "2023-06-11T13:57:09.008Z"
   },
   {
    "duration": 18,
    "start_time": "2023-06-11T13:57:17.105Z"
   },
   {
    "duration": 105,
    "start_time": "2023-06-11T13:58:01.964Z"
   },
   {
    "duration": 313,
    "start_time": "2023-06-11T13:58:08.712Z"
   },
   {
    "duration": 79,
    "start_time": "2023-06-11T13:58:33.175Z"
   },
   {
    "duration": 18,
    "start_time": "2023-06-11T13:58:50.622Z"
   },
   {
    "duration": 1222,
    "start_time": "2023-06-11T13:59:01.281Z"
   },
   {
    "duration": 241,
    "start_time": "2023-06-11T13:59:02.505Z"
   },
   {
    "duration": 12,
    "start_time": "2023-06-11T13:59:02.747Z"
   },
   {
    "duration": 142,
    "start_time": "2023-06-11T13:59:02.760Z"
   },
   {
    "duration": 39,
    "start_time": "2023-06-11T13:59:02.904Z"
   },
   {
    "duration": 92,
    "start_time": "2023-06-11T13:59:02.944Z"
   },
   {
    "duration": 8,
    "start_time": "2023-06-11T13:59:03.038Z"
   },
   {
    "duration": 60,
    "start_time": "2023-06-11T13:59:03.048Z"
   },
   {
    "duration": 73,
    "start_time": "2023-06-11T13:59:03.109Z"
   },
   {
    "duration": 9,
    "start_time": "2023-06-11T13:59:03.183Z"
   },
   {
    "duration": 18,
    "start_time": "2023-06-11T13:59:03.193Z"
   },
   {
    "duration": 70,
    "start_time": "2023-06-11T13:59:03.212Z"
   },
   {
    "duration": 9,
    "start_time": "2023-06-11T13:59:03.284Z"
   },
   {
    "duration": 41,
    "start_time": "2023-06-11T13:59:03.296Z"
   },
   {
    "duration": 8,
    "start_time": "2023-06-11T13:59:03.338Z"
   },
   {
    "duration": 32,
    "start_time": "2023-06-11T13:59:03.348Z"
   },
   {
    "duration": 162,
    "start_time": "2023-06-11T13:59:03.381Z"
   },
   {
    "duration": 11,
    "start_time": "2023-06-11T13:59:03.545Z"
   },
   {
    "duration": 155,
    "start_time": "2023-06-11T13:59:03.557Z"
   },
   {
    "duration": 9,
    "start_time": "2023-06-11T13:59:03.716Z"
   },
   {
    "duration": 151,
    "start_time": "2023-06-11T13:59:03.727Z"
   },
   {
    "duration": 37,
    "start_time": "2023-06-11T13:59:03.879Z"
   },
   {
    "duration": 138,
    "start_time": "2023-06-11T13:59:03.918Z"
   },
   {
    "duration": 36,
    "start_time": "2023-06-11T13:59:04.057Z"
   },
   {
    "duration": 18,
    "start_time": "2023-06-11T13:59:22.675Z"
   },
   {
    "duration": 18,
    "start_time": "2023-06-11T14:00:00.094Z"
   },
   {
    "duration": 16,
    "start_time": "2023-06-11T14:00:13.787Z"
   },
   {
    "duration": 1211,
    "start_time": "2023-06-11T14:00:23.583Z"
   },
   {
    "duration": 252,
    "start_time": "2023-06-11T14:00:24.795Z"
   },
   {
    "duration": 12,
    "start_time": "2023-06-11T14:00:25.048Z"
   },
   {
    "duration": 25,
    "start_time": "2023-06-11T14:00:25.062Z"
   },
   {
    "duration": 11,
    "start_time": "2023-06-11T14:00:25.089Z"
   },
   {
    "duration": 31,
    "start_time": "2023-06-11T14:00:25.101Z"
   },
   {
    "duration": 8,
    "start_time": "2023-06-11T14:00:25.134Z"
   },
   {
    "duration": 38,
    "start_time": "2023-06-11T14:00:25.144Z"
   },
   {
    "duration": 84,
    "start_time": "2023-06-11T14:00:25.184Z"
   },
   {
    "duration": 10,
    "start_time": "2023-06-11T14:00:25.269Z"
   },
   {
    "duration": 6,
    "start_time": "2023-06-11T14:00:25.281Z"
   },
   {
    "duration": 89,
    "start_time": "2023-06-11T14:00:25.288Z"
   },
   {
    "duration": 9,
    "start_time": "2023-06-11T14:00:25.379Z"
   },
   {
    "duration": 40,
    "start_time": "2023-06-11T14:00:25.391Z"
   },
   {
    "duration": 8,
    "start_time": "2023-06-11T14:00:25.433Z"
   },
   {
    "duration": 28,
    "start_time": "2023-06-11T14:00:25.442Z"
   },
   {
    "duration": 168,
    "start_time": "2023-06-11T14:00:25.472Z"
   },
   {
    "duration": 16,
    "start_time": "2023-06-11T14:00:25.641Z"
   },
   {
    "duration": 180,
    "start_time": "2023-06-11T14:00:25.659Z"
   },
   {
    "duration": 9,
    "start_time": "2023-06-11T14:00:25.840Z"
   },
   {
    "duration": 170,
    "start_time": "2023-06-11T14:00:25.850Z"
   },
   {
    "duration": 26,
    "start_time": "2023-06-11T14:00:26.022Z"
   },
   {
    "duration": 151,
    "start_time": "2023-06-11T14:00:26.049Z"
   },
   {
    "duration": 41,
    "start_time": "2023-06-11T14:00:26.202Z"
   },
   {
    "duration": 0,
    "start_time": "2023-06-12T08:52:39.376Z"
   },
   {
    "duration": 1448,
    "start_time": "2023-06-12T08:52:52.364Z"
   },
   {
    "duration": 392,
    "start_time": "2023-06-12T08:52:53.814Z"
   },
   {
    "duration": 17,
    "start_time": "2023-06-12T08:52:54.207Z"
   },
   {
    "duration": 65,
    "start_time": "2023-06-12T08:52:54.225Z"
   },
   {
    "duration": 30,
    "start_time": "2023-06-12T08:52:54.293Z"
   },
   {
    "duration": 99,
    "start_time": "2023-06-12T08:52:54.325Z"
   },
   {
    "duration": 78,
    "start_time": "2023-06-12T08:52:54.426Z"
   },
   {
    "duration": 20,
    "start_time": "2023-06-12T08:52:54.506Z"
   },
   {
    "duration": 136,
    "start_time": "2023-06-12T08:52:54.528Z"
   },
   {
    "duration": 12,
    "start_time": "2023-06-12T08:52:54.666Z"
   },
   {
    "duration": 6,
    "start_time": "2023-06-12T08:52:54.679Z"
   },
   {
    "duration": 99,
    "start_time": "2023-06-12T08:52:54.686Z"
   },
   {
    "duration": 12,
    "start_time": "2023-06-12T08:52:54.786Z"
   },
   {
    "duration": 94,
    "start_time": "2023-06-12T08:52:54.801Z"
   },
   {
    "duration": 14,
    "start_time": "2023-06-12T08:52:54.897Z"
   },
   {
    "duration": 74,
    "start_time": "2023-06-12T08:52:54.913Z"
   },
   {
    "duration": 202,
    "start_time": "2023-06-12T08:52:54.989Z"
   },
   {
    "duration": 11,
    "start_time": "2023-06-12T08:52:55.193Z"
   },
   {
    "duration": 250,
    "start_time": "2023-06-12T08:52:55.207Z"
   },
   {
    "duration": 13,
    "start_time": "2023-06-12T08:52:55.458Z"
   },
   {
    "duration": 272,
    "start_time": "2023-06-12T08:52:55.472Z"
   },
   {
    "duration": 58,
    "start_time": "2023-06-12T08:52:55.746Z"
   },
   {
    "duration": 235,
    "start_time": "2023-06-12T08:52:55.805Z"
   },
   {
    "duration": 45,
    "start_time": "2023-06-12T08:52:56.042Z"
   },
   {
    "duration": 2897,
    "start_time": "2023-06-12T08:52:56.089Z"
   },
   {
    "duration": 215,
    "start_time": "2023-06-12T08:53:21.077Z"
   },
   {
    "duration": 18,
    "start_time": "2023-06-12T09:02:02.699Z"
   },
   {
    "duration": 198,
    "start_time": "2023-06-12T09:02:04.447Z"
   },
   {
    "duration": 15,
    "start_time": "2023-06-12T10:07:13.360Z"
   },
   {
    "duration": 51,
    "start_time": "2023-06-12T10:20:46.910Z"
   },
   {
    "duration": 50,
    "start_time": "2023-06-12T10:21:24.790Z"
   },
   {
    "duration": 112,
    "start_time": "2023-06-12T10:21:59.742Z"
   },
   {
    "duration": 94,
    "start_time": "2023-06-12T10:23:10.802Z"
   },
   {
    "duration": 102,
    "start_time": "2023-06-12T10:23:46.692Z"
   },
   {
    "duration": 42,
    "start_time": "2023-06-12T10:23:58.971Z"
   },
   {
    "duration": 60,
    "start_time": "2023-06-12T10:25:15.549Z"
   },
   {
    "duration": 64,
    "start_time": "2023-06-12T10:25:35.861Z"
   },
   {
    "duration": 63,
    "start_time": "2023-06-12T10:27:54.980Z"
   },
   {
    "duration": 1264,
    "start_time": "2023-06-12T10:28:48.068Z"
   },
   {
    "duration": 318,
    "start_time": "2023-06-12T10:28:49.344Z"
   },
   {
    "duration": 12,
    "start_time": "2023-06-12T10:28:49.663Z"
   },
   {
    "duration": 9,
    "start_time": "2023-06-12T10:28:49.677Z"
   },
   {
    "duration": 16,
    "start_time": "2023-06-12T10:28:49.687Z"
   },
   {
    "duration": 35,
    "start_time": "2023-06-12T10:28:49.704Z"
   },
   {
    "duration": 23,
    "start_time": "2023-06-12T10:28:49.741Z"
   },
   {
    "duration": 11,
    "start_time": "2023-06-12T10:28:49.765Z"
   },
   {
    "duration": 73,
    "start_time": "2023-06-12T10:28:49.777Z"
   },
   {
    "duration": 13,
    "start_time": "2023-06-12T10:28:49.852Z"
   },
   {
    "duration": 20,
    "start_time": "2023-06-12T10:28:49.866Z"
   },
   {
    "duration": 106,
    "start_time": "2023-06-12T10:28:49.887Z"
   },
   {
    "duration": 10,
    "start_time": "2023-06-12T10:28:49.994Z"
   },
   {
    "duration": 59,
    "start_time": "2023-06-12T10:28:50.006Z"
   },
   {
    "duration": 23,
    "start_time": "2023-06-12T10:28:50.067Z"
   },
   {
    "duration": 76,
    "start_time": "2023-06-12T10:28:50.092Z"
   },
   {
    "duration": 171,
    "start_time": "2023-06-12T10:28:50.170Z"
   },
   {
    "duration": 17,
    "start_time": "2023-06-12T10:28:50.342Z"
   },
   {
    "duration": 162,
    "start_time": "2023-06-12T10:28:50.361Z"
   },
   {
    "duration": 22,
    "start_time": "2023-06-12T10:28:50.527Z"
   },
   {
    "duration": 185,
    "start_time": "2023-06-12T10:28:50.557Z"
   },
   {
    "duration": 31,
    "start_time": "2023-06-12T10:28:50.747Z"
   },
   {
    "duration": 150,
    "start_time": "2023-06-12T10:28:50.780Z"
   },
   {
    "duration": 44,
    "start_time": "2023-06-12T10:28:50.932Z"
   },
   {
    "duration": 188,
    "start_time": "2023-06-12T10:28:50.978Z"
   },
   {
    "duration": 13,
    "start_time": "2023-06-12T10:28:51.167Z"
   },
   {
    "duration": 74,
    "start_time": "2023-06-12T10:28:51.182Z"
   },
   {
    "duration": 72,
    "start_time": "2023-06-12T10:42:38.491Z"
   },
   {
    "duration": 75,
    "start_time": "2023-06-12T10:42:49.390Z"
   },
   {
    "duration": 82,
    "start_time": "2023-06-12T10:45:57.412Z"
   },
   {
    "duration": 1419,
    "start_time": "2023-06-12T10:46:09.854Z"
   },
   {
    "duration": 322,
    "start_time": "2023-06-12T10:46:11.275Z"
   },
   {
    "duration": 12,
    "start_time": "2023-06-12T10:46:11.599Z"
   },
   {
    "duration": 73,
    "start_time": "2023-06-12T10:46:11.613Z"
   },
   {
    "duration": 94,
    "start_time": "2023-06-12T10:46:11.689Z"
   },
   {
    "duration": 97,
    "start_time": "2023-06-12T10:46:11.784Z"
   },
   {
    "duration": 74,
    "start_time": "2023-06-12T10:46:11.886Z"
   },
   {
    "duration": 96,
    "start_time": "2023-06-12T10:46:11.961Z"
   },
   {
    "duration": 120,
    "start_time": "2023-06-12T10:46:12.058Z"
   },
   {
    "duration": 13,
    "start_time": "2023-06-12T10:46:12.180Z"
   },
   {
    "duration": 6,
    "start_time": "2023-06-12T10:46:12.197Z"
   },
   {
    "duration": 96,
    "start_time": "2023-06-12T10:46:12.205Z"
   },
   {
    "duration": 11,
    "start_time": "2023-06-12T10:46:12.302Z"
   },
   {
    "duration": 115,
    "start_time": "2023-06-12T10:46:12.316Z"
   },
   {
    "duration": 29,
    "start_time": "2023-06-12T10:46:12.437Z"
   },
   {
    "duration": 38,
    "start_time": "2023-06-12T10:46:12.467Z"
   },
   {
    "duration": 169,
    "start_time": "2023-06-12T10:46:12.507Z"
   },
   {
    "duration": 12,
    "start_time": "2023-06-12T10:46:12.678Z"
   },
   {
    "duration": 179,
    "start_time": "2023-06-12T10:46:12.691Z"
   },
   {
    "duration": 9,
    "start_time": "2023-06-12T10:46:12.872Z"
   },
   {
    "duration": 160,
    "start_time": "2023-06-12T10:46:12.882Z"
   },
   {
    "duration": 28,
    "start_time": "2023-06-12T10:46:13.043Z"
   },
   {
    "duration": 173,
    "start_time": "2023-06-12T10:46:13.073Z"
   },
   {
    "duration": 39,
    "start_time": "2023-06-12T10:46:13.250Z"
   },
   {
    "duration": 174,
    "start_time": "2023-06-12T10:46:13.290Z"
   },
   {
    "duration": 12,
    "start_time": "2023-06-12T10:46:13.466Z"
   },
   {
    "duration": 175,
    "start_time": "2023-06-12T10:46:13.479Z"
   },
   {
    "duration": 48,
    "start_time": "2023-06-12T10:46:22.765Z"
   },
   {
    "duration": 1230,
    "start_time": "2023-06-12T10:46:36.446Z"
   },
   {
    "duration": 314,
    "start_time": "2023-06-12T10:46:37.678Z"
   },
   {
    "duration": 13,
    "start_time": "2023-06-12T10:46:37.994Z"
   },
   {
    "duration": 32,
    "start_time": "2023-06-12T10:46:38.008Z"
   },
   {
    "duration": 28,
    "start_time": "2023-06-12T10:46:38.049Z"
   },
   {
    "duration": 58,
    "start_time": "2023-06-12T10:46:38.079Z"
   },
   {
    "duration": 12,
    "start_time": "2023-06-12T10:46:38.152Z"
   },
   {
    "duration": 13,
    "start_time": "2023-06-12T10:46:38.166Z"
   },
   {
    "duration": 84,
    "start_time": "2023-06-12T10:46:38.181Z"
   },
   {
    "duration": 9,
    "start_time": "2023-06-12T10:46:38.267Z"
   },
   {
    "duration": 7,
    "start_time": "2023-06-12T10:46:38.278Z"
   },
   {
    "duration": 75,
    "start_time": "2023-06-12T10:46:38.287Z"
   },
   {
    "duration": 11,
    "start_time": "2023-06-12T10:46:38.363Z"
   },
   {
    "duration": 89,
    "start_time": "2023-06-12T10:46:38.377Z"
   },
   {
    "duration": 9,
    "start_time": "2023-06-12T10:46:38.470Z"
   },
   {
    "duration": 30,
    "start_time": "2023-06-12T10:46:38.481Z"
   },
   {
    "duration": 172,
    "start_time": "2023-06-12T10:46:38.512Z"
   },
   {
    "duration": 11,
    "start_time": "2023-06-12T10:46:38.686Z"
   },
   {
    "duration": 185,
    "start_time": "2023-06-12T10:46:38.699Z"
   },
   {
    "duration": 9,
    "start_time": "2023-06-12T10:46:38.886Z"
   },
   {
    "duration": 185,
    "start_time": "2023-06-12T10:46:38.896Z"
   },
   {
    "duration": 28,
    "start_time": "2023-06-12T10:46:39.082Z"
   },
   {
    "duration": 157,
    "start_time": "2023-06-12T10:46:39.111Z"
   },
   {
    "duration": 36,
    "start_time": "2023-06-12T10:46:39.269Z"
   },
   {
    "duration": 180,
    "start_time": "2023-06-12T10:46:39.315Z"
   },
   {
    "duration": 13,
    "start_time": "2023-06-12T10:46:39.496Z"
   },
   {
    "duration": 64,
    "start_time": "2023-06-12T10:46:39.511Z"
   },
   {
    "duration": 50,
    "start_time": "2023-06-12T10:47:32.558Z"
   },
   {
    "duration": 88,
    "start_time": "2023-06-12T10:49:40.879Z"
   },
   {
    "duration": 85,
    "start_time": "2023-06-12T10:50:38.760Z"
   },
   {
    "duration": 80,
    "start_time": "2023-06-12T10:50:47.445Z"
   },
   {
    "duration": 58,
    "start_time": "2023-06-12T11:32:32.713Z"
   },
   {
    "duration": 185,
    "start_time": "2023-06-12T11:35:19.396Z"
   },
   {
    "duration": 109,
    "start_time": "2023-06-12T11:35:30.663Z"
   },
   {
    "duration": 168,
    "start_time": "2023-06-12T11:37:49.194Z"
   },
   {
    "duration": 190,
    "start_time": "2023-06-12T11:39:52.982Z"
   },
   {
    "duration": 0,
    "start_time": "2023-06-12T11:40:13.949Z"
   },
   {
    "duration": 4303,
    "start_time": "2023-06-12T11:40:38.110Z"
   },
   {
    "duration": 3579,
    "start_time": "2023-06-12T11:40:45.230Z"
   },
   {
    "duration": 3680,
    "start_time": "2023-06-12T11:41:10.805Z"
   },
   {
    "duration": 324,
    "start_time": "2023-06-12T11:41:32.193Z"
   },
   {
    "duration": 348,
    "start_time": "2023-06-12T11:41:56.841Z"
   },
   {
    "duration": 307,
    "start_time": "2023-06-12T11:42:23.088Z"
   },
   {
    "duration": 261,
    "start_time": "2023-06-12T11:44:35.393Z"
   },
   {
    "duration": 403,
    "start_time": "2023-06-12T11:44:57.366Z"
   },
   {
    "duration": 3265,
    "start_time": "2023-06-12T11:47:20.870Z"
   },
   {
    "duration": 6212,
    "start_time": "2023-06-12T11:48:27.778Z"
   },
   {
    "duration": 6867,
    "start_time": "2023-06-12T11:49:11.174Z"
   },
   {
    "duration": 3534,
    "start_time": "2023-06-12T11:49:46.231Z"
   },
   {
    "duration": 3436,
    "start_time": "2023-06-12T11:50:07.313Z"
   },
   {
    "duration": 1834,
    "start_time": "2023-06-12T11:50:20.607Z"
   },
   {
    "duration": 451,
    "start_time": "2023-06-12T11:50:22.442Z"
   },
   {
    "duration": 39,
    "start_time": "2023-06-12T11:50:22.894Z"
   },
   {
    "duration": 117,
    "start_time": "2023-06-12T11:50:22.935Z"
   },
   {
    "duration": 140,
    "start_time": "2023-06-12T11:50:23.058Z"
   },
   {
    "duration": 161,
    "start_time": "2023-06-12T11:50:23.206Z"
   },
   {
    "duration": 121,
    "start_time": "2023-06-12T11:50:23.372Z"
   },
   {
    "duration": 132,
    "start_time": "2023-06-12T11:50:23.497Z"
   },
   {
    "duration": 319,
    "start_time": "2023-06-12T11:50:23.634Z"
   },
   {
    "duration": 36,
    "start_time": "2023-06-12T11:50:23.961Z"
   },
   {
    "duration": 182,
    "start_time": "2023-06-12T11:50:23.999Z"
   },
   {
    "duration": 246,
    "start_time": "2023-06-12T11:50:24.183Z"
   },
   {
    "duration": 113,
    "start_time": "2023-06-12T11:50:24.434Z"
   },
   {
    "duration": 228,
    "start_time": "2023-06-12T11:50:24.553Z"
   },
   {
    "duration": 78,
    "start_time": "2023-06-12T11:50:24.798Z"
   },
   {
    "duration": 226,
    "start_time": "2023-06-12T11:50:24.877Z"
   },
   {
    "duration": 337,
    "start_time": "2023-06-12T11:50:25.108Z"
   },
   {
    "duration": 22,
    "start_time": "2023-06-12T11:50:25.450Z"
   },
   {
    "duration": 395,
    "start_time": "2023-06-12T11:50:25.478Z"
   },
   {
    "duration": 30,
    "start_time": "2023-06-12T11:50:25.879Z"
   },
   {
    "duration": 429,
    "start_time": "2023-06-12T11:50:25.914Z"
   },
   {
    "duration": 61,
    "start_time": "2023-06-12T11:50:26.352Z"
   },
   {
    "duration": 380,
    "start_time": "2023-06-12T11:50:26.418Z"
   },
   {
    "duration": 70,
    "start_time": "2023-06-12T11:50:26.803Z"
   },
   {
    "duration": 499,
    "start_time": "2023-06-12T11:50:26.878Z"
   },
   {
    "duration": 27,
    "start_time": "2023-06-12T11:50:27.382Z"
   },
   {
    "duration": 290,
    "start_time": "2023-06-12T11:50:27.426Z"
   },
   {
    "duration": 298,
    "start_time": "2023-06-12T11:50:27.723Z"
   },
   {
    "duration": 4691,
    "start_time": "2023-06-12T11:53:12.414Z"
   },
   {
    "duration": 303,
    "start_time": "2023-06-12T11:54:26.275Z"
   },
   {
    "duration": 302,
    "start_time": "2023-06-12T11:57:41.899Z"
   },
   {
    "duration": 1754,
    "start_time": "2023-06-12T11:57:50.339Z"
   },
   {
    "duration": 499,
    "start_time": "2023-06-12T11:57:52.094Z"
   },
   {
    "duration": 18,
    "start_time": "2023-06-12T11:57:52.595Z"
   },
   {
    "duration": 79,
    "start_time": "2023-06-12T11:57:52.625Z"
   },
   {
    "duration": 24,
    "start_time": "2023-06-12T11:57:52.707Z"
   },
   {
    "duration": 156,
    "start_time": "2023-06-12T11:57:52.737Z"
   },
   {
    "duration": 13,
    "start_time": "2023-06-12T11:57:52.898Z"
   },
   {
    "duration": 78,
    "start_time": "2023-06-12T11:57:52.912Z"
   },
   {
    "duration": 113,
    "start_time": "2023-06-12T11:57:52.997Z"
   },
   {
    "duration": 44,
    "start_time": "2023-06-12T11:57:53.113Z"
   },
   {
    "duration": 51,
    "start_time": "2023-06-12T11:57:53.161Z"
   },
   {
    "duration": 121,
    "start_time": "2023-06-12T11:57:53.214Z"
   },
   {
    "duration": 109,
    "start_time": "2023-06-12T11:57:53.340Z"
   },
   {
    "duration": 104,
    "start_time": "2023-06-12T11:57:53.465Z"
   },
   {
    "duration": 47,
    "start_time": "2023-06-12T11:57:53.574Z"
   },
   {
    "duration": 123,
    "start_time": "2023-06-12T11:57:53.630Z"
   },
   {
    "duration": 235,
    "start_time": "2023-06-12T11:57:53.758Z"
   },
   {
    "duration": 40,
    "start_time": "2023-06-12T11:57:53.998Z"
   },
   {
    "duration": 230,
    "start_time": "2023-06-12T11:57:54.043Z"
   },
   {
    "duration": 23,
    "start_time": "2023-06-12T11:57:54.278Z"
   },
   {
    "duration": 397,
    "start_time": "2023-06-12T11:57:54.306Z"
   },
   {
    "duration": 72,
    "start_time": "2023-06-12T11:57:54.709Z"
   },
   {
    "duration": 279,
    "start_time": "2023-06-12T11:57:54.786Z"
   },
   {
    "duration": 54,
    "start_time": "2023-06-12T11:57:55.074Z"
   },
   {
    "duration": 231,
    "start_time": "2023-06-12T11:57:55.134Z"
   },
   {
    "duration": 22,
    "start_time": "2023-06-12T11:57:55.370Z"
   },
   {
    "duration": 247,
    "start_time": "2023-06-12T11:57:55.396Z"
   },
   {
    "duration": 213,
    "start_time": "2023-06-12T11:57:55.652Z"
   },
   {
    "duration": 4346,
    "start_time": "2023-06-12T11:58:28.935Z"
   },
   {
    "duration": 198,
    "start_time": "2023-06-12T11:59:36.359Z"
   },
   {
    "duration": 1507,
    "start_time": "2023-06-12T11:59:49.446Z"
   },
   {
    "duration": 368,
    "start_time": "2023-06-12T11:59:50.954Z"
   },
   {
    "duration": 41,
    "start_time": "2023-06-12T11:59:51.325Z"
   },
   {
    "duration": 30,
    "start_time": "2023-06-12T11:59:51.372Z"
   },
   {
    "duration": 90,
    "start_time": "2023-06-12T11:59:51.404Z"
   },
   {
    "duration": 86,
    "start_time": "2023-06-12T11:59:51.496Z"
   },
   {
    "duration": 49,
    "start_time": "2023-06-12T11:59:51.584Z"
   },
   {
    "duration": 75,
    "start_time": "2023-06-12T11:59:51.637Z"
   },
   {
    "duration": 183,
    "start_time": "2023-06-12T11:59:51.714Z"
   },
   {
    "duration": 9,
    "start_time": "2023-06-12T11:59:51.902Z"
   },
   {
    "duration": 97,
    "start_time": "2023-06-12T11:59:51.913Z"
   },
   {
    "duration": 162,
    "start_time": "2023-06-12T11:59:52.011Z"
   },
   {
    "duration": 15,
    "start_time": "2023-06-12T11:59:52.174Z"
   },
   {
    "duration": 77,
    "start_time": "2023-06-12T11:59:52.194Z"
   },
   {
    "duration": 35,
    "start_time": "2023-06-12T11:59:52.273Z"
   },
   {
    "duration": 159,
    "start_time": "2023-06-12T11:59:52.310Z"
   },
   {
    "duration": 232,
    "start_time": "2023-06-12T11:59:52.470Z"
   },
   {
    "duration": 41,
    "start_time": "2023-06-12T11:59:52.704Z"
   },
   {
    "duration": 261,
    "start_time": "2023-06-12T11:59:52.746Z"
   },
   {
    "duration": 32,
    "start_time": "2023-06-12T11:59:53.009Z"
   },
   {
    "duration": 241,
    "start_time": "2023-06-12T11:59:53.042Z"
   },
   {
    "duration": 33,
    "start_time": "2023-06-12T11:59:53.284Z"
   },
   {
    "duration": 251,
    "start_time": "2023-06-12T11:59:53.329Z"
   },
   {
    "duration": 43,
    "start_time": "2023-06-12T11:59:53.582Z"
   },
   {
    "duration": 211,
    "start_time": "2023-06-12T11:59:53.638Z"
   },
   {
    "duration": 20,
    "start_time": "2023-06-12T11:59:53.853Z"
   },
   {
    "duration": 160,
    "start_time": "2023-06-12T11:59:53.881Z"
   },
   {
    "duration": 199,
    "start_time": "2023-06-12T11:59:54.045Z"
   },
   {
    "duration": 405,
    "start_time": "2023-06-12T12:03:43.508Z"
   },
   {
    "duration": 2429,
    "start_time": "2023-06-12T12:03:56.930Z"
   },
   {
    "duration": 745,
    "start_time": "2023-06-12T12:03:59.365Z"
   },
   {
    "duration": 42,
    "start_time": "2023-06-12T12:04:00.115Z"
   },
   {
    "duration": 192,
    "start_time": "2023-06-12T12:04:00.172Z"
   },
   {
    "duration": 230,
    "start_time": "2023-06-12T12:04:00.375Z"
   },
   {
    "duration": 306,
    "start_time": "2023-06-12T12:04:00.611Z"
   },
   {
    "duration": 145,
    "start_time": "2023-06-12T12:04:00.931Z"
   },
   {
    "duration": 220,
    "start_time": "2023-06-12T12:04:01.086Z"
   },
   {
    "duration": 346,
    "start_time": "2023-06-12T12:04:01.317Z"
   },
   {
    "duration": 130,
    "start_time": "2023-06-12T12:04:01.669Z"
   },
   {
    "duration": 409,
    "start_time": "2023-06-12T12:04:01.808Z"
   },
   {
    "duration": 370,
    "start_time": "2023-06-12T12:04:02.223Z"
   },
   {
    "duration": 93,
    "start_time": "2023-06-12T12:04:02.602Z"
   },
   {
    "duration": 275,
    "start_time": "2023-06-12T12:04:02.704Z"
   },
   {
    "duration": 170,
    "start_time": "2023-06-12T12:04:02.987Z"
   },
   {
    "duration": 267,
    "start_time": "2023-06-12T12:04:03.163Z"
   },
   {
    "duration": 436,
    "start_time": "2023-06-12T12:04:03.437Z"
   },
   {
    "duration": 30,
    "start_time": "2023-06-12T12:04:03.879Z"
   },
   {
    "duration": 472,
    "start_time": "2023-06-12T12:04:03.921Z"
   },
   {
    "duration": 30,
    "start_time": "2023-06-12T12:04:04.399Z"
   },
   {
    "duration": 592,
    "start_time": "2023-06-12T12:04:04.441Z"
   },
   {
    "duration": 52,
    "start_time": "2023-06-12T12:04:05.039Z"
   },
   {
    "duration": 444,
    "start_time": "2023-06-12T12:04:05.097Z"
   },
   {
    "duration": 90,
    "start_time": "2023-06-12T12:04:05.542Z"
   },
   {
    "duration": 486,
    "start_time": "2023-06-12T12:04:05.638Z"
   },
   {
    "duration": 20,
    "start_time": "2023-06-12T12:04:06.136Z"
   },
   {
    "duration": 324,
    "start_time": "2023-06-12T12:04:06.161Z"
   },
   {
    "duration": 492,
    "start_time": "2023-06-12T12:04:06.491Z"
   },
   {
    "duration": 506,
    "start_time": "2023-06-12T12:04:31.681Z"
   },
   {
    "duration": 251,
    "start_time": "2023-06-12T12:05:42.724Z"
   },
   {
    "duration": 1762,
    "start_time": "2023-06-12T12:05:52.523Z"
   },
   {
    "duration": 512,
    "start_time": "2023-06-12T12:05:54.287Z"
   },
   {
    "duration": 26,
    "start_time": "2023-06-12T12:05:54.801Z"
   },
   {
    "duration": 241,
    "start_time": "2023-06-12T12:05:54.831Z"
   },
   {
    "duration": 168,
    "start_time": "2023-06-12T12:05:55.082Z"
   },
   {
    "duration": 176,
    "start_time": "2023-06-12T12:05:55.256Z"
   },
   {
    "duration": 131,
    "start_time": "2023-06-12T12:05:55.441Z"
   },
   {
    "duration": 123,
    "start_time": "2023-06-12T12:05:55.577Z"
   },
   {
    "duration": 347,
    "start_time": "2023-06-12T12:05:55.706Z"
   },
   {
    "duration": 48,
    "start_time": "2023-06-12T12:05:56.062Z"
   },
   {
    "duration": 191,
    "start_time": "2023-06-12T12:05:56.115Z"
   },
   {
    "duration": 439,
    "start_time": "2023-06-12T12:05:56.311Z"
   },
   {
    "duration": 38,
    "start_time": "2023-06-12T12:05:56.759Z"
   },
   {
    "duration": 278,
    "start_time": "2023-06-12T12:05:56.804Z"
   },
   {
    "duration": 171,
    "start_time": "2023-06-12T12:05:57.088Z"
   },
   {
    "duration": 240,
    "start_time": "2023-06-12T12:05:57.265Z"
   },
   {
    "duration": 542,
    "start_time": "2023-06-12T12:05:57.511Z"
   },
   {
    "duration": 26,
    "start_time": "2023-06-12T12:05:58.055Z"
   },
   {
    "duration": 517,
    "start_time": "2023-06-12T12:05:58.084Z"
   },
   {
    "duration": 16,
    "start_time": "2023-06-12T12:05:58.603Z"
   },
   {
    "duration": 500,
    "start_time": "2023-06-12T12:05:58.625Z"
   },
   {
    "duration": 63,
    "start_time": "2023-06-12T12:05:59.127Z"
   },
   {
    "duration": 455,
    "start_time": "2023-06-12T12:05:59.192Z"
   },
   {
    "duration": 71,
    "start_time": "2023-06-12T12:05:59.649Z"
   },
   {
    "duration": 428,
    "start_time": "2023-06-12T12:05:59.724Z"
   },
   {
    "duration": 35,
    "start_time": "2023-06-12T12:06:00.174Z"
   },
   {
    "duration": 122,
    "start_time": "2023-06-12T12:06:00.211Z"
   },
   {
    "duration": 327,
    "start_time": "2023-06-12T12:06:00.342Z"
   },
   {
    "duration": 4505,
    "start_time": "2023-06-12T12:06:32.024Z"
   },
   {
    "duration": 1913,
    "start_time": "2023-06-12T12:07:00.684Z"
   },
   {
    "duration": 511,
    "start_time": "2023-06-12T12:07:02.602Z"
   },
   {
    "duration": 34,
    "start_time": "2023-06-12T12:07:03.122Z"
   },
   {
    "duration": 124,
    "start_time": "2023-06-12T12:07:03.161Z"
   },
   {
    "duration": 153,
    "start_time": "2023-06-12T12:07:03.300Z"
   },
   {
    "duration": 217,
    "start_time": "2023-06-12T12:07:03.457Z"
   },
   {
    "duration": 70,
    "start_time": "2023-06-12T12:07:03.679Z"
   },
   {
    "duration": 123,
    "start_time": "2023-06-12T12:07:03.754Z"
   },
   {
    "duration": 219,
    "start_time": "2023-06-12T12:07:03.894Z"
   },
   {
    "duration": 24,
    "start_time": "2023-06-12T12:07:04.117Z"
   },
   {
    "duration": 175,
    "start_time": "2023-06-12T12:07:04.146Z"
   },
   {
    "duration": 291,
    "start_time": "2023-06-12T12:07:04.326Z"
   },
   {
    "duration": 37,
    "start_time": "2023-06-12T12:07:04.624Z"
   },
   {
    "duration": 148,
    "start_time": "2023-06-12T12:07:04.672Z"
   },
   {
    "duration": 71,
    "start_time": "2023-06-12T12:07:04.830Z"
   },
   {
    "duration": 236,
    "start_time": "2023-06-12T12:07:04.909Z"
   },
   {
    "duration": 484,
    "start_time": "2023-06-12T12:07:05.149Z"
   },
   {
    "duration": 32,
    "start_time": "2023-06-12T12:07:05.645Z"
   },
   {
    "duration": 307,
    "start_time": "2023-06-12T12:07:05.687Z"
   },
   {
    "duration": 26,
    "start_time": "2023-06-12T12:07:05.999Z"
   },
   {
    "duration": 463,
    "start_time": "2023-06-12T12:07:06.034Z"
   },
   {
    "duration": 60,
    "start_time": "2023-06-12T12:07:06.505Z"
   },
   {
    "duration": 326,
    "start_time": "2023-06-12T12:07:06.578Z"
   },
   {
    "duration": 76,
    "start_time": "2023-06-12T12:07:06.913Z"
   },
   {
    "duration": 524,
    "start_time": "2023-06-12T12:07:06.993Z"
   },
   {
    "duration": 26,
    "start_time": "2023-06-12T12:07:07.519Z"
   },
   {
    "duration": 330,
    "start_time": "2023-06-12T12:07:07.547Z"
   },
   {
    "duration": 245,
    "start_time": "2023-06-12T12:07:07.885Z"
   },
   {
    "duration": 4102,
    "start_time": "2023-06-12T12:09:26.483Z"
   },
   {
    "duration": 2371,
    "start_time": "2023-06-12T12:09:40.853Z"
   },
   {
    "duration": 604,
    "start_time": "2023-06-12T12:09:43.229Z"
   },
   {
    "duration": 31,
    "start_time": "2023-06-12T12:09:43.838Z"
   },
   {
    "duration": 118,
    "start_time": "2023-06-12T12:09:43.875Z"
   },
   {
    "duration": 157,
    "start_time": "2023-06-12T12:09:44.003Z"
   },
   {
    "duration": 279,
    "start_time": "2023-06-12T12:09:44.173Z"
   },
   {
    "duration": 70,
    "start_time": "2023-06-12T12:09:44.461Z"
   },
   {
    "duration": 32,
    "start_time": "2023-06-12T12:09:44.537Z"
   },
   {
    "duration": 159,
    "start_time": "2023-06-12T12:09:44.575Z"
   },
   {
    "duration": 87,
    "start_time": "2023-06-12T12:09:44.742Z"
   },
   {
    "duration": 159,
    "start_time": "2023-06-12T12:09:44.838Z"
   },
   {
    "duration": 358,
    "start_time": "2023-06-12T12:09:44.999Z"
   },
   {
    "duration": 96,
    "start_time": "2023-06-12T12:09:45.373Z"
   },
   {
    "duration": 207,
    "start_time": "2023-06-12T12:09:45.474Z"
   },
   {
    "duration": 150,
    "start_time": "2023-06-12T12:09:45.683Z"
   },
   {
    "duration": 250,
    "start_time": "2023-06-12T12:09:45.835Z"
   },
   {
    "duration": 468,
    "start_time": "2023-06-12T12:09:46.090Z"
   },
   {
    "duration": 31,
    "start_time": "2023-06-12T12:09:46.570Z"
   },
   {
    "duration": 562,
    "start_time": "2023-06-12T12:09:46.607Z"
   },
   {
    "duration": 38,
    "start_time": "2023-06-12T12:09:47.175Z"
   },
   {
    "duration": 438,
    "start_time": "2023-06-12T12:09:47.219Z"
   },
   {
    "duration": 54,
    "start_time": "2023-06-12T12:09:47.667Z"
   },
   {
    "duration": 383,
    "start_time": "2023-06-12T12:09:47.730Z"
   },
   {
    "duration": 78,
    "start_time": "2023-06-12T12:09:48.119Z"
   },
   {
    "duration": 427,
    "start_time": "2023-06-12T12:09:48.202Z"
   },
   {
    "duration": 43,
    "start_time": "2023-06-12T12:09:48.634Z"
   },
   {
    "duration": 304,
    "start_time": "2023-06-12T12:09:48.685Z"
   },
   {
    "duration": 369,
    "start_time": "2023-06-12T12:09:49.000Z"
   },
   {
    "duration": 117,
    "start_time": "2023-06-12T12:15:31.612Z"
   },
   {
    "duration": 212,
    "start_time": "2023-06-12T12:19:20.225Z"
   },
   {
    "duration": 1797,
    "start_time": "2023-06-12T12:19:50.310Z"
   },
   {
    "duration": 491,
    "start_time": "2023-06-12T12:19:52.111Z"
   },
   {
    "duration": 40,
    "start_time": "2023-06-12T12:19:52.604Z"
   },
   {
    "duration": 66,
    "start_time": "2023-06-12T12:19:52.646Z"
   },
   {
    "duration": 120,
    "start_time": "2023-06-12T12:19:52.729Z"
   },
   {
    "duration": 90,
    "start_time": "2023-06-12T12:19:52.851Z"
   },
   {
    "duration": 68,
    "start_time": "2023-06-12T12:19:52.942Z"
   },
   {
    "duration": 92,
    "start_time": "2023-06-12T12:19:53.012Z"
   },
   {
    "duration": 126,
    "start_time": "2023-06-12T12:19:53.105Z"
   },
   {
    "duration": 22,
    "start_time": "2023-06-12T12:19:53.233Z"
   },
   {
    "duration": 51,
    "start_time": "2023-06-12T12:19:53.261Z"
   },
   {
    "duration": 287,
    "start_time": "2023-06-12T12:19:53.314Z"
   },
   {
    "duration": 11,
    "start_time": "2023-06-12T12:19:53.603Z"
   },
   {
    "duration": 205,
    "start_time": "2023-06-12T12:19:53.616Z"
   },
   {
    "duration": 19,
    "start_time": "2023-06-12T12:19:53.823Z"
   },
   {
    "duration": 248,
    "start_time": "2023-06-12T12:19:53.843Z"
   },
   {
    "duration": 300,
    "start_time": "2023-06-12T12:19:54.093Z"
   },
   {
    "duration": 14,
    "start_time": "2023-06-12T12:19:54.396Z"
   },
   {
    "duration": 401,
    "start_time": "2023-06-12T12:19:54.411Z"
   },
   {
    "duration": 42,
    "start_time": "2023-06-12T12:19:54.823Z"
   },
   {
    "duration": 272,
    "start_time": "2023-06-12T12:19:54.872Z"
   },
   {
    "duration": 46,
    "start_time": "2023-06-12T12:19:55.146Z"
   },
   {
    "duration": 431,
    "start_time": "2023-06-12T12:19:55.206Z"
   },
   {
    "duration": 59,
    "start_time": "2023-06-12T12:19:55.639Z"
   },
   {
    "duration": 407,
    "start_time": "2023-06-12T12:19:55.699Z"
   },
   {
    "duration": 28,
    "start_time": "2023-06-12T12:19:56.108Z"
   },
   {
    "duration": 203,
    "start_time": "2023-06-12T12:19:56.138Z"
   },
   {
    "duration": 210,
    "start_time": "2023-06-12T12:19:56.343Z"
   },
   {
    "duration": 112,
    "start_time": "2023-06-12T12:19:56.559Z"
   },
   {
    "duration": 200,
    "start_time": "2023-06-12T12:20:24.085Z"
   },
   {
    "duration": 1531,
    "start_time": "2023-06-12T12:20:29.966Z"
   },
   {
    "duration": 474,
    "start_time": "2023-06-12T12:20:31.500Z"
   },
   {
    "duration": 23,
    "start_time": "2023-06-12T12:20:31.982Z"
   },
   {
    "duration": 99,
    "start_time": "2023-06-12T12:20:32.007Z"
   },
   {
    "duration": 138,
    "start_time": "2023-06-12T12:20:32.109Z"
   },
   {
    "duration": 204,
    "start_time": "2023-06-12T12:20:32.249Z"
   },
   {
    "duration": 105,
    "start_time": "2023-06-12T12:20:32.455Z"
   },
   {
    "duration": 164,
    "start_time": "2023-06-12T12:20:32.565Z"
   },
   {
    "duration": 227,
    "start_time": "2023-06-12T12:20:32.734Z"
   },
   {
    "duration": 17,
    "start_time": "2023-06-12T12:20:32.967Z"
   },
   {
    "duration": 202,
    "start_time": "2023-06-12T12:20:32.990Z"
   },
   {
    "duration": 144,
    "start_time": "2023-06-12T12:20:33.193Z"
   },
   {
    "duration": 35,
    "start_time": "2023-06-12T12:20:33.339Z"
   },
   {
    "duration": 103,
    "start_time": "2023-06-12T12:20:33.378Z"
   },
   {
    "duration": 24,
    "start_time": "2023-06-12T12:20:33.489Z"
   },
   {
    "duration": 127,
    "start_time": "2023-06-12T12:20:33.515Z"
   },
   {
    "duration": 251,
    "start_time": "2023-06-12T12:20:33.644Z"
   },
   {
    "duration": 20,
    "start_time": "2023-06-12T12:20:33.901Z"
   },
   {
    "duration": 309,
    "start_time": "2023-06-12T12:20:33.927Z"
   },
   {
    "duration": 16,
    "start_time": "2023-06-12T12:20:34.250Z"
   },
   {
    "duration": 301,
    "start_time": "2023-06-12T12:20:34.268Z"
   },
   {
    "duration": 35,
    "start_time": "2023-06-12T12:20:34.573Z"
   },
   {
    "duration": 221,
    "start_time": "2023-06-12T12:20:34.610Z"
   },
   {
    "duration": 61,
    "start_time": "2023-06-12T12:20:34.835Z"
   },
   {
    "duration": 193,
    "start_time": "2023-06-12T12:20:34.898Z"
   },
   {
    "duration": 72,
    "start_time": "2023-06-12T12:20:35.093Z"
   },
   {
    "duration": 91,
    "start_time": "2023-06-12T12:20:35.167Z"
   },
   {
    "duration": 178,
    "start_time": "2023-06-12T12:20:35.263Z"
   },
   {
    "duration": 92,
    "start_time": "2023-06-12T12:20:35.447Z"
   },
   {
    "duration": 3515,
    "start_time": "2023-06-12T12:22:29.366Z"
   },
   {
    "duration": 148,
    "start_time": "2023-06-12T12:22:45.146Z"
   },
   {
    "duration": 1341,
    "start_time": "2023-06-12T12:22:51.149Z"
   },
   {
    "duration": 392,
    "start_time": "2023-06-12T12:22:52.492Z"
   },
   {
    "duration": 17,
    "start_time": "2023-06-12T12:22:52.888Z"
   },
   {
    "duration": 18,
    "start_time": "2023-06-12T12:22:52.906Z"
   },
   {
    "duration": 65,
    "start_time": "2023-06-12T12:22:52.926Z"
   },
   {
    "duration": 76,
    "start_time": "2023-06-12T12:22:52.993Z"
   },
   {
    "duration": 25,
    "start_time": "2023-06-12T12:22:53.074Z"
   },
   {
    "duration": 27,
    "start_time": "2023-06-12T12:22:53.101Z"
   },
   {
    "duration": 140,
    "start_time": "2023-06-12T12:22:53.130Z"
   },
   {
    "duration": 10,
    "start_time": "2023-06-12T12:22:53.279Z"
   },
   {
    "duration": 6,
    "start_time": "2023-06-12T12:22:53.291Z"
   },
   {
    "duration": 94,
    "start_time": "2023-06-12T12:22:53.298Z"
   },
   {
    "duration": 10,
    "start_time": "2023-06-12T12:22:53.393Z"
   },
   {
    "duration": 104,
    "start_time": "2023-06-12T12:22:53.406Z"
   },
   {
    "duration": 29,
    "start_time": "2023-06-12T12:22:53.512Z"
   },
   {
    "duration": 95,
    "start_time": "2023-06-12T12:22:53.542Z"
   },
   {
    "duration": 219,
    "start_time": "2023-06-12T12:22:53.640Z"
   },
   {
    "duration": 13,
    "start_time": "2023-06-12T12:22:53.860Z"
   },
   {
    "duration": 224,
    "start_time": "2023-06-12T12:22:53.879Z"
   },
   {
    "duration": 20,
    "start_time": "2023-06-12T12:22:54.105Z"
   },
   {
    "duration": 290,
    "start_time": "2023-06-12T12:22:54.129Z"
   },
   {
    "duration": 38,
    "start_time": "2023-06-12T12:22:54.421Z"
   },
   {
    "duration": 193,
    "start_time": "2023-06-12T12:22:54.461Z"
   },
   {
    "duration": 42,
    "start_time": "2023-06-12T12:22:54.658Z"
   },
   {
    "duration": 202,
    "start_time": "2023-06-12T12:22:54.702Z"
   },
   {
    "duration": 33,
    "start_time": "2023-06-12T12:22:54.906Z"
   },
   {
    "duration": 113,
    "start_time": "2023-06-12T12:22:54.948Z"
   },
   {
    "duration": 121,
    "start_time": "2023-06-12T12:22:55.062Z"
   },
   {
    "duration": 100,
    "start_time": "2023-06-12T12:22:55.185Z"
   },
   {
    "duration": 1794,
    "start_time": "2023-06-12T12:24:14.796Z"
   },
   {
    "duration": 485,
    "start_time": "2023-06-12T12:24:16.592Z"
   },
   {
    "duration": 17,
    "start_time": "2023-06-12T12:24:17.079Z"
   },
   {
    "duration": 40,
    "start_time": "2023-06-12T12:24:17.098Z"
   },
   {
    "duration": 89,
    "start_time": "2023-06-12T12:24:17.148Z"
   },
   {
    "duration": 103,
    "start_time": "2023-06-12T12:24:17.242Z"
   },
   {
    "duration": 73,
    "start_time": "2023-06-12T12:24:17.354Z"
   },
   {
    "duration": 67,
    "start_time": "2023-06-12T12:24:17.432Z"
   },
   {
    "duration": 99,
    "start_time": "2023-06-12T12:24:17.501Z"
   },
   {
    "duration": 10,
    "start_time": "2023-06-12T12:24:17.602Z"
   },
   {
    "duration": 20,
    "start_time": "2023-06-12T12:24:17.614Z"
   },
   {
    "duration": 175,
    "start_time": "2023-06-12T12:24:17.636Z"
   },
   {
    "duration": 57,
    "start_time": "2023-06-12T12:24:17.812Z"
   },
   {
    "duration": 80,
    "start_time": "2023-06-12T12:24:17.879Z"
   },
   {
    "duration": 45,
    "start_time": "2023-06-12T12:24:17.960Z"
   },
   {
    "duration": 144,
    "start_time": "2023-06-12T12:24:18.007Z"
   },
   {
    "duration": 367,
    "start_time": "2023-06-12T12:24:18.156Z"
   },
   {
    "duration": 19,
    "start_time": "2023-06-12T12:24:18.533Z"
   },
   {
    "duration": 322,
    "start_time": "2023-06-12T12:24:18.558Z"
   },
   {
    "duration": 23,
    "start_time": "2023-06-12T12:24:18.890Z"
   },
   {
    "duration": 368,
    "start_time": "2023-06-12T12:24:18.917Z"
   },
   {
    "duration": 46,
    "start_time": "2023-06-12T12:24:19.287Z"
   },
   {
    "duration": 247,
    "start_time": "2023-06-12T12:24:19.334Z"
   },
   {
    "duration": 98,
    "start_time": "2023-06-12T12:24:19.583Z"
   },
   {
    "duration": 326,
    "start_time": "2023-06-12T12:24:19.683Z"
   },
   {
    "duration": 28,
    "start_time": "2023-06-12T12:24:20.013Z"
   },
   {
    "duration": 239,
    "start_time": "2023-06-12T12:24:20.046Z"
   },
   {
    "duration": 142,
    "start_time": "2023-06-12T12:24:20.290Z"
   },
   {
    "duration": 112,
    "start_time": "2023-06-12T12:24:20.434Z"
   },
   {
    "duration": 1999,
    "start_time": "2023-06-12T12:28:48.750Z"
   },
   {
    "duration": 479,
    "start_time": "2023-06-12T12:28:50.758Z"
   },
   {
    "duration": 30,
    "start_time": "2023-06-12T12:28:51.249Z"
   },
   {
    "duration": 180,
    "start_time": "2023-06-12T12:28:51.281Z"
   },
   {
    "duration": 248,
    "start_time": "2023-06-12T12:28:51.477Z"
   },
   {
    "duration": 258,
    "start_time": "2023-06-12T12:28:51.727Z"
   },
   {
    "duration": 156,
    "start_time": "2023-06-12T12:28:51.990Z"
   },
   {
    "duration": 215,
    "start_time": "2023-06-12T12:28:52.150Z"
   },
   {
    "duration": 284,
    "start_time": "2023-06-12T12:28:52.373Z"
   },
   {
    "duration": 69,
    "start_time": "2023-06-12T12:28:52.664Z"
   },
   {
    "duration": 187,
    "start_time": "2023-06-12T12:28:52.746Z"
   },
   {
    "duration": 319,
    "start_time": "2023-06-12T12:28:52.946Z"
   },
   {
    "duration": 114,
    "start_time": "2023-06-12T12:28:53.267Z"
   },
   {
    "duration": 287,
    "start_time": "2023-06-12T12:28:53.382Z"
   },
   {
    "duration": 162,
    "start_time": "2023-06-12T12:28:53.671Z"
   },
   {
    "duration": 290,
    "start_time": "2023-06-12T12:28:53.835Z"
   },
   {
    "duration": 460,
    "start_time": "2023-06-12T12:28:54.127Z"
   },
   {
    "duration": 32,
    "start_time": "2023-06-12T12:28:54.589Z"
   },
   {
    "duration": 490,
    "start_time": "2023-06-12T12:28:54.623Z"
   },
   {
    "duration": 29,
    "start_time": "2023-06-12T12:28:55.116Z"
   },
   {
    "duration": 562,
    "start_time": "2023-06-12T12:28:55.155Z"
   },
   {
    "duration": 70,
    "start_time": "2023-06-12T12:28:55.727Z"
   },
   {
    "duration": 415,
    "start_time": "2023-06-12T12:28:55.802Z"
   },
   {
    "duration": 83,
    "start_time": "2023-06-12T12:28:56.222Z"
   },
   {
    "duration": 458,
    "start_time": "2023-06-12T12:28:56.309Z"
   },
   {
    "duration": 36,
    "start_time": "2023-06-12T12:28:56.773Z"
   },
   {
    "duration": 257,
    "start_time": "2023-06-12T12:28:56.816Z"
   },
   {
    "duration": 217,
    "start_time": "2023-06-12T12:28:57.080Z"
   },
   {
    "duration": 567,
    "start_time": "2023-06-12T12:28:57.302Z"
   },
   {
    "duration": 441,
    "start_time": "2023-06-12T12:29:13.256Z"
   },
   {
    "duration": 282,
    "start_time": "2023-06-12T12:31:13.153Z"
   },
   {
    "duration": 1734,
    "start_time": "2023-06-12T12:31:20.062Z"
   },
   {
    "duration": 398,
    "start_time": "2023-06-12T12:31:21.798Z"
   },
   {
    "duration": 19,
    "start_time": "2023-06-12T12:31:22.198Z"
   },
   {
    "duration": 45,
    "start_time": "2023-06-12T12:31:22.236Z"
   },
   {
    "duration": 16,
    "start_time": "2023-06-12T12:31:22.284Z"
   },
   {
    "duration": 102,
    "start_time": "2023-06-12T12:31:22.302Z"
   },
   {
    "duration": 92,
    "start_time": "2023-06-12T12:31:22.405Z"
   },
   {
    "duration": 32,
    "start_time": "2023-06-12T12:31:22.499Z"
   },
   {
    "duration": 152,
    "start_time": "2023-06-12T12:31:22.533Z"
   },
   {
    "duration": 15,
    "start_time": "2023-06-12T12:31:22.686Z"
   },
   {
    "duration": 9,
    "start_time": "2023-06-12T12:31:22.703Z"
   },
   {
    "duration": 197,
    "start_time": "2023-06-12T12:31:22.714Z"
   },
   {
    "duration": 22,
    "start_time": "2023-06-12T12:31:22.914Z"
   },
   {
    "duration": 131,
    "start_time": "2023-06-12T12:31:22.942Z"
   },
   {
    "duration": 34,
    "start_time": "2023-06-12T12:31:23.074Z"
   },
   {
    "duration": 109,
    "start_time": "2023-06-12T12:31:23.110Z"
   },
   {
    "duration": 190,
    "start_time": "2023-06-12T12:31:23.221Z"
   },
   {
    "duration": 43,
    "start_time": "2023-06-12T12:31:23.413Z"
   },
   {
    "duration": 230,
    "start_time": "2023-06-12T12:31:23.458Z"
   },
   {
    "duration": 11,
    "start_time": "2023-06-12T12:31:23.690Z"
   },
   {
    "duration": 297,
    "start_time": "2023-06-12T12:31:23.703Z"
   },
   {
    "duration": 71,
    "start_time": "2023-06-12T12:31:24.002Z"
   },
   {
    "duration": 252,
    "start_time": "2023-06-12T12:31:24.075Z"
   },
   {
    "duration": 53,
    "start_time": "2023-06-12T12:31:24.329Z"
   },
   {
    "duration": 294,
    "start_time": "2023-06-12T12:31:24.384Z"
   },
   {
    "duration": 18,
    "start_time": "2023-06-12T12:31:24.679Z"
   },
   {
    "duration": 101,
    "start_time": "2023-06-12T12:31:24.699Z"
   },
   {
    "duration": 167,
    "start_time": "2023-06-12T12:31:24.801Z"
   },
   {
    "duration": 522,
    "start_time": "2023-06-12T12:31:24.970Z"
   },
   {
    "duration": 327,
    "start_time": "2023-06-12T12:31:54.405Z"
   },
   {
    "duration": 454,
    "start_time": "2023-06-12T12:32:09.082Z"
   },
   {
    "duration": 454,
    "start_time": "2023-06-12T12:34:09.967Z"
   },
   {
    "duration": 517,
    "start_time": "2023-06-12T12:35:29.663Z"
   },
   {
    "duration": 538,
    "start_time": "2023-06-12T12:36:02.146Z"
   },
   {
    "duration": 43,
    "start_time": "2023-06-12T12:38:20.658Z"
   },
   {
    "duration": 65,
    "start_time": "2023-06-12T12:39:11.385Z"
   },
   {
    "duration": 51,
    "start_time": "2023-06-12T12:43:38.095Z"
   },
   {
    "duration": 33,
    "start_time": "2023-06-12T12:44:28.196Z"
   },
   {
    "duration": 39,
    "start_time": "2023-06-12T12:45:35.262Z"
   },
   {
    "duration": 61,
    "start_time": "2023-06-12T12:45:55.515Z"
   },
   {
    "duration": 42,
    "start_time": "2023-06-12T12:47:47.807Z"
   },
   {
    "duration": 50,
    "start_time": "2023-06-12T12:49:09.899Z"
   },
   {
    "duration": 26,
    "start_time": "2023-06-12T12:49:15.280Z"
   },
   {
    "duration": 26,
    "start_time": "2023-06-12T12:49:25.160Z"
   },
   {
    "duration": 7,
    "start_time": "2023-06-12T12:50:17.292Z"
   },
   {
    "duration": 7,
    "start_time": "2023-06-12T12:51:15.990Z"
   },
   {
    "duration": 1470,
    "start_time": "2023-06-12T12:51:22.869Z"
   },
   {
    "duration": 453,
    "start_time": "2023-06-12T12:51:24.341Z"
   },
   {
    "duration": 16,
    "start_time": "2023-06-12T12:51:24.795Z"
   },
   {
    "duration": 184,
    "start_time": "2023-06-12T12:51:24.812Z"
   },
   {
    "duration": 12,
    "start_time": "2023-06-12T12:51:24.998Z"
   },
   {
    "duration": 99,
    "start_time": "2023-06-12T12:51:25.011Z"
   },
   {
    "duration": 58,
    "start_time": "2023-06-12T12:51:25.111Z"
   },
   {
    "duration": 20,
    "start_time": "2023-06-12T12:51:25.170Z"
   },
   {
    "duration": 85,
    "start_time": "2023-06-12T12:51:25.192Z"
   },
   {
    "duration": 28,
    "start_time": "2023-06-12T12:51:25.283Z"
   },
   {
    "duration": 52,
    "start_time": "2023-06-12T12:51:25.313Z"
   },
   {
    "duration": 195,
    "start_time": "2023-06-12T12:51:25.366Z"
   },
   {
    "duration": 18,
    "start_time": "2023-06-12T12:51:25.563Z"
   },
   {
    "duration": 101,
    "start_time": "2023-06-12T12:51:25.584Z"
   },
   {
    "duration": 47,
    "start_time": "2023-06-12T12:51:25.687Z"
   },
   {
    "duration": 93,
    "start_time": "2023-06-12T12:51:25.736Z"
   },
   {
    "duration": 300,
    "start_time": "2023-06-12T12:51:25.838Z"
   },
   {
    "duration": 29,
    "start_time": "2023-06-12T12:51:26.155Z"
   },
   {
    "duration": 230,
    "start_time": "2023-06-12T12:51:26.192Z"
   },
   {
    "duration": 14,
    "start_time": "2023-06-12T12:51:26.427Z"
   },
   {
    "duration": 263,
    "start_time": "2023-06-12T12:51:26.445Z"
   },
   {
    "duration": 59,
    "start_time": "2023-06-12T12:51:26.710Z"
   },
   {
    "duration": 216,
    "start_time": "2023-06-12T12:51:26.770Z"
   },
   {
    "duration": 46,
    "start_time": "2023-06-12T12:51:26.988Z"
   },
   {
    "duration": 253,
    "start_time": "2023-06-12T12:51:27.036Z"
   },
   {
    "duration": 90,
    "start_time": "2023-06-12T12:51:27.291Z"
   },
   {
    "duration": 121,
    "start_time": "2023-06-12T12:51:27.382Z"
   },
   {
    "duration": 45,
    "start_time": "2023-06-12T12:51:27.505Z"
   },
   {
    "duration": 55,
    "start_time": "2023-06-12T12:51:27.552Z"
   },
   {
    "duration": 45,
    "start_time": "2023-06-12T12:51:27.608Z"
   },
   {
    "duration": 50,
    "start_time": "2023-06-12T12:51:27.654Z"
   },
   {
    "duration": 51,
    "start_time": "2023-06-12T12:57:19.882Z"
   },
   {
    "duration": 32,
    "start_time": "2023-06-12T12:57:22.951Z"
   },
   {
    "duration": 41,
    "start_time": "2023-06-12T12:57:39.796Z"
   },
   {
    "duration": 52,
    "start_time": "2023-06-12T12:58:10.246Z"
   },
   {
    "duration": 48,
    "start_time": "2023-06-12T12:58:23.905Z"
   },
   {
    "duration": 28,
    "start_time": "2023-06-12T12:59:38.254Z"
   },
   {
    "duration": 48,
    "start_time": "2023-06-12T12:59:39.507Z"
   },
   {
    "duration": 6,
    "start_time": "2023-06-12T12:59:40.485Z"
   },
   {
    "duration": 52,
    "start_time": "2023-06-12T13:11:47.508Z"
   },
   {
    "duration": 39,
    "start_time": "2023-06-12T13:12:36.264Z"
   },
   {
    "duration": 51,
    "start_time": "2023-06-12T13:13:50.658Z"
   },
   {
    "duration": 3532,
    "start_time": "2023-06-12T13:13:58.468Z"
   },
   {
    "duration": 86,
    "start_time": "2023-06-12T13:14:59.758Z"
   },
   {
    "duration": 1158,
    "start_time": "2023-06-12T13:15:06.769Z"
   },
   {
    "duration": 335,
    "start_time": "2023-06-12T13:15:07.935Z"
   },
   {
    "duration": 15,
    "start_time": "2023-06-12T13:15:08.272Z"
   },
   {
    "duration": 9,
    "start_time": "2023-06-12T13:15:08.288Z"
   },
   {
    "duration": 17,
    "start_time": "2023-06-12T13:15:08.299Z"
   },
   {
    "duration": 66,
    "start_time": "2023-06-12T13:15:08.326Z"
   },
   {
    "duration": 11,
    "start_time": "2023-06-12T13:15:08.394Z"
   },
   {
    "duration": 52,
    "start_time": "2023-06-12T13:15:08.407Z"
   },
   {
    "duration": 97,
    "start_time": "2023-06-12T13:15:08.461Z"
   },
   {
    "duration": 9,
    "start_time": "2023-06-12T13:15:08.559Z"
   },
   {
    "duration": 16,
    "start_time": "2023-06-12T13:15:08.569Z"
   },
   {
    "duration": 89,
    "start_time": "2023-06-12T13:15:08.587Z"
   },
   {
    "duration": 10,
    "start_time": "2023-06-12T13:15:08.677Z"
   },
   {
    "duration": 93,
    "start_time": "2023-06-12T13:15:08.690Z"
   },
   {
    "duration": 8,
    "start_time": "2023-06-12T13:15:08.785Z"
   },
   {
    "duration": 58,
    "start_time": "2023-06-12T13:15:08.795Z"
   },
   {
    "duration": 187,
    "start_time": "2023-06-12T13:15:08.855Z"
   },
   {
    "duration": 11,
    "start_time": "2023-06-12T13:15:09.053Z"
   },
   {
    "duration": 228,
    "start_time": "2023-06-12T13:15:09.066Z"
   },
   {
    "duration": 33,
    "start_time": "2023-06-12T13:15:09.296Z"
   },
   {
    "duration": 222,
    "start_time": "2023-06-12T13:15:09.330Z"
   },
   {
    "duration": 29,
    "start_time": "2023-06-12T13:15:09.553Z"
   },
   {
    "duration": 193,
    "start_time": "2023-06-12T13:15:09.583Z"
   },
   {
    "duration": 64,
    "start_time": "2023-06-12T13:15:09.778Z"
   },
   {
    "duration": 210,
    "start_time": "2023-06-12T13:15:09.843Z"
   },
   {
    "duration": 53,
    "start_time": "2023-06-12T13:15:10.055Z"
   },
   {
    "duration": 88,
    "start_time": "2023-06-12T13:15:10.110Z"
   },
   {
    "duration": 38,
    "start_time": "2023-06-12T13:15:10.200Z"
   },
   {
    "duration": 32,
    "start_time": "2023-06-12T13:15:10.239Z"
   },
   {
    "duration": 27,
    "start_time": "2023-06-12T13:15:10.272Z"
   },
   {
    "duration": 7,
    "start_time": "2023-06-12T13:15:10.300Z"
   },
   {
    "duration": 44,
    "start_time": "2023-06-12T13:15:42.345Z"
   },
   {
    "duration": 142,
    "start_time": "2023-06-12T13:16:29.807Z"
   },
   {
    "duration": 139,
    "start_time": "2023-06-12T14:47:06.738Z"
   },
   {
    "duration": 8,
    "start_time": "2023-06-12T14:47:25.153Z"
   },
   {
    "duration": 19,
    "start_time": "2023-06-12T14:47:28.910Z"
   },
   {
    "duration": 48,
    "start_time": "2023-06-12T14:47:55.701Z"
   },
   {
    "duration": 50,
    "start_time": "2023-06-12T14:52:52.180Z"
   },
   {
    "duration": 66,
    "start_time": "2023-06-12T14:53:45.610Z"
   },
   {
    "duration": 86,
    "start_time": "2023-06-12T14:53:51.597Z"
   },
   {
    "duration": 66,
    "start_time": "2023-06-12T14:53:59.706Z"
   },
   {
    "duration": 55,
    "start_time": "2023-06-12T14:57:59.939Z"
   },
   {
    "duration": 54,
    "start_time": "2023-06-12T14:58:20.501Z"
   },
   {
    "duration": 51,
    "start_time": "2023-06-12T14:58:45.990Z"
   },
   {
    "duration": 5,
    "start_time": "2023-06-12T14:59:08.257Z"
   },
   {
    "duration": 4,
    "start_time": "2023-06-13T09:43:30.249Z"
   },
   {
    "duration": 5,
    "start_time": "2023-06-13T09:43:34.639Z"
   },
   {
    "duration": 155,
    "start_time": "2023-06-13T09:43:34.998Z"
   },
   {
    "duration": 1299,
    "start_time": "2023-06-13T09:43:42.608Z"
   },
   {
    "duration": 745,
    "start_time": "2023-06-13T09:43:43.909Z"
   },
   {
    "duration": 11,
    "start_time": "2023-06-13T09:43:44.656Z"
   },
   {
    "duration": 7,
    "start_time": "2023-06-13T09:43:44.669Z"
   },
   {
    "duration": 19,
    "start_time": "2023-06-13T09:43:44.677Z"
   },
   {
    "duration": 32,
    "start_time": "2023-06-13T09:43:44.698Z"
   },
   {
    "duration": 10,
    "start_time": "2023-06-13T09:43:44.732Z"
   },
   {
    "duration": 16,
    "start_time": "2023-06-13T09:43:44.743Z"
   },
   {
    "duration": 67,
    "start_time": "2023-06-13T09:43:44.761Z"
   },
   {
    "duration": 9,
    "start_time": "2023-06-13T09:43:44.831Z"
   },
   {
    "duration": 10,
    "start_time": "2023-06-13T09:43:44.841Z"
   },
   {
    "duration": 64,
    "start_time": "2023-06-13T09:43:44.853Z"
   },
   {
    "duration": 11,
    "start_time": "2023-06-13T09:43:44.919Z"
   },
   {
    "duration": 43,
    "start_time": "2023-06-13T09:43:44.931Z"
   },
   {
    "duration": 9,
    "start_time": "2023-06-13T09:43:44.977Z"
   },
   {
    "duration": 39,
    "start_time": "2023-06-13T09:43:44.987Z"
   },
   {
    "duration": 255,
    "start_time": "2023-06-13T09:43:45.028Z"
   },
   {
    "duration": 12,
    "start_time": "2023-06-13T09:43:45.284Z"
   },
   {
    "duration": 151,
    "start_time": "2023-06-13T09:43:45.298Z"
   },
   {
    "duration": 8,
    "start_time": "2023-06-13T09:43:45.451Z"
   },
   {
    "duration": 183,
    "start_time": "2023-06-13T09:43:45.460Z"
   },
   {
    "duration": 23,
    "start_time": "2023-06-13T09:43:45.645Z"
   },
   {
    "duration": 145,
    "start_time": "2023-06-13T09:43:45.670Z"
   },
   {
    "duration": 38,
    "start_time": "2023-06-13T09:43:45.816Z"
   },
   {
    "duration": 162,
    "start_time": "2023-06-13T09:43:45.855Z"
   },
   {
    "duration": 57,
    "start_time": "2023-06-13T09:43:46.019Z"
   },
   {
    "duration": 89,
    "start_time": "2023-06-13T09:43:46.078Z"
   },
   {
    "duration": 32,
    "start_time": "2023-06-13T09:43:46.171Z"
   },
   {
    "duration": 30,
    "start_time": "2023-06-13T09:43:46.204Z"
   },
   {
    "duration": 25,
    "start_time": "2023-06-13T09:43:46.236Z"
   },
   {
    "duration": 6,
    "start_time": "2023-06-13T09:43:46.263Z"
   },
   {
    "duration": 79,
    "start_time": "2023-06-13T09:43:46.270Z"
   },
   {
    "duration": 31,
    "start_time": "2023-06-13T09:43:46.351Z"
   },
   {
    "duration": 4,
    "start_time": "2023-06-13T09:43:46.383Z"
   },
   {
    "duration": 10,
    "start_time": "2023-06-13T10:15:51.081Z"
   },
   {
    "duration": 1319,
    "start_time": "2023-06-13T10:16:02.109Z"
   },
   {
    "duration": 284,
    "start_time": "2023-06-13T10:16:03.430Z"
   },
   {
    "duration": 13,
    "start_time": "2023-06-13T10:16:03.716Z"
   },
   {
    "duration": 16,
    "start_time": "2023-06-13T10:16:03.731Z"
   },
   {
    "duration": 21,
    "start_time": "2023-06-13T10:16:03.750Z"
   },
   {
    "duration": 35,
    "start_time": "2023-06-13T10:16:03.772Z"
   },
   {
    "duration": 16,
    "start_time": "2023-06-13T10:16:03.809Z"
   },
   {
    "duration": 26,
    "start_time": "2023-06-13T10:16:03.826Z"
   },
   {
    "duration": 101,
    "start_time": "2023-06-13T10:16:03.855Z"
   },
   {
    "duration": 10,
    "start_time": "2023-06-13T10:16:03.958Z"
   },
   {
    "duration": 9,
    "start_time": "2023-06-13T10:16:03.970Z"
   },
   {
    "duration": 83,
    "start_time": "2023-06-13T10:16:03.981Z"
   },
   {
    "duration": 12,
    "start_time": "2023-06-13T10:16:04.066Z"
   },
   {
    "duration": 46,
    "start_time": "2023-06-13T10:16:04.082Z"
   },
   {
    "duration": 11,
    "start_time": "2023-06-13T10:16:04.129Z"
   },
   {
    "duration": 32,
    "start_time": "2023-06-13T10:16:04.142Z"
   },
   {
    "duration": 184,
    "start_time": "2023-06-13T10:16:04.175Z"
   },
   {
    "duration": 12,
    "start_time": "2023-06-13T10:16:04.360Z"
   },
   {
    "duration": 157,
    "start_time": "2023-06-13T10:16:04.373Z"
   },
   {
    "duration": 11,
    "start_time": "2023-06-13T10:16:04.531Z"
   },
   {
    "duration": 172,
    "start_time": "2023-06-13T10:16:04.543Z"
   },
   {
    "duration": 27,
    "start_time": "2023-06-13T10:16:04.718Z"
   },
   {
    "duration": 169,
    "start_time": "2023-06-13T10:16:04.747Z"
   },
   {
    "duration": 40,
    "start_time": "2023-06-13T10:16:04.917Z"
   },
   {
    "duration": 182,
    "start_time": "2023-06-13T10:16:04.959Z"
   },
   {
    "duration": 55,
    "start_time": "2023-06-13T10:16:05.142Z"
   },
   {
    "duration": 106,
    "start_time": "2023-06-13T10:16:05.199Z"
   },
   {
    "duration": 44,
    "start_time": "2023-06-13T10:16:05.315Z"
   },
   {
    "duration": 23,
    "start_time": "2023-06-13T10:16:05.360Z"
   },
   {
    "duration": 55,
    "start_time": "2023-06-13T10:16:05.385Z"
   },
   {
    "duration": 6,
    "start_time": "2023-06-13T10:16:05.442Z"
   },
   {
    "duration": 91,
    "start_time": "2023-06-13T10:16:05.450Z"
   },
   {
    "duration": 33,
    "start_time": "2023-06-13T10:16:05.543Z"
   },
   {
    "duration": 4,
    "start_time": "2023-06-13T10:16:05.578Z"
   },
   {
    "duration": 53,
    "start_time": "2023-06-13T10:18:09.137Z"
   },
   {
    "duration": 137,
    "start_time": "2023-06-13T10:18:15.510Z"
   },
   {
    "duration": 34,
    "start_time": "2023-06-13T10:27:20.032Z"
   },
   {
    "duration": 23,
    "start_time": "2023-06-13T10:27:33.519Z"
   },
   {
    "duration": 90,
    "start_time": "2023-06-13T10:28:03.304Z"
   },
   {
    "duration": 18,
    "start_time": "2023-06-13T10:28:09.298Z"
   },
   {
    "duration": 57,
    "start_time": "2023-06-13T10:28:29.881Z"
   },
   {
    "duration": 57,
    "start_time": "2023-06-13T11:48:51.988Z"
   },
   {
    "duration": 51,
    "start_time": "2023-06-13T11:49:26.145Z"
   },
   {
    "duration": 53,
    "start_time": "2023-06-13T11:49:36.601Z"
   },
   {
    "duration": 1359,
    "start_time": "2023-06-14T18:27:47.806Z"
   },
   {
    "duration": 1219,
    "start_time": "2023-06-14T18:27:49.167Z"
   },
   {
    "duration": 14,
    "start_time": "2023-06-14T18:27:50.389Z"
   },
   {
    "duration": 8,
    "start_time": "2023-06-14T18:27:50.405Z"
   },
   {
    "duration": 16,
    "start_time": "2023-06-14T18:27:50.415Z"
   },
   {
    "duration": 30,
    "start_time": "2023-06-14T18:27:50.433Z"
   },
   {
    "duration": 9,
    "start_time": "2023-06-14T18:27:50.465Z"
   },
   {
    "duration": 12,
    "start_time": "2023-06-14T18:27:50.475Z"
   },
   {
    "duration": 78,
    "start_time": "2023-06-14T18:27:50.489Z"
   },
   {
    "duration": 9,
    "start_time": "2023-06-14T18:27:50.569Z"
   },
   {
    "duration": 5,
    "start_time": "2023-06-14T18:27:50.579Z"
   },
   {
    "duration": 75,
    "start_time": "2023-06-14T18:27:50.585Z"
   },
   {
    "duration": 10,
    "start_time": "2023-06-14T18:27:50.662Z"
   },
   {
    "duration": 35,
    "start_time": "2023-06-14T18:27:50.674Z"
   },
   {
    "duration": 9,
    "start_time": "2023-06-14T18:27:50.711Z"
   },
   {
    "duration": 77,
    "start_time": "2023-06-14T18:27:50.721Z"
   },
   {
    "duration": 156,
    "start_time": "2023-06-14T18:27:50.799Z"
   },
   {
    "duration": 12,
    "start_time": "2023-06-14T18:27:50.956Z"
   },
   {
    "duration": 138,
    "start_time": "2023-06-14T18:27:50.970Z"
   },
   {
    "duration": 11,
    "start_time": "2023-06-14T18:27:51.109Z"
   },
   {
    "duration": 162,
    "start_time": "2023-06-14T18:27:51.122Z"
   },
   {
    "duration": 25,
    "start_time": "2023-06-14T18:27:51.286Z"
   },
   {
    "duration": 150,
    "start_time": "2023-06-14T18:27:51.313Z"
   },
   {
    "duration": 37,
    "start_time": "2023-06-14T18:27:51.465Z"
   },
   {
    "duration": 159,
    "start_time": "2023-06-14T18:27:51.504Z"
   },
   {
    "duration": 74,
    "start_time": "2023-06-14T18:27:51.664Z"
   },
   {
    "duration": 65,
    "start_time": "2023-06-14T18:27:51.740Z"
   },
   {
    "duration": 46,
    "start_time": "2023-06-14T18:27:51.808Z"
   },
   {
    "duration": 128,
    "start_time": "2023-06-14T18:27:51.855Z"
   },
   {
    "duration": 1,
    "start_time": "2023-06-14T18:27:51.984Z"
   },
   {
    "duration": 0,
    "start_time": "2023-06-14T18:27:51.986Z"
   },
   {
    "duration": 0,
    "start_time": "2023-06-14T18:27:51.987Z"
   },
   {
    "duration": 0,
    "start_time": "2023-06-14T18:27:51.988Z"
   },
   {
    "duration": 0,
    "start_time": "2023-06-14T18:27:51.989Z"
   },
   {
    "duration": 103,
    "start_time": "2023-06-14T18:35:31.950Z"
   },
   {
    "duration": 20,
    "start_time": "2023-06-14T18:35:38.865Z"
   },
   {
    "duration": 426,
    "start_time": "2023-06-14T18:35:39.366Z"
   },
   {
    "duration": 54,
    "start_time": "2023-06-14T18:35:41.331Z"
   },
   {
    "duration": 32,
    "start_time": "2023-06-14T18:35:42.147Z"
   },
   {
    "duration": 5,
    "start_time": "2023-06-14T18:35:43.099Z"
   },
   {
    "duration": 7,
    "start_time": "2023-06-14T18:35:54.995Z"
   },
   {
    "duration": 7,
    "start_time": "2023-06-14T18:35:59.083Z"
   },
   {
    "duration": 1394,
    "start_time": "2023-06-15T01:17:25.694Z"
   },
   {
    "duration": 661,
    "start_time": "2023-06-15T01:17:27.089Z"
   },
   {
    "duration": 15,
    "start_time": "2023-06-15T01:17:27.752Z"
   },
   {
    "duration": 27,
    "start_time": "2023-06-15T01:17:27.769Z"
   },
   {
    "duration": 23,
    "start_time": "2023-06-15T01:17:27.797Z"
   },
   {
    "duration": 110,
    "start_time": "2023-06-15T01:17:27.821Z"
   },
   {
    "duration": 27,
    "start_time": "2023-06-15T01:17:27.933Z"
   },
   {
    "duration": 32,
    "start_time": "2023-06-15T01:17:27.962Z"
   },
   {
    "duration": 59,
    "start_time": "2023-06-15T01:17:27.996Z"
   },
   {
    "duration": 9,
    "start_time": "2023-06-15T01:17:28.057Z"
   },
   {
    "duration": 10,
    "start_time": "2023-06-15T01:17:28.068Z"
   },
   {
    "duration": 97,
    "start_time": "2023-06-15T01:17:28.080Z"
   },
   {
    "duration": 11,
    "start_time": "2023-06-15T01:17:28.179Z"
   },
   {
    "duration": 62,
    "start_time": "2023-06-15T01:17:28.192Z"
   },
   {
    "duration": 9,
    "start_time": "2023-06-15T01:17:28.256Z"
   },
   {
    "duration": 65,
    "start_time": "2023-06-15T01:17:28.267Z"
   },
   {
    "duration": 147,
    "start_time": "2023-06-15T01:17:28.335Z"
   },
   {
    "duration": 13,
    "start_time": "2023-06-15T01:17:28.484Z"
   },
   {
    "duration": 153,
    "start_time": "2023-06-15T01:17:28.498Z"
   },
   {
    "duration": 11,
    "start_time": "2023-06-15T01:17:28.653Z"
   },
   {
    "duration": 165,
    "start_time": "2023-06-15T01:17:28.666Z"
   },
   {
    "duration": 25,
    "start_time": "2023-06-15T01:17:28.833Z"
   },
   {
    "duration": 141,
    "start_time": "2023-06-15T01:17:28.860Z"
   },
   {
    "duration": 49,
    "start_time": "2023-06-15T01:17:29.003Z"
   },
   {
    "duration": 155,
    "start_time": "2023-06-15T01:17:29.054Z"
   },
   {
    "duration": 85,
    "start_time": "2023-06-15T01:17:29.210Z"
   },
   {
    "duration": 134,
    "start_time": "2023-06-15T01:17:29.297Z"
   },
   {
    "duration": 35,
    "start_time": "2023-06-15T01:17:29.434Z"
   },
   {
    "duration": 138,
    "start_time": "2023-06-15T01:17:29.471Z"
   },
   {
    "duration": 0,
    "start_time": "2023-06-15T01:17:29.611Z"
   },
   {
    "duration": 0,
    "start_time": "2023-06-15T01:17:29.612Z"
   },
   {
    "duration": 0,
    "start_time": "2023-06-15T01:17:29.613Z"
   },
   {
    "duration": 0,
    "start_time": "2023-06-15T01:17:29.614Z"
   },
   {
    "duration": 0,
    "start_time": "2023-06-15T01:17:29.615Z"
   },
   {
    "duration": 1168,
    "start_time": "2023-06-15T01:18:05.150Z"
   },
   {
    "duration": 280,
    "start_time": "2023-06-15T01:18:06.319Z"
   },
   {
    "duration": 12,
    "start_time": "2023-06-15T01:18:06.601Z"
   },
   {
    "duration": 59,
    "start_time": "2023-06-15T01:18:06.615Z"
   },
   {
    "duration": 25,
    "start_time": "2023-06-15T01:18:06.676Z"
   },
   {
    "duration": 47,
    "start_time": "2023-06-15T01:18:06.702Z"
   },
   {
    "duration": 25,
    "start_time": "2023-06-15T01:18:06.751Z"
   },
   {
    "duration": 35,
    "start_time": "2023-06-15T01:18:06.778Z"
   },
   {
    "duration": 68,
    "start_time": "2023-06-15T01:18:06.815Z"
   },
   {
    "duration": 9,
    "start_time": "2023-06-15T01:18:06.885Z"
   },
   {
    "duration": 5,
    "start_time": "2023-06-15T01:18:06.895Z"
   },
   {
    "duration": 74,
    "start_time": "2023-06-15T01:18:06.901Z"
   },
   {
    "duration": 11,
    "start_time": "2023-06-15T01:18:06.977Z"
   },
   {
    "duration": 64,
    "start_time": "2023-06-15T01:18:06.989Z"
   },
   {
    "duration": 11,
    "start_time": "2023-06-15T01:18:07.055Z"
   },
   {
    "duration": 68,
    "start_time": "2023-06-15T01:18:07.067Z"
   },
   {
    "duration": 150,
    "start_time": "2023-06-15T01:18:07.137Z"
   },
   {
    "duration": 11,
    "start_time": "2023-06-15T01:18:07.288Z"
   },
   {
    "duration": 156,
    "start_time": "2023-06-15T01:18:07.301Z"
   },
   {
    "duration": 12,
    "start_time": "2023-06-15T01:18:07.458Z"
   },
   {
    "duration": 180,
    "start_time": "2023-06-15T01:18:07.472Z"
   },
   {
    "duration": 36,
    "start_time": "2023-06-15T01:18:07.653Z"
   },
   {
    "duration": 173,
    "start_time": "2023-06-15T01:18:07.691Z"
   },
   {
    "duration": 38,
    "start_time": "2023-06-15T01:18:07.865Z"
   },
   {
    "duration": 169,
    "start_time": "2023-06-15T01:18:07.905Z"
   },
   {
    "duration": 88,
    "start_time": "2023-06-15T01:18:08.075Z"
   },
   {
    "duration": 54,
    "start_time": "2023-06-15T01:18:08.165Z"
   },
   {
    "duration": 39,
    "start_time": "2023-06-15T01:18:08.234Z"
   },
   {
    "duration": 126,
    "start_time": "2023-06-15T01:18:08.275Z"
   },
   {
    "duration": 0,
    "start_time": "2023-06-15T01:18:08.402Z"
   },
   {
    "duration": 0,
    "start_time": "2023-06-15T01:18:08.403Z"
   },
   {
    "duration": 0,
    "start_time": "2023-06-15T01:18:08.404Z"
   },
   {
    "duration": 0,
    "start_time": "2023-06-15T01:18:08.405Z"
   },
   {
    "duration": 0,
    "start_time": "2023-06-15T01:18:08.405Z"
   },
   {
    "duration": 1284,
    "start_time": "2023-06-15T07:47:32.521Z"
   },
   {
    "duration": 318,
    "start_time": "2023-06-15T07:47:33.807Z"
   },
   {
    "duration": 15,
    "start_time": "2023-06-15T07:47:34.127Z"
   },
   {
    "duration": 10,
    "start_time": "2023-06-15T07:47:34.144Z"
   },
   {
    "duration": 28,
    "start_time": "2023-06-15T07:47:34.158Z"
   },
   {
    "duration": 61,
    "start_time": "2023-06-15T07:47:34.188Z"
   },
   {
    "duration": 126,
    "start_time": "2023-06-15T07:47:34.252Z"
   },
   {
    "duration": 140,
    "start_time": "2023-06-15T07:47:34.379Z"
   },
   {
    "duration": 482,
    "start_time": "2023-06-15T07:47:34.520Z"
   },
   {
    "duration": 50,
    "start_time": "2023-06-15T07:47:35.004Z"
   },
   {
    "duration": 27,
    "start_time": "2023-06-15T07:47:35.057Z"
   },
   {
    "duration": 81,
    "start_time": "2023-06-15T07:47:35.086Z"
   },
   {
    "duration": 12,
    "start_time": "2023-06-15T07:47:35.169Z"
   },
   {
    "duration": 56,
    "start_time": "2023-06-15T07:47:35.184Z"
   },
   {
    "duration": 14,
    "start_time": "2023-06-15T07:47:35.242Z"
   },
   {
    "duration": 62,
    "start_time": "2023-06-15T07:47:35.258Z"
   },
   {
    "duration": 161,
    "start_time": "2023-06-15T07:47:35.321Z"
   },
   {
    "duration": 13,
    "start_time": "2023-06-15T07:47:35.483Z"
   },
   {
    "duration": 169,
    "start_time": "2023-06-15T07:47:35.497Z"
   },
   {
    "duration": 12,
    "start_time": "2023-06-15T07:47:35.668Z"
   },
   {
    "duration": 187,
    "start_time": "2023-06-15T07:47:35.681Z"
   },
   {
    "duration": 25,
    "start_time": "2023-06-15T07:47:35.870Z"
   },
   {
    "duration": 183,
    "start_time": "2023-06-15T07:47:35.896Z"
   },
   {
    "duration": 34,
    "start_time": "2023-06-15T07:47:36.081Z"
   },
   {
    "duration": 181,
    "start_time": "2023-06-15T07:47:36.116Z"
   },
   {
    "duration": 92,
    "start_time": "2023-06-15T07:47:36.299Z"
   },
   {
    "duration": 74,
    "start_time": "2023-06-15T07:47:36.393Z"
   },
   {
    "duration": 36,
    "start_time": "2023-06-15T07:47:36.468Z"
   },
   {
    "duration": 153,
    "start_time": "2023-06-15T07:47:36.506Z"
   },
   {
    "duration": 0,
    "start_time": "2023-06-15T07:47:36.661Z"
   },
   {
    "duration": 0,
    "start_time": "2023-06-15T07:47:36.662Z"
   },
   {
    "duration": 0,
    "start_time": "2023-06-15T07:47:36.663Z"
   },
   {
    "duration": 0,
    "start_time": "2023-06-15T07:47:36.663Z"
   },
   {
    "duration": 0,
    "start_time": "2023-06-15T07:47:36.664Z"
   },
   {
    "duration": 22,
    "start_time": "2023-06-15T07:48:08.499Z"
   },
   {
    "duration": 15,
    "start_time": "2023-06-15T07:49:00.975Z"
   },
   {
    "duration": 16,
    "start_time": "2023-06-15T07:55:52.322Z"
   },
   {
    "duration": 42,
    "start_time": "2023-06-15T07:56:10.530Z"
   },
   {
    "duration": 35,
    "start_time": "2023-06-15T07:56:26.574Z"
   },
   {
    "duration": 19,
    "start_time": "2023-06-15T07:56:27.842Z"
   },
   {
    "duration": 250,
    "start_time": "2023-06-15T07:56:34.018Z"
   },
   {
    "duration": 18,
    "start_time": "2023-06-15T07:56:43.581Z"
   },
   {
    "duration": 17,
    "start_time": "2023-06-15T07:56:46.304Z"
   },
   {
    "duration": 23,
    "start_time": "2023-06-15T07:56:56.633Z"
   },
   {
    "duration": 6,
    "start_time": "2023-06-15T07:57:02.878Z"
   },
   {
    "duration": 53,
    "start_time": "2023-06-15T07:57:10.322Z"
   },
   {
    "duration": 33,
    "start_time": "2023-06-15T07:57:11.043Z"
   },
   {
    "duration": 5,
    "start_time": "2023-06-15T07:57:11.743Z"
   },
   {
    "duration": 26,
    "start_time": "2023-06-15T07:57:33.229Z"
   },
   {
    "duration": 1347,
    "start_time": "2023-06-15T07:57:47.850Z"
   },
   {
    "duration": 283,
    "start_time": "2023-06-15T07:57:49.199Z"
   },
   {
    "duration": 13,
    "start_time": "2023-06-15T07:57:49.483Z"
   },
   {
    "duration": 8,
    "start_time": "2023-06-15T07:57:49.498Z"
   },
   {
    "duration": 21,
    "start_time": "2023-06-15T07:57:49.508Z"
   },
   {
    "duration": 36,
    "start_time": "2023-06-15T07:57:49.530Z"
   },
   {
    "duration": 12,
    "start_time": "2023-06-15T07:57:49.568Z"
   },
   {
    "duration": 15,
    "start_time": "2023-06-15T07:57:49.581Z"
   },
   {
    "duration": 66,
    "start_time": "2023-06-15T07:57:49.598Z"
   },
   {
    "duration": 9,
    "start_time": "2023-06-15T07:57:49.666Z"
   },
   {
    "duration": 18,
    "start_time": "2023-06-15T07:57:49.676Z"
   },
   {
    "duration": 70,
    "start_time": "2023-06-15T07:57:49.695Z"
   },
   {
    "duration": 11,
    "start_time": "2023-06-15T07:57:49.766Z"
   },
   {
    "duration": 48,
    "start_time": "2023-06-15T07:57:49.779Z"
   },
   {
    "duration": 14,
    "start_time": "2023-06-15T07:57:49.829Z"
   },
   {
    "duration": 66,
    "start_time": "2023-06-15T07:57:49.845Z"
   },
   {
    "duration": 144,
    "start_time": "2023-06-15T07:57:49.912Z"
   },
   {
    "duration": 11,
    "start_time": "2023-06-15T07:57:50.058Z"
   },
   {
    "duration": 199,
    "start_time": "2023-06-15T07:57:50.071Z"
   },
   {
    "duration": 10,
    "start_time": "2023-06-15T07:57:50.272Z"
   },
   {
    "duration": 149,
    "start_time": "2023-06-15T07:57:50.284Z"
   },
   {
    "duration": 24,
    "start_time": "2023-06-15T07:57:50.435Z"
   },
   {
    "duration": 210,
    "start_time": "2023-06-15T07:57:50.460Z"
   },
   {
    "duration": 39,
    "start_time": "2023-06-15T07:57:50.671Z"
   },
   {
    "duration": 163,
    "start_time": "2023-06-15T07:57:50.712Z"
   },
   {
    "duration": 82,
    "start_time": "2023-06-15T07:57:50.877Z"
   },
   {
    "duration": 52,
    "start_time": "2023-06-15T07:57:50.960Z"
   },
   {
    "duration": 60,
    "start_time": "2023-06-15T07:57:51.014Z"
   },
   {
    "duration": 44,
    "start_time": "2023-06-15T07:57:51.075Z"
   },
   {
    "duration": 27,
    "start_time": "2023-06-15T07:57:51.121Z"
   },
   {
    "duration": 6,
    "start_time": "2023-06-15T07:57:51.150Z"
   },
   {
    "duration": 71,
    "start_time": "2023-06-15T07:57:51.160Z"
   },
   {
    "duration": 31,
    "start_time": "2023-06-15T07:57:51.232Z"
   },
   {
    "duration": 38,
    "start_time": "2023-06-15T07:57:51.264Z"
   },
   {
    "duration": 120,
    "start_time": "2023-06-15T08:07:37.447Z"
   },
   {
    "duration": 87,
    "start_time": "2023-06-15T08:07:46.839Z"
   },
   {
    "duration": 103,
    "start_time": "2023-06-15T08:08:00.222Z"
   },
   {
    "duration": 102,
    "start_time": "2023-06-15T08:08:08.984Z"
   },
   {
    "duration": 8,
    "start_time": "2023-06-15T08:08:47.897Z"
   },
   {
    "duration": 8,
    "start_time": "2023-06-15T08:08:52.536Z"
   },
   {
    "duration": 8,
    "start_time": "2023-06-15T08:09:04.935Z"
   },
   {
    "duration": 135,
    "start_time": "2023-06-15T08:18:33.792Z"
   },
   {
    "duration": 2007,
    "start_time": "2023-06-15T08:24:38.701Z"
   },
   {
    "duration": 20,
    "start_time": "2023-06-15T08:25:27.216Z"
   },
   {
    "duration": 1550,
    "start_time": "2023-06-15T08:25:28.961Z"
   },
   {
    "duration": 256,
    "start_time": "2023-06-15T08:25:50.230Z"
   },
   {
    "duration": 8,
    "start_time": "2023-06-15T08:25:54.874Z"
   },
   {
    "duration": 166,
    "start_time": "2023-06-15T08:26:28.674Z"
   },
   {
    "duration": 1393,
    "start_time": "2023-06-15T08:26:47.551Z"
   },
   {
    "duration": 148,
    "start_time": "2023-06-15T08:26:51.770Z"
   },
   {
    "duration": 1265,
    "start_time": "2023-06-15T08:30:18.300Z"
   },
   {
    "duration": 313,
    "start_time": "2023-06-15T08:30:19.567Z"
   },
   {
    "duration": 13,
    "start_time": "2023-06-15T08:30:19.881Z"
   },
   {
    "duration": 47,
    "start_time": "2023-06-15T08:30:19.895Z"
   },
   {
    "duration": 30,
    "start_time": "2023-06-15T08:30:19.944Z"
   },
   {
    "duration": 39,
    "start_time": "2023-06-15T08:30:19.976Z"
   },
   {
    "duration": 35,
    "start_time": "2023-06-15T08:30:20.016Z"
   },
   {
    "duration": 44,
    "start_time": "2023-06-15T08:30:20.054Z"
   },
   {
    "duration": 108,
    "start_time": "2023-06-15T08:30:20.100Z"
   },
   {
    "duration": 9,
    "start_time": "2023-06-15T08:30:20.211Z"
   },
   {
    "duration": 24,
    "start_time": "2023-06-15T08:30:20.222Z"
   },
   {
    "duration": 81,
    "start_time": "2023-06-15T08:30:20.248Z"
   },
   {
    "duration": 12,
    "start_time": "2023-06-15T08:30:20.332Z"
   },
   {
    "duration": 62,
    "start_time": "2023-06-15T08:30:20.346Z"
   },
   {
    "duration": 11,
    "start_time": "2023-06-15T08:30:20.410Z"
   },
   {
    "duration": 73,
    "start_time": "2023-06-15T08:30:20.431Z"
   },
   {
    "duration": 206,
    "start_time": "2023-06-15T08:30:20.506Z"
   },
   {
    "duration": 26,
    "start_time": "2023-06-15T08:30:20.713Z"
   },
   {
    "duration": 201,
    "start_time": "2023-06-15T08:30:20.742Z"
   },
   {
    "duration": 12,
    "start_time": "2023-06-15T08:30:20.944Z"
   },
   {
    "duration": 235,
    "start_time": "2023-06-15T08:30:20.958Z"
   },
   {
    "duration": 23,
    "start_time": "2023-06-15T08:30:21.195Z"
   },
   {
    "duration": 192,
    "start_time": "2023-06-15T08:30:21.232Z"
   },
   {
    "duration": 20,
    "start_time": "2023-06-15T08:30:21.425Z"
   },
   {
    "duration": 205,
    "start_time": "2023-06-15T08:30:21.447Z"
   },
   {
    "duration": 47,
    "start_time": "2023-06-15T08:30:21.654Z"
   },
   {
    "duration": 201,
    "start_time": "2023-06-15T08:30:21.703Z"
   },
   {
    "duration": 8,
    "start_time": "2023-06-15T08:30:21.908Z"
   },
   {
    "duration": 176,
    "start_time": "2023-06-15T08:30:21.918Z"
   },
   {
    "duration": 97,
    "start_time": "2023-06-15T08:30:22.095Z"
   },
   {
    "duration": 132,
    "start_time": "2023-06-15T08:30:22.194Z"
   },
   {
    "duration": 41,
    "start_time": "2023-06-15T08:30:22.331Z"
   },
   {
    "duration": 58,
    "start_time": "2023-06-15T08:30:22.374Z"
   },
   {
    "duration": 29,
    "start_time": "2023-06-15T08:30:22.434Z"
   },
   {
    "duration": 5,
    "start_time": "2023-06-15T08:30:22.465Z"
   },
   {
    "duration": 89,
    "start_time": "2023-06-15T08:30:22.472Z"
   },
   {
    "duration": 37,
    "start_time": "2023-06-15T08:30:22.563Z"
   },
   {
    "duration": 5,
    "start_time": "2023-06-15T08:30:22.602Z"
   },
   {
    "duration": 1349,
    "start_time": "2023-06-15T09:30:17.903Z"
   },
   {
    "duration": 272,
    "start_time": "2023-06-15T09:30:19.254Z"
   },
   {
    "duration": 13,
    "start_time": "2023-06-15T09:30:19.528Z"
   },
   {
    "duration": 16,
    "start_time": "2023-06-15T09:30:19.542Z"
   },
   {
    "duration": 17,
    "start_time": "2023-06-15T09:30:19.560Z"
   },
   {
    "duration": 46,
    "start_time": "2023-06-15T09:30:19.578Z"
   },
   {
    "duration": 31,
    "start_time": "2023-06-15T09:30:19.626Z"
   },
   {
    "duration": 16,
    "start_time": "2023-06-15T09:30:19.659Z"
   },
   {
    "duration": 84,
    "start_time": "2023-06-15T09:30:19.677Z"
   },
   {
    "duration": 8,
    "start_time": "2023-06-15T09:30:19.763Z"
   },
   {
    "duration": 23,
    "start_time": "2023-06-15T09:30:19.773Z"
   },
   {
    "duration": 83,
    "start_time": "2023-06-15T09:30:19.798Z"
   },
   {
    "duration": 12,
    "start_time": "2023-06-15T09:30:19.883Z"
   },
   {
    "duration": 51,
    "start_time": "2023-06-15T09:30:19.897Z"
   },
   {
    "duration": 10,
    "start_time": "2023-06-15T09:30:19.950Z"
   },
   {
    "duration": 75,
    "start_time": "2023-06-15T09:30:19.962Z"
   },
   {
    "duration": 196,
    "start_time": "2023-06-15T09:30:20.039Z"
   },
   {
    "duration": 15,
    "start_time": "2023-06-15T09:30:20.236Z"
   },
   {
    "duration": 173,
    "start_time": "2023-06-15T09:30:20.252Z"
   },
   {
    "duration": 15,
    "start_time": "2023-06-15T09:30:20.426Z"
   },
   {
    "duration": 202,
    "start_time": "2023-06-15T09:30:20.443Z"
   },
   {
    "duration": 26,
    "start_time": "2023-06-15T09:30:20.647Z"
   },
   {
    "duration": 175,
    "start_time": "2023-06-15T09:30:20.674Z"
   },
   {
    "duration": 11,
    "start_time": "2023-06-15T09:30:20.852Z"
   },
   {
    "duration": 185,
    "start_time": "2023-06-15T09:30:20.865Z"
   },
   {
    "duration": 42,
    "start_time": "2023-06-15T09:30:21.052Z"
   },
   {
    "duration": 201,
    "start_time": "2023-06-15T09:30:21.096Z"
   },
   {
    "duration": 9,
    "start_time": "2023-06-15T09:30:21.299Z"
   },
   {
    "duration": 173,
    "start_time": "2023-06-15T09:30:21.309Z"
   },
   {
    "duration": 93,
    "start_time": "2023-06-15T09:30:21.484Z"
   },
   {
    "duration": 145,
    "start_time": "2023-06-15T09:30:21.578Z"
   },
   {
    "duration": 42,
    "start_time": "2023-06-15T09:30:21.725Z"
   },
   {
    "duration": 50,
    "start_time": "2023-06-15T09:30:21.769Z"
   },
   {
    "duration": 34,
    "start_time": "2023-06-15T09:30:21.821Z"
   },
   {
    "duration": 6,
    "start_time": "2023-06-15T09:30:21.857Z"
   },
   {
    "duration": 112,
    "start_time": "2023-06-15T09:30:21.864Z"
   },
   {
    "duration": 36,
    "start_time": "2023-06-15T09:30:21.977Z"
   },
   {
    "duration": 17,
    "start_time": "2023-06-15T09:30:22.015Z"
   },
   {
    "duration": 11,
    "start_time": "2023-06-15T10:01:15.692Z"
   },
   {
    "duration": 1209,
    "start_time": "2023-06-15T10:01:28.732Z"
   },
   {
    "duration": 288,
    "start_time": "2023-06-15T10:01:29.943Z"
   },
   {
    "duration": 13,
    "start_time": "2023-06-15T10:01:30.232Z"
   },
   {
    "duration": 58,
    "start_time": "2023-06-15T10:01:30.247Z"
   },
   {
    "duration": 33,
    "start_time": "2023-06-15T10:01:30.307Z"
   },
   {
    "duration": 72,
    "start_time": "2023-06-15T10:01:30.342Z"
   },
   {
    "duration": 38,
    "start_time": "2023-06-15T10:01:30.415Z"
   },
   {
    "duration": 30,
    "start_time": "2023-06-15T10:01:30.455Z"
   },
   {
    "duration": 30,
    "start_time": "2023-06-15T10:01:30.486Z"
   },
   {
    "duration": 131,
    "start_time": "2023-06-15T10:01:30.518Z"
   },
   {
    "duration": 52,
    "start_time": "2023-06-15T10:01:30.651Z"
   },
   {
    "duration": 81,
    "start_time": "2023-06-15T10:01:30.705Z"
   },
   {
    "duration": 192,
    "start_time": "2023-06-15T10:01:30.788Z"
   },
   {
    "duration": 11,
    "start_time": "2023-06-15T10:01:30.983Z"
   },
   {
    "duration": 69,
    "start_time": "2023-06-15T10:01:30.995Z"
   },
   {
    "duration": 14,
    "start_time": "2023-06-15T10:01:31.065Z"
   },
   {
    "duration": 93,
    "start_time": "2023-06-15T10:01:31.081Z"
   },
   {
    "duration": 153,
    "start_time": "2023-06-15T10:01:31.175Z"
   },
   {
    "duration": 11,
    "start_time": "2023-06-15T10:01:31.331Z"
   },
   {
    "duration": 160,
    "start_time": "2023-06-15T10:01:31.344Z"
   },
   {
    "duration": 25,
    "start_time": "2023-06-15T10:01:31.507Z"
   },
   {
    "duration": 156,
    "start_time": "2023-06-15T10:01:31.534Z"
   },
   {
    "duration": 22,
    "start_time": "2023-06-15T10:01:31.692Z"
   },
   {
    "duration": 161,
    "start_time": "2023-06-15T10:01:31.716Z"
   },
   {
    "duration": 9,
    "start_time": "2023-06-15T10:01:31.879Z"
   },
   {
    "duration": 157,
    "start_time": "2023-06-15T10:01:31.890Z"
   },
   {
    "duration": 38,
    "start_time": "2023-06-15T10:01:32.049Z"
   },
   {
    "duration": 183,
    "start_time": "2023-06-15T10:01:32.089Z"
   },
   {
    "duration": 10,
    "start_time": "2023-06-15T10:01:32.274Z"
   },
   {
    "duration": 163,
    "start_time": "2023-06-15T10:01:32.286Z"
   },
   {
    "duration": 92,
    "start_time": "2023-06-15T10:01:32.451Z"
   },
   {
    "duration": 133,
    "start_time": "2023-06-15T10:01:32.545Z"
   },
   {
    "duration": 35,
    "start_time": "2023-06-15T10:01:32.680Z"
   },
   {
    "duration": 65,
    "start_time": "2023-06-15T10:01:32.717Z"
   },
   {
    "duration": 24,
    "start_time": "2023-06-15T10:01:32.783Z"
   },
   {
    "duration": 24,
    "start_time": "2023-06-15T10:01:32.808Z"
   },
   {
    "duration": 71,
    "start_time": "2023-06-15T10:01:32.833Z"
   },
   {
    "duration": 44,
    "start_time": "2023-06-15T10:01:32.906Z"
   },
   {
    "duration": 5,
    "start_time": "2023-06-15T10:01:32.951Z"
   },
   {
    "duration": 127,
    "start_time": "2023-06-15T10:04:22.033Z"
   },
   {
    "duration": 50,
    "start_time": "2023-06-15T10:04:29.360Z"
   },
   {
    "duration": 48,
    "start_time": "2023-06-15T10:04:36.735Z"
   },
   {
    "duration": 26,
    "start_time": "2023-06-15T10:04:37.962Z"
   },
   {
    "duration": 7,
    "start_time": "2023-06-15T10:04:38.928Z"
   },
   {
    "duration": 17,
    "start_time": "2023-06-15T10:07:34.127Z"
   },
   {
    "duration": 139,
    "start_time": "2023-06-15T10:09:03.574Z"
   },
   {
    "duration": 1582,
    "start_time": "2023-06-15T10:09:47.015Z"
   },
   {
    "duration": 646,
    "start_time": "2023-06-15T10:09:48.599Z"
   },
   {
    "duration": 13,
    "start_time": "2023-06-15T10:09:49.246Z"
   },
   {
    "duration": 8,
    "start_time": "2023-06-15T10:09:49.261Z"
   },
   {
    "duration": 28,
    "start_time": "2023-06-15T10:09:49.272Z"
   },
   {
    "duration": 52,
    "start_time": "2023-06-15T10:09:49.302Z"
   },
   {
    "duration": 68,
    "start_time": "2023-06-15T10:10:11.026Z"
   },
   {
    "duration": 77,
    "start_time": "2023-06-15T10:10:27.181Z"
   },
   {
    "duration": 127,
    "start_time": "2023-06-15T10:10:38.080Z"
   },
   {
    "duration": 120,
    "start_time": "2023-06-15T10:10:55.678Z"
   },
   {
    "duration": 277,
    "start_time": "2023-06-15T10:11:05.335Z"
   },
   {
    "duration": 108,
    "start_time": "2023-06-15T10:11:11.367Z"
   },
   {
    "duration": 114,
    "start_time": "2023-06-15T10:11:29.606Z"
   },
   {
    "duration": 6,
    "start_time": "2023-06-15T10:11:50.745Z"
   },
   {
    "duration": 1798,
    "start_time": "2023-06-15T10:11:59.502Z"
   },
   {
    "duration": 758,
    "start_time": "2023-06-15T10:12:01.303Z"
   },
   {
    "duration": 18,
    "start_time": "2023-06-15T10:12:02.063Z"
   },
   {
    "duration": 33,
    "start_time": "2023-06-15T10:12:02.083Z"
   },
   {
    "duration": 32,
    "start_time": "2023-06-15T10:12:02.118Z"
   },
   {
    "duration": 77,
    "start_time": "2023-06-15T10:12:02.152Z"
   },
   {
    "duration": 41,
    "start_time": "2023-06-15T10:12:02.231Z"
   },
   {
    "duration": 30,
    "start_time": "2023-06-15T10:12:02.275Z"
   },
   {
    "duration": 38,
    "start_time": "2023-06-15T10:12:02.307Z"
   },
   {
    "duration": 74,
    "start_time": "2023-06-15T10:12:02.348Z"
   },
   {
    "duration": 12,
    "start_time": "2023-06-15T10:12:02.424Z"
   },
   {
    "duration": 24,
    "start_time": "2023-06-15T10:12:02.439Z"
   },
   {
    "duration": 71,
    "start_time": "2023-06-15T10:12:02.465Z"
   },
   {
    "duration": 11,
    "start_time": "2023-06-15T10:12:02.539Z"
   },
   {
    "duration": 72,
    "start_time": "2023-06-15T10:12:02.552Z"
   },
   {
    "duration": 25,
    "start_time": "2023-06-15T10:12:02.626Z"
   },
   {
    "duration": 78,
    "start_time": "2023-06-15T10:12:02.653Z"
   },
   {
    "duration": 237,
    "start_time": "2023-06-15T10:12:02.733Z"
   },
   {
    "duration": 12,
    "start_time": "2023-06-15T10:12:02.972Z"
   },
   {
    "duration": 154,
    "start_time": "2023-06-15T10:12:02.985Z"
   },
   {
    "duration": 10,
    "start_time": "2023-06-15T10:12:03.141Z"
   },
   {
    "duration": 199,
    "start_time": "2023-06-15T10:12:03.153Z"
   },
   {
    "duration": 26,
    "start_time": "2023-06-15T10:12:03.354Z"
   },
   {
    "duration": 194,
    "start_time": "2023-06-15T10:12:03.381Z"
   },
   {
    "duration": 11,
    "start_time": "2023-06-15T10:12:03.577Z"
   },
   {
    "duration": 161,
    "start_time": "2023-06-15T10:12:03.590Z"
   },
   {
    "duration": 37,
    "start_time": "2023-06-15T10:12:03.753Z"
   },
   {
    "duration": 194,
    "start_time": "2023-06-15T10:12:03.791Z"
   },
   {
    "duration": 10,
    "start_time": "2023-06-15T10:12:03.986Z"
   },
   {
    "duration": 157,
    "start_time": "2023-06-15T10:12:03.997Z"
   },
   {
    "duration": 83,
    "start_time": "2023-06-15T10:12:04.155Z"
   },
   {
    "duration": 131,
    "start_time": "2023-06-15T10:12:04.240Z"
   },
   {
    "duration": 61,
    "start_time": "2023-06-15T10:12:04.373Z"
   },
   {
    "duration": 34,
    "start_time": "2023-06-15T10:12:04.436Z"
   },
   {
    "duration": 27,
    "start_time": "2023-06-15T10:12:04.471Z"
   },
   {
    "duration": 58,
    "start_time": "2023-06-15T10:12:04.500Z"
   },
   {
    "duration": 56,
    "start_time": "2023-06-15T10:12:04.560Z"
   },
   {
    "duration": 33,
    "start_time": "2023-06-15T10:12:04.618Z"
   },
   {
    "duration": 9,
    "start_time": "2023-06-15T10:12:04.652Z"
   },
   {
    "duration": 85,
    "start_time": "2023-06-15T10:12:12.637Z"
   },
   {
    "duration": 19,
    "start_time": "2023-06-15T10:12:18.504Z"
   },
   {
    "duration": 18,
    "start_time": "2023-06-15T10:12:24.806Z"
   },
   {
    "duration": 94,
    "start_time": "2023-06-15T10:12:56.879Z"
   },
   {
    "duration": 290,
    "start_time": "2023-06-15T10:13:04.277Z"
   },
   {
    "duration": 12,
    "start_time": "2023-06-15T10:17:03.488Z"
   },
   {
    "duration": 3,
    "start_time": "2023-06-15T10:18:35.662Z"
   },
   {
    "duration": 17,
    "start_time": "2023-06-15T10:18:40.797Z"
   },
   {
    "duration": 113,
    "start_time": "2023-06-15T10:20:26.330Z"
   },
   {
    "duration": 54,
    "start_time": "2023-06-15T10:20:57.834Z"
   },
   {
    "duration": 36,
    "start_time": "2023-06-15T10:21:09.996Z"
   },
   {
    "duration": 3243,
    "start_time": "2023-06-15T10:24:04.755Z"
   },
   {
    "duration": 9,
    "start_time": "2023-06-15T10:24:22.411Z"
   },
   {
    "duration": 8,
    "start_time": "2023-06-15T10:24:34.820Z"
   },
   {
    "duration": 1919,
    "start_time": "2023-06-15T10:27:14.431Z"
   },
   {
    "duration": 1412,
    "start_time": "2023-06-15T10:27:52.110Z"
   },
   {
    "duration": 283,
    "start_time": "2023-06-15T10:27:53.524Z"
   },
   {
    "duration": 14,
    "start_time": "2023-06-15T10:27:53.808Z"
   },
   {
    "duration": 11,
    "start_time": "2023-06-15T10:27:53.825Z"
   },
   {
    "duration": 11,
    "start_time": "2023-06-15T10:27:53.837Z"
   },
   {
    "duration": 33,
    "start_time": "2023-06-15T10:27:53.850Z"
   },
   {
    "duration": 12,
    "start_time": "2023-06-15T10:27:53.884Z"
   },
   {
    "duration": 4,
    "start_time": "2023-06-15T10:27:53.897Z"
   },
   {
    "duration": 6,
    "start_time": "2023-06-15T10:27:53.902Z"
   },
   {
    "duration": 20,
    "start_time": "2023-06-15T10:27:53.911Z"
   },
   {
    "duration": 11,
    "start_time": "2023-06-15T10:27:53.933Z"
   },
   {
    "duration": 11,
    "start_time": "2023-06-15T10:27:53.945Z"
   },
   {
    "duration": 60,
    "start_time": "2023-06-15T10:27:53.958Z"
   },
   {
    "duration": 18,
    "start_time": "2023-06-15T10:27:54.020Z"
   },
   {
    "duration": 5,
    "start_time": "2023-06-15T10:27:54.039Z"
   },
   {
    "duration": 68,
    "start_time": "2023-06-15T10:27:54.045Z"
   },
   {
    "duration": 23,
    "start_time": "2023-06-15T10:27:54.114Z"
   },
   {
    "duration": 48,
    "start_time": "2023-06-15T10:27:54.138Z"
   },
   {
    "duration": 8,
    "start_time": "2023-06-15T10:27:54.188Z"
   },
   {
    "duration": 104,
    "start_time": "2023-06-15T10:27:54.198Z"
   },
   {
    "duration": 147,
    "start_time": "2023-06-15T10:27:54.304Z"
   },
   {
    "duration": 11,
    "start_time": "2023-06-15T10:27:54.453Z"
   },
   {
    "duration": 150,
    "start_time": "2023-06-15T10:27:54.465Z"
   },
   {
    "duration": 15,
    "start_time": "2023-06-15T10:27:54.617Z"
   },
   {
    "duration": 161,
    "start_time": "2023-06-15T10:27:54.633Z"
   },
   {
    "duration": 25,
    "start_time": "2023-06-15T10:27:54.796Z"
   },
   {
    "duration": 160,
    "start_time": "2023-06-15T10:27:54.832Z"
   },
   {
    "duration": 8,
    "start_time": "2023-06-15T10:27:54.996Z"
   },
   {
    "duration": 148,
    "start_time": "2023-06-15T10:27:55.005Z"
   },
   {
    "duration": 37,
    "start_time": "2023-06-15T10:27:55.154Z"
   },
   {
    "duration": 172,
    "start_time": "2023-06-15T10:27:55.193Z"
   },
   {
    "duration": 8,
    "start_time": "2023-06-15T10:27:55.367Z"
   },
   {
    "duration": 156,
    "start_time": "2023-06-15T10:27:55.377Z"
   },
   {
    "duration": 76,
    "start_time": "2023-06-15T10:27:55.535Z"
   },
   {
    "duration": 145,
    "start_time": "2023-06-15T10:27:55.612Z"
   },
   {
    "duration": 46,
    "start_time": "2023-06-15T10:27:55.758Z"
   },
   {
    "duration": 43,
    "start_time": "2023-06-15T10:27:55.805Z"
   },
   {
    "duration": 60,
    "start_time": "2023-06-15T10:27:55.850Z"
   },
   {
    "duration": 5,
    "start_time": "2023-06-15T10:27:55.912Z"
   },
   {
    "duration": 63,
    "start_time": "2023-06-15T10:27:55.919Z"
   },
   {
    "duration": 33,
    "start_time": "2023-06-15T10:27:55.983Z"
   },
   {
    "duration": 14,
    "start_time": "2023-06-15T10:27:56.018Z"
   },
   {
    "duration": 29,
    "start_time": "2023-06-15T10:43:36.608Z"
   },
   {
    "duration": 11,
    "start_time": "2023-06-15T10:44:20.785Z"
   },
   {
    "duration": 12,
    "start_time": "2023-06-15T10:44:55.944Z"
   },
   {
    "duration": 5,
    "start_time": "2023-06-15T10:49:36.059Z"
   },
   {
    "duration": 9,
    "start_time": "2023-06-15T10:51:02.731Z"
   },
   {
    "duration": 7,
    "start_time": "2023-06-15T10:55:53.259Z"
   },
   {
    "duration": 5,
    "start_time": "2023-06-15T10:58:32.204Z"
   },
   {
    "duration": 4,
    "start_time": "2023-06-15T10:58:41.621Z"
   },
   {
    "duration": 2334,
    "start_time": "2023-06-15T11:06:17.732Z"
   },
   {
    "duration": 85,
    "start_time": "2023-06-15T11:06:39.648Z"
   },
   {
    "duration": 1434,
    "start_time": "2023-06-15T11:07:01.001Z"
   },
   {
    "duration": 292,
    "start_time": "2023-06-15T11:07:02.437Z"
   },
   {
    "duration": 11,
    "start_time": "2023-06-15T11:07:02.731Z"
   },
   {
    "duration": 26,
    "start_time": "2023-06-15T11:07:02.745Z"
   },
   {
    "duration": 37,
    "start_time": "2023-06-15T11:07:02.773Z"
   },
   {
    "duration": 49,
    "start_time": "2023-06-15T11:07:02.811Z"
   },
   {
    "duration": 44,
    "start_time": "2023-06-15T11:07:02.862Z"
   },
   {
    "duration": 72,
    "start_time": "2023-06-15T11:07:02.907Z"
   },
   {
    "duration": 22,
    "start_time": "2023-06-15T11:07:02.981Z"
   },
   {
    "duration": 48,
    "start_time": "2023-06-15T11:07:03.006Z"
   },
   {
    "duration": 92,
    "start_time": "2023-06-15T11:07:03.055Z"
   },
   {
    "duration": 0,
    "start_time": "2023-06-15T11:07:03.151Z"
   },
   {
    "duration": 0,
    "start_time": "2023-06-15T11:07:03.152Z"
   },
   {
    "duration": 0,
    "start_time": "2023-06-15T11:07:03.154Z"
   },
   {
    "duration": 0,
    "start_time": "2023-06-15T11:07:03.155Z"
   },
   {
    "duration": 0,
    "start_time": "2023-06-15T11:07:03.156Z"
   },
   {
    "duration": 0,
    "start_time": "2023-06-15T11:07:03.157Z"
   },
   {
    "duration": 0,
    "start_time": "2023-06-15T11:07:03.158Z"
   },
   {
    "duration": 0,
    "start_time": "2023-06-15T11:07:03.159Z"
   },
   {
    "duration": 0,
    "start_time": "2023-06-15T11:07:03.161Z"
   },
   {
    "duration": 0,
    "start_time": "2023-06-15T11:07:03.163Z"
   },
   {
    "duration": 0,
    "start_time": "2023-06-15T11:07:03.164Z"
   },
   {
    "duration": 0,
    "start_time": "2023-06-15T11:07:03.165Z"
   },
   {
    "duration": 0,
    "start_time": "2023-06-15T11:07:03.167Z"
   },
   {
    "duration": 0,
    "start_time": "2023-06-15T11:07:03.168Z"
   },
   {
    "duration": 0,
    "start_time": "2023-06-15T11:07:03.169Z"
   },
   {
    "duration": 0,
    "start_time": "2023-06-15T11:07:03.171Z"
   },
   {
    "duration": 0,
    "start_time": "2023-06-15T11:07:03.172Z"
   },
   {
    "duration": 0,
    "start_time": "2023-06-15T11:07:03.173Z"
   },
   {
    "duration": 0,
    "start_time": "2023-06-15T11:07:03.174Z"
   },
   {
    "duration": 0,
    "start_time": "2023-06-15T11:07:03.176Z"
   },
   {
    "duration": 0,
    "start_time": "2023-06-15T11:07:03.177Z"
   },
   {
    "duration": 0,
    "start_time": "2023-06-15T11:07:03.178Z"
   },
   {
    "duration": 0,
    "start_time": "2023-06-15T11:07:03.180Z"
   },
   {
    "duration": 0,
    "start_time": "2023-06-15T11:07:03.181Z"
   },
   {
    "duration": 0,
    "start_time": "2023-06-15T11:07:03.182Z"
   },
   {
    "duration": 0,
    "start_time": "2023-06-15T11:07:03.183Z"
   },
   {
    "duration": 0,
    "start_time": "2023-06-15T11:07:03.185Z"
   },
   {
    "duration": 0,
    "start_time": "2023-06-15T11:07:03.186Z"
   },
   {
    "duration": 0,
    "start_time": "2023-06-15T11:07:03.187Z"
   },
   {
    "duration": 0,
    "start_time": "2023-06-15T11:07:03.232Z"
   },
   {
    "duration": 0,
    "start_time": "2023-06-15T11:07:03.234Z"
   },
   {
    "duration": 0,
    "start_time": "2023-06-15T11:07:03.235Z"
   },
   {
    "duration": 0,
    "start_time": "2023-06-15T11:07:03.236Z"
   },
   {
    "duration": 0,
    "start_time": "2023-06-15T11:07:03.238Z"
   },
   {
    "duration": 3,
    "start_time": "2023-06-15T11:07:52.500Z"
   },
   {
    "duration": 3,
    "start_time": "2023-06-15T11:07:53.045Z"
   },
   {
    "duration": 12,
    "start_time": "2023-06-15T11:07:53.692Z"
   },
   {
    "duration": 9,
    "start_time": "2023-06-15T11:07:54.989Z"
   },
   {
    "duration": 5,
    "start_time": "2023-06-15T11:07:56.214Z"
   },
   {
    "duration": 9,
    "start_time": "2023-06-15T11:07:56.796Z"
   },
   {
    "duration": 5,
    "start_time": "2023-06-15T11:07:57.280Z"
   },
   {
    "duration": 3,
    "start_time": "2023-06-15T11:07:57.713Z"
   },
   {
    "duration": 4,
    "start_time": "2023-06-15T11:07:58.917Z"
   },
   {
    "duration": 9,
    "start_time": "2023-06-15T11:08:01.204Z"
   },
   {
    "duration": 7,
    "start_time": "2023-06-15T11:08:01.477Z"
   },
   {
    "duration": 9,
    "start_time": "2023-06-15T11:08:01.888Z"
   },
   {
    "duration": 119,
    "start_time": "2023-06-15T11:08:02.421Z"
   },
   {
    "duration": 12,
    "start_time": "2023-06-15T11:08:03.692Z"
   },
   {
    "duration": 135,
    "start_time": "2023-06-15T11:08:04.140Z"
   },
   {
    "duration": 10,
    "start_time": "2023-06-15T11:08:06.349Z"
   },
   {
    "duration": 127,
    "start_time": "2023-06-15T11:08:06.813Z"
   },
   {
    "duration": 5,
    "start_time": "2023-06-15T11:08:35.201Z"
   },
   {
    "duration": 7,
    "start_time": "2023-06-15T11:08:36.105Z"
   },
   {
    "duration": 10,
    "start_time": "2023-06-15T11:09:15.268Z"
   },
   {
    "duration": 5,
    "start_time": "2023-06-15T11:09:19.315Z"
   },
   {
    "duration": 7,
    "start_time": "2023-06-15T11:09:29.750Z"
   },
   {
    "duration": 2,
    "start_time": "2023-06-15T11:09:33.206Z"
   },
   {
    "duration": 3,
    "start_time": "2023-06-15T11:09:33.749Z"
   },
   {
    "duration": 11,
    "start_time": "2023-06-15T11:09:36.214Z"
   },
   {
    "duration": 10,
    "start_time": "2023-06-15T11:09:37.614Z"
   },
   {
    "duration": 5,
    "start_time": "2023-06-15T11:09:38.822Z"
   },
   {
    "duration": 9,
    "start_time": "2023-06-15T11:09:39.446Z"
   },
   {
    "duration": 5,
    "start_time": "2023-06-15T11:09:39.884Z"
   },
   {
    "duration": 3,
    "start_time": "2023-06-15T11:09:40.300Z"
   },
   {
    "duration": 4,
    "start_time": "2023-06-15T11:09:42.076Z"
   },
   {
    "duration": 8,
    "start_time": "2023-06-15T11:09:45.110Z"
   },
   {
    "duration": 9,
    "start_time": "2023-06-15T11:09:45.630Z"
   },
   {
    "duration": 9,
    "start_time": "2023-06-15T11:09:52.714Z"
   },
   {
    "duration": 15,
    "start_time": "2023-06-15T11:10:05.114Z"
   },
   {
    "duration": 8,
    "start_time": "2023-06-15T11:10:41.240Z"
   },
   {
    "duration": 2,
    "start_time": "2023-06-15T11:10:43.819Z"
   },
   {
    "duration": 11,
    "start_time": "2023-06-15T11:10:45.189Z"
   },
   {
    "duration": 3,
    "start_time": "2023-06-15T11:10:52.613Z"
   },
   {
    "duration": 3,
    "start_time": "2023-06-15T11:10:56.008Z"
   },
   {
    "duration": 3,
    "start_time": "2023-06-15T11:11:05.904Z"
   },
   {
    "duration": 2,
    "start_time": "2023-06-15T11:11:07.922Z"
   },
   {
    "duration": 2,
    "start_time": "2023-06-15T11:11:08.409Z"
   },
   {
    "duration": 10,
    "start_time": "2023-06-15T11:11:09.009Z"
   },
   {
    "duration": 10,
    "start_time": "2023-06-15T11:11:10.268Z"
   },
   {
    "duration": 4,
    "start_time": "2023-06-15T11:11:11.413Z"
   },
   {
    "duration": 8,
    "start_time": "2023-06-15T11:11:11.789Z"
   },
   {
    "duration": 5,
    "start_time": "2023-06-15T11:11:12.327Z"
   },
   {
    "duration": 3,
    "start_time": "2023-06-15T11:11:12.848Z"
   },
   {
    "duration": 4,
    "start_time": "2023-06-15T11:11:14.480Z"
   },
   {
    "duration": 10,
    "start_time": "2023-06-15T11:11:16.789Z"
   },
   {
    "duration": 6,
    "start_time": "2023-06-15T11:11:17.337Z"
   },
   {
    "duration": 9,
    "start_time": "2023-06-15T11:11:18.192Z"
   },
   {
    "duration": 6,
    "start_time": "2023-06-15T11:11:34.581Z"
   },
   {
    "duration": 263,
    "start_time": "2023-06-15T11:11:35.201Z"
   },
   {
    "duration": 10,
    "start_time": "2023-06-15T11:11:37.609Z"
   },
   {
    "duration": 7,
    "start_time": "2023-06-15T11:11:38.676Z"
   },
   {
    "duration": 40,
    "start_time": "2023-06-15T11:11:45.017Z"
   },
   {
    "duration": 8,
    "start_time": "2023-06-15T11:11:49.009Z"
   },
   {
    "duration": 27,
    "start_time": "2023-06-15T11:11:50.176Z"
   },
   {
    "duration": 2,
    "start_time": "2023-06-15T11:11:57.905Z"
   },
   {
    "duration": 2,
    "start_time": "2023-06-15T11:11:58.490Z"
   },
   {
    "duration": 2,
    "start_time": "2023-06-15T11:12:00.188Z"
   },
   {
    "duration": 3,
    "start_time": "2023-06-15T11:12:00.616Z"
   },
   {
    "duration": 3,
    "start_time": "2023-06-15T11:12:01.685Z"
   },
   {
    "duration": 2,
    "start_time": "2023-06-15T11:12:02.721Z"
   },
   {
    "duration": 10,
    "start_time": "2023-06-15T11:12:03.520Z"
   },
   {
    "duration": 10,
    "start_time": "2023-06-15T11:12:05.945Z"
   },
   {
    "duration": 53,
    "start_time": "2023-06-15T11:12:07.598Z"
   },
   {
    "duration": 9,
    "start_time": "2023-06-15T11:12:08.004Z"
   },
   {
    "duration": 6,
    "start_time": "2023-06-15T11:12:08.937Z"
   },
   {
    "duration": 66,
    "start_time": "2023-06-15T11:12:10.580Z"
   },
   {
    "duration": 10,
    "start_time": "2023-06-15T11:12:12.713Z"
   },
   {
    "duration": 38,
    "start_time": "2023-06-15T11:12:16.832Z"
   },
   {
    "duration": 11,
    "start_time": "2023-06-15T11:12:17.592Z"
   },
   {
    "duration": 64,
    "start_time": "2023-06-15T11:12:18.732Z"
   },
   {
    "duration": 186,
    "start_time": "2023-06-15T11:12:20.425Z"
   },
   {
    "duration": 13,
    "start_time": "2023-06-15T11:12:23.011Z"
   },
   {
    "duration": 153,
    "start_time": "2023-06-15T11:12:23.618Z"
   },
   {
    "duration": 14,
    "start_time": "2023-06-15T11:12:24.649Z"
   },
   {
    "duration": 168,
    "start_time": "2023-06-15T11:12:25.413Z"
   },
   {
    "duration": 29,
    "start_time": "2023-06-15T11:12:27.296Z"
   },
   {
    "duration": 144,
    "start_time": "2023-06-15T11:12:27.680Z"
   },
   {
    "duration": 8,
    "start_time": "2023-06-15T11:12:29.706Z"
   },
   {
    "duration": 203,
    "start_time": "2023-06-15T11:12:30.040Z"
   },
   {
    "duration": 37,
    "start_time": "2023-06-15T11:12:32.006Z"
   },
   {
    "duration": 155,
    "start_time": "2023-06-15T11:12:32.401Z"
   },
   {
    "duration": 10,
    "start_time": "2023-06-15T11:12:33.403Z"
   },
   {
    "duration": 141,
    "start_time": "2023-06-15T11:12:33.817Z"
   },
   {
    "duration": 78,
    "start_time": "2023-06-15T11:12:36.251Z"
   },
   {
    "duration": 54,
    "start_time": "2023-06-15T11:12:37.080Z"
   },
   {
    "duration": 50,
    "start_time": "2023-06-15T11:12:38.388Z"
   },
   {
    "duration": 32,
    "start_time": "2023-06-15T11:12:39.792Z"
   },
   {
    "duration": 23,
    "start_time": "2023-06-15T11:12:40.280Z"
   },
   {
    "duration": 5,
    "start_time": "2023-06-15T11:12:40.738Z"
   },
   {
    "duration": 58,
    "start_time": "2023-06-15T11:12:43.145Z"
   },
   {
    "duration": 33,
    "start_time": "2023-06-15T11:12:43.581Z"
   },
   {
    "duration": 5,
    "start_time": "2023-06-15T11:12:43.912Z"
   },
   {
    "duration": 17,
    "start_time": "2023-06-15T11:50:50.737Z"
   },
   {
    "duration": 18,
    "start_time": "2023-06-15T11:51:19.808Z"
   },
   {
    "duration": 8,
    "start_time": "2023-06-15T11:51:52.822Z"
   },
   {
    "duration": 49,
    "start_time": "2023-06-15T11:52:01.300Z"
   },
   {
    "duration": 23,
    "start_time": "2023-06-15T11:56:36.095Z"
   },
   {
    "duration": 1498,
    "start_time": "2023-06-15T12:43:17.112Z"
   },
   {
    "duration": 1434,
    "start_time": "2023-06-15T12:43:18.615Z"
   },
   {
    "duration": 15,
    "start_time": "2023-06-15T12:43:20.050Z"
   },
   {
    "duration": 22,
    "start_time": "2023-06-15T12:43:20.066Z"
   },
   {
    "duration": 44,
    "start_time": "2023-06-15T12:43:20.090Z"
   },
   {
    "duration": 30,
    "start_time": "2023-06-15T12:43:20.135Z"
   },
   {
    "duration": 16,
    "start_time": "2023-06-15T12:43:20.167Z"
   },
   {
    "duration": 57,
    "start_time": "2023-06-15T12:43:20.184Z"
   },
   {
    "duration": 18,
    "start_time": "2023-06-15T12:43:20.243Z"
   },
   {
    "duration": 48,
    "start_time": "2023-06-15T12:43:20.263Z"
   },
   {
    "duration": 20,
    "start_time": "2023-06-15T12:43:20.315Z"
   },
   {
    "duration": 28,
    "start_time": "2023-06-15T12:43:20.337Z"
   },
   {
    "duration": 65,
    "start_time": "2023-06-15T12:43:20.367Z"
   },
   {
    "duration": 9,
    "start_time": "2023-06-15T12:43:20.435Z"
   },
   {
    "duration": 5,
    "start_time": "2023-06-15T12:43:20.445Z"
   },
   {
    "duration": 92,
    "start_time": "2023-06-15T12:43:20.452Z"
   },
   {
    "duration": 12,
    "start_time": "2023-06-15T12:43:20.546Z"
   },
   {
    "duration": 67,
    "start_time": "2023-06-15T12:43:20.559Z"
   },
   {
    "duration": 10,
    "start_time": "2023-06-15T12:43:20.628Z"
   },
   {
    "duration": 87,
    "start_time": "2023-06-15T12:43:20.640Z"
   },
   {
    "duration": 157,
    "start_time": "2023-06-15T12:43:20.728Z"
   },
   {
    "duration": 12,
    "start_time": "2023-06-15T12:43:20.887Z"
   },
   {
    "duration": 203,
    "start_time": "2023-06-15T12:43:20.901Z"
   },
   {
    "duration": 26,
    "start_time": "2023-06-15T12:43:21.105Z"
   },
   {
    "duration": 163,
    "start_time": "2023-06-15T12:43:21.133Z"
   },
   {
    "duration": 38,
    "start_time": "2023-06-15T12:43:21.297Z"
   },
   {
    "duration": 160,
    "start_time": "2023-06-15T12:43:21.337Z"
   },
   {
    "duration": 30,
    "start_time": "2023-06-15T12:43:21.499Z"
   },
   {
    "duration": 166,
    "start_time": "2023-06-15T12:43:21.530Z"
   },
   {
    "duration": 43,
    "start_time": "2023-06-15T12:43:21.697Z"
   },
   {
    "duration": 187,
    "start_time": "2023-06-15T12:43:21.742Z"
   },
   {
    "duration": 10,
    "start_time": "2023-06-15T12:43:21.931Z"
   },
   {
    "duration": 166,
    "start_time": "2023-06-15T12:43:21.943Z"
   },
   {
    "duration": 88,
    "start_time": "2023-06-15T12:43:22.113Z"
   },
   {
    "duration": 155,
    "start_time": "2023-06-15T12:43:22.202Z"
   },
   {
    "duration": 60,
    "start_time": "2023-06-15T12:43:22.358Z"
   },
   {
    "duration": 121,
    "start_time": "2023-06-15T12:43:22.426Z"
   },
   {
    "duration": 27,
    "start_time": "2023-06-15T12:43:22.549Z"
   },
   {
    "duration": 5,
    "start_time": "2023-06-15T12:43:22.578Z"
   },
   {
    "duration": 90,
    "start_time": "2023-06-15T12:43:22.585Z"
   },
   {
    "duration": 46,
    "start_time": "2023-06-15T12:43:22.679Z"
   },
   {
    "duration": 6,
    "start_time": "2023-06-15T12:43:22.727Z"
   },
   {
    "duration": 153,
    "start_time": "2023-06-15T13:16:20.252Z"
   },
   {
    "duration": 60,
    "start_time": "2023-08-02T14:11:29.351Z"
   }
  ],
  "kernelspec": {
   "display_name": "Python 3 (ipykernel)",
   "language": "python",
   "name": "python3"
  },
  "language_info": {
   "codemirror_mode": {
    "name": "ipython",
    "version": 3
   },
   "file_extension": ".py",
   "mimetype": "text/x-python",
   "name": "python",
   "nbconvert_exporter": "python",
   "pygments_lexer": "ipython3",
   "version": "3.9.13"
  },
  "toc": {
   "base_numbering": 1,
   "nav_menu": {},
   "number_sections": true,
   "sideBar": true,
   "skip_h1_title": true,
   "title_cell": "Table of Contents",
   "title_sidebar": "Contents",
   "toc_cell": false,
   "toc_position": {},
   "toc_section_display": true,
   "toc_window_display": false
  }
 },
 "nbformat": 4,
 "nbformat_minor": 2
}
