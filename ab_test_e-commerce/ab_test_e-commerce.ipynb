{
 "cells": [
  {
   "cell_type": "markdown",
   "metadata": {},
   "source": [
    "\n",
    "# Проект. A/B-тест. Анализ гипотез\n",
    "\n"
   ]
  },
  {
   "cell_type": "markdown",
   "metadata": {},
   "source": [
    "Располагаем спсиком гипотез для увеличения выручки.\n",
    "Необходимо провести анализ и  выбрать основную для проведения A/B-теста \n",
    "\n",
    "\n",
    "**Часть 1. Приоритизация гипотез.**\n",
    "\n",
    "\n",
    "\n",
    "9 гипотез по увеличению выручки интернет-магазина с указанными параметрами Reach, Impact, Confidence, Effort.\n",
    "\n",
    "\n",
    "Задача\n",
    "Применить фреймворк ICE для приоритизации гипотез. Отсортировать их по убыванию приоритета.\n",
    "Применить фреймворк RICE для приоритизации гипотез. Отсортировать их по убыванию приоритета.\n",
    "Провести ииследования. Понять, изменилась приоритизация гипотез при применении RICE вместо ICE. \n",
    "Объяснить, почему так произошло.\n",
    "\n",
    "**Часть 2. Анализ A/B-теста.**\n",
    "\n",
    "\n",
    "Задача\n",
    "Проанализируйте A/B-тест:\n",
    "* Построить график кумулятивной выручки по группам. Сделать выводы и предположения.\n",
    "* Построить график кумулятивного среднего чека по группам. Сделать выводы и предположения.\n",
    "* Построить график относительного изменения кумулятивного среднего чека группы B к группе A. Сделать выводы и предположения.\n",
    "* Построить график кумулятивного среднего количества заказов на посетителя по группам. Сделать выводы и предположения.\n",
    "* Построить график относительного изменения кумулятивного среднего количества заказов на посетителя группы B к группе A. Сделать выводы и предположения.\n",
    "* Построить точечный график количества заказов по пользователям. Сделать выводы и предположения.\n",
    "* Посчитать 95-й и 99-й перцентили количества заказов на пользователя. Выберите границу для определения аномальных пользователей.\n",
    "* Построить точечный график стоимостей заказов. Сделать выводы и предположения.\n",
    "* Посчитать 95-й и 99-й перцентили стоимости заказов. Выберите границу для определения аномальных заказов.\n",
    "* Посчитать статистическую значимость различий в среднем количестве заказов на посетителя между группами по «сырым» данным. Сделать выводы и предположения.\n",
    "* Посчитать статистическую значимость различий в среднем чеке заказа между группами по «сырым» данным. Сделать выводы и предположения.\n",
    "* Посчитать статистическую значимость различий в среднем количестве заказов на посетителя между группами по «очищенным» данным. * Сделать выводы и предположения.\n",
    "* Посчитайте статистическую значимость различий в среднем чеке заказа между группами по «очищенным» данным. Сделать выводы и * * предположения.\n",
    "* Принять решение по результатам теста и объяснить его.\n",
    "* Принять решенией:\n",
    "* 1. Остановить тест, зафиксировать победу одной из групп.\n",
    "* 2. Остановить тест, зафиксировать отсутствие различий между группами.\n",
    "* 3. Продолжить тест.\n",
    "\n"
   ]
  },
  {
   "cell_type": "code",
   "execution_count": 1,
   "metadata": {},
   "outputs": [],
   "source": [
    "from matplotlib import pyplot as plt\n",
    "import pandas as pd\n",
    "import seaborn as sns\n",
    "import datetime as dt\n",
    "import warnings\n",
    "import scipy.stats as stats\n",
    "import numpy as np\n",
    "from pandas.plotting import register_matplotlib_converters\n",
    "\n",
    "register_matplotlib_converters()"
   ]
  },
  {
   "cell_type": "code",
   "execution_count": 2,
   "metadata": {},
   "outputs": [],
   "source": [
    "visitors = pd.read_csv('/datasets/visitors.csv')\n",
    "hypothesis = pd.read_csv('/datasets/hypothesis.csv')\n",
    "orders = pd.read_csv('/datasets/orders.csv')"
   ]
  },
  {
   "cell_type": "code",
   "execution_count": 3,
   "metadata": {},
   "outputs": [],
   "source": [
    "#visitors = visitors.duplicated().sum()\n",
    "#visitors\n"
   ]
  },
  {
   "cell_type": "code",
   "execution_count": 4,
   "metadata": {},
   "outputs": [],
   "source": [
    "#hypothesis = hypothesis.duplicated().sum()\n",
    "#hypothesis\n"
   ]
  },
  {
   "cell_type": "code",
   "execution_count": 5,
   "metadata": {},
   "outputs": [],
   "source": [
    "#orders = orders.duplicated().sum()\n",
    "#orders"
   ]
  },
  {
   "cell_type": "markdown",
   "metadata": {},
   "source": [
    "Дубликатов в данных нет.\n"
   ]
  },
  {
   "cell_type": "code",
   "execution_count": 6,
   "metadata": {},
   "outputs": [],
   "source": [
    "hypothesis.columns = ['hypothesis', 'reach', 'impact', 'confidence', 'efforts']"
   ]
  },
  {
   "cell_type": "code",
   "execution_count": 7,
   "metadata": {},
   "outputs": [
    {
     "data": {
      "text/html": [
       "<div>\n",
       "<style scoped>\n",
       "    .dataframe tbody tr th:only-of-type {\n",
       "        vertical-align: middle;\n",
       "    }\n",
       "\n",
       "    .dataframe tbody tr th {\n",
       "        vertical-align: top;\n",
       "    }\n",
       "\n",
       "    .dataframe thead th {\n",
       "        text-align: right;\n",
       "    }\n",
       "</style>\n",
       "<table border=\"1\" class=\"dataframe\">\n",
       "  <thead>\n",
       "    <tr style=\"text-align: right;\">\n",
       "      <th></th>\n",
       "      <th>hypothesis</th>\n",
       "      <th>reach</th>\n",
       "      <th>impact</th>\n",
       "      <th>confidence</th>\n",
       "      <th>efforts</th>\n",
       "    </tr>\n",
       "  </thead>\n",
       "  <tbody>\n",
       "    <tr>\n",
       "      <th>0</th>\n",
       "      <td>Добавить два новых канала привлечения трафика, что позволит привлекать на 30% больше пользователей</td>\n",
       "      <td>3</td>\n",
       "      <td>10</td>\n",
       "      <td>8</td>\n",
       "      <td>6</td>\n",
       "    </tr>\n",
       "    <tr>\n",
       "      <th>1</th>\n",
       "      <td>Запустить собственную службу доставки, что сократит срок доставки заказов</td>\n",
       "      <td>2</td>\n",
       "      <td>5</td>\n",
       "      <td>4</td>\n",
       "      <td>10</td>\n",
       "    </tr>\n",
       "    <tr>\n",
       "      <th>2</th>\n",
       "      <td>Добавить блоки рекомендаций товаров на сайт интернет магазина, чтобы повысить конверсию и средний чек заказа</td>\n",
       "      <td>8</td>\n",
       "      <td>3</td>\n",
       "      <td>7</td>\n",
       "      <td>3</td>\n",
       "    </tr>\n",
       "    <tr>\n",
       "      <th>3</th>\n",
       "      <td>Изменить структура категорий, что увеличит конверсию, т.к. пользователи быстрее найдут нужный товар</td>\n",
       "      <td>8</td>\n",
       "      <td>3</td>\n",
       "      <td>3</td>\n",
       "      <td>8</td>\n",
       "    </tr>\n",
       "    <tr>\n",
       "      <th>4</th>\n",
       "      <td>Изменить цвет фона главной страницы, чтобы увеличить вовлеченность пользователей</td>\n",
       "      <td>3</td>\n",
       "      <td>1</td>\n",
       "      <td>1</td>\n",
       "      <td>1</td>\n",
       "    </tr>\n",
       "    <tr>\n",
       "      <th>5</th>\n",
       "      <td>Добавить страницу отзывов клиентов о магазине, что позволит увеличить количество заказов</td>\n",
       "      <td>3</td>\n",
       "      <td>2</td>\n",
       "      <td>2</td>\n",
       "      <td>3</td>\n",
       "    </tr>\n",
       "    <tr>\n",
       "      <th>6</th>\n",
       "      <td>Показать на главной странице баннеры с актуальными акциями и распродажами, чтобы увеличить конверсию</td>\n",
       "      <td>5</td>\n",
       "      <td>3</td>\n",
       "      <td>8</td>\n",
       "      <td>3</td>\n",
       "    </tr>\n",
       "    <tr>\n",
       "      <th>7</th>\n",
       "      <td>Добавить форму подписки на все основные страницы, чтобы собрать базу клиентов для email-рассылок</td>\n",
       "      <td>10</td>\n",
       "      <td>7</td>\n",
       "      <td>8</td>\n",
       "      <td>5</td>\n",
       "    </tr>\n",
       "    <tr>\n",
       "      <th>8</th>\n",
       "      <td>Запустить акцию, дающую скидку на товар в день рождения</td>\n",
       "      <td>1</td>\n",
       "      <td>9</td>\n",
       "      <td>9</td>\n",
       "      <td>5</td>\n",
       "    </tr>\n",
       "  </tbody>\n",
       "</table>\n",
       "</div>"
      ],
      "text/plain": [
       "                                                                                                     hypothesis  \\\n",
       "0            Добавить два новых канала привлечения трафика, что позволит привлекать на 30% больше пользователей   \n",
       "1                                     Запустить собственную службу доставки, что сократит срок доставки заказов   \n",
       "2  Добавить блоки рекомендаций товаров на сайт интернет магазина, чтобы повысить конверсию и средний чек заказа   \n",
       "3           Изменить структура категорий, что увеличит конверсию, т.к. пользователи быстрее найдут нужный товар   \n",
       "4                              Изменить цвет фона главной страницы, чтобы увеличить вовлеченность пользователей   \n",
       "5                      Добавить страницу отзывов клиентов о магазине, что позволит увеличить количество заказов   \n",
       "6          Показать на главной странице баннеры с актуальными акциями и распродажами, чтобы увеличить конверсию   \n",
       "7              Добавить форму подписки на все основные страницы, чтобы собрать базу клиентов для email-рассылок   \n",
       "8                                                       Запустить акцию, дающую скидку на товар в день рождения   \n",
       "\n",
       "   reach  impact  confidence  efforts  \n",
       "0      3      10           8        6  \n",
       "1      2       5           4       10  \n",
       "2      8       3           7        3  \n",
       "3      8       3           3        8  \n",
       "4      3       1           1        1  \n",
       "5      3       2           2        3  \n",
       "6      5       3           8        3  \n",
       "7     10       7           8        5  \n",
       "8      1       9           9        5  "
      ]
     },
     "execution_count": 7,
     "metadata": {},
     "output_type": "execute_result"
    }
   ],
   "source": [
    "pd.set_option('display.max_colwidth', 150)\n",
    "hypothesis"
   ]
  },
  {
   "cell_type": "markdown",
   "metadata": {},
   "source": [
    "Нижний регистр. Расширенный вид."
   ]
  },
  {
   "cell_type": "code",
   "execution_count": 8,
   "metadata": {},
   "outputs": [
    {
     "data": {
      "text/html": [
       "<div>\n",
       "<style scoped>\n",
       "    .dataframe tbody tr th:only-of-type {\n",
       "        vertical-align: middle;\n",
       "    }\n",
       "\n",
       "    .dataframe tbody tr th {\n",
       "        vertical-align: top;\n",
       "    }\n",
       "\n",
       "    .dataframe thead th {\n",
       "        text-align: right;\n",
       "    }\n",
       "</style>\n",
       "<table border=\"1\" class=\"dataframe\">\n",
       "  <thead>\n",
       "    <tr style=\"text-align: right;\">\n",
       "      <th></th>\n",
       "      <th>hypothesis</th>\n",
       "      <th>ice</th>\n",
       "    </tr>\n",
       "  </thead>\n",
       "  <tbody>\n",
       "    <tr>\n",
       "      <th>8</th>\n",
       "      <td>Запустить акцию, дающую скидку на товар в день рождения</td>\n",
       "      <td>16.20</td>\n",
       "    </tr>\n",
       "    <tr>\n",
       "      <th>0</th>\n",
       "      <td>Добавить два новых канала привлечения трафика, что позволит привлекать на 30% больше пользователей</td>\n",
       "      <td>13.33</td>\n",
       "    </tr>\n",
       "    <tr>\n",
       "      <th>7</th>\n",
       "      <td>Добавить форму подписки на все основные страницы, чтобы собрать базу клиентов для email-рассылок</td>\n",
       "      <td>11.20</td>\n",
       "    </tr>\n",
       "    <tr>\n",
       "      <th>6</th>\n",
       "      <td>Показать на главной странице баннеры с актуальными акциями и распродажами, чтобы увеличить конверсию</td>\n",
       "      <td>8.00</td>\n",
       "    </tr>\n",
       "    <tr>\n",
       "      <th>2</th>\n",
       "      <td>Добавить блоки рекомендаций товаров на сайт интернет магазина, чтобы повысить конверсию и средний чек заказа</td>\n",
       "      <td>7.00</td>\n",
       "    </tr>\n",
       "    <tr>\n",
       "      <th>1</th>\n",
       "      <td>Запустить собственную службу доставки, что сократит срок доставки заказов</td>\n",
       "      <td>2.00</td>\n",
       "    </tr>\n",
       "    <tr>\n",
       "      <th>5</th>\n",
       "      <td>Добавить страницу отзывов клиентов о магазине, что позволит увеличить количество заказов</td>\n",
       "      <td>1.33</td>\n",
       "    </tr>\n",
       "    <tr>\n",
       "      <th>3</th>\n",
       "      <td>Изменить структура категорий, что увеличит конверсию, т.к. пользователи быстрее найдут нужный товар</td>\n",
       "      <td>1.12</td>\n",
       "    </tr>\n",
       "    <tr>\n",
       "      <th>4</th>\n",
       "      <td>Изменить цвет фона главной страницы, чтобы увеличить вовлеченность пользователей</td>\n",
       "      <td>1.00</td>\n",
       "    </tr>\n",
       "  </tbody>\n",
       "</table>\n",
       "</div>"
      ],
      "text/plain": [
       "                                                                                                     hypothesis  \\\n",
       "8                                                       Запустить акцию, дающую скидку на товар в день рождения   \n",
       "0            Добавить два новых канала привлечения трафика, что позволит привлекать на 30% больше пользователей   \n",
       "7              Добавить форму подписки на все основные страницы, чтобы собрать базу клиентов для email-рассылок   \n",
       "6          Показать на главной странице баннеры с актуальными акциями и распродажами, чтобы увеличить конверсию   \n",
       "2  Добавить блоки рекомендаций товаров на сайт интернет магазина, чтобы повысить конверсию и средний чек заказа   \n",
       "1                                     Запустить собственную службу доставки, что сократит срок доставки заказов   \n",
       "5                      Добавить страницу отзывов клиентов о магазине, что позволит увеличить количество заказов   \n",
       "3           Изменить структура категорий, что увеличит конверсию, т.к. пользователи быстрее найдут нужный товар   \n",
       "4                              Изменить цвет фона главной страницы, чтобы увеличить вовлеченность пользователей   \n",
       "\n",
       "     ice  \n",
       "8  16.20  \n",
       "0  13.33  \n",
       "7  11.20  \n",
       "6   8.00  \n",
       "2   7.00  \n",
       "1   2.00  \n",
       "5   1.33  \n",
       "3   1.12  \n",
       "4   1.00  "
      ]
     },
     "execution_count": 8,
     "metadata": {},
     "output_type": "execute_result"
    }
   ],
   "source": [
    "hypothesis['ice'] = round(((hypothesis['impact'] * hypothesis['confidence']) / hypothesis['efforts']), 2) \n",
    "hypothesis[['hypothesis', 'ice']].sort_values(by='ice', ascending=False)"
   ]
  },
  {
   "cell_type": "markdown",
   "metadata": {},
   "source": [
    "Убывание приоритета. Фреймворк ICE"
   ]
  },
  {
   "cell_type": "code",
   "execution_count": 9,
   "metadata": {},
   "outputs": [
    {
     "data": {
      "text/html": [
       "<div>\n",
       "<style scoped>\n",
       "    .dataframe tbody tr th:only-of-type {\n",
       "        vertical-align: middle;\n",
       "    }\n",
       "\n",
       "    .dataframe tbody tr th {\n",
       "        vertical-align: top;\n",
       "    }\n",
       "\n",
       "    .dataframe thead th {\n",
       "        text-align: right;\n",
       "    }\n",
       "</style>\n",
       "<table border=\"1\" class=\"dataframe\">\n",
       "  <thead>\n",
       "    <tr style=\"text-align: right;\">\n",
       "      <th></th>\n",
       "      <th>hypothesis</th>\n",
       "      <th>rice</th>\n",
       "    </tr>\n",
       "  </thead>\n",
       "  <tbody>\n",
       "    <tr>\n",
       "      <th>7</th>\n",
       "      <td>Добавить форму подписки на все основные страницы, чтобы собрать базу клиентов для email-рассылок</td>\n",
       "      <td>112.0</td>\n",
       "    </tr>\n",
       "    <tr>\n",
       "      <th>2</th>\n",
       "      <td>Добавить блоки рекомендаций товаров на сайт интернет магазина, чтобы повысить конверсию и средний чек заказа</td>\n",
       "      <td>56.0</td>\n",
       "    </tr>\n",
       "    <tr>\n",
       "      <th>0</th>\n",
       "      <td>Добавить два новых канала привлечения трафика, что позволит привлекать на 30% больше пользователей</td>\n",
       "      <td>40.0</td>\n",
       "    </tr>\n",
       "    <tr>\n",
       "      <th>6</th>\n",
       "      <td>Показать на главной странице баннеры с актуальными акциями и распродажами, чтобы увеличить конверсию</td>\n",
       "      <td>40.0</td>\n",
       "    </tr>\n",
       "    <tr>\n",
       "      <th>8</th>\n",
       "      <td>Запустить акцию, дающую скидку на товар в день рождения</td>\n",
       "      <td>16.2</td>\n",
       "    </tr>\n",
       "    <tr>\n",
       "      <th>3</th>\n",
       "      <td>Изменить структура категорий, что увеличит конверсию, т.к. пользователи быстрее найдут нужный товар</td>\n",
       "      <td>9.0</td>\n",
       "    </tr>\n",
       "    <tr>\n",
       "      <th>1</th>\n",
       "      <td>Запустить собственную службу доставки, что сократит срок доставки заказов</td>\n",
       "      <td>4.0</td>\n",
       "    </tr>\n",
       "    <tr>\n",
       "      <th>5</th>\n",
       "      <td>Добавить страницу отзывов клиентов о магазине, что позволит увеличить количество заказов</td>\n",
       "      <td>4.0</td>\n",
       "    </tr>\n",
       "    <tr>\n",
       "      <th>4</th>\n",
       "      <td>Изменить цвет фона главной страницы, чтобы увеличить вовлеченность пользователей</td>\n",
       "      <td>3.0</td>\n",
       "    </tr>\n",
       "  </tbody>\n",
       "</table>\n",
       "</div>"
      ],
      "text/plain": [
       "                                                                                                     hypothesis  \\\n",
       "7              Добавить форму подписки на все основные страницы, чтобы собрать базу клиентов для email-рассылок   \n",
       "2  Добавить блоки рекомендаций товаров на сайт интернет магазина, чтобы повысить конверсию и средний чек заказа   \n",
       "0            Добавить два новых канала привлечения трафика, что позволит привлекать на 30% больше пользователей   \n",
       "6          Показать на главной странице баннеры с актуальными акциями и распродажами, чтобы увеличить конверсию   \n",
       "8                                                       Запустить акцию, дающую скидку на товар в день рождения   \n",
       "3           Изменить структура категорий, что увеличит конверсию, т.к. пользователи быстрее найдут нужный товар   \n",
       "1                                     Запустить собственную службу доставки, что сократит срок доставки заказов   \n",
       "5                      Добавить страницу отзывов клиентов о магазине, что позволит увеличить количество заказов   \n",
       "4                              Изменить цвет фона главной страницы, чтобы увеличить вовлеченность пользователей   \n",
       "\n",
       "    rice  \n",
       "7  112.0  \n",
       "2   56.0  \n",
       "0   40.0  \n",
       "6   40.0  \n",
       "8   16.2  \n",
       "3    9.0  \n",
       "1    4.0  \n",
       "5    4.0  \n",
       "4    3.0  "
      ]
     },
     "execution_count": 9,
     "metadata": {},
     "output_type": "execute_result"
    }
   ],
   "source": [
    "hypothesis['rice'] = round(((hypothesis['reach'] * hypothesis['impact'] * hypothesis['confidence']) / hypothesis['efforts']), 2) \n",
    "hypothesis[['hypothesis', 'rice']].sort_values(by='rice', ascending=False)"
   ]
  },
  {
   "cell_type": "markdown",
   "metadata": {},
   "source": [
    "Убывание приоритета. Фреймворк RICE.\n",
    "\n",
    "\n",
    "Фреймворк ICE для приоритезации гипотез вывел вариант \"Запустить акцию, дающую скидку на товар в день рождения\" на первое место.\n",
    "\n",
    "Фреймворк RICE для приоритезации гипотез вывел вариант \"Добавить форму подписки на все основные страницы, чтобы собрать базу клиентов для email-рассылок\"\n",
    "\n",
    "Reach — охват пользователей по 10-балльной шкале - по данному критерию имеет смысл для дальнейшего исследования использовать гипотезу, которую вывел метод RICE. остановимся на ней. "
   ]
  },
  {
   "cell_type": "markdown",
   "metadata": {},
   "source": [
    "**Анализ A/B-теста**"
   ]
  },
  {
   "cell_type": "code",
   "execution_count": 10,
   "metadata": {},
   "outputs": [
    {
     "data": {
      "text/html": [
       "<div>\n",
       "<style scoped>\n",
       "    .dataframe tbody tr th:only-of-type {\n",
       "        vertical-align: middle;\n",
       "    }\n",
       "\n",
       "    .dataframe tbody tr th {\n",
       "        vertical-align: top;\n",
       "    }\n",
       "\n",
       "    .dataframe thead th {\n",
       "        text-align: right;\n",
       "    }\n",
       "</style>\n",
       "<table border=\"1\" class=\"dataframe\">\n",
       "  <thead>\n",
       "    <tr style=\"text-align: right;\">\n",
       "      <th></th>\n",
       "      <th>date</th>\n",
       "      <th>group</th>\n",
       "      <th>visitors</th>\n",
       "    </tr>\n",
       "  </thead>\n",
       "  <tbody>\n",
       "    <tr>\n",
       "      <th>0</th>\n",
       "      <td>2019-08-01</td>\n",
       "      <td>A</td>\n",
       "      <td>719</td>\n",
       "    </tr>\n",
       "    <tr>\n",
       "      <th>1</th>\n",
       "      <td>2019-08-02</td>\n",
       "      <td>A</td>\n",
       "      <td>619</td>\n",
       "    </tr>\n",
       "    <tr>\n",
       "      <th>2</th>\n",
       "      <td>2019-08-03</td>\n",
       "      <td>A</td>\n",
       "      <td>507</td>\n",
       "    </tr>\n",
       "    <tr>\n",
       "      <th>3</th>\n",
       "      <td>2019-08-04</td>\n",
       "      <td>A</td>\n",
       "      <td>717</td>\n",
       "    </tr>\n",
       "    <tr>\n",
       "      <th>4</th>\n",
       "      <td>2019-08-05</td>\n",
       "      <td>A</td>\n",
       "      <td>756</td>\n",
       "    </tr>\n",
       "    <tr>\n",
       "      <th>...</th>\n",
       "      <td>...</td>\n",
       "      <td>...</td>\n",
       "      <td>...</td>\n",
       "    </tr>\n",
       "    <tr>\n",
       "      <th>57</th>\n",
       "      <td>2019-08-27</td>\n",
       "      <td>B</td>\n",
       "      <td>720</td>\n",
       "    </tr>\n",
       "    <tr>\n",
       "      <th>58</th>\n",
       "      <td>2019-08-28</td>\n",
       "      <td>B</td>\n",
       "      <td>654</td>\n",
       "    </tr>\n",
       "    <tr>\n",
       "      <th>59</th>\n",
       "      <td>2019-08-29</td>\n",
       "      <td>B</td>\n",
       "      <td>531</td>\n",
       "    </tr>\n",
       "    <tr>\n",
       "      <th>60</th>\n",
       "      <td>2019-08-30</td>\n",
       "      <td>B</td>\n",
       "      <td>490</td>\n",
       "    </tr>\n",
       "    <tr>\n",
       "      <th>61</th>\n",
       "      <td>2019-08-31</td>\n",
       "      <td>B</td>\n",
       "      <td>718</td>\n",
       "    </tr>\n",
       "  </tbody>\n",
       "</table>\n",
       "<p>62 rows × 3 columns</p>\n",
       "</div>"
      ],
      "text/plain": [
       "          date group  visitors\n",
       "0   2019-08-01     A       719\n",
       "1   2019-08-02     A       619\n",
       "2   2019-08-03     A       507\n",
       "3   2019-08-04     A       717\n",
       "4   2019-08-05     A       756\n",
       "..         ...   ...       ...\n",
       "57  2019-08-27     B       720\n",
       "58  2019-08-28     B       654\n",
       "59  2019-08-29     B       531\n",
       "60  2019-08-30     B       490\n",
       "61  2019-08-31     B       718\n",
       "\n",
       "[62 rows x 3 columns]"
      ]
     },
     "metadata": {},
     "output_type": "display_data"
    },
    {
     "data": {
      "text/html": [
       "<div>\n",
       "<style scoped>\n",
       "    .dataframe tbody tr th:only-of-type {\n",
       "        vertical-align: middle;\n",
       "    }\n",
       "\n",
       "    .dataframe tbody tr th {\n",
       "        vertical-align: top;\n",
       "    }\n",
       "\n",
       "    .dataframe thead th {\n",
       "        text-align: right;\n",
       "    }\n",
       "</style>\n",
       "<table border=\"1\" class=\"dataframe\">\n",
       "  <thead>\n",
       "    <tr style=\"text-align: right;\">\n",
       "      <th></th>\n",
       "      <th>transactionId</th>\n",
       "      <th>visitorId</th>\n",
       "      <th>date</th>\n",
       "      <th>revenue</th>\n",
       "      <th>group</th>\n",
       "    </tr>\n",
       "  </thead>\n",
       "  <tbody>\n",
       "    <tr>\n",
       "      <th>0</th>\n",
       "      <td>3667963787</td>\n",
       "      <td>3312258926</td>\n",
       "      <td>2019-08-15</td>\n",
       "      <td>1650</td>\n",
       "      <td>B</td>\n",
       "    </tr>\n",
       "    <tr>\n",
       "      <th>1</th>\n",
       "      <td>2804400009</td>\n",
       "      <td>3642806036</td>\n",
       "      <td>2019-08-15</td>\n",
       "      <td>730</td>\n",
       "      <td>B</td>\n",
       "    </tr>\n",
       "    <tr>\n",
       "      <th>2</th>\n",
       "      <td>2961555356</td>\n",
       "      <td>4069496402</td>\n",
       "      <td>2019-08-15</td>\n",
       "      <td>400</td>\n",
       "      <td>A</td>\n",
       "    </tr>\n",
       "    <tr>\n",
       "      <th>3</th>\n",
       "      <td>3797467345</td>\n",
       "      <td>1196621759</td>\n",
       "      <td>2019-08-15</td>\n",
       "      <td>9759</td>\n",
       "      <td>B</td>\n",
       "    </tr>\n",
       "    <tr>\n",
       "      <th>4</th>\n",
       "      <td>2282983706</td>\n",
       "      <td>2322279887</td>\n",
       "      <td>2019-08-15</td>\n",
       "      <td>2308</td>\n",
       "      <td>B</td>\n",
       "    </tr>\n",
       "    <tr>\n",
       "      <th>...</th>\n",
       "      <td>...</td>\n",
       "      <td>...</td>\n",
       "      <td>...</td>\n",
       "      <td>...</td>\n",
       "      <td>...</td>\n",
       "    </tr>\n",
       "    <tr>\n",
       "      <th>1192</th>\n",
       "      <td>2662137336</td>\n",
       "      <td>3733762160</td>\n",
       "      <td>2019-08-14</td>\n",
       "      <td>6490</td>\n",
       "      <td>B</td>\n",
       "    </tr>\n",
       "    <tr>\n",
       "      <th>1193</th>\n",
       "      <td>2203539145</td>\n",
       "      <td>370388673</td>\n",
       "      <td>2019-08-14</td>\n",
       "      <td>3190</td>\n",
       "      <td>A</td>\n",
       "    </tr>\n",
       "    <tr>\n",
       "      <th>1194</th>\n",
       "      <td>1807773912</td>\n",
       "      <td>573423106</td>\n",
       "      <td>2019-08-14</td>\n",
       "      <td>10550</td>\n",
       "      <td>A</td>\n",
       "    </tr>\n",
       "    <tr>\n",
       "      <th>1195</th>\n",
       "      <td>1947021204</td>\n",
       "      <td>1614305549</td>\n",
       "      <td>2019-08-14</td>\n",
       "      <td>100</td>\n",
       "      <td>A</td>\n",
       "    </tr>\n",
       "    <tr>\n",
       "      <th>1196</th>\n",
       "      <td>3936777065</td>\n",
       "      <td>2108080724</td>\n",
       "      <td>2019-08-15</td>\n",
       "      <td>202740</td>\n",
       "      <td>B</td>\n",
       "    </tr>\n",
       "  </tbody>\n",
       "</table>\n",
       "<p>1197 rows × 5 columns</p>\n",
       "</div>"
      ],
      "text/plain": [
       "      transactionId   visitorId        date  revenue group\n",
       "0        3667963787  3312258926  2019-08-15     1650     B\n",
       "1        2804400009  3642806036  2019-08-15      730     B\n",
       "2        2961555356  4069496402  2019-08-15      400     A\n",
       "3        3797467345  1196621759  2019-08-15     9759     B\n",
       "4        2282983706  2322279887  2019-08-15     2308     B\n",
       "...             ...         ...         ...      ...   ...\n",
       "1192     2662137336  3733762160  2019-08-14     6490     B\n",
       "1193     2203539145   370388673  2019-08-14     3190     A\n",
       "1194     1807773912   573423106  2019-08-14    10550     A\n",
       "1195     1947021204  1614305549  2019-08-14      100     A\n",
       "1196     3936777065  2108080724  2019-08-15   202740     B\n",
       "\n",
       "[1197 rows x 5 columns]"
      ]
     },
     "metadata": {},
     "output_type": "display_data"
    }
   ],
   "source": [
    "display(visitors)\n",
    "display(orders)"
   ]
  },
  {
   "cell_type": "markdown",
   "metadata": {},
   "source": [
    "**Построение графика кумулятивной выручки по группам**\n"
   ]
  },
  {
   "cell_type": "code",
   "execution_count": 11,
   "metadata": {},
   "outputs": [],
   "source": [
    "orders['date'] = pd.to_datetime(orders['date'])\n",
    "visitors['date'] = pd.to_datetime(visitors['date'])"
   ]
  },
  {
   "cell_type": "markdown",
   "metadata": {},
   "source": [
    "Преобразование формата дат"
   ]
  },
  {
   "cell_type": "code",
   "execution_count": 12,
   "metadata": {},
   "outputs": [],
   "source": [
    "datesGroups = orders[['date','group']].drop_duplicates() \n"
   ]
  },
  {
   "cell_type": "markdown",
   "metadata": {},
   "source": [
    "Созданы уникальные сочетания по дате и группе"
   ]
  },
  {
   "cell_type": "code",
   "execution_count": 13,
   "metadata": {},
   "outputs": [
    {
     "data": {
      "text/html": [
       "<div>\n",
       "<style scoped>\n",
       "    .dataframe tbody tr th:only-of-type {\n",
       "        vertical-align: middle;\n",
       "    }\n",
       "\n",
       "    .dataframe tbody tr th {\n",
       "        vertical-align: top;\n",
       "    }\n",
       "\n",
       "    .dataframe thead th {\n",
       "        text-align: right;\n",
       "    }\n",
       "</style>\n",
       "<table border=\"1\" class=\"dataframe\">\n",
       "  <thead>\n",
       "    <tr style=\"text-align: right;\">\n",
       "      <th></th>\n",
       "      <th>date</th>\n",
       "      <th>group</th>\n",
       "      <th>transactionId</th>\n",
       "      <th>visitorId</th>\n",
       "      <th>revenue</th>\n",
       "    </tr>\n",
       "  </thead>\n",
       "  <tbody>\n",
       "    <tr>\n",
       "      <th>55</th>\n",
       "      <td>2019-08-01</td>\n",
       "      <td>A</td>\n",
       "      <td>24</td>\n",
       "      <td>20</td>\n",
       "      <td>148579</td>\n",
       "    </tr>\n",
       "    <tr>\n",
       "      <th>66</th>\n",
       "      <td>2019-08-01</td>\n",
       "      <td>B</td>\n",
       "      <td>21</td>\n",
       "      <td>20</td>\n",
       "      <td>101217</td>\n",
       "    </tr>\n",
       "    <tr>\n",
       "      <th>175</th>\n",
       "      <td>2019-08-02</td>\n",
       "      <td>A</td>\n",
       "      <td>44</td>\n",
       "      <td>38</td>\n",
       "      <td>242401</td>\n",
       "    </tr>\n",
       "    <tr>\n",
       "      <th>173</th>\n",
       "      <td>2019-08-02</td>\n",
       "      <td>B</td>\n",
       "      <td>45</td>\n",
       "      <td>43</td>\n",
       "      <td>266748</td>\n",
       "    </tr>\n",
       "    <tr>\n",
       "      <th>291</th>\n",
       "      <td>2019-08-03</td>\n",
       "      <td>A</td>\n",
       "      <td>68</td>\n",
       "      <td>62</td>\n",
       "      <td>354874</td>\n",
       "    </tr>\n",
       "  </tbody>\n",
       "</table>\n",
       "</div>"
      ],
      "text/plain": [
       "          date group  transactionId  visitorId  revenue\n",
       "55  2019-08-01     A             24         20   148579\n",
       "66  2019-08-01     B             21         20   101217\n",
       "175 2019-08-02     A             44         38   242401\n",
       "173 2019-08-02     B             45         43   266748\n",
       "291 2019-08-03     A             68         62   354874"
      ]
     },
     "execution_count": 13,
     "metadata": {},
     "output_type": "execute_result"
    }
   ],
   "source": [
    "ordersAggregated = datesGroups.apply(\n",
    "    lambda x: orders[\n",
    "    np.logical_and(\n",
    "        orders['date'] <= x['date'], orders['group'] == x['group'])\n",
    "    ].agg({\n",
    "        'date': 'max', \n",
    "        'group': 'max', \n",
    "        'transactionId': 'nunique', \n",
    "        'visitorId': 'nunique',\n",
    "        'revenue': 'sum',}\n",
    "    ),axis=1,\n",
    ").sort_values(by=['date', 'group'])\n",
    "ordersAggregated.head() "
   ]
  },
  {
   "cell_type": "markdown",
   "metadata": {},
   "source": [
    "Кумулятивные агренгированные значения по дням. Заказы."
   ]
  },
  {
   "cell_type": "code",
   "execution_count": 14,
   "metadata": {},
   "outputs": [
    {
     "data": {
      "text/html": [
       "<div>\n",
       "<style scoped>\n",
       "    .dataframe tbody tr th:only-of-type {\n",
       "        vertical-align: middle;\n",
       "    }\n",
       "\n",
       "    .dataframe tbody tr th {\n",
       "        vertical-align: top;\n",
       "    }\n",
       "\n",
       "    .dataframe thead th {\n",
       "        text-align: right;\n",
       "    }\n",
       "</style>\n",
       "<table border=\"1\" class=\"dataframe\">\n",
       "  <thead>\n",
       "    <tr style=\"text-align: right;\">\n",
       "      <th></th>\n",
       "      <th>date</th>\n",
       "      <th>group</th>\n",
       "      <th>visitors</th>\n",
       "    </tr>\n",
       "  </thead>\n",
       "  <tbody>\n",
       "    <tr>\n",
       "      <th>55</th>\n",
       "      <td>2019-08-01</td>\n",
       "      <td>A</td>\n",
       "      <td>719</td>\n",
       "    </tr>\n",
       "    <tr>\n",
       "      <th>66</th>\n",
       "      <td>2019-08-01</td>\n",
       "      <td>B</td>\n",
       "      <td>713</td>\n",
       "    </tr>\n",
       "    <tr>\n",
       "      <th>175</th>\n",
       "      <td>2019-08-02</td>\n",
       "      <td>A</td>\n",
       "      <td>1338</td>\n",
       "    </tr>\n",
       "    <tr>\n",
       "      <th>173</th>\n",
       "      <td>2019-08-02</td>\n",
       "      <td>B</td>\n",
       "      <td>1294</td>\n",
       "    </tr>\n",
       "    <tr>\n",
       "      <th>291</th>\n",
       "      <td>2019-08-03</td>\n",
       "      <td>A</td>\n",
       "      <td>1845</td>\n",
       "    </tr>\n",
       "  </tbody>\n",
       "</table>\n",
       "</div>"
      ],
      "text/plain": [
       "          date group  visitors\n",
       "55  2019-08-01     A       719\n",
       "66  2019-08-01     B       713\n",
       "175 2019-08-02     A      1338\n",
       "173 2019-08-02     B      1294\n",
       "291 2019-08-03     A      1845"
      ]
     },
     "execution_count": 14,
     "metadata": {},
     "output_type": "execute_result"
    }
   ],
   "source": [
    "visitorsAggregated = datesGroups.apply(\n",
    "    lambda x: visitors[\n",
    "    np.logical_and(\n",
    "        visitors['date'] <= x['date'], visitors['group'] == x['group'])\n",
    "    ].agg({\n",
    "        'date': 'max',\n",
    "        'group': 'max',\n",
    "        'visitors': 'sum'}),\n",
    "    axis=1,\n",
    ").sort_values(by=['date', 'group'])\n",
    "visitorsAggregated.head() "
   ]
  },
  {
   "cell_type": "markdown",
   "metadata": {},
   "source": [
    "Кумулятивные агренгированные значения по дням. Визиты посетитиелей."
   ]
  },
  {
   "cell_type": "code",
   "execution_count": 15,
   "metadata": {},
   "outputs": [
    {
     "data": {
      "text/html": [
       "<div>\n",
       "<style scoped>\n",
       "    .dataframe tbody tr th:only-of-type {\n",
       "        vertical-align: middle;\n",
       "    }\n",
       "\n",
       "    .dataframe tbody tr th {\n",
       "        vertical-align: top;\n",
       "    }\n",
       "\n",
       "    .dataframe thead th {\n",
       "        text-align: right;\n",
       "    }\n",
       "</style>\n",
       "<table border=\"1\" class=\"dataframe\">\n",
       "  <thead>\n",
       "    <tr style=\"text-align: right;\">\n",
       "      <th></th>\n",
       "      <th>date</th>\n",
       "      <th>group</th>\n",
       "      <th>orders</th>\n",
       "      <th>buyers</th>\n",
       "      <th>revenue</th>\n",
       "      <th>visitors</th>\n",
       "    </tr>\n",
       "  </thead>\n",
       "  <tbody>\n",
       "    <tr>\n",
       "      <th>0</th>\n",
       "      <td>2019-08-01</td>\n",
       "      <td>A</td>\n",
       "      <td>24</td>\n",
       "      <td>20</td>\n",
       "      <td>148579</td>\n",
       "      <td>719</td>\n",
       "    </tr>\n",
       "    <tr>\n",
       "      <th>1</th>\n",
       "      <td>2019-08-01</td>\n",
       "      <td>B</td>\n",
       "      <td>21</td>\n",
       "      <td>20</td>\n",
       "      <td>101217</td>\n",
       "      <td>713</td>\n",
       "    </tr>\n",
       "    <tr>\n",
       "      <th>2</th>\n",
       "      <td>2019-08-02</td>\n",
       "      <td>A</td>\n",
       "      <td>44</td>\n",
       "      <td>38</td>\n",
       "      <td>242401</td>\n",
       "      <td>1338</td>\n",
       "    </tr>\n",
       "    <tr>\n",
       "      <th>3</th>\n",
       "      <td>2019-08-02</td>\n",
       "      <td>B</td>\n",
       "      <td>45</td>\n",
       "      <td>43</td>\n",
       "      <td>266748</td>\n",
       "      <td>1294</td>\n",
       "    </tr>\n",
       "    <tr>\n",
       "      <th>4</th>\n",
       "      <td>2019-08-03</td>\n",
       "      <td>A</td>\n",
       "      <td>68</td>\n",
       "      <td>62</td>\n",
       "      <td>354874</td>\n",
       "      <td>1845</td>\n",
       "    </tr>\n",
       "  </tbody>\n",
       "</table>\n",
       "</div>"
      ],
      "text/plain": [
       "        date group  orders  buyers  revenue  visitors\n",
       "0 2019-08-01     A      24      20   148579       719\n",
       "1 2019-08-01     B      21      20   101217       713\n",
       "2 2019-08-02     A      44      38   242401      1338\n",
       "3 2019-08-02     B      45      43   266748      1294\n",
       "4 2019-08-03     A      68      62   354874      1845"
      ]
     },
     "execution_count": 15,
     "metadata": {},
     "output_type": "execute_result"
    }
   ],
   "source": [
    "cumulativeData = ordersAggregated.merge(visitorsAggregated, left_on=['date', 'group'], right_on=['date', 'group'])\n",
    "cumulativeData.columns = ['date', 'group', 'orders', 'buyers', 'revenue', 'visitors']\n",
    "cumulativeData.head() "
   ]
  },
  {
   "cell_type": "markdown",
   "metadata": {},
   "source": [
    "Сводим в обной таблице."
   ]
  },
  {
   "cell_type": "code",
   "execution_count": 16,
   "metadata": {},
   "outputs": [
    {
     "data": {
      "image/png": "[encoded data removed]",
      "text/plain": [
       "<Figure size 1080x360 with 1 Axes>"
      ]
     },
     "metadata": {
      "needs_background": "light"
     },
     "output_type": "display_data"
    }
   ],
   "source": [
    "cumulativeRevenueA = cumulativeData[cumulativeData['group']=='A'][['date','revenue', 'orders']]\n",
    "cumulativeRevenueB = cumulativeData[cumulativeData['group']=='B'][['date','revenue', 'orders']]\n",
    "\n",
    "plt.figure(figsize=(15,5)) \n",
    "\n",
    "plt.plot(cumulativeRevenueA['date'], cumulativeRevenueA['revenue'], label='A')\n",
    "\n",
    "plt.plot(cumulativeRevenueB['date'], cumulativeRevenueB['revenue'], label='B')\n",
    "\n",
    "plt.title('График кумулятивной выручки по группам'), plt.ylabel('Выручка')\n",
    "plt.grid(), plt.legend()\n",
    "plt.show()"
   ]
  },
  {
   "cell_type": "markdown",
   "metadata": {},
   "source": [
    "График кумулятивной выручки по обеим группам.\n",
    "\n",
    "Вторая половина августа - резкий рост по выручке, далее общий рост продолжался равномерно в обеих групп. Рост выручки может иметь разные причины. "
   ]
  },
  {
   "cell_type": "code",
   "execution_count": 17,
   "metadata": {},
   "outputs": [
    {
     "data": {
      "image/png": "[encoded data removed]",
      "text/plain": [
       "<Figure size 1080x360 with 1 Axes>"
      ]
     },
     "metadata": {
      "needs_background": "light"
     },
     "output_type": "display_data"
    }
   ],
   "source": [
    "plt.figure(figsize=(15,5))\n",
    "#group A\n",
    "plt.plot(cumulativeRevenueA['date'], cumulativeRevenueA['revenue']/cumulativeRevenueA['orders'], label='A')\n",
    "#group B\n",
    "plt.plot(cumulativeRevenueB['date'], cumulativeRevenueB['revenue']/cumulativeRevenueB['orders'], label='B')\n",
    "\n",
    "plt.title('График кумулятивного среднего чека по группам'), plt.ylabel('Выручка')\n",
    "plt.grid(), plt.legend()\n",
    "plt.show()"
   ]
  },
  {
   "cell_type": "markdown",
   "metadata": {},
   "source": [
    "Средний чек в обеих группах. Значения среднего чека во второй половине августа  свидетельствовуют о крупном заказе. "
   ]
  },
  {
   "cell_type": "code",
   "execution_count": 18,
   "metadata": {},
   "outputs": [
    {
     "data": {
      "image/png": "[encoded data removed]",
      "text/plain": [
       "<Figure size 1080x360 with 1 Axes>"
      ]
     },
     "metadata": {
      "needs_background": "light"
     },
     "output_type": "display_data"
    }
   ],
   "source": [
    "mergedCumulativeRevenue = cumulativeRevenueA.merge(\n",
    "    cumulativeRevenueB, left_on='date', right_on='date', how='left', suffixes=['A', 'B'])\n",
    "\n",
    "plt.figure(figsize=(15,5))\n",
    "plt.plot(mergedCumulativeRevenue['date'],(\n",
    "    mergedCumulativeRevenue['revenueB']/mergedCumulativeRevenue['ordersB'])/(mergedCumulativeRevenue['revenueA']/mergedCumulativeRevenue['ordersA'])-1)\n",
    "\n",
    "\n",
    "plt.axhline(y=0, color='red', linestyle='--') \n",
    "plt.title('График относительного изменения кумулятивного среднего чека группы B к группе A')\n",
    "plt.grid()\n",
    "plt.show()"
   ]
  },
  {
   "cell_type": "markdown",
   "metadata": {},
   "source": [
    "График визуализирующий относительность между значениями среднего чека В к А. Аналогичным образом значения В выше, чем А и резко в тех же таймингах "
   ]
  },
  {
   "cell_type": "code",
   "execution_count": 19,
   "metadata": {},
   "outputs": [
    {
     "data": {
      "image/png": "[encoded data removed]",
      "text/plain": [
       "<Figure size 1080x360 with 1 Axes>"
      ]
     },
     "metadata": {
      "needs_background": "light"
     },
     "output_type": "display_data"
    }
   ],
   "source": [
    "cumulativeData['conversion'] = cumulativeData['orders']/cumulativeData['visitors']\n",
    "\n",
    "\n",
    "cumulativeDataA = cumulativeData[cumulativeData['group']=='A']\n",
    "\n",
    "cumulativeDataB = cumulativeData[cumulativeData['group']=='B']\n",
    "\n",
    "plt.figure(figsize=(15,5))\n",
    "plt.plot(cumulativeDataA['date'], cumulativeDataA['conversion'], label='A')\n",
    "plt.plot(cumulativeDataB['date'], cumulativeDataB['conversion'], label='B')\n",
    "\n",
    "plt.title('График кумулятивного количества заказов на посетителя по группам')\n",
    "plt.grid(), plt.legend()\n",
    "plt.axis(['2019-08-01', '2019-08-31', 0.027, 0.04])\n",
    "plt.show()"
   ]
  },
  {
   "cell_type": "markdown",
   "metadata": {},
   "source": [
    "После 10 августа на графике кумулятивного количества заказов на посетителя заметна стабилизация значений относительно между группами.\n",
    "Со 2 по 6 рост и падение. С 6 августа по  10 августа - ключевые изменения."
   ]
  },
  {
   "cell_type": "code",
   "execution_count": 20,
   "metadata": {},
   "outputs": [
    {
     "data": {
      "image/png": "[encoded data removed]",
      "text/plain": [
       "<Figure size 1080x360 with 1 Axes>"
      ]
     },
     "metadata": {
      "needs_background": "light"
     },
     "output_type": "display_data"
    }
   ],
   "source": [
    "mergedCumulativeConversions = cumulativeDataA[['date','conversion']].merge(\n",
    "    cumulativeDataB[['date','conversion']], left_on='date', right_on='date', how='left', suffixes=['A', 'B'])\n",
    "\n",
    "plt.figure(figsize=(15,5))\n",
    "plt.plot(mergedCumulativeConversions['date'], mergedCumulativeConversions['conversionB']/mergedCumulativeConversions['conversionA']-1)\n",
    "\n",
    "plt.title('График относительного изменения кумулятивного количества заказов на посетителя гр. B к гр. A')\n",
    "plt.axhline(y=0, color='red', linestyle='--')\n",
    "plt.axhline(y=0.1, color='grey', linestyle='--')\n",
    "plt.axhline(y=0.2, color='grey', linestyle='--')\n",
    "plt.axis(['2019-08-01', '2019-08-31', -0.2, 0.3]) \n",
    "plt.show()"
   ]
  },
  {
   "cell_type": "markdown",
   "metadata": {},
   "source": [
    "На графике со значениями кумулятивных количеств у групп, относительно, группа В от А лидирует с отрывом , примерно, от 50 до 100%.\n",
    "Лидерство с 10 августа. Неделю до этого - группа А \"не уступала\" лидерство."
   ]
  },
  {
   "cell_type": "code",
   "execution_count": 21,
   "metadata": {},
   "outputs": [
    {
     "data": {
      "text/html": [
       "<div>\n",
       "<style scoped>\n",
       "    .dataframe tbody tr th:only-of-type {\n",
       "        vertical-align: middle;\n",
       "    }\n",
       "\n",
       "    .dataframe tbody tr th {\n",
       "        vertical-align: top;\n",
       "    }\n",
       "\n",
       "    .dataframe thead th {\n",
       "        text-align: right;\n",
       "    }\n",
       "</style>\n",
       "<table border=\"1\" class=\"dataframe\">\n",
       "  <thead>\n",
       "    <tr style=\"text-align: right;\">\n",
       "      <th></th>\n",
       "      <th>visitorId</th>\n",
       "      <th>orders</th>\n",
       "    </tr>\n",
       "  </thead>\n",
       "  <tbody>\n",
       "    <tr>\n",
       "      <th>1023</th>\n",
       "      <td>4256040402</td>\n",
       "      <td>11</td>\n",
       "    </tr>\n",
       "    <tr>\n",
       "      <th>591</th>\n",
       "      <td>2458001652</td>\n",
       "      <td>11</td>\n",
       "    </tr>\n",
       "    <tr>\n",
       "      <th>569</th>\n",
       "      <td>2378935119</td>\n",
       "      <td>9</td>\n",
       "    </tr>\n",
       "    <tr>\n",
       "      <th>487</th>\n",
       "      <td>2038680547</td>\n",
       "      <td>8</td>\n",
       "    </tr>\n",
       "    <tr>\n",
       "      <th>44</th>\n",
       "      <td>199603092</td>\n",
       "      <td>5</td>\n",
       "    </tr>\n",
       "  </tbody>\n",
       "</table>\n",
       "</div>"
      ],
      "text/plain": [
       "       visitorId  orders\n",
       "1023  4256040402      11\n",
       "591   2458001652      11\n",
       "569   2378935119       9\n",
       "487   2038680547       8\n",
       "44     199603092       5"
      ]
     },
     "execution_count": 21,
     "metadata": {},
     "output_type": "execute_result"
    }
   ],
   "source": [
    "ordersByUsers = (orders.groupby('visitorId', as_index=False).agg({'transactionId': 'nunique'}))\n",
    "ordersByUsers.columns = ['visitorId', 'orders']\n",
    "ordersByUsers.sort_values(by='orders', ascending=False).head()"
   ]
  },
  {
   "cell_type": "markdown",
   "metadata": {},
   "source": [
    "Срез по уникальным заказам для графика, для проверки и визуализации кол-ва заказов"
   ]
  },
  {
   "cell_type": "code",
   "execution_count": 22,
   "metadata": {},
   "outputs": [
    {
     "data": {
      "image/png": "[encoded data removed]",
      "text/plain": [
       "<Figure size 1080x360 with 1 Axes>"
      ]
     },
     "metadata": {
      "needs_background": "light"
     },
     "output_type": "display_data"
    }
   ],
   "source": [
    "x_values = pd.Series(range(0,len(ordersByUsers)))\n",
    "plt.figure(figsize=(15,5))\n",
    "plt.scatter(x_values, ordersByUsers['orders'], alpha=0.6) \n",
    "\n",
    "plt.title('Точечный график количества заказов по пользователям')\n",
    "plt.ylabel('Количество заказов')\n",
    "plt.show()"
   ]
  },
  {
   "cell_type": "markdown",
   "metadata": {},
   "source": [
    "Точечный график показывает незначительное кол-во заказов в кол-ве 2шт. Еще меньше кол-во , где более 2 шт. "
   ]
  },
  {
   "cell_type": "code",
   "execution_count": 23,
   "metadata": {},
   "outputs": [
    {
     "name": "stdout",
     "output_type": "stream",
     "text": [
      "[1. 2. 2. 2. 3. 4.]\n"
     ]
    }
   ],
   "source": [
    "print(np.percentile(ordersByUsers['orders'], [90, 95, 96, 97, 98, 99]))"
   ]
  },
  {
   "cell_type": "markdown",
   "metadata": {},
   "source": [
    ".Метод расчета перцентилей  с 90 по 99 свидетельствует о том, что максимум 3% - это заказы  в кол-ве 2шт. 1 процент- заказы более 4 шт. До 2 заказов, включительно, берем в работу - остальные отсекаем- статистически незначительно"
   ]
  },
  {
   "cell_type": "code",
   "execution_count": 24,
   "metadata": {},
   "outputs": [
    {
     "data": {
      "image/png": "[encoded data removed]",
      "text/plain": [
       "<Figure size 1080x360 with 1 Axes>"
      ]
     },
     "metadata": {
      "needs_background": "light"
     },
     "output_type": "display_data"
    }
   ],
   "source": [
    "x_values = pd.Series(range(0,len(orders['revenue'])))\n",
    "plt.figure(figsize=(15,5))\n",
    "plt.scatter(x_values, orders['revenue'], alpha=0.5) \n",
    "\n",
    "plt.title('Точечный график стоимостей заказов')\n",
    "plt.ylabel('Стоимость заказа')\n",
    "plt.show() "
   ]
  },
  {
   "cell_type": "markdown",
   "metadata": {},
   "source": [
    "Необходимо \"отрезать\" аномалии."
   ]
  },
  {
   "cell_type": "code",
   "execution_count": 25,
   "metadata": {},
   "outputs": [
    {
     "data": {
      "image/png": "[encoded data removed]",
      "text/plain": [
       "<Figure size 1080x360 with 1 Axes>"
      ]
     },
     "metadata": {
      "needs_background": "light"
     },
     "output_type": "display_data"
    }
   ],
   "source": [
    "orders_low = orders.query('revenue < 150000')\n",
    "x_values_low = pd.Series(range(0,len(orders_low['revenue'])))\n",
    "\n",
    "plt.figure(figsize=(15,5))\n",
    "plt.scatter(x_values_low, orders_low['revenue'], alpha=0.5) \n",
    "plt.title('Точечный график стоимостей заказов')\n",
    "plt.ylabel('Стоимость заказа')\n",
    "plt.show()  \n"
   ]
  },
  {
   "cell_type": "code",
   "execution_count": 26,
   "metadata": {},
   "outputs": [
    {
     "name": "stdout",
     "output_type": "stream",
     "text": [
      "[18168.  28000.  31382.  35485.  44133.2 58233.2]\n"
     ]
    }
   ],
   "source": [
    "print(np.percentile(orders['revenue'], [90, 95, 96, 97, 98, 99]))"
   ]
  },
  {
   "cell_type": "markdown",
   "metadata": {},
   "source": [
    "Границу, по аналогии с предыдущим графиком, найдем методом определения 95 перцентили. 28 000 отсекаем."
   ]
  },
  {
   "cell_type": "code",
   "execution_count": 27,
   "metadata": {},
   "outputs": [
    {
     "data": {
      "text/html": [
       "<div>\n",
       "<style scoped>\n",
       "    .dataframe tbody tr th:only-of-type {\n",
       "        vertical-align: middle;\n",
       "    }\n",
       "\n",
       "    .dataframe tbody tr th {\n",
       "        vertical-align: top;\n",
       "    }\n",
       "\n",
       "    .dataframe thead th {\n",
       "        text-align: right;\n",
       "    }\n",
       "</style>\n",
       "<table border=\"1\" class=\"dataframe\">\n",
       "  <thead>\n",
       "    <tr style=\"text-align: right;\">\n",
       "      <th></th>\n",
       "      <th>date</th>\n",
       "      <th>visitorsCummulativeA</th>\n",
       "    </tr>\n",
       "  </thead>\n",
       "  <tbody>\n",
       "    <tr>\n",
       "      <th>0</th>\n",
       "      <td>2019-08-01</td>\n",
       "      <td>719</td>\n",
       "    </tr>\n",
       "    <tr>\n",
       "      <th>1</th>\n",
       "      <td>2019-08-02</td>\n",
       "      <td>1338</td>\n",
       "    </tr>\n",
       "    <tr>\n",
       "      <th>2</th>\n",
       "      <td>2019-08-03</td>\n",
       "      <td>1845</td>\n",
       "    </tr>\n",
       "    <tr>\n",
       "      <th>3</th>\n",
       "      <td>2019-08-04</td>\n",
       "      <td>2562</td>\n",
       "    </tr>\n",
       "    <tr>\n",
       "      <th>4</th>\n",
       "      <td>2019-08-05</td>\n",
       "      <td>3318</td>\n",
       "    </tr>\n",
       "  </tbody>\n",
       "</table>\n",
       "</div>"
      ],
      "text/plain": [
       "        date  visitorsCummulativeA\n",
       "0 2019-08-01                   719\n",
       "1 2019-08-02                  1338\n",
       "2 2019-08-03                  1845\n",
       "3 2019-08-04                  2562\n",
       "4 2019-08-05                  3318"
      ]
     },
     "metadata": {},
     "output_type": "display_data"
    },
    {
     "data": {
      "text/html": [
       "<div>\n",
       "<style scoped>\n",
       "    .dataframe tbody tr th:only-of-type {\n",
       "        vertical-align: middle;\n",
       "    }\n",
       "\n",
       "    .dataframe tbody tr th {\n",
       "        vertical-align: top;\n",
       "    }\n",
       "\n",
       "    .dataframe thead th {\n",
       "        text-align: right;\n",
       "    }\n",
       "</style>\n",
       "<table border=\"1\" class=\"dataframe\">\n",
       "  <thead>\n",
       "    <tr style=\"text-align: right;\">\n",
       "      <th></th>\n",
       "      <th>date</th>\n",
       "      <th>visitorsCummulativeB</th>\n",
       "    </tr>\n",
       "  </thead>\n",
       "  <tbody>\n",
       "    <tr>\n",
       "      <th>31</th>\n",
       "      <td>2019-08-01</td>\n",
       "      <td>713</td>\n",
       "    </tr>\n",
       "    <tr>\n",
       "      <th>32</th>\n",
       "      <td>2019-08-02</td>\n",
       "      <td>1294</td>\n",
       "    </tr>\n",
       "    <tr>\n",
       "      <th>33</th>\n",
       "      <td>2019-08-03</td>\n",
       "      <td>1803</td>\n",
       "    </tr>\n",
       "    <tr>\n",
       "      <th>34</th>\n",
       "      <td>2019-08-04</td>\n",
       "      <td>2573</td>\n",
       "    </tr>\n",
       "    <tr>\n",
       "      <th>35</th>\n",
       "      <td>2019-08-05</td>\n",
       "      <td>3280</td>\n",
       "    </tr>\n",
       "  </tbody>\n",
       "</table>\n",
       "</div>"
      ],
      "text/plain": [
       "         date  visitorsCummulativeB\n",
       "31 2019-08-01                   713\n",
       "32 2019-08-02                  1294\n",
       "33 2019-08-03                  1803\n",
       "34 2019-08-04                  2573\n",
       "35 2019-08-05                  3280"
      ]
     },
     "metadata": {},
     "output_type": "display_data"
    }
   ],
   "source": [
    "\n",
    "visitorsADaily = visitors[visitors['group'] == 'A'][['date', 'visitors']]\n",
    "visitorsADaily.columns = ['date', 'visitorsPerDateA']\n",
    "\n",
    "visitorsACummulative = visitorsADaily.apply(lambda x: visitorsADaily[visitorsADaily['date'] <= x['date']]\n",
    "                                     .agg({'date': 'max', 'visitorsPerDateA': 'sum'}),axis=1,)\n",
    "\n",
    "visitorsACummulative.columns = ['date', 'visitorsCummulativeA']\n",
    "display(visitorsACummulative.head())\n",
    "\n",
    "\n",
    "visitorsBDaily = visitors[visitors['group'] == 'B'][['date', 'visitors']]\n",
    "visitorsBDaily.columns = ['date', 'visitorsPerDateB']\n",
    "\n",
    "visitorsBCummulative = visitorsBDaily.apply(lambda x: visitorsBDaily[visitorsBDaily['date'] <= x['date']]\n",
    "                                     .agg({'date': 'max', 'visitorsPerDateB': 'sum'}),axis=1,)\n",
    "\n",
    "visitorsBCummulative.columns = ['date', 'visitorsCummulativeB']\n",
    "display(visitorsBCummulative.head())"
   ]
  },
  {
   "cell_type": "markdown",
   "metadata": {},
   "source": [
    "Накопительный эффект в обеих группах по значению кол-вв пользователей и дате"
   ]
  },
  {
   "cell_type": "code",
   "execution_count": 28,
   "metadata": {},
   "outputs": [
    {
     "data": {
      "text/html": [
       "<div>\n",
       "<style scoped>\n",
       "    .dataframe tbody tr th:only-of-type {\n",
       "        vertical-align: middle;\n",
       "    }\n",
       "\n",
       "    .dataframe tbody tr th {\n",
       "        vertical-align: top;\n",
       "    }\n",
       "\n",
       "    .dataframe thead th {\n",
       "        text-align: right;\n",
       "    }\n",
       "</style>\n",
       "<table border=\"1\" class=\"dataframe\">\n",
       "  <thead>\n",
       "    <tr style=\"text-align: right;\">\n",
       "      <th></th>\n",
       "      <th>date</th>\n",
       "      <th>ordersCummulativeA</th>\n",
       "      <th>revenueCummulativeA</th>\n",
       "    </tr>\n",
       "  </thead>\n",
       "  <tbody>\n",
       "    <tr>\n",
       "      <th>0</th>\n",
       "      <td>2019-08-01</td>\n",
       "      <td>24</td>\n",
       "      <td>148579</td>\n",
       "    </tr>\n",
       "    <tr>\n",
       "      <th>1</th>\n",
       "      <td>2019-08-02</td>\n",
       "      <td>44</td>\n",
       "      <td>242401</td>\n",
       "    </tr>\n",
       "    <tr>\n",
       "      <th>2</th>\n",
       "      <td>2019-08-03</td>\n",
       "      <td>68</td>\n",
       "      <td>354874</td>\n",
       "    </tr>\n",
       "    <tr>\n",
       "      <th>3</th>\n",
       "      <td>2019-08-04</td>\n",
       "      <td>84</td>\n",
       "      <td>425699</td>\n",
       "    </tr>\n",
       "    <tr>\n",
       "      <th>4</th>\n",
       "      <td>2019-08-05</td>\n",
       "      <td>109</td>\n",
       "      <td>549917</td>\n",
       "    </tr>\n",
       "  </tbody>\n",
       "</table>\n",
       "</div>"
      ],
      "text/plain": [
       "        date  ordersCummulativeA  revenueCummulativeA\n",
       "0 2019-08-01                  24               148579\n",
       "1 2019-08-02                  44               242401\n",
       "2 2019-08-03                  68               354874\n",
       "3 2019-08-04                  84               425699\n",
       "4 2019-08-05                 109               549917"
      ]
     },
     "metadata": {},
     "output_type": "display_data"
    },
    {
     "data": {
      "text/html": [
       "<div>\n",
       "<style scoped>\n",
       "    .dataframe tbody tr th:only-of-type {\n",
       "        vertical-align: middle;\n",
       "    }\n",
       "\n",
       "    .dataframe tbody tr th {\n",
       "        vertical-align: top;\n",
       "    }\n",
       "\n",
       "    .dataframe thead th {\n",
       "        text-align: right;\n",
       "    }\n",
       "</style>\n",
       "<table border=\"1\" class=\"dataframe\">\n",
       "  <thead>\n",
       "    <tr style=\"text-align: right;\">\n",
       "      <th></th>\n",
       "      <th>date</th>\n",
       "      <th>ordersCummulativeB</th>\n",
       "      <th>revenueCummulativeB</th>\n",
       "    </tr>\n",
       "  </thead>\n",
       "  <tbody>\n",
       "    <tr>\n",
       "      <th>0</th>\n",
       "      <td>2019-08-01</td>\n",
       "      <td>21</td>\n",
       "      <td>101217</td>\n",
       "    </tr>\n",
       "    <tr>\n",
       "      <th>1</th>\n",
       "      <td>2019-08-02</td>\n",
       "      <td>45</td>\n",
       "      <td>266748</td>\n",
       "    </tr>\n",
       "    <tr>\n",
       "      <th>2</th>\n",
       "      <td>2019-08-03</td>\n",
       "      <td>61</td>\n",
       "      <td>380996</td>\n",
       "    </tr>\n",
       "    <tr>\n",
       "      <th>3</th>\n",
       "      <td>2019-08-04</td>\n",
       "      <td>78</td>\n",
       "      <td>489567</td>\n",
       "    </tr>\n",
       "    <tr>\n",
       "      <th>4</th>\n",
       "      <td>2019-08-05</td>\n",
       "      <td>101</td>\n",
       "      <td>581995</td>\n",
       "    </tr>\n",
       "  </tbody>\n",
       "</table>\n",
       "</div>"
      ],
      "text/plain": [
       "        date  ordersCummulativeB  revenueCummulativeB\n",
       "0 2019-08-01                  21               101217\n",
       "1 2019-08-02                  45               266748\n",
       "2 2019-08-03                  61               380996\n",
       "3 2019-08-04                  78               489567\n",
       "4 2019-08-05                 101               581995"
      ]
     },
     "metadata": {},
     "output_type": "display_data"
    }
   ],
   "source": [
    "\n",
    "ordersADaily = (orders[orders['group'] == 'A'][['date', 'transactionId', 'visitorId', 'revenue']]\n",
    "               .groupby('date', as_index=False)\n",
    "               .agg({'transactionId': pd.Series.nunique, 'revenue': 'sum'}))\n",
    "\n",
    "ordersADaily.columns = ['date', 'ordersPerDateA', 'revenuePerDateA']\n",
    "\n",
    "ordersACummulative = ordersADaily.apply(lambda x: ordersADaily[ordersADaily['date'] <= x['date']]\n",
    "                                 .agg({'date': 'max', 'ordersPerDateA': 'sum', 'revenuePerDateA': 'sum'}),axis=1,).sort_values(by=['date'])\n",
    "    \n",
    "ordersACummulative.columns = ['date','ordersCummulativeA','revenueCummulativeA']\n",
    "display(ordersACummulative.head())\n",
    "\n",
    "\n",
    "ordersBDaily = (orders[orders['group'] == 'B'][['date', 'transactionId', 'visitorId', 'revenue']]\n",
    "               .groupby('date', as_index=False)\n",
    "               .agg({'transactionId': pd.Series.nunique, 'revenue': 'sum'}))\n",
    "\n",
    "ordersBDaily.columns = ['date', 'ordersPerDateB', 'revenuePerDateB']\n",
    "\n",
    "ordersBCummulative = ordersBDaily.apply(lambda x: ordersBDaily[ordersBDaily['date'] <= x['date']]\n",
    "                                 .agg({'date': 'max', 'ordersPerDateB': 'sum', 'revenuePerDateB': 'sum'}),axis=1,).sort_values(by=['date'])\n",
    "    \n",
    "ordersBCummulative.columns = ['date', 'ordersCummulativeB', 'revenueCummulativeB']\n",
    "display(ordersBCummulative.head())"
   ]
  },
  {
   "cell_type": "markdown",
   "metadata": {},
   "source": [
    "Накопительный эффект в обеих группах по значению кол-вв заказов и дате"
   ]
  },
  {
   "cell_type": "code",
   "execution_count": 29,
   "metadata": {},
   "outputs": [
    {
     "data": {
      "text/html": [
       "<div>\n",
       "<style scoped>\n",
       "    .dataframe tbody tr th:only-of-type {\n",
       "        vertical-align: middle;\n",
       "    }\n",
       "\n",
       "    .dataframe tbody tr th {\n",
       "        vertical-align: top;\n",
       "    }\n",
       "\n",
       "    .dataframe thead th {\n",
       "        text-align: right;\n",
       "    }\n",
       "</style>\n",
       "<table border=\"1\" class=\"dataframe\">\n",
       "  <thead>\n",
       "    <tr style=\"text-align: right;\">\n",
       "      <th></th>\n",
       "      <th>date</th>\n",
       "      <th>ordersPerDateA</th>\n",
       "      <th>revenuePerDateA</th>\n",
       "      <th>ordersPerDateB</th>\n",
       "      <th>revenuePerDateB</th>\n",
       "      <th>ordersCummulativeA</th>\n",
       "      <th>revenueCummulativeA</th>\n",
       "      <th>ordersCummulativeB</th>\n",
       "      <th>revenueCummulativeB</th>\n",
       "      <th>visitorsPerDateA</th>\n",
       "      <th>visitorsPerDateB</th>\n",
       "      <th>visitorsCummulativeA</th>\n",
       "      <th>visitorsCummulativeB</th>\n",
       "    </tr>\n",
       "  </thead>\n",
       "  <tbody>\n",
       "    <tr>\n",
       "      <th>0</th>\n",
       "      <td>2019-08-01</td>\n",
       "      <td>24</td>\n",
       "      <td>148579</td>\n",
       "      <td>21</td>\n",
       "      <td>101217</td>\n",
       "      <td>24</td>\n",
       "      <td>148579</td>\n",
       "      <td>21</td>\n",
       "      <td>101217</td>\n",
       "      <td>719</td>\n",
       "      <td>713</td>\n",
       "      <td>719</td>\n",
       "      <td>713</td>\n",
       "    </tr>\n",
       "    <tr>\n",
       "      <th>1</th>\n",
       "      <td>2019-08-02</td>\n",
       "      <td>20</td>\n",
       "      <td>93822</td>\n",
       "      <td>24</td>\n",
       "      <td>165531</td>\n",
       "      <td>44</td>\n",
       "      <td>242401</td>\n",
       "      <td>45</td>\n",
       "      <td>266748</td>\n",
       "      <td>619</td>\n",
       "      <td>581</td>\n",
       "      <td>1338</td>\n",
       "      <td>1294</td>\n",
       "    </tr>\n",
       "    <tr>\n",
       "      <th>2</th>\n",
       "      <td>2019-08-03</td>\n",
       "      <td>24</td>\n",
       "      <td>112473</td>\n",
       "      <td>16</td>\n",
       "      <td>114248</td>\n",
       "      <td>68</td>\n",
       "      <td>354874</td>\n",
       "      <td>61</td>\n",
       "      <td>380996</td>\n",
       "      <td>507</td>\n",
       "      <td>509</td>\n",
       "      <td>1845</td>\n",
       "      <td>1803</td>\n",
       "    </tr>\n",
       "    <tr>\n",
       "      <th>3</th>\n",
       "      <td>2019-08-04</td>\n",
       "      <td>16</td>\n",
       "      <td>70825</td>\n",
       "      <td>17</td>\n",
       "      <td>108571</td>\n",
       "      <td>84</td>\n",
       "      <td>425699</td>\n",
       "      <td>78</td>\n",
       "      <td>489567</td>\n",
       "      <td>717</td>\n",
       "      <td>770</td>\n",
       "      <td>2562</td>\n",
       "      <td>2573</td>\n",
       "    </tr>\n",
       "    <tr>\n",
       "      <th>4</th>\n",
       "      <td>2019-08-05</td>\n",
       "      <td>25</td>\n",
       "      <td>124218</td>\n",
       "      <td>23</td>\n",
       "      <td>92428</td>\n",
       "      <td>109</td>\n",
       "      <td>549917</td>\n",
       "      <td>101</td>\n",
       "      <td>581995</td>\n",
       "      <td>756</td>\n",
       "      <td>707</td>\n",
       "      <td>3318</td>\n",
       "      <td>3280</td>\n",
       "    </tr>\n",
       "  </tbody>\n",
       "</table>\n",
       "</div>"
      ],
      "text/plain": [
       "        date  ordersPerDateA  revenuePerDateA  ordersPerDateB  \\\n",
       "0 2019-08-01              24           148579              21   \n",
       "1 2019-08-02              20            93822              24   \n",
       "2 2019-08-03              24           112473              16   \n",
       "3 2019-08-04              16            70825              17   \n",
       "4 2019-08-05              25           124218              23   \n",
       "\n",
       "   revenuePerDateB  ordersCummulativeA  revenueCummulativeA  \\\n",
       "0           101217                  24               148579   \n",
       "1           165531                  44               242401   \n",
       "2           114248                  68               354874   \n",
       "3           108571                  84               425699   \n",
       "4            92428                 109               549917   \n",
       "\n",
       "   ordersCummulativeB  revenueCummulativeB  visitorsPerDateA  \\\n",
       "0                  21               101217               719   \n",
       "1                  45               266748               619   \n",
       "2                  61               380996               507   \n",
       "3                  78               489567               717   \n",
       "4                 101               581995               756   \n",
       "\n",
       "   visitorsPerDateB  visitorsCummulativeA  visitorsCummulativeB  \n",
       "0               713                   719                   713  \n",
       "1               581                  1338                  1294  \n",
       "2               509                  1845                  1803  \n",
       "3               770                  2562                  2573  \n",
       "4               707                  3318                  3280  "
      ]
     },
     "execution_count": 29,
     "metadata": {},
     "output_type": "execute_result"
    }
   ],
   "source": [
    "data = (ordersADaily.merge(ordersBDaily, left_on='date', right_on='date', how='left')\n",
    "    .merge(ordersACummulative, left_on='date', right_on='date', how='left')\n",
    "    .merge(ordersBCummulative, left_on='date', right_on='date', how='left')\n",
    "    .merge(visitorsADaily, left_on='date', right_on='date', how='left')\n",
    "    .merge(visitorsBDaily, left_on='date', right_on='date', how='left')\n",
    "    .merge(visitorsACummulative, left_on='date', right_on='date', how='left')\n",
    "    .merge(visitorsBCummulative, left_on='date', right_on='date', how='left'))\n",
    "data.head()"
   ]
  },
  {
   "cell_type": "markdown",
   "metadata": {},
   "source": [
    "Совмещаем в одну таблицу "
   ]
  },
  {
   "cell_type": "code",
   "execution_count": 30,
   "metadata": {},
   "outputs": [
    {
     "data": {
      "text/html": [
       "<div>\n",
       "<style scoped>\n",
       "    .dataframe tbody tr th:only-of-type {\n",
       "        vertical-align: middle;\n",
       "    }\n",
       "\n",
       "    .dataframe tbody tr th {\n",
       "        vertical-align: top;\n",
       "    }\n",
       "\n",
       "    .dataframe thead th {\n",
       "        text-align: right;\n",
       "    }\n",
       "</style>\n",
       "<table border=\"1\" class=\"dataframe\">\n",
       "  <thead>\n",
       "    <tr style=\"text-align: right;\">\n",
       "      <th></th>\n",
       "      <th>userId</th>\n",
       "      <th>orders</th>\n",
       "    </tr>\n",
       "  </thead>\n",
       "  <tbody>\n",
       "    <tr>\n",
       "      <th>0</th>\n",
       "      <td>8300375</td>\n",
       "      <td>1</td>\n",
       "    </tr>\n",
       "    <tr>\n",
       "      <th>1</th>\n",
       "      <td>11685486</td>\n",
       "      <td>1</td>\n",
       "    </tr>\n",
       "    <tr>\n",
       "      <th>2</th>\n",
       "      <td>54447517</td>\n",
       "      <td>1</td>\n",
       "    </tr>\n",
       "    <tr>\n",
       "      <th>3</th>\n",
       "      <td>66685450</td>\n",
       "      <td>1</td>\n",
       "    </tr>\n",
       "    <tr>\n",
       "      <th>4</th>\n",
       "      <td>78758296</td>\n",
       "      <td>1</td>\n",
       "    </tr>\n",
       "  </tbody>\n",
       "</table>\n",
       "</div>"
      ],
      "text/plain": [
       "     userId  orders\n",
       "0   8300375       1\n",
       "1  11685486       1\n",
       "2  54447517       1\n",
       "3  66685450       1\n",
       "4  78758296       1"
      ]
     },
     "metadata": {},
     "output_type": "display_data"
    },
    {
     "data": {
      "text/html": [
       "<div>\n",
       "<style scoped>\n",
       "    .dataframe tbody tr th:only-of-type {\n",
       "        vertical-align: middle;\n",
       "    }\n",
       "\n",
       "    .dataframe tbody tr th {\n",
       "        vertical-align: top;\n",
       "    }\n",
       "\n",
       "    .dataframe thead th {\n",
       "        text-align: right;\n",
       "    }\n",
       "</style>\n",
       "<table border=\"1\" class=\"dataframe\">\n",
       "  <thead>\n",
       "    <tr style=\"text-align: right;\">\n",
       "      <th></th>\n",
       "      <th>userId</th>\n",
       "      <th>orders</th>\n",
       "    </tr>\n",
       "  </thead>\n",
       "  <tbody>\n",
       "    <tr>\n",
       "      <th>0</th>\n",
       "      <td>5114589</td>\n",
       "      <td>1</td>\n",
       "    </tr>\n",
       "    <tr>\n",
       "      <th>1</th>\n",
       "      <td>6958315</td>\n",
       "      <td>1</td>\n",
       "    </tr>\n",
       "    <tr>\n",
       "      <th>2</th>\n",
       "      <td>8300375</td>\n",
       "      <td>1</td>\n",
       "    </tr>\n",
       "    <tr>\n",
       "      <th>3</th>\n",
       "      <td>39475350</td>\n",
       "      <td>1</td>\n",
       "    </tr>\n",
       "    <tr>\n",
       "      <th>4</th>\n",
       "      <td>47206413</td>\n",
       "      <td>1</td>\n",
       "    </tr>\n",
       "  </tbody>\n",
       "</table>\n",
       "</div>"
      ],
      "text/plain": [
       "     userId  orders\n",
       "0   5114589       1\n",
       "1   6958315       1\n",
       "2   8300375       1\n",
       "3  39475350       1\n",
       "4  47206413       1"
      ]
     },
     "metadata": {},
     "output_type": "display_data"
    }
   ],
   "source": [
    "\n",
    "ordersByUsersA = (orders[orders['group'] == 'A'].groupby('visitorId', as_index=False).agg({'transactionId': pd.Series.nunique}))\n",
    "ordersByUsersA.columns = ['userId', 'orders']\n",
    "display(ordersByUsersA.head())\n",
    "\n",
    "ordersByUsersB = (orders[orders['group'] == 'B'].groupby('visitorId', as_index=False).agg({'transactionId': pd.Series.nunique}))\n",
    "ordersByUsersB.columns = ['userId', 'orders']\n",
    "display(ordersByUsersB.head())"
   ]
  },
  {
   "cell_type": "markdown",
   "metadata": {},
   "source": [
    "Пользовтели с одним и борлее заказов.\n",
    "Задаем  уровень статистической значимости = 0.05. Метод Манна-Уитни определяет  p-value.\n",
    "Н0 - различий в среднем количестве заказов нет, Н1 - различия среднем количестве заказов есть.\n"
   ]
  },
  {
   "cell_type": "code",
   "execution_count": 31,
   "metadata": {},
   "outputs": [],
   "source": [
    "\n",
    "sampleA = pd.concat([ordersByUsersA['orders'],pd.Series(0,\n",
    "index=np.arange(data['visitorsPerDateA'].sum() - len(ordersByUsersA['orders'])), name='orders')],axis=0)\n",
    "\n",
    "\n",
    "sampleB = pd.concat([ordersByUsersB['orders'],pd.Series(0,\n",
    "index=np.arange(data['visitorsPerDateB'].sum() - len(ordersByUsersB['orders'])), name='orders')],axis=0)\n"
   ]
  },
  {
   "cell_type": "markdown",
   "metadata": {},
   "source": [
    "Разные группы с кол-вом заказов. Без покупок - присвоено значение ноль"
   ]
  },
  {
   "cell_type": "code",
   "execution_count": 32,
   "metadata": {},
   "outputs": [
    {
     "name": "stdout",
     "output_type": "stream",
     "text": [
      "p-value:\n",
      "0.017\n",
      "\n",
      "относительный прирост среднего группы B к конверсии группы А:\n",
      "0.138\n"
     ]
    }
   ],
   "source": [
    "print('p-value:')\n",
    "print(\"{0:.3f}\".format(stats.mannwhitneyu(sampleA, sampleB)[1]))\n",
    "print()\n",
    "print('относительный прирост среднего группы B к конверсии группы А:')\n",
    "print(\"{0:.3f}\".format(sampleB.mean() / sampleA.mean() - 1))"
   ]
  },
  {
   "cell_type": "markdown",
   "metadata": {},
   "source": [
    "По результатам вычислений отвергаем нулевую гипотезу. p-value < 0.05. Статистически значимые отличия. \n",
    "Около 14% прирост значений конверси B над A."
   ]
  },
  {
   "cell_type": "code",
   "execution_count": 33,
   "metadata": {},
   "outputs": [
    {
     "name": "stdout",
     "output_type": "stream",
     "text": [
      "p-value:\n",
      "0.729\n",
      "\n",
      "относительное различие среднего чека между группами:\n",
      "0.259\n"
     ]
    }
   ],
   "source": [
    "print('p-value:')\n",
    "print('{0:.3f}'.format(stats.mannwhitneyu(orders[orders['group']=='A']['revenue'],\n",
    "                                          orders[orders['group']=='B']['revenue'])[1]))\n",
    "print()\n",
    "print('относительное различие среднего чека между группами:')\n",
    "print('{0:.3f}'.format(orders[orders['group']=='B']['revenue'].mean()/orders[orders['group']=='A']['revenue'].mean()-1))"
   ]
  },
  {
   "cell_type": "markdown",
   "metadata": {},
   "source": [
    "Тем же образом вычисляем разницу по среднему чеку. Пользовтели с одним и борлее заказов. Задаем уровень статистической значимости = 0.05. Метод Манна-Уитни определяет p-value. Н0 - различий в среднем чеке нет, Н1 - различия среднем чеке есть."
   ]
  },
  {
   "cell_type": "markdown",
   "metadata": {},
   "source": [
    "Нулевая гипотеза не отвергается. Превышение над p-value значительное. 0.729 > 0.05\n",
    "Существенное относительное различие среднего чека говорит о наличии аномалий."
   ]
  },
  {
   "cell_type": "code",
   "execution_count": 34,
   "metadata": {
    "scrolled": true
   },
   "outputs": [
    {
     "name": "stdout",
     "output_type": "stream",
     "text": [
      "Всего аномальных пользователей:  74\n"
     ]
    }
   ],
   "source": [
    "usersWithManyOrders = pd.concat(\n",
    "    [\n",
    "        ordersByUsersA[ordersByUsersA['orders'] > 2]['userId'],\n",
    "        ordersByUsersB[ordersByUsersB['orders'] > 2]['userId'],\n",
    "    ],axis=0,)\n",
    "\n",
    "usersWithExpensiveOrders = orders[orders['revenue'] > 28000]['visitorId']\n",
    "\n",
    "abnormalUsers = (pd.concat([usersWithManyOrders, usersWithExpensiveOrders], axis=0).drop_duplicates().sort_values())\n",
    "\n",
    "print('Всего аномальных пользователей: ', abnormalUsers.shape[0])"
   ]
  },
  {
   "cell_type": "code",
   "execution_count": 35,
   "metadata": {},
   "outputs": [
    {
     "name": "stdout",
     "output_type": "stream",
     "text": [
      "[1.   2.   2.   2.   3.   3.98]\n",
      "[1.   2.   2.   2.   2.   3.15]\n"
     ]
    }
   ],
   "source": [
    "print(np.percentile(ordersByUsersA['orders'], [90, 95, 96, 97, 98, 99]))\n",
    "print(np.percentile(ordersByUsersB['orders'], [90, 95, 96, 97, 98, 99]))"
   ]
  },
  {
   "cell_type": "code",
   "execution_count": 36,
   "metadata": {},
   "outputs": [
    {
     "name": "stdout",
     "output_type": "stream",
     "text": [
      "[18168.  28000.  31382.  35485.  44133.2 58233.2]\n"
     ]
    }
   ],
   "source": [
    "print(np.percentile(orders['revenue'], [90, 95, 96, 97, 98, 99]))"
   ]
  },
  {
   "cell_type": "markdown",
   "metadata": {},
   "source": [
    "По очищенным данным статистическая значимость различий в среднем кол-ве заказов на посетителя между группами"
   ]
  },
  {
   "cell_type": "code",
   "execution_count": 37,
   "metadata": {},
   "outputs": [],
   "source": [
    "sampleAFiltered = pd.concat([ordersByUsersA[np.logical_not(ordersByUsersA['userId'].isin(abnormalUsers))]['orders'],\n",
    "    pd.Series(0, index=np.arange(data['visitorsPerDateA'].sum() - len(ordersByUsersA['orders'])), name='orders', ), ], axis=0,)\n",
    "\n",
    "sampleBFiltered = pd.concat([ordersByUsersB[np.logical_not(ordersByUsersB['userId'].isin(abnormalUsers))]['orders'], \n",
    "        pd.Series(0, index=np.arange(data['visitorsPerDateB'].sum() - len(ordersByUsersB['orders'])), name='orders',),],axis=0,)"
   ]
  },
  {
   "cell_type": "code",
   "execution_count": 38,
   "metadata": {},
   "outputs": [
    {
     "name": "stdout",
     "output_type": "stream",
     "text": [
      "p-value:\n",
      "0.013\n",
      "\n",
      "относительный прирост среднего группы B к конверсии группы А:\n",
      "0.173\n"
     ]
    }
   ],
   "source": [
    "print('p-value:')\n",
    "print('{0:.3f}'.format(stats.mannwhitneyu(sampleAFiltered, sampleBFiltered)[1]))\n",
    "print()\n",
    "print('относительный прирост среднего группы B к конверсии группы А:')\n",
    "print('{0:.3f}'.format(sampleBFiltered.mean()/sampleAFiltered.mean()-1))"
   ]
  },
  {
   "cell_type": "markdown",
   "metadata": {},
   "source": [
    "Статистическая значимость различий в среднем количестве заказов между группами теста по очищенным данным.\n",
    "Схожесть с сырыми данными. Гипотезу HO отвергаем. 0.013 < 0.05\n",
    "Группа В над А конверсия прирост около 17%\n",
    "\n"
   ]
  },
  {
   "cell_type": "code",
   "execution_count": 39,
   "metadata": {},
   "outputs": [
    {
     "name": "stdout",
     "output_type": "stream",
     "text": [
      "p-value:\n",
      "0.738\n",
      "\n",
      "относительное различие среднего чека между группами:\n",
      "-0.020\n"
     ]
    }
   ],
   "source": [
    "print('p-value:')\n",
    "print('{0:.3f}'.format(stats.mannwhitneyu(orders[\n",
    "    np.logical_and(orders['group'] == 'A',np.logical_not(orders['visitorId'].isin(abnormalUsers)),)]['revenue'],\n",
    "    orders[np.logical_and(orders['group'] == 'B',\n",
    "    np.logical_not(orders['visitorId'].isin(abnormalUsers)),)]['revenue'],)[1]))\n",
    "print()\n",
    "print('относительное различие среднего чека между группами:')\n",
    "print(\"{0:.3f}\".format(orders[\n",
    "    np.logical_and(orders['group'] == 'B',np.logical_not(orders['visitorId'].isin(abnormalUsers)),)]['revenue'].mean() /\n",
    "    orders[np.logical_and(orders['group'] == 'A',\n",
    "    np.logical_not(orders['visitorId'].isin(abnormalUsers)),) ]['revenue'].mean() - 1))"
   ]
  },
  {
   "cell_type": "markdown",
   "metadata": {},
   "source": [
    "Статистическая значимость по среднему чеку чистые данные.\n",
    "Статистическая значимость различий в среднем количестве заказов между группами теста по очищенным данным. Схожесть с сырыми данными.\n",
    "Гипотеза не отвергается. По среднему чеку группа А выше, чем В. Аномалии тому вина. "
   ]
  },
  {
   "cell_type": "markdown",
   "metadata": {},
   "source": [
    "**Вывод**\n",
    "Тест необходимо остановить. \n",
    "Группа В имеет выше конверсию по очищенным данным на 13.8% \n",
    "\n",
    "По среднему чеку различия минимальны, благодаря анализу и \"чистке\" аномалий в датасэтах. \n",
    "Графики успокаиваются с середины августа.\n",
    "Продолжение теста, без каких-либо внешних событий вряд ли приведет к более длостоверным заключениям."
   ]
  }
 ],
 "metadata": {
  "ExecuteTimeLog": [
   {
    "duration": 104,
    "start_time": "2023-04-23T08:13:26.384Z"
   },
   {
    "duration": 1304,
    "start_time": "2023-04-23T08:35:23.353Z"
   },
   {
    "duration": 198,
    "start_time": "2023-04-23T08:36:11.998Z"
   },
   {
    "duration": 19,
    "start_time": "2023-04-23T08:36:51.462Z"
   },
   {
    "duration": 8,
    "start_time": "2023-04-23T08:37:14.343Z"
   },
   {
    "duration": 105,
    "start_time": "2023-04-23T08:37:58.471Z"
   },
   {
    "duration": 9,
    "start_time": "2023-04-23T08:38:08.106Z"
   },
   {
    "duration": 9,
    "start_time": "2023-04-23T08:38:11.342Z"
   },
   {
    "duration": 4,
    "start_time": "2023-04-23T08:38:30.908Z"
   },
   {
    "duration": 79,
    "start_time": "2023-04-23T08:38:31.768Z"
   },
   {
    "duration": 5,
    "start_time": "2023-04-23T08:38:33.044Z"
   },
   {
    "duration": 6,
    "start_time": "2023-04-23T08:38:43.366Z"
   },
   {
    "duration": 6,
    "start_time": "2023-04-23T08:38:47.273Z"
   },
   {
    "duration": 10,
    "start_time": "2023-04-23T08:40:31.407Z"
   },
   {
    "duration": 8,
    "start_time": "2023-04-23T08:41:18.375Z"
   },
   {
    "duration": 61,
    "start_time": "2023-04-23T08:41:35.759Z"
   },
   {
    "duration": 8,
    "start_time": "2023-04-23T08:41:40.444Z"
   },
   {
    "duration": 1243,
    "start_time": "2023-04-23T08:43:57.807Z"
   },
   {
    "duration": 81,
    "start_time": "2023-04-23T08:43:59.053Z"
   },
   {
    "duration": 8,
    "start_time": "2023-04-23T08:43:59.135Z"
   },
   {
    "duration": 15,
    "start_time": "2023-04-23T08:43:59.145Z"
   },
   {
    "duration": 18,
    "start_time": "2023-04-23T08:43:59.162Z"
   },
   {
    "duration": 122,
    "start_time": "2023-04-23T08:43:59.182Z"
   },
   {
    "duration": 8,
    "start_time": "2023-04-23T08:44:13.920Z"
   },
   {
    "duration": 4,
    "start_time": "2023-04-23T08:44:42.915Z"
   },
   {
    "duration": 9,
    "start_time": "2023-04-23T08:50:18.875Z"
   },
   {
    "duration": 4,
    "start_time": "2023-04-23T08:50:38.615Z"
   },
   {
    "duration": 4,
    "start_time": "2023-04-23T08:50:53.177Z"
   },
   {
    "duration": 4,
    "start_time": "2023-04-23T08:51:05.845Z"
   },
   {
    "duration": 80,
    "start_time": "2023-04-23T08:51:06.492Z"
   },
   {
    "duration": 6,
    "start_time": "2023-04-23T08:51:11.762Z"
   },
   {
    "duration": 80,
    "start_time": "2023-04-23T08:52:02.197Z"
   },
   {
    "duration": 3,
    "start_time": "2023-04-23T08:52:02.940Z"
   },
   {
    "duration": 3,
    "start_time": "2023-04-23T08:52:03.849Z"
   },
   {
    "duration": 3,
    "start_time": "2023-04-23T08:52:05.110Z"
   },
   {
    "duration": 4,
    "start_time": "2023-04-23T08:52:08.661Z"
   },
   {
    "duration": 11,
    "start_time": "2023-04-23T08:52:13.506Z"
   },
   {
    "duration": 9,
    "start_time": "2023-04-23T08:55:41.417Z"
   },
   {
    "duration": 9,
    "start_time": "2023-04-23T08:57:06.418Z"
   },
   {
    "duration": 3,
    "start_time": "2023-04-23T08:57:34.553Z"
   },
   {
    "duration": 8,
    "start_time": "2023-04-23T08:57:35.098Z"
   },
   {
    "duration": 45,
    "start_time": "2023-04-23T08:59:13.891Z"
   },
   {
    "duration": 11,
    "start_time": "2023-04-23T09:02:50.505Z"
   },
   {
    "duration": 12,
    "start_time": "2023-04-23T09:02:55.711Z"
   },
   {
    "duration": 14,
    "start_time": "2023-04-23T09:31:33.824Z"
   },
   {
    "duration": 48,
    "start_time": "2023-04-23T09:31:34.377Z"
   },
   {
    "duration": 11,
    "start_time": "2023-04-23T09:31:42.705Z"
   },
   {
    "duration": 9,
    "start_time": "2023-04-23T09:45:22.310Z"
   },
   {
    "duration": 8,
    "start_time": "2023-04-23T09:45:34.889Z"
   },
   {
    "duration": 9,
    "start_time": "2023-04-23T09:45:49.845Z"
   },
   {
    "duration": 13,
    "start_time": "2023-04-23T09:46:32.199Z"
   },
   {
    "duration": 93,
    "start_time": "2023-04-23T09:49:44.739Z"
   },
   {
    "duration": 55,
    "start_time": "2023-04-23T09:50:17.569Z"
   },
   {
    "duration": 1000,
    "start_time": "2023-04-23T09:50:26.467Z"
   },
   {
    "duration": 1195,
    "start_time": "2023-04-23T09:50:46.541Z"
   },
   {
    "duration": 6,
    "start_time": "2023-04-23T09:52:17.073Z"
   },
   {
    "duration": 7,
    "start_time": "2023-04-23T09:52:23.037Z"
   },
   {
    "duration": 7,
    "start_time": "2023-04-23T09:52:32.929Z"
   },
   {
    "duration": 7,
    "start_time": "2023-04-23T09:53:13.329Z"
   },
   {
    "duration": 7,
    "start_time": "2023-04-23T09:53:22.541Z"
   },
   {
    "duration": 28,
    "start_time": "2023-04-23T09:54:03.205Z"
   },
   {
    "duration": 9,
    "start_time": "2023-04-23T09:54:13.275Z"
   },
   {
    "duration": 9,
    "start_time": "2023-04-23T09:54:25.242Z"
   },
   {
    "duration": 8,
    "start_time": "2023-04-23T09:54:36.556Z"
   },
   {
    "duration": 8,
    "start_time": "2023-04-23T09:54:48.318Z"
   },
   {
    "duration": 11,
    "start_time": "2023-04-23T09:54:53.875Z"
   },
   {
    "duration": 7,
    "start_time": "2023-04-23T09:59:09.251Z"
   },
   {
    "duration": 11,
    "start_time": "2023-04-23T09:59:42.883Z"
   },
   {
    "duration": 15,
    "start_time": "2023-04-23T10:00:52.048Z"
   },
   {
    "duration": 18,
    "start_time": "2023-04-23T10:02:13.813Z"
   },
   {
    "duration": 156,
    "start_time": "2023-04-23T10:07:43.400Z"
   },
   {
    "duration": 17,
    "start_time": "2023-04-23T10:09:37.678Z"
   },
   {
    "duration": 16,
    "start_time": "2023-04-23T10:10:47.666Z"
   },
   {
    "duration": 15,
    "start_time": "2023-04-23T10:10:58.008Z"
   },
   {
    "duration": 14,
    "start_time": "2023-04-23T10:11:08.276Z"
   },
   {
    "duration": 18,
    "start_time": "2023-04-23T10:11:28.714Z"
   },
   {
    "duration": 14,
    "start_time": "2023-04-23T10:11:32.037Z"
   },
   {
    "duration": 13,
    "start_time": "2023-04-23T10:11:53.343Z"
   },
   {
    "duration": 15,
    "start_time": "2023-04-23T10:12:13.757Z"
   },
   {
    "duration": 13,
    "start_time": "2023-04-23T10:12:33.934Z"
   },
   {
    "duration": 13,
    "start_time": "2023-04-23T10:12:58.159Z"
   },
   {
    "duration": 13,
    "start_time": "2023-04-23T10:13:16.282Z"
   },
   {
    "duration": 15,
    "start_time": "2023-04-23T10:14:49.235Z"
   },
   {
    "duration": 144,
    "start_time": "2023-04-23T10:14:59.378Z"
   },
   {
    "duration": 15,
    "start_time": "2023-04-23T10:15:58.545Z"
   },
   {
    "duration": 5,
    "start_time": "2023-04-23T10:17:20.684Z"
   },
   {
    "duration": 5,
    "start_time": "2023-04-23T10:17:37.416Z"
   },
   {
    "duration": 5,
    "start_time": "2023-04-23T10:18:29.117Z"
   },
   {
    "duration": 7,
    "start_time": "2023-04-23T10:53:22.539Z"
   },
   {
    "duration": 6,
    "start_time": "2023-04-23T10:55:06.253Z"
   },
   {
    "duration": 13,
    "start_time": "2023-04-23T10:56:54.193Z"
   },
   {
    "duration": 6,
    "start_time": "2023-04-23T10:57:24.847Z"
   },
   {
    "duration": 48,
    "start_time": "2023-04-23T10:59:08.309Z"
   },
   {
    "duration": 173,
    "start_time": "2023-04-23T10:59:22.154Z"
   },
   {
    "duration": 177,
    "start_time": "2023-04-23T10:59:56.929Z"
   },
   {
    "duration": 126,
    "start_time": "2023-04-23T11:01:48.226Z"
   },
   {
    "duration": 130,
    "start_time": "2023-04-23T11:02:19.382Z"
   },
   {
    "duration": 50,
    "start_time": "2023-04-23T11:02:56.930Z"
   },
   {
    "duration": 6,
    "start_time": "2023-04-23T11:03:04.059Z"
   },
   {
    "duration": 123,
    "start_time": "2023-04-23T11:03:39.820Z"
   },
   {
    "duration": 166,
    "start_time": "2023-04-23T11:03:45.643Z"
   },
   {
    "duration": 140,
    "start_time": "2023-04-23T11:03:47.068Z"
   },
   {
    "duration": 13,
    "start_time": "2023-04-23T11:03:56.171Z"
   },
   {
    "duration": 60,
    "start_time": "2023-04-23T11:05:11.630Z"
   },
   {
    "duration": 13,
    "start_time": "2023-04-23T11:05:34.362Z"
   },
   {
    "duration": 164,
    "start_time": "2023-04-23T11:05:40.564Z"
   },
   {
    "duration": 135,
    "start_time": "2023-04-23T11:05:41.736Z"
   },
   {
    "duration": 15,
    "start_time": "2023-04-23T11:05:46.316Z"
   },
   {
    "duration": 296,
    "start_time": "2023-04-23T11:06:10.155Z"
   },
   {
    "duration": 222,
    "start_time": "2023-04-23T11:11:37.774Z"
   },
   {
    "duration": 56,
    "start_time": "2023-04-23T11:14:16.065Z"
   },
   {
    "duration": 294,
    "start_time": "2023-04-23T11:15:22.564Z"
   },
   {
    "duration": 205,
    "start_time": "2023-04-23T11:20:15.605Z"
   },
   {
    "duration": 349,
    "start_time": "2023-04-23T11:26:12.987Z"
   },
   {
    "duration": 12,
    "start_time": "2023-04-23T11:32:38.151Z"
   },
   {
    "duration": 5,
    "start_time": "2023-04-23T11:32:53.530Z"
   },
   {
    "duration": 11,
    "start_time": "2023-04-23T11:32:58.153Z"
   },
   {
    "duration": 155,
    "start_time": "2023-04-23T11:35:37.310Z"
   },
   {
    "duration": 5,
    "start_time": "2023-04-23T11:39:13.823Z"
   },
   {
    "duration": 49,
    "start_time": "2023-04-23T11:44:00.672Z"
   },
   {
    "duration": 164,
    "start_time": "2023-04-23T11:44:49.468Z"
   },
   {
    "duration": 160,
    "start_time": "2023-04-23T11:47:49.634Z"
   },
   {
    "duration": 179,
    "start_time": "2023-04-23T11:48:25.616Z"
   },
   {
    "duration": 183,
    "start_time": "2023-04-23T11:48:38.588Z"
   },
   {
    "duration": 159,
    "start_time": "2023-04-23T11:48:54.624Z"
   },
   {
    "duration": 149,
    "start_time": "2023-04-23T11:49:12.240Z"
   },
   {
    "duration": 167,
    "start_time": "2023-04-23T11:49:39.332Z"
   },
   {
    "duration": 54,
    "start_time": "2023-04-23T11:50:45.082Z"
   },
   {
    "duration": 51,
    "start_time": "2023-04-23T11:51:00.937Z"
   },
   {
    "duration": 189,
    "start_time": "2023-04-23T11:51:12.770Z"
   },
   {
    "duration": 5,
    "start_time": "2023-04-23T12:17:29.217Z"
   },
   {
    "duration": 95,
    "start_time": "2023-04-23T12:18:54.260Z"
   },
   {
    "duration": 105,
    "start_time": "2023-04-23T12:20:12.822Z"
   },
   {
    "duration": 139,
    "start_time": "2023-04-23T12:23:19.316Z"
   },
   {
    "duration": 22,
    "start_time": "2023-04-23T12:25:01.732Z"
   },
   {
    "duration": 28,
    "start_time": "2023-04-23T12:25:56.085Z"
   },
   {
    "duration": 128,
    "start_time": "2023-04-23T12:29:15.316Z"
   },
   {
    "duration": 139,
    "start_time": "2023-04-23T12:29:39.216Z"
   },
   {
    "duration": 168,
    "start_time": "2023-04-23T12:29:50.622Z"
   },
   {
    "duration": 137,
    "start_time": "2023-04-23T12:31:10.434Z"
   },
   {
    "duration": 50,
    "start_time": "2023-04-23T12:36:40.253Z"
   },
   {
    "duration": 54,
    "start_time": "2023-04-23T12:36:57.475Z"
   },
   {
    "duration": 11,
    "start_time": "2023-04-23T12:37:15.052Z"
   },
   {
    "duration": 7,
    "start_time": "2023-04-23T12:38:12.525Z"
   },
   {
    "duration": 6,
    "start_time": "2023-04-23T12:39:25.016Z"
   },
   {
    "duration": 27,
    "start_time": "2023-04-23T12:39:43.471Z"
   },
   {
    "duration": 12,
    "start_time": "2023-04-23T12:44:19.520Z"
   },
   {
    "duration": 9,
    "start_time": "2023-04-23T12:52:48.865Z"
   },
   {
    "duration": 8,
    "start_time": "2023-04-23T12:55:04.545Z"
   },
   {
    "duration": 32,
    "start_time": "2023-04-23T12:55:13.167Z"
   },
   {
    "duration": 236,
    "start_time": "2023-04-23T12:58:16.741Z"
   },
   {
    "duration": 14,
    "start_time": "2023-04-23T12:58:41.513Z"
   },
   {
    "duration": 1337,
    "start_time": "2023-04-23T15:38:02.860Z"
   },
   {
    "duration": 188,
    "start_time": "2023-04-23T15:38:04.199Z"
   },
   {
    "duration": 3,
    "start_time": "2023-04-23T15:38:04.388Z"
   },
   {
    "duration": 9,
    "start_time": "2023-04-23T15:38:04.393Z"
   },
   {
    "duration": 5,
    "start_time": "2023-04-23T15:38:04.404Z"
   },
   {
    "duration": 9,
    "start_time": "2023-04-23T15:38:04.410Z"
   },
   {
    "duration": 18,
    "start_time": "2023-04-23T15:38:04.421Z"
   },
   {
    "duration": 11,
    "start_time": "2023-04-23T15:38:04.441Z"
   },
   {
    "duration": 11,
    "start_time": "2023-04-23T15:38:04.454Z"
   },
   {
    "duration": 25,
    "start_time": "2023-04-23T15:38:04.466Z"
   },
   {
    "duration": 8,
    "start_time": "2023-04-23T15:38:04.493Z"
   },
   {
    "duration": 8,
    "start_time": "2023-04-23T15:38:04.502Z"
   },
   {
    "duration": 223,
    "start_time": "2023-04-23T15:38:04.512Z"
   },
   {
    "duration": 155,
    "start_time": "2023-04-23T15:38:04.738Z"
   },
   {
    "duration": 12,
    "start_time": "2023-04-23T15:38:04.894Z"
   },
   {
    "duration": 323,
    "start_time": "2023-04-23T15:38:04.908Z"
   },
   {
    "duration": 203,
    "start_time": "2023-04-23T15:38:05.232Z"
   },
   {
    "duration": 355,
    "start_time": "2023-04-23T15:38:05.437Z"
   },
   {
    "duration": 200,
    "start_time": "2023-04-23T15:38:05.794Z"
   },
   {
    "duration": 261,
    "start_time": "2023-04-23T15:38:05.995Z"
   },
   {
    "duration": 11,
    "start_time": "2023-04-23T15:38:06.257Z"
   },
   {
    "duration": 147,
    "start_time": "2023-04-23T15:38:06.269Z"
   },
   {
    "duration": 4,
    "start_time": "2023-04-23T15:38:06.418Z"
   },
   {
    "duration": 154,
    "start_time": "2023-04-23T15:38:06.424Z"
   },
   {
    "duration": 248,
    "start_time": "2023-04-23T15:38:06.580Z"
   },
   {
    "duration": 4,
    "start_time": "2023-04-23T15:38:06.830Z"
   },
   {
    "duration": 142,
    "start_time": "2023-04-23T15:38:06.835Z"
   },
   {
    "duration": 130,
    "start_time": "2023-04-23T15:38:06.978Z"
   },
   {
    "duration": 40,
    "start_time": "2023-04-23T15:38:07.110Z"
   },
   {
    "duration": 161,
    "start_time": "2023-04-23T15:38:07.151Z"
   },
   {
    "duration": 6,
    "start_time": "2023-04-23T15:38:07.314Z"
   },
   {
    "duration": 47,
    "start_time": "2023-04-23T15:38:07.322Z"
   },
   {
    "duration": 11,
    "start_time": "2023-04-23T15:38:07.371Z"
   },
   {
    "duration": 9,
    "start_time": "2023-04-23T15:38:07.384Z"
   },
   {
    "duration": 10,
    "start_time": "2023-04-23T15:38:07.395Z"
   },
   {
    "duration": 47,
    "start_time": "2023-04-23T15:38:07.407Z"
   },
   {
    "duration": 16,
    "start_time": "2023-04-23T15:38:07.455Z"
   },
   {
    "duration": 45,
    "start_time": "2023-04-24T10:50:27.078Z"
   },
   {
    "duration": 6,
    "start_time": "2023-04-24T10:51:09.304Z"
   },
   {
    "duration": 1174,
    "start_time": "2023-04-24T10:52:58.588Z"
   },
   {
    "duration": 197,
    "start_time": "2023-04-24T10:52:59.764Z"
   },
   {
    "duration": 2,
    "start_time": "2023-04-24T10:52:59.963Z"
   },
   {
    "duration": 11,
    "start_time": "2023-04-24T10:52:59.966Z"
   },
   {
    "duration": 14,
    "start_time": "2023-04-24T10:52:59.979Z"
   },
   {
    "duration": 22,
    "start_time": "2023-04-24T10:52:59.994Z"
   },
   {
    "duration": 24,
    "start_time": "2023-04-24T10:53:00.017Z"
   },
   {
    "duration": 12,
    "start_time": "2023-04-24T10:53:00.043Z"
   },
   {
    "duration": 15,
    "start_time": "2023-04-24T10:53:00.056Z"
   },
   {
    "duration": 22,
    "start_time": "2023-04-24T10:53:00.073Z"
   },
   {
    "duration": 6,
    "start_time": "2023-04-24T10:53:00.096Z"
   },
   {
    "duration": 7,
    "start_time": "2023-04-24T10:53:00.103Z"
   },
   {
    "duration": 181,
    "start_time": "2023-04-24T10:53:00.111Z"
   },
   {
    "duration": 130,
    "start_time": "2023-04-24T10:53:00.294Z"
   },
   {
    "duration": 12,
    "start_time": "2023-04-24T10:53:00.426Z"
   },
   {
    "duration": 314,
    "start_time": "2023-04-24T10:53:00.455Z"
   },
   {
    "duration": 215,
    "start_time": "2023-04-24T10:53:00.771Z"
   },
   {
    "duration": 312,
    "start_time": "2023-04-24T10:53:00.988Z"
   },
   {
    "duration": 216,
    "start_time": "2023-04-24T10:53:01.302Z"
   },
   {
    "duration": 307,
    "start_time": "2023-04-24T10:53:01.519Z"
   },
   {
    "duration": 10,
    "start_time": "2023-04-24T10:53:01.828Z"
   },
   {
    "duration": 185,
    "start_time": "2023-04-24T10:53:01.840Z"
   },
   {
    "duration": 5,
    "start_time": "2023-04-24T10:53:02.027Z"
   },
   {
    "duration": 194,
    "start_time": "2023-04-24T10:53:02.034Z"
   },
   {
    "duration": 244,
    "start_time": "2023-04-24T10:53:02.230Z"
   },
   {
    "duration": 4,
    "start_time": "2023-04-24T10:53:02.476Z"
   },
   {
    "duration": 103,
    "start_time": "2023-04-24T10:53:02.482Z"
   },
   {
    "duration": 130,
    "start_time": "2023-04-24T10:53:02.587Z"
   },
   {
    "duration": 38,
    "start_time": "2023-04-24T10:53:02.719Z"
   },
   {
    "duration": 153,
    "start_time": "2023-04-24T10:53:02.758Z"
   },
   {
    "duration": 5,
    "start_time": "2023-04-24T10:53:02.913Z"
   },
   {
    "duration": 38,
    "start_time": "2023-04-24T10:53:02.920Z"
   },
   {
    "duration": 10,
    "start_time": "2023-04-24T10:53:02.959Z"
   },
   {
    "duration": 14,
    "start_time": "2023-04-24T10:53:02.971Z"
   },
   {
    "duration": 28,
    "start_time": "2023-04-24T10:53:02.987Z"
   },
   {
    "duration": 118,
    "start_time": "2023-04-24T10:53:03.016Z"
   },
   {
    "duration": 21,
    "start_time": "2023-04-24T10:53:03.135Z"
   },
   {
    "duration": 13,
    "start_time": "2023-04-24T10:53:03.158Z"
   },
   {
    "duration": 1338,
    "start_time": "2023-04-24T10:54:25.774Z"
   },
   {
    "duration": 0,
    "start_time": "2023-04-24T10:54:27.113Z"
   },
   {
    "duration": 1069,
    "start_time": "2023-04-24T10:54:34.080Z"
   },
   {
    "duration": 78,
    "start_time": "2023-04-24T10:54:35.151Z"
   },
   {
    "duration": 2,
    "start_time": "2023-04-24T10:54:35.230Z"
   },
   {
    "duration": 16,
    "start_time": "2023-04-24T10:54:35.234Z"
   },
   {
    "duration": 5,
    "start_time": "2023-04-24T10:54:35.252Z"
   },
   {
    "duration": 4,
    "start_time": "2023-04-24T10:54:35.259Z"
   },
   {
    "duration": 18,
    "start_time": "2023-04-24T10:54:35.265Z"
   },
   {
    "duration": 15,
    "start_time": "2023-04-24T10:54:35.285Z"
   },
   {
    "duration": 14,
    "start_time": "2023-04-24T10:54:35.302Z"
   },
   {
    "duration": 46,
    "start_time": "2023-04-24T10:54:35.318Z"
   },
   {
    "duration": 6,
    "start_time": "2023-04-24T10:54:35.365Z"
   },
   {
    "duration": 14,
    "start_time": "2023-04-24T10:54:35.373Z"
   },
   {
    "duration": 231,
    "start_time": "2023-04-24T10:54:35.388Z"
   },
   {
    "duration": 138,
    "start_time": "2023-04-24T10:54:35.622Z"
   },
   {
    "duration": 11,
    "start_time": "2023-04-24T10:54:35.761Z"
   },
   {
    "duration": 290,
    "start_time": "2023-04-24T10:54:35.774Z"
   },
   {
    "duration": 204,
    "start_time": "2023-04-24T10:54:36.065Z"
   },
   {
    "duration": 298,
    "start_time": "2023-04-24T10:54:36.271Z"
   },
   {
    "duration": 225,
    "start_time": "2023-04-24T10:54:36.571Z"
   },
   {
    "duration": 262,
    "start_time": "2023-04-24T10:54:36.798Z"
   },
   {
    "duration": 13,
    "start_time": "2023-04-24T10:54:37.061Z"
   },
   {
    "duration": 148,
    "start_time": "2023-04-24T10:54:37.075Z"
   },
   {
    "duration": 4,
    "start_time": "2023-04-24T10:54:37.225Z"
   },
   {
    "duration": 174,
    "start_time": "2023-04-24T10:54:37.230Z"
   },
   {
    "duration": 257,
    "start_time": "2023-04-24T10:54:37.405Z"
   },
   {
    "duration": 5,
    "start_time": "2023-04-24T10:54:37.664Z"
   },
   {
    "duration": 107,
    "start_time": "2023-04-24T10:54:37.671Z"
   },
   {
    "duration": 129,
    "start_time": "2023-04-24T10:54:37.779Z"
   },
   {
    "duration": 31,
    "start_time": "2023-04-24T10:54:37.910Z"
   },
   {
    "duration": 195,
    "start_time": "2023-04-24T10:54:37.942Z"
   },
   {
    "duration": 18,
    "start_time": "2023-04-24T10:54:38.139Z"
   },
   {
    "duration": 31,
    "start_time": "2023-04-24T10:54:38.159Z"
   },
   {
    "duration": 10,
    "start_time": "2023-04-24T10:54:38.192Z"
   },
   {
    "duration": 8,
    "start_time": "2023-04-24T10:54:38.205Z"
   },
   {
    "duration": 1321,
    "start_time": "2023-04-24T10:54:38.215Z"
   },
   {
    "duration": 0,
    "start_time": "2023-04-24T10:54:39.538Z"
   },
   {
    "duration": 0,
    "start_time": "2023-04-24T10:54:39.539Z"
   },
   {
    "duration": 0,
    "start_time": "2023-04-24T10:54:39.540Z"
   },
   {
    "duration": 0,
    "start_time": "2023-04-24T10:54:39.541Z"
   },
   {
    "duration": 6,
    "start_time": "2023-04-24T10:56:07.928Z"
   },
   {
    "duration": 6,
    "start_time": "2023-04-24T10:56:16.862Z"
   },
   {
    "duration": 9,
    "start_time": "2023-04-24T10:56:18.889Z"
   },
   {
    "duration": 33,
    "start_time": "2023-04-24T10:56:19.404Z"
   },
   {
    "duration": 15,
    "start_time": "2023-04-24T10:56:20.593Z"
   },
   {
    "duration": 89,
    "start_time": "2023-04-24T11:00:47.945Z"
   },
   {
    "duration": 74,
    "start_time": "2023-04-24T11:05:07.756Z"
   },
   {
    "duration": 1208,
    "start_time": "2023-04-24T20:14:28.728Z"
   },
   {
    "duration": 78,
    "start_time": "2023-04-24T20:14:29.938Z"
   },
   {
    "duration": 2,
    "start_time": "2023-04-24T20:14:30.018Z"
   },
   {
    "duration": 33,
    "start_time": "2023-04-24T20:14:30.022Z"
   },
   {
    "duration": 23,
    "start_time": "2023-04-24T20:14:30.057Z"
   },
   {
    "duration": 28,
    "start_time": "2023-04-24T20:14:30.082Z"
   },
   {
    "duration": 27,
    "start_time": "2023-04-24T20:14:30.112Z"
   },
   {
    "duration": 46,
    "start_time": "2023-04-24T20:14:30.141Z"
   },
   {
    "duration": 32,
    "start_time": "2023-04-24T20:14:30.189Z"
   },
   {
    "duration": 64,
    "start_time": "2023-04-24T20:14:30.224Z"
   },
   {
    "duration": 35,
    "start_time": "2023-04-24T20:14:30.290Z"
   },
   {
    "duration": 38,
    "start_time": "2023-04-24T20:14:30.326Z"
   },
   {
    "duration": 209,
    "start_time": "2023-04-24T20:14:30.365Z"
   },
   {
    "duration": 153,
    "start_time": "2023-04-24T20:14:30.576Z"
   },
   {
    "duration": 15,
    "start_time": "2023-04-24T20:14:30.731Z"
   },
   {
    "duration": 366,
    "start_time": "2023-04-24T20:14:30.747Z"
   },
   {
    "duration": 265,
    "start_time": "2023-04-24T20:14:31.115Z"
   },
   {
    "duration": 364,
    "start_time": "2023-04-24T20:14:31.381Z"
   },
   {
    "duration": 257,
    "start_time": "2023-04-24T20:14:31.746Z"
   },
   {
    "duration": 318,
    "start_time": "2023-04-24T20:14:32.004Z"
   },
   {
    "duration": 11,
    "start_time": "2023-04-24T20:14:32.324Z"
   },
   {
    "duration": 156,
    "start_time": "2023-04-24T20:14:32.337Z"
   },
   {
    "duration": 5,
    "start_time": "2023-04-24T20:14:32.495Z"
   },
   {
    "duration": 196,
    "start_time": "2023-04-24T20:14:32.501Z"
   },
   {
    "duration": 316,
    "start_time": "2023-04-24T20:14:32.699Z"
   },
   {
    "duration": 5,
    "start_time": "2023-04-24T20:14:33.017Z"
   },
   {
    "duration": 156,
    "start_time": "2023-04-24T20:14:33.023Z"
   },
   {
    "duration": 144,
    "start_time": "2023-04-24T20:14:33.184Z"
   },
   {
    "duration": 28,
    "start_time": "2023-04-24T20:14:33.330Z"
   },
   {
    "duration": 171,
    "start_time": "2023-04-24T20:14:33.360Z"
   },
   {
    "duration": 6,
    "start_time": "2023-04-24T20:14:33.532Z"
   },
   {
    "duration": 41,
    "start_time": "2023-04-24T20:14:33.540Z"
   },
   {
    "duration": 10,
    "start_time": "2023-04-24T20:14:33.583Z"
   },
   {
    "duration": 23,
    "start_time": "2023-04-24T20:14:33.595Z"
   },
   {
    "duration": 36,
    "start_time": "2023-04-24T20:14:33.620Z"
   },
   {
    "duration": 38,
    "start_time": "2023-04-24T20:14:33.657Z"
   },
   {
    "duration": 21,
    "start_time": "2023-04-24T20:14:33.697Z"
   },
   {
    "duration": 28,
    "start_time": "2023-04-24T20:14:33.720Z"
   },
   {
    "duration": 15,
    "start_time": "2023-04-24T20:14:33.750Z"
   },
   {
    "duration": 47,
    "start_time": "2023-04-25T08:36:14.375Z"
   },
   {
    "duration": 1287,
    "start_time": "2023-04-25T08:36:32.085Z"
   },
   {
    "duration": 207,
    "start_time": "2023-04-25T08:36:33.374Z"
   },
   {
    "duration": 3,
    "start_time": "2023-04-25T08:36:33.583Z"
   },
   {
    "duration": 15,
    "start_time": "2023-04-25T08:36:33.588Z"
   },
   {
    "duration": 13,
    "start_time": "2023-04-25T08:36:33.605Z"
   },
   {
    "duration": 30,
    "start_time": "2023-04-25T08:36:33.619Z"
   },
   {
    "duration": 23,
    "start_time": "2023-04-25T08:36:33.650Z"
   },
   {
    "duration": 25,
    "start_time": "2023-04-25T08:36:33.674Z"
   },
   {
    "duration": 12,
    "start_time": "2023-04-25T08:36:33.701Z"
   },
   {
    "duration": 48,
    "start_time": "2023-04-25T08:36:33.716Z"
   },
   {
    "duration": 7,
    "start_time": "2023-04-25T08:36:33.766Z"
   },
   {
    "duration": 98,
    "start_time": "2023-04-25T08:36:33.775Z"
   },
   {
    "duration": 169,
    "start_time": "2023-04-25T08:36:33.875Z"
   },
   {
    "duration": 138,
    "start_time": "2023-04-25T08:36:34.046Z"
   },
   {
    "duration": 27,
    "start_time": "2023-04-25T08:36:34.186Z"
   },
   {
    "duration": 311,
    "start_time": "2023-04-25T08:36:34.214Z"
   },
   {
    "duration": 232,
    "start_time": "2023-04-25T08:36:34.527Z"
   },
   {
    "duration": 401,
    "start_time": "2023-04-25T08:36:34.760Z"
   },
   {
    "duration": 228,
    "start_time": "2023-04-25T08:36:35.163Z"
   },
   {
    "duration": 282,
    "start_time": "2023-04-25T08:36:35.392Z"
   },
   {
    "duration": 16,
    "start_time": "2023-04-25T08:36:35.675Z"
   },
   {
    "duration": 149,
    "start_time": "2023-04-25T08:36:35.693Z"
   },
   {
    "duration": 5,
    "start_time": "2023-04-25T08:36:35.844Z"
   },
   {
    "duration": 178,
    "start_time": "2023-04-25T08:36:35.851Z"
   },
   {
    "duration": 249,
    "start_time": "2023-04-25T08:36:36.031Z"
   },
   {
    "duration": 5,
    "start_time": "2023-04-25T08:36:36.282Z"
   },
   {
    "duration": 106,
    "start_time": "2023-04-25T08:36:36.288Z"
   },
   {
    "duration": 125,
    "start_time": "2023-04-25T08:36:36.397Z"
   },
   {
    "duration": 62,
    "start_time": "2023-04-25T08:36:36.523Z"
   },
   {
    "duration": 160,
    "start_time": "2023-04-25T08:36:36.587Z"
   },
   {
    "duration": 6,
    "start_time": "2023-04-25T08:36:36.749Z"
   },
   {
    "duration": 63,
    "start_time": "2023-04-25T08:36:36.756Z"
   },
   {
    "duration": 66,
    "start_time": "2023-04-25T08:36:36.821Z"
   },
   {
    "duration": 10,
    "start_time": "2023-04-25T08:36:36.889Z"
   },
   {
    "duration": 24,
    "start_time": "2023-04-25T08:36:36.901Z"
   },
   {
    "duration": 18,
    "start_time": "2023-04-25T08:36:36.927Z"
   },
   {
    "duration": 32,
    "start_time": "2023-04-25T08:36:36.947Z"
   },
   {
    "duration": 276,
    "start_time": "2023-04-25T08:36:36.981Z"
   },
   {
    "duration": 54,
    "start_time": "2023-04-25T08:36:37.259Z"
   }
  ],
  "kernelspec": {
   "display_name": "Python 3 (ipykernel)",
   "language": "python",
   "name": "python3"
  },
  "language_info": {
   "codemirror_mode": {
    "name": "ipython",
    "version": 3
   },
   "file_extension": ".py",
   "mimetype": "text/x-python",
   "name": "python",
   "nbconvert_exporter": "python",
   "pygments_lexer": "ipython3",
   "version": "3.9.13"
  },
  "toc": {
   "base_numbering": 1,
   "nav_menu": {},
   "number_sections": true,
   "sideBar": true,
   "skip_h1_title": true,
   "title_cell": "Table of Contents",
   "title_sidebar": "Contents",
   "toc_cell": false,
   "toc_position": {},
   "toc_section_display": true,
   "toc_window_display": false
  }
 },
 "nbformat": 4,
 "nbformat_minor": 2
}
