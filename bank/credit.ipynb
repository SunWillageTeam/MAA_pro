{
 "cells": [
  {
   "cell_type": "markdown",
   "id": "73cd37b6",
   "metadata": {
    "deletable": false,
    "editable": false,
    "id": "c81daeeb"
   },
   "source": [
    "# Исследование надежности заемщиков\n"
   ]
  },
  {
   "cell_type": "markdown",
   "id": "beccc5d5",
   "metadata": {
    "deletable": false,
    "editable": false,
    "id": "827c20bf"
   },
   "source": [
    "Во второй части проекта вы выполните шаги 3 и 4. Их вручную проверит ревьюер.\n",
    "Чтобы вам не пришлось писать код заново для шагов 1 и 2, мы добавили авторские решения в ячейки с кодом. \n",
    "\n"
   ]
  },
  {
   "cell_type": "markdown",
   "id": "d15c9c9e",
   "metadata": {
    "deletable": false,
    "editable": false,
    "id": "744d7639"
   },
   "source": [
    "## Откройте таблицу и изучите общую информацию о данных"
   ]
  },
  {
   "cell_type": "markdown",
   "id": "905b7964",
   "metadata": {
    "deletable": false,
    "editable": false,
    "id": "e7a14c31"
   },
   "source": [
    "**Задание 1. Импортируйте библиотеку pandas. Считайте данные из csv-файла в датафрейм и сохраните в переменную `data`. Путь к файлу:**\n",
    "\n",
    "`/datasets/data.csv`"
   ]
  },
  {
   "cell_type": "code",
   "execution_count": 1,
   "id": "d4c7eb3b",
   "metadata": {
    "deletable": false,
    "id": "7bcf75c9"
   },
   "outputs": [],
   "source": [
    "import pandas as pd\n",
    "\n",
    "try:\n",
    "    data = pd.read_csv('/datasets/data.csv')\n",
    "except:\n",
    "    data = pd.read_csv('https://code.s3.yandex.net/datasets/data.csv')"
   ]
  },
  {
   "cell_type": "markdown",
   "id": "23dc3f15",
   "metadata": {
    "deletable": false,
    "editable": false,
    "id": "b8038fe3"
   },
   "source": [
    "**Задание 2. Выведите первые 20 строчек датафрейма `data` на экран.**"
   ]
  },
  {
   "cell_type": "code",
   "execution_count": 2,
   "id": "fd30572c",
   "metadata": {
    "deletable": false,
    "id": "2a7cab99",
    "outputId": "1a8f3ef2-d323-4ec2-ddf7-89670b5944c4"
   },
   "outputs": [
    {
     "data": {
      "text/html": [
       "<div>\n",
       "<style scoped>\n",
       "    .dataframe tbody tr th:only-of-type {\n",
       "        vertical-align: middle;\n",
       "    }\n",
       "\n",
       "    .dataframe tbody tr th {\n",
       "        vertical-align: top;\n",
       "    }\n",
       "\n",
       "    .dataframe thead th {\n",
       "        text-align: right;\n",
       "    }\n",
       "</style>\n",
       "<table border=\"1\" class=\"dataframe\">\n",
       "  <thead>\n",
       "    <tr style=\"text-align: right;\">\n",
       "      <th></th>\n",
       "      <th>children</th>\n",
       "      <th>days_employed</th>\n",
       "      <th>dob_years</th>\n",
       "      <th>education</th>\n",
       "      <th>education_id</th>\n",
       "      <th>family_status</th>\n",
       "      <th>family_status_id</th>\n",
       "      <th>gender</th>\n",
       "      <th>income_type</th>\n",
       "      <th>debt</th>\n",
       "      <th>total_income</th>\n",
       "      <th>purpose</th>\n",
       "    </tr>\n",
       "  </thead>\n",
       "  <tbody>\n",
       "    <tr>\n",
       "      <th>0</th>\n",
       "      <td>1</td>\n",
       "      <td>-8437.673028</td>\n",
       "      <td>42</td>\n",
       "      <td>высшее</td>\n",
       "      <td>0</td>\n",
       "      <td>женат / замужем</td>\n",
       "      <td>0</td>\n",
       "      <td>F</td>\n",
       "      <td>сотрудник</td>\n",
       "      <td>0</td>\n",
       "      <td>253875.639453</td>\n",
       "      <td>покупка жилья</td>\n",
       "    </tr>\n",
       "    <tr>\n",
       "      <th>1</th>\n",
       "      <td>1</td>\n",
       "      <td>-4024.803754</td>\n",
       "      <td>36</td>\n",
       "      <td>среднее</td>\n",
       "      <td>1</td>\n",
       "      <td>женат / замужем</td>\n",
       "      <td>0</td>\n",
       "      <td>F</td>\n",
       "      <td>сотрудник</td>\n",
       "      <td>0</td>\n",
       "      <td>112080.014102</td>\n",
       "      <td>приобретение автомобиля</td>\n",
       "    </tr>\n",
       "    <tr>\n",
       "      <th>2</th>\n",
       "      <td>0</td>\n",
       "      <td>-5623.422610</td>\n",
       "      <td>33</td>\n",
       "      <td>Среднее</td>\n",
       "      <td>1</td>\n",
       "      <td>женат / замужем</td>\n",
       "      <td>0</td>\n",
       "      <td>M</td>\n",
       "      <td>сотрудник</td>\n",
       "      <td>0</td>\n",
       "      <td>145885.952297</td>\n",
       "      <td>покупка жилья</td>\n",
       "    </tr>\n",
       "    <tr>\n",
       "      <th>3</th>\n",
       "      <td>3</td>\n",
       "      <td>-4124.747207</td>\n",
       "      <td>32</td>\n",
       "      <td>среднее</td>\n",
       "      <td>1</td>\n",
       "      <td>женат / замужем</td>\n",
       "      <td>0</td>\n",
       "      <td>M</td>\n",
       "      <td>сотрудник</td>\n",
       "      <td>0</td>\n",
       "      <td>267628.550329</td>\n",
       "      <td>дополнительное образование</td>\n",
       "    </tr>\n",
       "    <tr>\n",
       "      <th>4</th>\n",
       "      <td>0</td>\n",
       "      <td>340266.072047</td>\n",
       "      <td>53</td>\n",
       "      <td>среднее</td>\n",
       "      <td>1</td>\n",
       "      <td>гражданский брак</td>\n",
       "      <td>1</td>\n",
       "      <td>F</td>\n",
       "      <td>пенсионер</td>\n",
       "      <td>0</td>\n",
       "      <td>158616.077870</td>\n",
       "      <td>сыграть свадьбу</td>\n",
       "    </tr>\n",
       "    <tr>\n",
       "      <th>5</th>\n",
       "      <td>0</td>\n",
       "      <td>-926.185831</td>\n",
       "      <td>27</td>\n",
       "      <td>высшее</td>\n",
       "      <td>0</td>\n",
       "      <td>гражданский брак</td>\n",
       "      <td>1</td>\n",
       "      <td>M</td>\n",
       "      <td>компаньон</td>\n",
       "      <td>0</td>\n",
       "      <td>255763.565419</td>\n",
       "      <td>покупка жилья</td>\n",
       "    </tr>\n",
       "    <tr>\n",
       "      <th>6</th>\n",
       "      <td>0</td>\n",
       "      <td>-2879.202052</td>\n",
       "      <td>43</td>\n",
       "      <td>высшее</td>\n",
       "      <td>0</td>\n",
       "      <td>женат / замужем</td>\n",
       "      <td>0</td>\n",
       "      <td>F</td>\n",
       "      <td>компаньон</td>\n",
       "      <td>0</td>\n",
       "      <td>240525.971920</td>\n",
       "      <td>операции с жильем</td>\n",
       "    </tr>\n",
       "    <tr>\n",
       "      <th>7</th>\n",
       "      <td>0</td>\n",
       "      <td>-152.779569</td>\n",
       "      <td>50</td>\n",
       "      <td>СРЕДНЕЕ</td>\n",
       "      <td>1</td>\n",
       "      <td>женат / замужем</td>\n",
       "      <td>0</td>\n",
       "      <td>M</td>\n",
       "      <td>сотрудник</td>\n",
       "      <td>0</td>\n",
       "      <td>135823.934197</td>\n",
       "      <td>образование</td>\n",
       "    </tr>\n",
       "    <tr>\n",
       "      <th>8</th>\n",
       "      <td>2</td>\n",
       "      <td>-6929.865299</td>\n",
       "      <td>35</td>\n",
       "      <td>ВЫСШЕЕ</td>\n",
       "      <td>0</td>\n",
       "      <td>гражданский брак</td>\n",
       "      <td>1</td>\n",
       "      <td>F</td>\n",
       "      <td>сотрудник</td>\n",
       "      <td>0</td>\n",
       "      <td>95856.832424</td>\n",
       "      <td>на проведение свадьбы</td>\n",
       "    </tr>\n",
       "    <tr>\n",
       "      <th>9</th>\n",
       "      <td>0</td>\n",
       "      <td>-2188.756445</td>\n",
       "      <td>41</td>\n",
       "      <td>среднее</td>\n",
       "      <td>1</td>\n",
       "      <td>женат / замужем</td>\n",
       "      <td>0</td>\n",
       "      <td>M</td>\n",
       "      <td>сотрудник</td>\n",
       "      <td>0</td>\n",
       "      <td>144425.938277</td>\n",
       "      <td>покупка жилья для семьи</td>\n",
       "    </tr>\n",
       "    <tr>\n",
       "      <th>10</th>\n",
       "      <td>2</td>\n",
       "      <td>-4171.483647</td>\n",
       "      <td>36</td>\n",
       "      <td>высшее</td>\n",
       "      <td>0</td>\n",
       "      <td>женат / замужем</td>\n",
       "      <td>0</td>\n",
       "      <td>M</td>\n",
       "      <td>компаньон</td>\n",
       "      <td>0</td>\n",
       "      <td>113943.491460</td>\n",
       "      <td>покупка недвижимости</td>\n",
       "    </tr>\n",
       "    <tr>\n",
       "      <th>11</th>\n",
       "      <td>0</td>\n",
       "      <td>-792.701887</td>\n",
       "      <td>40</td>\n",
       "      <td>среднее</td>\n",
       "      <td>1</td>\n",
       "      <td>женат / замужем</td>\n",
       "      <td>0</td>\n",
       "      <td>F</td>\n",
       "      <td>сотрудник</td>\n",
       "      <td>0</td>\n",
       "      <td>77069.234271</td>\n",
       "      <td>покупка коммерческой недвижимости</td>\n",
       "    </tr>\n",
       "    <tr>\n",
       "      <th>12</th>\n",
       "      <td>0</td>\n",
       "      <td>NaN</td>\n",
       "      <td>65</td>\n",
       "      <td>среднее</td>\n",
       "      <td>1</td>\n",
       "      <td>гражданский брак</td>\n",
       "      <td>1</td>\n",
       "      <td>M</td>\n",
       "      <td>пенсионер</td>\n",
       "      <td>0</td>\n",
       "      <td>NaN</td>\n",
       "      <td>сыграть свадьбу</td>\n",
       "    </tr>\n",
       "    <tr>\n",
       "      <th>13</th>\n",
       "      <td>0</td>\n",
       "      <td>-1846.641941</td>\n",
       "      <td>54</td>\n",
       "      <td>неоконченное высшее</td>\n",
       "      <td>2</td>\n",
       "      <td>женат / замужем</td>\n",
       "      <td>0</td>\n",
       "      <td>F</td>\n",
       "      <td>сотрудник</td>\n",
       "      <td>0</td>\n",
       "      <td>130458.228857</td>\n",
       "      <td>приобретение автомобиля</td>\n",
       "    </tr>\n",
       "    <tr>\n",
       "      <th>14</th>\n",
       "      <td>0</td>\n",
       "      <td>-1844.956182</td>\n",
       "      <td>56</td>\n",
       "      <td>высшее</td>\n",
       "      <td>0</td>\n",
       "      <td>гражданский брак</td>\n",
       "      <td>1</td>\n",
       "      <td>F</td>\n",
       "      <td>компаньон</td>\n",
       "      <td>1</td>\n",
       "      <td>165127.911772</td>\n",
       "      <td>покупка жилой недвижимости</td>\n",
       "    </tr>\n",
       "    <tr>\n",
       "      <th>15</th>\n",
       "      <td>1</td>\n",
       "      <td>-972.364419</td>\n",
       "      <td>26</td>\n",
       "      <td>среднее</td>\n",
       "      <td>1</td>\n",
       "      <td>женат / замужем</td>\n",
       "      <td>0</td>\n",
       "      <td>F</td>\n",
       "      <td>сотрудник</td>\n",
       "      <td>0</td>\n",
       "      <td>116820.904450</td>\n",
       "      <td>строительство собственной недвижимости</td>\n",
       "    </tr>\n",
       "    <tr>\n",
       "      <th>16</th>\n",
       "      <td>0</td>\n",
       "      <td>-1719.934226</td>\n",
       "      <td>35</td>\n",
       "      <td>среднее</td>\n",
       "      <td>1</td>\n",
       "      <td>женат / замужем</td>\n",
       "      <td>0</td>\n",
       "      <td>F</td>\n",
       "      <td>сотрудник</td>\n",
       "      <td>0</td>\n",
       "      <td>289202.704229</td>\n",
       "      <td>недвижимость</td>\n",
       "    </tr>\n",
       "    <tr>\n",
       "      <th>17</th>\n",
       "      <td>0</td>\n",
       "      <td>-2369.999720</td>\n",
       "      <td>33</td>\n",
       "      <td>высшее</td>\n",
       "      <td>0</td>\n",
       "      <td>гражданский брак</td>\n",
       "      <td>1</td>\n",
       "      <td>M</td>\n",
       "      <td>сотрудник</td>\n",
       "      <td>0</td>\n",
       "      <td>90410.586745</td>\n",
       "      <td>строительство недвижимости</td>\n",
       "    </tr>\n",
       "    <tr>\n",
       "      <th>18</th>\n",
       "      <td>0</td>\n",
       "      <td>400281.136913</td>\n",
       "      <td>53</td>\n",
       "      <td>среднее</td>\n",
       "      <td>1</td>\n",
       "      <td>вдовец / вдова</td>\n",
       "      <td>2</td>\n",
       "      <td>F</td>\n",
       "      <td>пенсионер</td>\n",
       "      <td>0</td>\n",
       "      <td>56823.777243</td>\n",
       "      <td>на покупку подержанного автомобиля</td>\n",
       "    </tr>\n",
       "    <tr>\n",
       "      <th>19</th>\n",
       "      <td>0</td>\n",
       "      <td>-10038.818549</td>\n",
       "      <td>48</td>\n",
       "      <td>СРЕДНЕЕ</td>\n",
       "      <td>1</td>\n",
       "      <td>в разводе</td>\n",
       "      <td>3</td>\n",
       "      <td>F</td>\n",
       "      <td>сотрудник</td>\n",
       "      <td>0</td>\n",
       "      <td>242831.107982</td>\n",
       "      <td>на покупку своего автомобиля</td>\n",
       "    </tr>\n",
       "  </tbody>\n",
       "</table>\n",
       "</div>"
      ],
      "text/plain": [
       "    children  days_employed  dob_years            education  education_id  \\\n",
       "0          1   -8437.673028         42               высшее             0   \n",
       "1          1   -4024.803754         36              среднее             1   \n",
       "2          0   -5623.422610         33              Среднее             1   \n",
       "3          3   -4124.747207         32              среднее             1   \n",
       "4          0  340266.072047         53              среднее             1   \n",
       "5          0    -926.185831         27               высшее             0   \n",
       "6          0   -2879.202052         43               высшее             0   \n",
       "7          0    -152.779569         50              СРЕДНЕЕ             1   \n",
       "8          2   -6929.865299         35               ВЫСШЕЕ             0   \n",
       "9          0   -2188.756445         41              среднее             1   \n",
       "10         2   -4171.483647         36               высшее             0   \n",
       "11         0    -792.701887         40              среднее             1   \n",
       "12         0            NaN         65              среднее             1   \n",
       "13         0   -1846.641941         54  неоконченное высшее             2   \n",
       "14         0   -1844.956182         56               высшее             0   \n",
       "15         1    -972.364419         26              среднее             1   \n",
       "16         0   -1719.934226         35              среднее             1   \n",
       "17         0   -2369.999720         33               высшее             0   \n",
       "18         0  400281.136913         53              среднее             1   \n",
       "19         0  -10038.818549         48              СРЕДНЕЕ             1   \n",
       "\n",
       "       family_status  family_status_id gender income_type  debt  \\\n",
       "0    женат / замужем                 0      F   сотрудник     0   \n",
       "1    женат / замужем                 0      F   сотрудник     0   \n",
       "2    женат / замужем                 0      M   сотрудник     0   \n",
       "3    женат / замужем                 0      M   сотрудник     0   \n",
       "4   гражданский брак                 1      F   пенсионер     0   \n",
       "5   гражданский брак                 1      M   компаньон     0   \n",
       "6    женат / замужем                 0      F   компаньон     0   \n",
       "7    женат / замужем                 0      M   сотрудник     0   \n",
       "8   гражданский брак                 1      F   сотрудник     0   \n",
       "9    женат / замужем                 0      M   сотрудник     0   \n",
       "10   женат / замужем                 0      M   компаньон     0   \n",
       "11   женат / замужем                 0      F   сотрудник     0   \n",
       "12  гражданский брак                 1      M   пенсионер     0   \n",
       "13   женат / замужем                 0      F   сотрудник     0   \n",
       "14  гражданский брак                 1      F   компаньон     1   \n",
       "15   женат / замужем                 0      F   сотрудник     0   \n",
       "16   женат / замужем                 0      F   сотрудник     0   \n",
       "17  гражданский брак                 1      M   сотрудник     0   \n",
       "18    вдовец / вдова                 2      F   пенсионер     0   \n",
       "19         в разводе                 3      F   сотрудник     0   \n",
       "\n",
       "     total_income                                 purpose  \n",
       "0   253875.639453                           покупка жилья  \n",
       "1   112080.014102                 приобретение автомобиля  \n",
       "2   145885.952297                           покупка жилья  \n",
       "3   267628.550329              дополнительное образование  \n",
       "4   158616.077870                         сыграть свадьбу  \n",
       "5   255763.565419                           покупка жилья  \n",
       "6   240525.971920                       операции с жильем  \n",
       "7   135823.934197                             образование  \n",
       "8    95856.832424                   на проведение свадьбы  \n",
       "9   144425.938277                 покупка жилья для семьи  \n",
       "10  113943.491460                    покупка недвижимости  \n",
       "11   77069.234271       покупка коммерческой недвижимости  \n",
       "12            NaN                         сыграть свадьбу  \n",
       "13  130458.228857                 приобретение автомобиля  \n",
       "14  165127.911772              покупка жилой недвижимости  \n",
       "15  116820.904450  строительство собственной недвижимости  \n",
       "16  289202.704229                            недвижимость  \n",
       "17   90410.586745              строительство недвижимости  \n",
       "18   56823.777243      на покупку подержанного автомобиля  \n",
       "19  242831.107982            на покупку своего автомобиля  "
      ]
     },
     "execution_count": 2,
     "metadata": {},
     "output_type": "execute_result"
    }
   ],
   "source": [
    "data.head(20)"
   ]
  },
  {
   "cell_type": "markdown",
   "id": "ba8b9728",
   "metadata": {
    "deletable": false,
    "editable": false,
    "id": "1c12e233"
   },
   "source": [
    "**Задание 3. Выведите основную информацию о датафрейме с помощью метода `info()`.**"
   ]
  },
  {
   "cell_type": "code",
   "execution_count": 3,
   "id": "c9684c40",
   "metadata": {
    "deletable": false,
    "id": "2b757bca",
    "outputId": "15376089-8dad-46c9-b520-c05248d43158"
   },
   "outputs": [
    {
     "name": "stdout",
     "output_type": "stream",
     "text": [
      "<class 'pandas.core.frame.DataFrame'>\n",
      "RangeIndex: 21525 entries, 0 to 21524\n",
      "Data columns (total 12 columns):\n",
      " #   Column            Non-Null Count  Dtype  \n",
      "---  ------            --------------  -----  \n",
      " 0   children          21525 non-null  int64  \n",
      " 1   days_employed     19351 non-null  float64\n",
      " 2   dob_years         21525 non-null  int64  \n",
      " 3   education         21525 non-null  object \n",
      " 4   education_id      21525 non-null  int64  \n",
      " 5   family_status     21525 non-null  object \n",
      " 6   family_status_id  21525 non-null  int64  \n",
      " 7   gender            21525 non-null  object \n",
      " 8   income_type       21525 non-null  object \n",
      " 9   debt              21525 non-null  int64  \n",
      " 10  total_income      19351 non-null  float64\n",
      " 11  purpose           21525 non-null  object \n",
      "dtypes: float64(2), int64(5), object(5)\n",
      "memory usage: 2.0+ MB\n"
     ]
    }
   ],
   "source": [
    "data.info()"
   ]
  },
  {
   "cell_type": "markdown",
   "id": "b9249ee5",
   "metadata": {
    "deletable": false,
    "editable": false,
    "id": "333ec665"
   },
   "source": [
    "## Предобработка данных"
   ]
  },
  {
   "cell_type": "markdown",
   "id": "fedc49db",
   "metadata": {
    "deletable": false,
    "editable": false,
    "id": "02d92d53"
   },
   "source": [
    "### Удаление пропусков"
   ]
  },
  {
   "cell_type": "markdown",
   "id": "df2a1c50",
   "metadata": {
    "deletable": false,
    "editable": false,
    "id": "cd84967c"
   },
   "source": [
    "**Задание 4. Выведите количество пропущенных значений для каждого столбца. Используйте комбинацию двух методов.**"
   ]
  },
  {
   "cell_type": "code",
   "execution_count": 4,
   "id": "48cd9408",
   "metadata": {
    "deletable": false,
    "id": "7f9b2309",
    "outputId": "81f4d817-781c-465c-ed15-91ce4446810d"
   },
   "outputs": [
    {
     "data": {
      "text/plain": [
       "children               0\n",
       "days_employed       2174\n",
       "dob_years              0\n",
       "education              0\n",
       "education_id           0\n",
       "family_status          0\n",
       "family_status_id       0\n",
       "gender                 0\n",
       "income_type            0\n",
       "debt                   0\n",
       "total_income        2174\n",
       "purpose                0\n",
       "dtype: int64"
      ]
     },
     "execution_count": 4,
     "metadata": {},
     "output_type": "execute_result"
    }
   ],
   "source": [
    "data.isna().sum()"
   ]
  },
  {
   "cell_type": "markdown",
   "id": "36c0f11f",
   "metadata": {
    "deletable": false,
    "editable": false,
    "id": "db86e27b"
   },
   "source": [
    "**Задание 5. В двух столбцах есть пропущенные значения. Один из них — `days_employed`. Пропуски в этом столбце вы обработаете на следующем этапе. Другой столбец с пропущенными значениями — `total_income` — хранит данные о доходах. На сумму дохода сильнее всего влияет тип занятости, поэтому заполнить пропуски в этом столбце нужно медианным значением по каждому типу из столбца `income_type`. Например, у человека с типом занятости `сотрудник` пропуск в столбце `total_income` должен быть заполнен медианным доходом среди всех записей с тем же типом.**"
   ]
  },
  {
   "cell_type": "code",
   "execution_count": 5,
   "id": "ca4f9d2b",
   "metadata": {
    "deletable": false,
    "id": "42006a93"
   },
   "outputs": [],
   "source": [
    "for t in data['income_type'].unique():\n",
    "    data.loc[(data['income_type'] == t) & (data['total_income'].isna()), 'total_income'] = \\\n",
    "    data.loc[(data['income_type'] == t), 'total_income'].median()"
   ]
  },
  {
   "cell_type": "markdown",
   "id": "fbff6786",
   "metadata": {
    "deletable": false,
    "editable": false,
    "id": "89da5ece"
   },
   "source": [
    "### Обработка аномальных значений"
   ]
  },
  {
   "cell_type": "markdown",
   "id": "1988f70e",
   "metadata": {
    "deletable": false,
    "editable": false,
    "id": "57964554"
   },
   "source": [
    "**Задание 6. В данных могут встречаться артефакты (аномалии) — значения, которые не отражают действительность и появились по какой-то ошибке. таким артефактом будет отрицательное количество дней трудового стажа в столбце `days_employed`. Для реальных данных это нормально. Обработайте значения в этом столбце: замените все отрицательные значения положительными с помощью метода `abs()`.**"
   ]
  },
  {
   "cell_type": "code",
   "execution_count": 6,
   "id": "87b1d3da",
   "metadata": {
    "deletable": false,
    "id": "f6f055bf"
   },
   "outputs": [],
   "source": [
    "data['days_employed'] = data['days_employed'].abs()"
   ]
  },
  {
   "cell_type": "markdown",
   "id": "f9f93088",
   "metadata": {
    "deletable": false,
    "editable": false,
    "id": "6107dd2f"
   },
   "source": [
    "**Задание 7. Для каждого типа занятости выведите медианное значение трудового стажа `days_employed` в днях.**"
   ]
  },
  {
   "cell_type": "code",
   "execution_count": 7,
   "id": "19b72bc8",
   "metadata": {
    "deletable": false,
    "id": "85a5faf6",
    "outputId": "801ef80e-522b-4668-f34e-565af7432bcf"
   },
   "outputs": [
    {
     "data": {
      "text/plain": [
       "income_type\n",
       "безработный        366413.652744\n",
       "в декрете            3296.759962\n",
       "госслужащий          2689.368353\n",
       "компаньон            1547.382223\n",
       "пенсионер          365213.306266\n",
       "предприниматель       520.848083\n",
       "сотрудник            1574.202821\n",
       "студент               578.751554\n",
       "Name: days_employed, dtype: float64"
      ]
     },
     "execution_count": 7,
     "metadata": {},
     "output_type": "execute_result"
    }
   ],
   "source": [
    "data.groupby('income_type')['days_employed'].agg('median')"
   ]
  },
  {
   "cell_type": "markdown",
   "id": "1ab012e8",
   "metadata": {
    "deletable": false,
    "editable": false,
    "id": "38d1a030"
   },
   "source": [
    "У двух типов (безработные и пенсионеры) получатся аномально большие значения. Исправить такие значения сложно, поэтому оставьте их как есть. Тем более этот столбец не понадобится вам для исследования."
   ]
  },
  {
   "cell_type": "markdown",
   "id": "ceb33b1c",
   "metadata": {
    "deletable": false,
    "editable": false,
    "id": "d8a9f147"
   },
   "source": [
    "**Задание 8. Выведите перечень уникальных значений столбца `children`.**"
   ]
  },
  {
   "cell_type": "code",
   "execution_count": 8,
   "id": "3bc953b7",
   "metadata": {
    "deletable": false,
    "id": "ef5056eb",
    "outputId": "6975b15c-7f95-4697-d16d-a0c79b657b03"
   },
   "outputs": [
    {
     "data": {
      "text/plain": [
       "array([ 1,  0,  3,  2, -1,  4, 20,  5])"
      ]
     },
     "execution_count": 8,
     "metadata": {},
     "output_type": "execute_result"
    }
   ],
   "source": [
    "data['children'].unique()"
   ]
  },
  {
   "cell_type": "markdown",
   "id": "ee707e9c",
   "metadata": {
    "deletable": false,
    "editable": false,
    "id": "40b9ebf2"
   },
   "source": [
    "**Задание 9. В столбце `children` есть два аномальных значения. Удалите строки, в которых встречаются такие аномальные значения из датафрейма `data`.**"
   ]
  },
  {
   "cell_type": "code",
   "execution_count": 9,
   "id": "90f69eb0",
   "metadata": {
    "deletable": false,
    "id": "3ff9801d"
   },
   "outputs": [],
   "source": [
    "data = data[(data['children'] != -1) & (data['children'] != 20)]"
   ]
  },
  {
   "cell_type": "markdown",
   "id": "72c64084",
   "metadata": {
    "deletable": false,
    "editable": false,
    "id": "bbc4d0ce"
   },
   "source": [
    "**Задание 10. Ещё раз выведите перечень уникальных значений столбца `children`, чтобы убедиться, что артефакты удалены.**"
   ]
  },
  {
   "cell_type": "code",
   "execution_count": 10,
   "id": "dafddf90",
   "metadata": {
    "deletable": false,
    "id": "ad4fa8b7",
    "outputId": "b2097101-d49d-44d9-901b-32a65c9463d1"
   },
   "outputs": [
    {
     "data": {
      "text/plain": [
       "array([1, 0, 3, 2, 4, 5])"
      ]
     },
     "execution_count": 10,
     "metadata": {},
     "output_type": "execute_result"
    }
   ],
   "source": [
    "data['children'].unique()"
   ]
  },
  {
   "cell_type": "markdown",
   "id": "62fb9538",
   "metadata": {
    "deletable": false,
    "editable": false,
    "id": "75440b63"
   },
   "source": [
    "### Удаление пропусков (продолжение)"
   ]
  },
  {
   "cell_type": "markdown",
   "id": "e667a290",
   "metadata": {
    "deletable": false,
    "editable": false,
    "id": "f4ea573f"
   },
   "source": [
    "**Задание 11. Заполните пропуски в столбце `days_employed` медианными значениями по каждого типа занятости `income_type`.**"
   ]
  },
  {
   "cell_type": "code",
   "execution_count": 11,
   "id": "e4a3efc0",
   "metadata": {
    "deletable": false,
    "id": "af6b1a7e"
   },
   "outputs": [],
   "source": [
    "for t in data['income_type'].unique():\n",
    "    data.loc[(data['income_type'] == t) & (data['days_employed'].isna()), 'days_employed'] = \\\n",
    "    data.loc[(data['income_type'] == t), 'days_employed'].median()"
   ]
  },
  {
   "cell_type": "markdown",
   "id": "7c512c30",
   "metadata": {
    "deletable": false,
    "editable": false,
    "id": "2753f40d"
   },
   "source": [
    "**Задание 12. Убедитесь, что все пропуски заполнены. Проверьте себя и ещё раз выведите количество пропущенных значений для каждого столбца с помощью двух методов.**"
   ]
  },
  {
   "cell_type": "code",
   "execution_count": 12,
   "id": "dd6947c8",
   "metadata": {
    "deletable": false,
    "id": "55f78bc2",
    "outputId": "8da1e4e1-358e-4e87-98c9-f261bce0a7b2"
   },
   "outputs": [
    {
     "data": {
      "text/plain": [
       "children            0\n",
       "days_employed       0\n",
       "dob_years           0\n",
       "education           0\n",
       "education_id        0\n",
       "family_status       0\n",
       "family_status_id    0\n",
       "gender              0\n",
       "income_type         0\n",
       "debt                0\n",
       "total_income        0\n",
       "purpose             0\n",
       "dtype: int64"
      ]
     },
     "execution_count": 12,
     "metadata": {},
     "output_type": "execute_result"
    }
   ],
   "source": [
    "data.isna().sum()"
   ]
  },
  {
   "cell_type": "markdown",
   "id": "0e458296",
   "metadata": {
    "deletable": false,
    "editable": false,
    "id": "ddc81e43"
   },
   "source": [
    "### Изменение типов данных"
   ]
  },
  {
   "cell_type": "markdown",
   "id": "fd80d6bc",
   "metadata": {
    "deletable": false,
    "editable": false,
    "id": "42d19d24"
   },
   "source": [
    "**Задание 13. Замените вещественный тип данных в столбце `total_income` на целочисленный с помощью метода `astype()`.**"
   ]
  },
  {
   "cell_type": "code",
   "execution_count": 13,
   "id": "3528942e",
   "metadata": {
    "deletable": false,
    "id": "920b65ad"
   },
   "outputs": [],
   "source": [
    "data['total_income'] = data['total_income'].astype(int)"
   ]
  },
  {
   "cell_type": "markdown",
   "id": "18036a60",
   "metadata": {
    "deletable": false,
    "editable": false,
    "id": "80c420ba"
   },
   "source": [
    "### Обработка дубликатов"
   ]
  },
  {
   "cell_type": "markdown",
   "id": "3281de4a",
   "metadata": {
    "deletable": false,
    "editable": false
   },
   "source": [
    "**Задание 14. Обработайте неявные дубликаты в столбце `education`. В этом столбце есть одни и те же значения, но записанные по-разному: с использованием заглавных и строчных букв. Приведите их к нижнему регистру. Проверьте остальные столбцы.**"
   ]
  },
  {
   "cell_type": "code",
   "execution_count": 14,
   "id": "3beed23a",
   "metadata": {
    "deletable": false
   },
   "outputs": [],
   "source": [
    "data['education'] = data['education'].str.lower()"
   ]
  },
  {
   "cell_type": "markdown",
   "id": "620c1aa9",
   "metadata": {
    "deletable": false,
    "editable": false,
    "id": "dc587695"
   },
   "source": [
    "**Задание 15. Выведите на экран количество строк-дубликатов в данных. Если такие строки присутствуют, удалите их.**"
   ]
  },
  {
   "cell_type": "code",
   "execution_count": 15,
   "id": "934f6e70",
   "metadata": {
    "deletable": false,
    "id": "3ee445e4",
    "outputId": "9684deba-1934-42d1-99e1-cda61740f822"
   },
   "outputs": [
    {
     "data": {
      "text/plain": [
       "71"
      ]
     },
     "execution_count": 15,
     "metadata": {},
     "output_type": "execute_result"
    }
   ],
   "source": [
    "data.duplicated().sum()"
   ]
  },
  {
   "cell_type": "code",
   "execution_count": 16,
   "id": "2ffef8f5",
   "metadata": {
    "deletable": false,
    "id": "8575fe05"
   },
   "outputs": [],
   "source": [
    "data = data.drop_duplicates()"
   ]
  },
  {
   "cell_type": "markdown",
   "id": "df5fca7e",
   "metadata": {
    "deletable": false,
    "editable": false,
    "id": "9904cf55"
   },
   "source": [
    "### Категоризация данных"
   ]
  },
  {
   "cell_type": "markdown",
   "id": "5f202df9",
   "metadata": {
    "deletable": false,
    "editable": false,
    "id": "72fcc8a2"
   },
   "source": [
    "**Задание 16. На основании диапазонов, указанных ниже, создайте в датафрейме `data` столбец `total_income_category` с категориями:**\n",
    "\n",
    "- 0–30000 — `'E'`;\n",
    "- 30001–50000 — `'D'`;\n",
    "- 50001–200000 — `'C'`;\n",
    "- 200001–1000000 — `'B'`;\n",
    "- 1000001 и выше — `'A'`.\n",
    "\n",
    "\n",
    "**Например, кредитополучателю с доходом 25000 нужно назначить категорию `'E'`, а клиенту, получающему 235000, — `'B'`. Используйте собственную функцию с именем `categorize_income()` и метод `apply()`.**"
   ]
  },
  {
   "cell_type": "code",
   "execution_count": 17,
   "id": "1f350a8f",
   "metadata": {
    "deletable": false,
    "id": "e1771346"
   },
   "outputs": [],
   "source": [
    "def categorize_income(income):\n",
    "    try:\n",
    "        if 0 <= income <= 30000:\n",
    "            return 'E'\n",
    "        elif 30001 <= income <= 50000:\n",
    "            return 'D'\n",
    "        elif 50001 <= income <= 200000:\n",
    "            return 'C'\n",
    "        elif 200001 <= income <= 1000000:\n",
    "            return 'B'\n",
    "        elif income >= 1000001:\n",
    "            return 'A'\n",
    "    except:\n",
    "        pass"
   ]
  },
  {
   "cell_type": "code",
   "execution_count": 18,
   "id": "70fb88b9",
   "metadata": {
    "deletable": false,
    "id": "d5f3586d"
   },
   "outputs": [],
   "source": [
    "data['total_income_category'] = data['total_income'].apply(categorize_income)"
   ]
  },
  {
   "cell_type": "markdown",
   "id": "ad601844",
   "metadata": {
    "deletable": false,
    "editable": false,
    "id": "dde49b5c"
   },
   "source": [
    "**Задание 17. Выведите на экран перечень уникальных целей взятия кредита из столбца `purpose`.**"
   ]
  },
  {
   "cell_type": "code",
   "execution_count": 19,
   "id": "e8cbacb1",
   "metadata": {
    "deletable": false,
    "id": "f67ce9b3",
    "outputId": "673c12d9-7d7e-4ae0-9812-c622c89dd244"
   },
   "outputs": [
    {
     "data": {
      "text/plain": [
       "array(['покупка жилья', 'приобретение автомобиля',\n",
       "       'дополнительное образование', 'сыграть свадьбу',\n",
       "       'операции с жильем', 'образование', 'на проведение свадьбы',\n",
       "       'покупка жилья для семьи', 'покупка недвижимости',\n",
       "       'покупка коммерческой недвижимости', 'покупка жилой недвижимости',\n",
       "       'строительство собственной недвижимости', 'недвижимость',\n",
       "       'строительство недвижимости', 'на покупку подержанного автомобиля',\n",
       "       'на покупку своего автомобиля',\n",
       "       'операции с коммерческой недвижимостью',\n",
       "       'строительство жилой недвижимости', 'жилье',\n",
       "       'операции со своей недвижимостью', 'автомобили',\n",
       "       'заняться образованием', 'сделка с подержанным автомобилем',\n",
       "       'получение образования', 'автомобиль', 'свадьба',\n",
       "       'получение дополнительного образования', 'покупка своего жилья',\n",
       "       'операции с недвижимостью', 'получение высшего образования',\n",
       "       'свой автомобиль', 'сделка с автомобилем',\n",
       "       'профильное образование', 'высшее образование',\n",
       "       'покупка жилья для сдачи', 'на покупку автомобиля', 'ремонт жилью',\n",
       "       'заняться высшим образованием'], dtype=object)"
      ]
     },
     "execution_count": 19,
     "metadata": {},
     "output_type": "execute_result"
    }
   ],
   "source": [
    "data['purpose'].unique()"
   ]
  },
  {
   "cell_type": "markdown",
   "id": "7f54d3e3",
   "metadata": {
    "deletable": false,
    "editable": false,
    "id": "85d0aef0"
   },
   "source": [
    "**Задание 18. Создайте функцию, которая на основании данных из столбца `purpose` сформирует новый столбец `purpose_category`, в который войдут следующие категории:**\n",
    "\n",
    "- `'операции с автомобилем'`,\n",
    "- `'операции с недвижимостью'`,\n",
    "- `'проведение свадьбы'`,\n",
    "- `'получение образования'`.\n",
    "\n",
    "**Например, если в столбце `purpose` находится подстрока `'на покупку автомобиля'`, то в столбце `purpose_category` должна появиться строка `'операции с автомобилем'`.**\n",
    "\n",
    "**Используйте собственную функцию с именем `categorize_purpose()` и метод `apply()`. Изучите данные в столбце `purpose` и определите, какие подстроки помогут вам правильно определить категорию.**"
   ]
  },
  {
   "cell_type": "code",
   "execution_count": 20,
   "id": "8c66074d",
   "metadata": {
    "deletable": false,
    "id": "e149fab4"
   },
   "outputs": [],
   "source": [
    "def categorize_purpose(row):\n",
    "    try:\n",
    "        if 'автом' in row:\n",
    "            return 'операции с автомобилем'\n",
    "        elif 'жил' in row or 'недвиж' in row:\n",
    "            return 'операции с недвижимостью'\n",
    "        elif 'свад' in row:\n",
    "            return 'проведение свадьбы'\n",
    "        elif 'образов' in row:\n",
    "            return 'получение образования'\n",
    "    except:\n",
    "        return 'нет категории'"
   ]
  },
  {
   "cell_type": "code",
   "execution_count": 21,
   "id": "9b3ed375",
   "metadata": {
    "deletable": false,
    "id": "bf36e69b"
   },
   "outputs": [],
   "source": [
    "data['purpose_category'] = data['purpose'].apply(categorize_purpose)"
   ]
  },
  {
   "cell_type": "markdown",
   "id": "3c273270",
   "metadata": {
    "deletable": false,
    "editable": false,
    "id": "09b242bf"
   },
   "source": [
    "### Шаг 3. Исследуйте данные и ответьте на вопросы"
   ]
  },
  {
   "cell_type": "markdown",
   "id": "06c640d7",
   "metadata": {
    "deletable": false,
    "editable": false,
    "id": "c5d66278"
   },
   "source": [
    "#### 3.1 Есть ли зависимость между количеством детей и возвратом кредита в срок?"
   ]
  },
  {
   "cell_type": "code",
   "execution_count": 22,
   "id": "25de4fa6",
   "metadata": {
    "deletable": false,
    "id": "2cacfc4a"
   },
   "outputs": [],
   "source": [
    "# Ваш код будет здесь. Вы можете создавать новые ячейки."
   ]
  },
  {
   "cell_type": "code",
   "execution_count": 23,
   "id": "c878e0eb",
   "metadata": {},
   "outputs": [
    {
     "data": {
      "text/plain": [
       "children\n",
       "0    7.543822\n",
       "1    9.234609\n",
       "2    9.454191\n",
       "3    8.181818\n",
       "4    9.756098\n",
       "5    0.000000\n",
       "Name: debt, dtype: float64"
      ]
     },
     "execution_count": 23,
     "metadata": {},
     "output_type": "execute_result"
    }
   ],
   "source": [
    "child_sum = data.groupby('children')['debt'].sum() \n",
    "child_count = data.groupby('children')['debt'].count() \n",
    "child = child_sum/child_count * 100\n",
    "child"
   ]
  },
  {
   "cell_type": "code",
   "execution_count": 24,
   "id": "bccb81ca",
   "metadata": {},
   "outputs": [
    {
     "data": {
      "text/plain": [
       "children\n",
       "0    14091\n",
       "1     4808\n",
       "2     2052\n",
       "3      330\n",
       "4       41\n",
       "5        9\n",
       "Name: debt, dtype: int64"
      ]
     },
     "execution_count": 24,
     "metadata": {},
     "output_type": "execute_result"
    }
   ],
   "source": [
    "group_child = data.groupby('children')['debt'].count()\n",
    "group_child"
   ]
  },
  {
   "cell_type": "code",
   "execution_count": 25,
   "id": "e38d3321",
   "metadata": {},
   "outputs": [
    {
     "data": {
      "text/html": [
       "<div>\n",
       "<style scoped>\n",
       "    .dataframe tbody tr th:only-of-type {\n",
       "        vertical-align: middle;\n",
       "    }\n",
       "\n",
       "    .dataframe tbody tr th {\n",
       "        vertical-align: top;\n",
       "    }\n",
       "\n",
       "    .dataframe thead th {\n",
       "        text-align: right;\n",
       "    }\n",
       "</style>\n",
       "<table border=\"1\" class=\"dataframe\">\n",
       "  <thead>\n",
       "    <tr style=\"text-align: right;\">\n",
       "      <th>debt</th>\n",
       "      <th>0</th>\n",
       "      <th>1</th>\n",
       "      <th>general_ratio</th>\n",
       "    </tr>\n",
       "    <tr>\n",
       "      <th>children</th>\n",
       "      <th></th>\n",
       "      <th></th>\n",
       "      <th></th>\n",
       "    </tr>\n",
       "  </thead>\n",
       "  <tbody>\n",
       "    <tr>\n",
       "      <th>0</th>\n",
       "      <td>13028.0</td>\n",
       "      <td>1063.0</td>\n",
       "      <td>8.159349</td>\n",
       "    </tr>\n",
       "    <tr>\n",
       "      <th>1</th>\n",
       "      <td>4364.0</td>\n",
       "      <td>444.0</td>\n",
       "      <td>10.174152</td>\n",
       "    </tr>\n",
       "    <tr>\n",
       "      <th>2</th>\n",
       "      <td>1858.0</td>\n",
       "      <td>194.0</td>\n",
       "      <td>10.441335</td>\n",
       "    </tr>\n",
       "    <tr>\n",
       "      <th>3</th>\n",
       "      <td>303.0</td>\n",
       "      <td>27.0</td>\n",
       "      <td>8.910891</td>\n",
       "    </tr>\n",
       "    <tr>\n",
       "      <th>4</th>\n",
       "      <td>37.0</td>\n",
       "      <td>4.0</td>\n",
       "      <td>10.810811</td>\n",
       "    </tr>\n",
       "    <tr>\n",
       "      <th>5</th>\n",
       "      <td>9.0</td>\n",
       "      <td>NaN</td>\n",
       "      <td>NaN</td>\n",
       "    </tr>\n",
       "  </tbody>\n",
       "</table>\n",
       "</div>"
      ],
      "text/plain": [
       "debt            0       1  general_ratio\n",
       "children                                \n",
       "0         13028.0  1063.0       8.159349\n",
       "1          4364.0   444.0      10.174152\n",
       "2          1858.0   194.0      10.441335\n",
       "3           303.0    27.0       8.910891\n",
       "4            37.0     4.0      10.810811\n",
       "5             9.0     NaN            NaN"
      ]
     },
     "execution_count": 25,
     "metadata": {},
     "output_type": "execute_result"
    }
   ],
   "source": [
    "child_pivot = data.pivot_table(index = ['children'], columns = ['debt'], values = 'purpose', aggfunc='count')\n",
    "\n",
    "child_pivot['general_ratio'] = child_pivot[1] / child_pivot[0] * 100\n",
    "child_pivot"
   ]
  },
  {
   "cell_type": "markdown",
   "id": "a1136abd",
   "metadata": {
    "deletable": false,
    "id": "3a6b99ec"
   },
   "source": [
    "**Вывод:** Если судить по данным, полученным в результате анализа значения соотношения между благонадежными и неблагонадежными клиентами к количеству детей в семье -  заметная разница доходит до 2%. Зависимость по цифрам есть, но не линейная и не логичная. учитывать ее или нет - решать банкирам)"
   ]
  },
  {
   "cell_type": "markdown",
   "id": "3e19f0d8",
   "metadata": {
    "deletable": false,
    "editable": false,
    "id": "97be82ca"
   },
   "source": [
    "#### 3.2 Есть ли зависимость между семейным положением и возвратом кредита в срок?"
   ]
  },
  {
   "cell_type": "code",
   "execution_count": 26,
   "id": "fa7b282c",
   "metadata": {
    "deletable": false,
    "id": "dc3f7ee8"
   },
   "outputs": [
    {
     "data": {
      "text/plain": [
       "family_status\n",
       "Не женат / не замужем    9.763948\n",
       "в разводе                7.064760\n",
       "вдовец / вдова           6.624606\n",
       "гражданский брак         9.313014\n",
       "женат / замужем          7.560558\n",
       "Name: debt, dtype: float64"
      ]
     },
     "execution_count": 26,
     "metadata": {},
     "output_type": "execute_result"
    }
   ],
   "source": [
    "status_sum = data.groupby('family_status')['debt'].sum() \n",
    "status_count = data.groupby('family_status')['debt'].count() \n",
    "status = status_sum/status_count * 100\n",
    "status# Ваш код будет здесь. Вы можете создавать новые ячейки."
   ]
  },
  {
   "cell_type": "code",
   "execution_count": 27,
   "id": "93d8283b",
   "metadata": {},
   "outputs": [
    {
     "data": {
      "text/plain": [
       "family_status\n",
       "Не женат / не замужем     2796\n",
       "в разводе                 1189\n",
       "вдовец / вдова             951\n",
       "гражданский брак          4134\n",
       "женат / замужем          12261\n",
       "Name: debt, dtype: int64"
      ]
     },
     "execution_count": 27,
     "metadata": {},
     "output_type": "execute_result"
    }
   ],
   "source": [
    "group_status = data.groupby('family_status')['debt'].count()\n",
    "group_status"
   ]
  },
  {
   "cell_type": "code",
   "execution_count": 28,
   "id": "8c78e8d4",
   "metadata": {},
   "outputs": [
    {
     "data": {
      "text/html": [
       "<div>\n",
       "<style scoped>\n",
       "    .dataframe tbody tr th:only-of-type {\n",
       "        vertical-align: middle;\n",
       "    }\n",
       "\n",
       "    .dataframe tbody tr th {\n",
       "        vertical-align: top;\n",
       "    }\n",
       "\n",
       "    .dataframe thead th {\n",
       "        text-align: right;\n",
       "    }\n",
       "</style>\n",
       "<table border=\"1\" class=\"dataframe\">\n",
       "  <thead>\n",
       "    <tr style=\"text-align: right;\">\n",
       "      <th>debt</th>\n",
       "      <th>0</th>\n",
       "      <th>1</th>\n",
       "      <th>general_ratio</th>\n",
       "    </tr>\n",
       "    <tr>\n",
       "      <th>family_status</th>\n",
       "      <th></th>\n",
       "      <th></th>\n",
       "      <th></th>\n",
       "    </tr>\n",
       "  </thead>\n",
       "  <tbody>\n",
       "    <tr>\n",
       "      <th>Не женат / не замужем</th>\n",
       "      <td>2523</td>\n",
       "      <td>273</td>\n",
       "      <td>10.820452</td>\n",
       "    </tr>\n",
       "    <tr>\n",
       "      <th>в разводе</th>\n",
       "      <td>1105</td>\n",
       "      <td>84</td>\n",
       "      <td>7.601810</td>\n",
       "    </tr>\n",
       "    <tr>\n",
       "      <th>вдовец / вдова</th>\n",
       "      <td>888</td>\n",
       "      <td>63</td>\n",
       "      <td>7.094595</td>\n",
       "    </tr>\n",
       "    <tr>\n",
       "      <th>гражданский брак</th>\n",
       "      <td>3749</td>\n",
       "      <td>385</td>\n",
       "      <td>10.269405</td>\n",
       "    </tr>\n",
       "    <tr>\n",
       "      <th>женат / замужем</th>\n",
       "      <td>11334</td>\n",
       "      <td>927</td>\n",
       "      <td>8.178931</td>\n",
       "    </tr>\n",
       "  </tbody>\n",
       "</table>\n",
       "</div>"
      ],
      "text/plain": [
       "debt                       0    1  general_ratio\n",
       "family_status                                   \n",
       "Не женат / не замужем   2523  273      10.820452\n",
       "в разводе               1105   84       7.601810\n",
       "вдовец / вдова           888   63       7.094595\n",
       "гражданский брак        3749  385      10.269405\n",
       "женат / замужем        11334  927       8.178931"
      ]
     },
     "execution_count": 28,
     "metadata": {},
     "output_type": "execute_result"
    }
   ],
   "source": [
    "status_pivot = data.pivot_table(index = ['family_status'], columns = ['debt'], values = 'purpose', aggfunc='count')\n",
    "\n",
    "status_pivot['general_ratio'] = status_pivot[1] / status_pivot[0] * 100\n",
    "status_pivot"
   ]
  },
  {
   "cell_type": "markdown",
   "id": "1ff7ecef",
   "metadata": {
    "deletable": false,
    "id": "1cef7837"
   },
   "source": [
    "**Вывод:** Результат вычислений показывает, что заемщики после разводов или смерти  супруга/супруги имеют более низкую благонадежность. Разница по этим метрикам уже не похожа на погрешность "
   ]
  },
  {
   "cell_type": "markdown",
   "id": "16dad659",
   "metadata": {
    "deletable": false,
    "editable": false,
    "id": "1e8b2fca"
   },
   "source": [
    "#### 3.3 Есть ли зависимость между уровнем дохода и возвратом кредита в срок?"
   ]
  },
  {
   "cell_type": "code",
   "execution_count": 29,
   "id": "fcddd4ed",
   "metadata": {
    "deletable": false,
    "id": "cd7e3720"
   },
   "outputs": [
    {
     "data": {
      "text/plain": [
       "total_income_category\n",
       "A    8.000000\n",
       "B    7.060231\n",
       "C    8.498210\n",
       "D    6.017192\n",
       "E    9.090909\n",
       "Name: debt, dtype: float64"
      ]
     },
     "execution_count": 29,
     "metadata": {},
     "output_type": "execute_result"
    }
   ],
   "source": [
    "cash_sum = data.groupby('total_income_category')['debt'].sum() \n",
    "cash_count = data.groupby('total_income_category')['debt'].count() \n",
    "cash = cash_sum/cash_count * 100\n",
    "cash# Ваш код будет здесь. Вы можете создавать новые ячейки."
   ]
  },
  {
   "cell_type": "code",
   "execution_count": 30,
   "id": "2a2340e7",
   "metadata": {},
   "outputs": [
    {
     "data": {
      "text/plain": [
       "total_income_category\n",
       "A       25\n",
       "B     5014\n",
       "C    15921\n",
       "D      349\n",
       "E       22\n",
       "Name: debt, dtype: int64"
      ]
     },
     "execution_count": 30,
     "metadata": {},
     "output_type": "execute_result"
    }
   ],
   "source": [
    "group_cash = data.groupby('total_income_category')['debt'].count()\n",
    "group_cash"
   ]
  },
  {
   "cell_type": "code",
   "execution_count": 31,
   "id": "b93058ba",
   "metadata": {},
   "outputs": [
    {
     "data": {
      "text/html": [
       "<div>\n",
       "<style scoped>\n",
       "    .dataframe tbody tr th:only-of-type {\n",
       "        vertical-align: middle;\n",
       "    }\n",
       "\n",
       "    .dataframe tbody tr th {\n",
       "        vertical-align: top;\n",
       "    }\n",
       "\n",
       "    .dataframe thead th {\n",
       "        text-align: right;\n",
       "    }\n",
       "</style>\n",
       "<table border=\"1\" class=\"dataframe\">\n",
       "  <thead>\n",
       "    <tr style=\"text-align: right;\">\n",
       "      <th>debt</th>\n",
       "      <th>0</th>\n",
       "      <th>1</th>\n",
       "      <th>general_ratio</th>\n",
       "    </tr>\n",
       "    <tr>\n",
       "      <th>total_income_category</th>\n",
       "      <th></th>\n",
       "      <th></th>\n",
       "      <th></th>\n",
       "    </tr>\n",
       "  </thead>\n",
       "  <tbody>\n",
       "    <tr>\n",
       "      <th>A</th>\n",
       "      <td>23</td>\n",
       "      <td>2</td>\n",
       "      <td>8.695652</td>\n",
       "    </tr>\n",
       "    <tr>\n",
       "      <th>B</th>\n",
       "      <td>4660</td>\n",
       "      <td>354</td>\n",
       "      <td>7.596567</td>\n",
       "    </tr>\n",
       "    <tr>\n",
       "      <th>C</th>\n",
       "      <td>14568</td>\n",
       "      <td>1353</td>\n",
       "      <td>9.287479</td>\n",
       "    </tr>\n",
       "    <tr>\n",
       "      <th>D</th>\n",
       "      <td>328</td>\n",
       "      <td>21</td>\n",
       "      <td>6.402439</td>\n",
       "    </tr>\n",
       "    <tr>\n",
       "      <th>E</th>\n",
       "      <td>20</td>\n",
       "      <td>2</td>\n",
       "      <td>10.000000</td>\n",
       "    </tr>\n",
       "  </tbody>\n",
       "</table>\n",
       "</div>"
      ],
      "text/plain": [
       "debt                       0     1  general_ratio\n",
       "total_income_category                            \n",
       "A                         23     2       8.695652\n",
       "B                       4660   354       7.596567\n",
       "C                      14568  1353       9.287479\n",
       "D                        328    21       6.402439\n",
       "E                         20     2      10.000000"
      ]
     },
     "execution_count": 31,
     "metadata": {},
     "output_type": "execute_result"
    }
   ],
   "source": [
    "cash_pivot = data.pivot_table(index = ['total_income_category'], columns = ['debt'], values = 'purpose', aggfunc='count')\n",
    "\n",
    "cash_pivot['general_ratio'] = cash_pivot[1] / cash_pivot[0] * 100\n",
    "cash_pivot"
   ]
  },
  {
   "cell_type": "markdown",
   "id": "58b01644",
   "metadata": {
    "deletable": false,
    "id": "e8593def"
   },
   "source": [
    "**Вывод:** Из расчета (скорее из данных в ТЗ) видно, что уровни дохода А и Е - вообще не стоит учитывать из за, сравнительно, малых для статистики значений. Средний доход из сформированных групп имеет лучшие показатели по благонадежности."
   ]
  },
  {
   "cell_type": "markdown",
   "id": "cd616943",
   "metadata": {
    "deletable": false,
    "editable": false,
    "id": "99ecbd1f"
   },
   "source": [
    "#### 3.4 Как разные цели кредита влияют на его возврат в срок?"
   ]
  },
  {
   "cell_type": "code",
   "execution_count": 32,
   "id": "69f300f0",
   "metadata": {
    "deletable": false,
    "id": "2b687290"
   },
   "outputs": [
    {
     "data": {
      "text/plain": [
       "purpose_category\n",
       "операции с автомобилем      9.347978\n",
       "операции с недвижимостью    7.255139\n",
       "получение образования       9.252758\n",
       "проведение свадьбы          7.911803\n",
       "Name: debt, dtype: float64"
      ]
     },
     "execution_count": 32,
     "metadata": {},
     "output_type": "execute_result"
    }
   ],
   "source": [
    "appointment_sum = data.groupby('purpose_category')['debt'].sum() \n",
    "appointment_count = data.groupby('purpose_category')['debt'].count() \n",
    "appointment = appointment_sum/appointment_count * 100  # Ваш код будет здесь. Вы можете создавать новые ячейки.\n",
    "appointment"
   ]
  },
  {
   "cell_type": "code",
   "execution_count": 1,
   "id": "23bfd88b",
   "metadata": {},
   "outputs": [
    {
     "ename": "NameError",
     "evalue": "name 'data' is not defined",
     "output_type": "error",
     "traceback": [
      "\u001b[0;31m---------------------------------------------------------------------------\u001b[0m",
      "\u001b[0;31mNameError\u001b[0m                                 Traceback (most recent call last)",
      "\u001b[0;32m/tmp/ipykernel_31/2112318556.py\u001b[0m in \u001b[0;36m<module>\u001b[0;34m\u001b[0m\n\u001b[0;32m----> 1\u001b[0;31m \u001b[0mgroup_appointment\u001b[0m \u001b[0;34m=\u001b[0m \u001b[0mdata\u001b[0m\u001b[0;34m.\u001b[0m\u001b[0mgroupby\u001b[0m\u001b[0;34m(\u001b[0m\u001b[0;34m'purpose_category'\u001b[0m\u001b[0;34m)\u001b[0m\u001b[0;34m[\u001b[0m\u001b[0;34m'debt'\u001b[0m\u001b[0;34m]\u001b[0m\u001b[0;34m.\u001b[0m\u001b[0mcount\u001b[0m\u001b[0;34m(\u001b[0m\u001b[0;34m)\u001b[0m\u001b[0;34m\u001b[0m\u001b[0;34m\u001b[0m\u001b[0m\n\u001b[0m\u001b[1;32m      2\u001b[0m \u001b[0mgroup_appointment\u001b[0m\u001b[0;34m\u001b[0m\u001b[0;34m\u001b[0m\u001b[0m\n",
      "\u001b[0;31mNameError\u001b[0m: name 'data' is not defined"
     ]
    }
   ],
   "source": [
    "group_appointment = data.groupby('purpose_category')['debt'].count()\n",
    "group_appointment"
   ]
  },
  {
   "cell_type": "code",
   "execution_count": 34,
   "id": "7b92dc94",
   "metadata": {},
   "outputs": [
    {
     "data": {
      "text/html": [
       "<div>\n",
       "<style scoped>\n",
       "    .dataframe tbody tr th:only-of-type {\n",
       "        vertical-align: middle;\n",
       "    }\n",
       "\n",
       "    .dataframe tbody tr th {\n",
       "        vertical-align: top;\n",
       "    }\n",
       "\n",
       "    .dataframe thead th {\n",
       "        text-align: right;\n",
       "    }\n",
       "</style>\n",
       "<table border=\"1\" class=\"dataframe\">\n",
       "  <thead>\n",
       "    <tr style=\"text-align: right;\">\n",
       "      <th>debt</th>\n",
       "      <th>0</th>\n",
       "      <th>1</th>\n",
       "      <th>general_ratio</th>\n",
       "    </tr>\n",
       "    <tr>\n",
       "      <th>purpose_category</th>\n",
       "      <th></th>\n",
       "      <th></th>\n",
       "      <th></th>\n",
       "    </tr>\n",
       "  </thead>\n",
       "  <tbody>\n",
       "    <tr>\n",
       "      <th>операции с автомобилем</th>\n",
       "      <td>3879</td>\n",
       "      <td>400</td>\n",
       "      <td>10.311936</td>\n",
       "    </tr>\n",
       "    <tr>\n",
       "      <th>операции с недвижимостью</th>\n",
       "      <td>9971</td>\n",
       "      <td>780</td>\n",
       "      <td>7.822686</td>\n",
       "    </tr>\n",
       "    <tr>\n",
       "      <th>получение образования</th>\n",
       "      <td>3619</td>\n",
       "      <td>369</td>\n",
       "      <td>10.196187</td>\n",
       "    </tr>\n",
       "    <tr>\n",
       "      <th>проведение свадьбы</th>\n",
       "      <td>2130</td>\n",
       "      <td>183</td>\n",
       "      <td>8.591549</td>\n",
       "    </tr>\n",
       "  </tbody>\n",
       "</table>\n",
       "</div>"
      ],
      "text/plain": [
       "debt                         0    1  general_ratio\n",
       "purpose_category                                  \n",
       "операции с автомобилем    3879  400      10.311936\n",
       "операции с недвижимостью  9971  780       7.822686\n",
       "получение образования     3619  369      10.196187\n",
       "проведение свадьбы        2130  183       8.591549"
      ]
     },
     "execution_count": 34,
     "metadata": {},
     "output_type": "execute_result"
    }
   ],
   "source": [
    "appointment_pivot = data.pivot_table(index = ['purpose_category'], columns = ['debt'], values = 'purpose', aggfunc='count')\n",
    "\n",
    "appointment_pivot['general_ratio'] = appointment_pivot[1] / appointment_pivot[0] * 100\n",
    "appointment_pivot"
   ]
  },
  {
   "cell_type": "markdown",
   "id": "4bd8b3a9",
   "metadata": {
    "deletable": false,
    "id": "b4bb2ce6"
   },
   "source": [
    "**Вывод:** Операции с недвижимостью, возможно,имеют более \"длинные\" кредиты, поэтому сами тела и хвотсы кредитов больше. Отрасль должна быть в курсе. Анализ свидетельствует о худших показателях в этом назначении целевом.  "
   ]
  },
  {
   "cell_type": "markdown",
   "id": "0aa26c53",
   "metadata": {
    "deletable": false,
    "editable": false,
    "id": "09c3ac4c"
   },
   "source": [
    "#### 3.5 Приведите возможные причины появления пропусков в исходных данных."
   ]
  },
  {
   "cell_type": "markdown",
   "id": "1d30ef54",
   "metadata": {
    "deletable": false,
    "id": "9da2ceda"
   },
   "source": [
    "*Ответ:* Анкетирование, последующий ввод данных в систему - на этих этапах, как работник, так и заемщик могут влиять на ошибочный ввод информации. Далее работа с базами так же может \"подкорректировать\" данные.\n"
   ]
  },
  {
   "cell_type": "markdown",
   "id": "53b8dfa8",
   "metadata": {
    "deletable": false,
    "editable": false,
    "id": "7b0487d6"
   },
   "source": [
    "#### 3.6 Объясните, почему заполнить пропуски медианным значением — лучшее решение для количественных переменных."
   ]
  },
  {
   "cell_type": "markdown",
   "id": "c22a24f2",
   "metadata": {
    "deletable": false,
    "id": "7ecf2b8e"
   },
   "source": [
    "*Ответ:*  Медиана передаст наиболее точный дивапазон средних значений. \"Крайние\" колчественные значения наиболее сильно искажаают результат наибольшими или наименьшими числовыми выражениями. Пример про ЗП сотрудников - управленца и рядовых..."
   ]
  },
  {
   "cell_type": "markdown",
   "id": "84d7a176",
   "metadata": {
    "deletable": false,
    "editable": false,
    "id": "6db5255a"
   },
   "source": [
    "### Шаг 4: общий вывод."
   ]
  },
  {
   "cell_type": "markdown",
   "id": "cb03a5d3",
   "metadata": {
    "deletable": false,
    "id": "bad65432"
   },
   "source": [
    "Если банально - то каждая опрерапция по поиску дубликатов, пропусков, пострения групп количественных и категориальных может быть рекомендацией для банковских \"айтишников\". но у аналитов данных тогда бы не было работы. Проект интересный."
   ]
  },
  {
   "cell_type": "markdown",
   "id": "787654cd",
   "metadata": {},
   "source": [
    "<div class=\"alert alert-info\">\n",
    "   \n",
    "    Разница в соотношении между количеством детей и возвратом кредита в срок есть. \n",
    "    Наиболее платежеспособными являются заемщики НЕ ИМЕЮЩИЕ детей. \n",
    "    Наиболее платежеспособными являются заемщики имеющие ТРОИХ и ЧЕТВЕРЫХ детей (с оговоркой о коли-ве и статистике).\n",
    "    Наименее платежеспособными являются заемщики имеющие ОДНОГО и ДВУХ детей.     \n",
    "    \n",
    "    Исходя из вышеизложенного количеством детей может являться косвенной причиной в отказе или выдаче кредитных продуктов\n",
    "    \n",
    "  \n",
    "    Разницу в соотношении между семейным положением и возвратом кредита в срок есть. \n",
    "    Наиболее платежеспособными являются заемщики находящиеся в официальном браке ранее, либо в настоящий момент\n",
    "    (в т.ч семьи со статусом \"вдовец / вдова\")\n",
    "    Наименее платежеспособными являются заемщики со статусом \"не женат / не замужем\" и \"гражданский  брак\".    \n",
    "    Исходя из вышеизложенного семейное положение может являться прямой причиной в отказе или выдаче кредитных продуктов.\n",
    " \n",
    "    \n",
    "\n",
    "\n",
    "    Из расчета (скорее из данных в ТЗ) видно, что уровни дохода А и Е - вообще не стоит учитывать из за, сравнительно, малых для статистики значений. Средний доход из сформированных групп имеет лучшие показатели по благонадежности.\n",
    "    \n",
    "    Александр, все по аналогии... сильно опаздываю по проектам, дедлайн 7 января. я приступил из за ЧП семейного сильно позднее, спасибо)\n",
    "    \n",
    "    \n",
    "    \n",
    "  \n",
    "    Цели кредита влияют на его возврат в срок. \n",
    "    Наиболее платежеспособными являются категории с целями  \"операции с недвижимостью\", и \"проведение свадьбы\"  \n",
    "    Наименее платежеспособными являются заемщики с целями \"операции с автомобилем\" и \"получение образования\".    \n",
    "    Исходя из вышеизложенного банку стоит обратить внимание и на цель кредита, помимо основных факторов, влияющих на \n",
    "    анализ анкеты.\n",
    "  \n",
    "    \n",
    "</div>     "
   ]
  }
 ],
 "metadata": {
  "ExecuteTimeLog": [
   {
    "duration": 509,
    "start_time": "2022-12-17T14:18:10.420Z"
   },
   {
    "duration": 21,
    "start_time": "2022-12-17T14:18:14.092Z"
   },
   {
    "duration": 20,
    "start_time": "2022-12-17T14:29:34.737Z"
   },
   {
    "duration": 59,
    "start_time": "2022-12-17T14:30:16.766Z"
   },
   {
    "duration": 414,
    "start_time": "2022-12-17T14:30:24.568Z"
   },
   {
    "duration": 20,
    "start_time": "2022-12-17T14:30:24.984Z"
   },
   {
    "duration": 13,
    "start_time": "2022-12-17T14:30:25.006Z"
   },
   {
    "duration": 9,
    "start_time": "2022-12-17T14:30:25.022Z"
   },
   {
    "duration": 39,
    "start_time": "2022-12-17T14:30:25.032Z"
   },
   {
    "duration": 3,
    "start_time": "2022-12-17T14:30:25.073Z"
   },
   {
    "duration": 17,
    "start_time": "2022-12-17T14:30:25.077Z"
   },
   {
    "duration": 12,
    "start_time": "2022-12-17T14:30:25.095Z"
   },
   {
    "duration": 12,
    "start_time": "2022-12-17T14:30:25.109Z"
   },
   {
    "duration": 4,
    "start_time": "2022-12-17T14:30:25.124Z"
   },
   {
    "duration": 39,
    "start_time": "2022-12-17T14:30:25.129Z"
   },
   {
    "duration": 9,
    "start_time": "2022-12-17T14:30:25.169Z"
   },
   {
    "duration": 4,
    "start_time": "2022-12-17T14:30:25.179Z"
   },
   {
    "duration": 12,
    "start_time": "2022-12-17T14:30:25.184Z"
   },
   {
    "duration": 18,
    "start_time": "2022-12-17T14:30:25.215Z"
   },
   {
    "duration": 16,
    "start_time": "2022-12-17T14:30:25.234Z"
   },
   {
    "duration": 3,
    "start_time": "2022-12-17T14:30:25.252Z"
   },
   {
    "duration": 15,
    "start_time": "2022-12-17T14:30:25.257Z"
   },
   {
    "duration": 5,
    "start_time": "2022-12-17T14:30:25.273Z"
   },
   {
    "duration": 5,
    "start_time": "2022-12-17T14:30:25.279Z"
   },
   {
    "duration": 46,
    "start_time": "2022-12-17T14:30:25.284Z"
   },
   {
    "duration": 20,
    "start_time": "2022-12-17T14:30:25.332Z"
   },
   {
    "duration": 3,
    "start_time": "2022-12-17T14:30:25.354Z"
   },
   {
    "duration": 5,
    "start_time": "2022-12-17T14:30:25.359Z"
   },
   {
    "duration": 4,
    "start_time": "2022-12-17T14:30:25.365Z"
   },
   {
    "duration": 4,
    "start_time": "2022-12-17T14:30:25.371Z"
   },
   {
    "duration": 34,
    "start_time": "2022-12-17T15:37:41.019Z"
   },
   {
    "duration": 81,
    "start_time": "2022-12-17T15:41:02.431Z"
   },
   {
    "duration": 9,
    "start_time": "2022-12-17T15:41:12.043Z"
   },
   {
    "duration": 39,
    "start_time": "2022-12-17T15:41:28.816Z"
   },
   {
    "duration": 50,
    "start_time": "2022-12-17T15:41:37.991Z"
   },
   {
    "duration": 473,
    "start_time": "2022-12-17T15:42:03.775Z"
   },
   {
    "duration": 23,
    "start_time": "2022-12-17T15:42:04.250Z"
   },
   {
    "duration": 17,
    "start_time": "2022-12-17T15:42:04.274Z"
   },
   {
    "duration": 27,
    "start_time": "2022-12-17T15:42:04.294Z"
   },
   {
    "duration": 39,
    "start_time": "2022-12-17T15:42:04.323Z"
   },
   {
    "duration": 3,
    "start_time": "2022-12-17T15:42:04.364Z"
   },
   {
    "duration": 11,
    "start_time": "2022-12-17T15:42:04.368Z"
   },
   {
    "duration": 4,
    "start_time": "2022-12-17T15:42:04.381Z"
   },
   {
    "duration": 29,
    "start_time": "2022-12-17T15:42:04.387Z"
   },
   {
    "duration": 10,
    "start_time": "2022-12-17T15:42:04.421Z"
   },
   {
    "duration": 53,
    "start_time": "2022-12-17T15:42:04.432Z"
   },
   {
    "duration": 10,
    "start_time": "2022-12-17T15:42:04.486Z"
   },
   {
    "duration": 4,
    "start_time": "2022-12-17T15:42:04.497Z"
   },
   {
    "duration": 17,
    "start_time": "2022-12-17T15:42:04.515Z"
   },
   {
    "duration": 25,
    "start_time": "2022-12-17T15:42:04.534Z"
   },
   {
    "duration": 18,
    "start_time": "2022-12-17T15:42:04.561Z"
   },
   {
    "duration": 5,
    "start_time": "2022-12-17T15:42:04.580Z"
   },
   {
    "duration": 33,
    "start_time": "2022-12-17T15:42:04.587Z"
   },
   {
    "duration": 8,
    "start_time": "2022-12-17T15:42:04.622Z"
   },
   {
    "duration": 12,
    "start_time": "2022-12-17T15:42:04.632Z"
   },
   {
    "duration": 26,
    "start_time": "2022-12-17T15:42:04.645Z"
   },
   {
    "duration": 23,
    "start_time": "2022-12-17T15:42:04.673Z"
   },
   {
    "duration": 7,
    "start_time": "2022-12-17T15:42:04.697Z"
   },
   {
    "duration": 14,
    "start_time": "2022-12-17T15:42:04.705Z"
   },
   {
    "duration": 22,
    "start_time": "2022-12-17T15:42:04.721Z"
   },
   {
    "duration": 8,
    "start_time": "2022-12-17T15:42:04.745Z"
   },
   {
    "duration": 8,
    "start_time": "2022-12-17T15:42:04.755Z"
   },
   {
    "duration": 83,
    "start_time": "2022-12-17T15:43:55.662Z"
   },
   {
    "duration": 8,
    "start_time": "2022-12-17T15:45:23.733Z"
   },
   {
    "duration": 505,
    "start_time": "2022-12-17T15:46:59.490Z"
   },
   {
    "duration": 26,
    "start_time": "2022-12-17T15:46:59.998Z"
   },
   {
    "duration": 24,
    "start_time": "2022-12-17T15:47:00.027Z"
   },
   {
    "duration": 11,
    "start_time": "2022-12-17T15:47:00.054Z"
   },
   {
    "duration": 46,
    "start_time": "2022-12-17T15:47:00.067Z"
   },
   {
    "duration": 5,
    "start_time": "2022-12-17T15:47:00.115Z"
   },
   {
    "duration": 53,
    "start_time": "2022-12-17T15:47:00.122Z"
   },
   {
    "duration": 23,
    "start_time": "2022-12-17T15:47:00.177Z"
   },
   {
    "duration": 30,
    "start_time": "2022-12-17T15:47:00.202Z"
   },
   {
    "duration": 33,
    "start_time": "2022-12-17T15:47:00.236Z"
   },
   {
    "duration": 107,
    "start_time": "2022-12-17T15:47:00.271Z"
   },
   {
    "duration": 11,
    "start_time": "2022-12-17T15:47:00.380Z"
   },
   {
    "duration": 24,
    "start_time": "2022-12-17T15:47:00.392Z"
   },
   {
    "duration": 36,
    "start_time": "2022-12-17T15:47:00.420Z"
   },
   {
    "duration": 43,
    "start_time": "2022-12-17T15:47:00.457Z"
   },
   {
    "duration": 20,
    "start_time": "2022-12-17T15:47:00.502Z"
   },
   {
    "duration": 15,
    "start_time": "2022-12-17T15:47:00.524Z"
   },
   {
    "duration": 19,
    "start_time": "2022-12-17T15:47:00.541Z"
   },
   {
    "duration": 14,
    "start_time": "2022-12-17T15:47:00.563Z"
   },
   {
    "duration": 19,
    "start_time": "2022-12-17T15:47:00.579Z"
   },
   {
    "duration": 23,
    "start_time": "2022-12-17T15:47:00.600Z"
   },
   {
    "duration": 47,
    "start_time": "2022-12-17T15:47:00.625Z"
   },
   {
    "duration": 48,
    "start_time": "2022-12-17T15:47:00.674Z"
   },
   {
    "duration": 148,
    "start_time": "2022-12-17T15:47:00.724Z"
   },
   {
    "duration": 0,
    "start_time": "2022-12-17T15:47:00.874Z"
   },
   {
    "duration": 0,
    "start_time": "2022-12-17T15:47:00.875Z"
   },
   {
    "duration": 0,
    "start_time": "2022-12-17T15:47:00.876Z"
   },
   {
    "duration": 0,
    "start_time": "2022-12-17T15:47:00.877Z"
   },
   {
    "duration": 502,
    "start_time": "2022-12-17T15:47:55.853Z"
   },
   {
    "duration": 27,
    "start_time": "2022-12-17T15:47:56.359Z"
   },
   {
    "duration": 34,
    "start_time": "2022-12-17T15:47:56.388Z"
   },
   {
    "duration": 22,
    "start_time": "2022-12-17T15:47:56.426Z"
   },
   {
    "duration": 41,
    "start_time": "2022-12-17T15:47:56.450Z"
   },
   {
    "duration": 3,
    "start_time": "2022-12-17T15:47:56.493Z"
   },
   {
    "duration": 23,
    "start_time": "2022-12-17T15:47:56.498Z"
   },
   {
    "duration": 12,
    "start_time": "2022-12-17T15:47:56.523Z"
   },
   {
    "duration": 21,
    "start_time": "2022-12-17T15:47:56.537Z"
   },
   {
    "duration": 5,
    "start_time": "2022-12-17T15:47:56.564Z"
   },
   {
    "duration": 39,
    "start_time": "2022-12-17T15:47:56.571Z"
   },
   {
    "duration": 20,
    "start_time": "2022-12-17T15:47:56.615Z"
   },
   {
    "duration": 11,
    "start_time": "2022-12-17T15:47:56.637Z"
   },
   {
    "duration": 14,
    "start_time": "2022-12-17T15:47:56.650Z"
   },
   {
    "duration": 26,
    "start_time": "2022-12-17T15:47:56.666Z"
   },
   {
    "duration": 26,
    "start_time": "2022-12-17T15:47:56.693Z"
   },
   {
    "duration": 4,
    "start_time": "2022-12-17T15:47:56.722Z"
   },
   {
    "duration": 22,
    "start_time": "2022-12-17T15:47:56.728Z"
   },
   {
    "duration": 10,
    "start_time": "2022-12-17T15:47:56.752Z"
   },
   {
    "duration": 5,
    "start_time": "2022-12-17T15:47:56.763Z"
   },
   {
    "duration": 12,
    "start_time": "2022-12-17T15:47:56.769Z"
   },
   {
    "duration": 51,
    "start_time": "2022-12-17T15:47:56.783Z"
   },
   {
    "duration": 6,
    "start_time": "2022-12-17T15:47:56.837Z"
   },
   {
    "duration": 18,
    "start_time": "2022-12-17T15:47:56.845Z"
   },
   {
    "duration": 5,
    "start_time": "2022-12-17T15:47:56.864Z"
   },
   {
    "duration": 3,
    "start_time": "2022-12-17T15:47:56.871Z"
   },
   {
    "duration": 5,
    "start_time": "2022-12-17T15:47:56.875Z"
   },
   {
    "duration": 3,
    "start_time": "2022-12-17T15:47:56.883Z"
   },
   {
    "duration": 30,
    "start_time": "2022-12-17T15:56:16.038Z"
   },
   {
    "duration": 10,
    "start_time": "2022-12-17T16:05:35.203Z"
   },
   {
    "duration": 540,
    "start_time": "2022-12-17T16:05:54.391Z"
   },
   {
    "duration": 25,
    "start_time": "2022-12-17T16:05:54.934Z"
   },
   {
    "duration": 26,
    "start_time": "2022-12-17T16:05:54.960Z"
   },
   {
    "duration": 11,
    "start_time": "2022-12-17T16:05:54.988Z"
   },
   {
    "duration": 51,
    "start_time": "2022-12-17T16:05:55.001Z"
   },
   {
    "duration": 3,
    "start_time": "2022-12-17T16:05:55.053Z"
   },
   {
    "duration": 10,
    "start_time": "2022-12-17T16:05:55.058Z"
   },
   {
    "duration": 8,
    "start_time": "2022-12-17T16:05:55.070Z"
   },
   {
    "duration": 11,
    "start_time": "2022-12-17T16:05:55.080Z"
   },
   {
    "duration": 22,
    "start_time": "2022-12-17T16:05:55.096Z"
   },
   {
    "duration": 69,
    "start_time": "2022-12-17T16:05:55.120Z"
   },
   {
    "duration": 11,
    "start_time": "2022-12-17T16:05:55.190Z"
   },
   {
    "duration": 13,
    "start_time": "2022-12-17T16:05:55.203Z"
   },
   {
    "duration": 29,
    "start_time": "2022-12-17T16:05:55.218Z"
   },
   {
    "duration": 41,
    "start_time": "2022-12-17T16:05:55.250Z"
   },
   {
    "duration": 18,
    "start_time": "2022-12-17T16:05:55.292Z"
   },
   {
    "duration": 4,
    "start_time": "2022-12-17T16:05:55.312Z"
   },
   {
    "duration": 30,
    "start_time": "2022-12-17T16:05:55.318Z"
   },
   {
    "duration": 5,
    "start_time": "2022-12-17T16:05:55.349Z"
   },
   {
    "duration": 5,
    "start_time": "2022-12-17T16:05:55.355Z"
   },
   {
    "duration": 14,
    "start_time": "2022-12-17T16:05:55.362Z"
   },
   {
    "duration": 19,
    "start_time": "2022-12-17T16:05:55.378Z"
   },
   {
    "duration": 2,
    "start_time": "2022-12-17T16:05:55.398Z"
   },
   {
    "duration": 23,
    "start_time": "2022-12-17T16:05:55.401Z"
   },
   {
    "duration": 20,
    "start_time": "2022-12-17T16:05:55.425Z"
   },
   {
    "duration": 28,
    "start_time": "2022-12-17T16:05:55.447Z"
   },
   {
    "duration": 2,
    "start_time": "2022-12-17T16:05:55.477Z"
   },
   {
    "duration": 13,
    "start_time": "2022-12-17T16:05:55.482Z"
   },
   {
    "duration": 16,
    "start_time": "2022-12-17T16:05:55.497Z"
   },
   {
    "duration": 10,
    "start_time": "2022-12-17T16:06:54.320Z"
   },
   {
    "duration": 10,
    "start_time": "2022-12-17T16:34:00.018Z"
   },
   {
    "duration": 11,
    "start_time": "2022-12-17T16:35:53.988Z"
   },
   {
    "duration": 20,
    "start_time": "2022-12-17T16:37:48.212Z"
   },
   {
    "duration": 20,
    "start_time": "2022-12-17T16:38:36.131Z"
   },
   {
    "duration": 7,
    "start_time": "2022-12-17T16:41:24.763Z"
   },
   {
    "duration": 10,
    "start_time": "2022-12-17T17:31:28.644Z"
   },
   {
    "duration": 13,
    "start_time": "2022-12-17T17:31:47.953Z"
   },
   {
    "duration": 7,
    "start_time": "2022-12-17T17:33:16.846Z"
   },
   {
    "duration": 29,
    "start_time": "2022-12-17T17:34:46.605Z"
   },
   {
    "duration": 12,
    "start_time": "2022-12-17T18:09:17.942Z"
   },
   {
    "duration": 11,
    "start_time": "2022-12-17T18:09:28.877Z"
   },
   {
    "duration": 10,
    "start_time": "2022-12-17T18:11:06.567Z"
   },
   {
    "duration": 24,
    "start_time": "2022-12-17T18:12:14.408Z"
   },
   {
    "duration": 1149,
    "start_time": "2022-12-17T20:18:37.852Z"
   },
   {
    "duration": 22,
    "start_time": "2022-12-17T20:18:39.003Z"
   },
   {
    "duration": 16,
    "start_time": "2022-12-17T20:18:39.026Z"
   },
   {
    "duration": 10,
    "start_time": "2022-12-17T20:18:39.045Z"
   },
   {
    "duration": 57,
    "start_time": "2022-12-17T20:18:39.059Z"
   },
   {
    "duration": 4,
    "start_time": "2022-12-17T20:18:39.118Z"
   },
   {
    "duration": 17,
    "start_time": "2022-12-17T20:18:39.123Z"
   },
   {
    "duration": 9,
    "start_time": "2022-12-17T20:18:39.141Z"
   },
   {
    "duration": 22,
    "start_time": "2022-12-17T20:18:39.152Z"
   },
   {
    "duration": 5,
    "start_time": "2022-12-17T20:18:39.177Z"
   },
   {
    "duration": 37,
    "start_time": "2022-12-17T20:18:39.183Z"
   },
   {
    "duration": 10,
    "start_time": "2022-12-17T20:18:39.221Z"
   },
   {
    "duration": 3,
    "start_time": "2022-12-17T20:18:39.233Z"
   },
   {
    "duration": 33,
    "start_time": "2022-12-17T20:18:39.238Z"
   },
   {
    "duration": 20,
    "start_time": "2022-12-17T20:18:39.273Z"
   },
   {
    "duration": 16,
    "start_time": "2022-12-17T20:18:39.295Z"
   },
   {
    "duration": 4,
    "start_time": "2022-12-17T20:18:39.313Z"
   },
   {
    "duration": 12,
    "start_time": "2022-12-17T20:18:39.318Z"
   },
   {
    "duration": 32,
    "start_time": "2022-12-17T20:18:39.332Z"
   },
   {
    "duration": 10,
    "start_time": "2022-12-17T20:18:39.366Z"
   },
   {
    "duration": 12,
    "start_time": "2022-12-17T20:18:39.377Z"
   },
   {
    "duration": 2,
    "start_time": "2022-12-17T20:18:39.391Z"
   },
   {
    "duration": 10,
    "start_time": "2022-12-17T20:18:39.395Z"
   },
   {
    "duration": 6,
    "start_time": "2022-12-17T20:18:39.407Z"
   },
   {
    "duration": 64,
    "start_time": "2022-12-17T20:18:39.415Z"
   },
   {
    "duration": 12,
    "start_time": "2022-12-17T20:18:39.481Z"
   },
   {
    "duration": 7,
    "start_time": "2022-12-17T20:18:39.495Z"
   },
   {
    "duration": 20,
    "start_time": "2022-12-17T20:18:39.505Z"
   },
   {
    "duration": 43,
    "start_time": "2022-12-17T20:18:39.527Z"
   },
   {
    "duration": 7,
    "start_time": "2022-12-17T20:18:39.572Z"
   },
   {
    "duration": 18,
    "start_time": "2022-12-17T20:18:39.581Z"
   },
   {
    "duration": 10,
    "start_time": "2022-12-17T20:18:39.601Z"
   },
   {
    "duration": 6,
    "start_time": "2022-12-17T20:18:39.613Z"
   },
   {
    "duration": 61,
    "start_time": "2022-12-17T20:18:39.620Z"
   },
   {
    "duration": 50,
    "start_time": "2022-12-28T10:36:16.651Z"
   },
   {
    "duration": 48,
    "start_time": "2022-12-28T12:58:11.324Z"
   },
   {
    "duration": 52,
    "start_time": "2022-12-28T14:47:41.950Z"
   },
   {
    "duration": 52,
    "start_time": "2022-12-28T14:47:46.578Z"
   },
   {
    "duration": 49,
    "start_time": "2022-12-29T09:37:37.009Z"
   }
  ],
  "colab": {
   "name": "dpp_template_part2.ipynb",
   "provenance": []
  },
  "kernelspec": {
   "display_name": "Python 3 (ipykernel)",
   "language": "python",
   "name": "python3"
  },
  "language_info": {
   "codemirror_mode": {
    "name": "ipython",
    "version": 3
   },
   "file_extension": ".py",
   "mimetype": "text/x-python",
   "name": "python",
   "nbconvert_exporter": "python",
   "pygments_lexer": "ipython3",
   "version": "3.9.13"
  },
  "toc": {
   "base_numbering": 1,
   "nav_menu": {},
   "number_sections": true,
   "sideBar": true,
   "skip_h1_title": true,
   "title_cell": "Table of Contents",
   "title_sidebar": "Contents",
   "toc_cell": false,
   "toc_position": {
    "height": "calc(100% - 180px)",
    "left": "10px",
    "top": "150px",
    "width": "188.433px"
   },
   "toc_section_display": true,
   "toc_window_display": true
  }
 },
 "nbformat": 4,
 "nbformat_minor": 5
}
